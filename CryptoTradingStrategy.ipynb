{
  "cells": [
    {
      "cell_type": "markdown",
      "metadata": {
        "id": "view-in-github",
        "colab_type": "text"
      },
      "source": [
        "<a href=\"https://colab.research.google.com/github/professor91/Crypto-Trading-Strategy/blob/master/CryptoTradingStrategy.ipynb\" target=\"_parent\"><img src=\"https://colab.research.google.com/assets/colab-badge.svg\" alt=\"Open In Colab\"/></a>"
      ]
    },
    {
      "cell_type": "markdown",
      "metadata": {
        "id": "JE_GIxi6ut8J"
      },
      "source": [
        "# **Crypto Market Clustering**\n"
      ]
    },
    {
      "cell_type": "markdown",
      "metadata": {
        "id": "_0TQPCc_l0Oy"
      },
      "source": [
        "The objective of this project is to find out price patterns of crypto currencies and formulate a trading strategy. In order to achieve this objective, we will be using clustering and association analysis techniques to identify any underlying trends and relationships among the various crypto currencies.\n"
      ]
    },
    {
      "cell_type": "code",
      "execution_count": 2,
      "metadata": {
        "colab": {
          "base_uri": "https://localhost:8080/"
        },
        "id": "wKCq1igOMxl3",
        "outputId": "e8722ace-5f9b-4871-c9d2-58f0031067be"
      },
      "outputs": [
        {
          "output_type": "stream",
          "name": "stdout",
          "text": [
            "Mounted at /content/drive\n"
          ]
        }
      ],
      "source": [
        "from google.colab import drive\n",
        "drive.mount('/content/drive')"
      ]
    },
    {
      "cell_type": "code",
      "execution_count": 106,
      "metadata": {
        "id": "2KRXOXBBQv9E"
      },
      "outputs": [],
      "source": [
        "import pandas as pd\n",
        "import numpy as np\n",
        "import matplotlib.pyplot as plt\n",
        "import plotly.express as px"
      ]
    },
    {
      "cell_type": "markdown",
      "metadata": {
        "id": "BaUfHP-S_Nnw"
      },
      "source": [
        "# Loading Data"
      ]
    },
    {
      "cell_type": "markdown",
      "source": [
        "We will be using daily market data of the top 10 crypto currencies from January 2017 to December 2022. The data has been collected from https://in.investing.com/crypto/ and cleaned to remove any inconsistencies and missing values.\n",
        "\n",
        "The data that we will be collecting from the website includes the following parameters:\n",
        "\n",
        "- High: The highest price of the crypto currency for the day\n",
        "\n",
        "- Low: The lowest price of the crypto currency for the day\n",
        "\n",
        "- Open: The opening price of the crypto currency for the day\n",
        "\n",
        "- Price (Close): The closing price of the crypto currency for the day\n",
        "\n",
        "- Volume: The trading volume of the crypto currency for the day\n",
        "\n",
        "- Change%: The percentage change in the price of the crypto currency from the previous day\n"
      ],
      "metadata": {
        "id": "Zspvgkb5hTbA"
      }
    },
    {
      "cell_type": "code",
      "source": [
        "import os\n",
        "\n",
        "path = \"/content/drive/MyDrive/DM_project/Datasets_5years/\"\n",
        "\n",
        "files = [file for file in os.listdir(path) if file[-3:] == 'csv']\n",
        "\n",
        "del files[3]\n",
        "del files[-2]\n",
        "\n",
        "files.sort()\n",
        "files"
      ],
      "metadata": {
        "colab": {
          "base_uri": "https://localhost:8080/"
        },
        "id": "BgjlMkk2AOXY",
        "outputId": "6a6b78b7-0aa7-4e97-a0f3-e302e532c0e9"
      },
      "execution_count": 107,
      "outputs": [
        {
          "output_type": "execute_result",
          "data": {
            "text/plain": [
              "['BNB Historical Data - Investing.com India.csv',\n",
              " 'Bitcoin Historical Data - Investing.com India.csv',\n",
              " 'Cardano Historical Data - Investing.com India.csv',\n",
              " 'Dogecoin Historical Data - Investing.com India.csv',\n",
              " 'Ethereum Historical Data - Investing.com India.csv',\n",
              " 'Polygon Historical Data - Investing.com India.csv',\n",
              " 'Tether Historical Data - Investing.com India.csv',\n",
              " 'XRP Historical Data - Investing.com India.csv']"
            ]
          },
          "metadata": {},
          "execution_count": 107
        }
      ]
    },
    {
      "cell_type": "code",
      "execution_count": 108,
      "metadata": {
        "id": "zjZ8XWkcV_WA",
        "colab": {
          "base_uri": "https://localhost:8080/"
        },
        "outputId": "46d6905a-5305-4fc0-e6ae-07791cd8c8dd"
      },
      "outputs": [
        {
          "output_type": "execute_result",
          "data": {
            "text/plain": [
              "['BNB',\n",
              " 'Bitcoin',\n",
              " 'Cardano',\n",
              " 'Dogecoin',\n",
              " 'Ethereum',\n",
              " 'Polygon',\n",
              " 'Tether',\n",
              " 'XRP']"
            ]
          },
          "metadata": {},
          "execution_count": 108
        }
      ],
      "source": [
        "time_period = {\n",
        "    'start': '2020-01-01',\n",
        "    'end': '2022-12-31'\n",
        "}\n",
        "\n",
        "coins = [file_name.split()[0] for file_name in files]\n",
        "coins"
      ]
    },
    {
      "cell_type": "code",
      "execution_count": 109,
      "metadata": {
        "id": "tjaPSm1SVI_P"
      },
      "outputs": [],
      "source": [
        "# loading datasets\n",
        "df = {}\n",
        "\n",
        "for file_name in files:\n",
        "  df.update({\n",
        "      file_name.split()[0]: pd.read_csv(f\"{path}{file_name}\", index_col='Date', parse_dates=True)\n",
        "  })"
      ]
    },
    {
      "cell_type": "markdown",
      "metadata": {
        "id": "rIA_Ll2IHGh7"
      },
      "source": [
        "# Pre-Processing\n"
      ]
    },
    {
      "cell_type": "code",
      "execution_count": 110,
      "metadata": {
        "id": "3w4VBRro1Lxr"
      },
      "outputs": [],
      "source": [
        "# replace blanks with NaN\n",
        "for coin in df.keys():\n",
        "  df[coin].replace('-', np.nan, inplace=True)"
      ]
    },
    {
      "cell_type": "markdown",
      "metadata": {
        "id": "a120-KTsxLxU"
      },
      "source": [
        "## Correct Data Types"
      ]
    },
    {
      "cell_type": "markdown",
      "metadata": {
        "id": "BWFM1SAcmnHu"
      },
      "source": [
        "The data that we will be collecting from the website includes the following parameters:\n",
        "\n",
        "- High: float64\n",
        "- Low: float64\n",
        "- Open: float64\n",
        "- Price: float64\n",
        "- Volume: float64\n",
        "- Change%: float64\n"
      ]
    },
    {
      "cell_type": "code",
      "execution_count": 111,
      "metadata": {
        "colab": {
          "base_uri": "https://localhost:8080/"
        },
        "id": "DvwuSYmiDMr_",
        "outputId": "dfb3e595-6ae6-4a87-991a-59e35324fa37"
      },
      "outputs": [
        {
          "output_type": "stream",
          "name": "stdout",
          "text": [
            "<class 'pandas.core.frame.DataFrame'>\n",
            "DatetimeIndex: 1879 entries, 2022-12-31 to 2017-11-09\n",
            "Data columns (total 6 columns):\n",
            " #   Column    Non-Null Count  Dtype  \n",
            "---  ------    --------------  -----  \n",
            " 0   Price     1879 non-null   float64\n",
            " 1   Open      1879 non-null   float64\n",
            " 2   High      1879 non-null   float64\n",
            " 3   Low       1879 non-null   float64\n",
            " 4   Vol.      1878 non-null   object \n",
            " 5   Change %  1879 non-null   object \n",
            "dtypes: float64(4), object(2)\n",
            "memory usage: 102.8+ KB\n",
            "BNB - None\n",
            "<class 'pandas.core.frame.DataFrame'>\n",
            "DatetimeIndex: 2191 entries, 2022-12-31 to 2017-01-01\n",
            "Data columns (total 6 columns):\n",
            " #   Column    Non-Null Count  Dtype \n",
            "---  ------    --------------  ----- \n",
            " 0   Price     2191 non-null   object\n",
            " 1   Open      2191 non-null   object\n",
            " 2   High      2191 non-null   object\n",
            " 3   Low       2191 non-null   object\n",
            " 4   Vol.      2191 non-null   object\n",
            " 5   Change %  2191 non-null   object\n",
            "dtypes: object(6)\n",
            "memory usage: 119.8+ KB\n",
            "Bitcoin - None\n",
            "<class 'pandas.core.frame.DataFrame'>\n",
            "DatetimeIndex: 1827 entries, 2022-12-31 to 2017-12-31\n",
            "Data columns (total 6 columns):\n",
            " #   Column    Non-Null Count  Dtype  \n",
            "---  ------    --------------  -----  \n",
            " 0   Price     1827 non-null   float64\n",
            " 1   Open      1827 non-null   float64\n",
            " 2   High      1827 non-null   float64\n",
            " 3   Low       1827 non-null   float64\n",
            " 4   Vol.      1822 non-null   object \n",
            " 5   Change %  1827 non-null   object \n",
            "dtypes: float64(4), object(2)\n",
            "memory usage: 99.9+ KB\n",
            "Cardano - None\n",
            "<class 'pandas.core.frame.DataFrame'>\n",
            "DatetimeIndex: 2038 entries, 2022-12-31 to 2017-06-03\n",
            "Data columns (total 6 columns):\n",
            " #   Column    Non-Null Count  Dtype  \n",
            "---  ------    --------------  -----  \n",
            " 0   Price     2038 non-null   float64\n",
            " 1   Open      2038 non-null   float64\n",
            " 2   High      2038 non-null   float64\n",
            " 3   Low       2038 non-null   float64\n",
            " 4   Vol.      2037 non-null   object \n",
            " 5   Change %  2038 non-null   object \n",
            "dtypes: float64(4), object(2)\n",
            "memory usage: 111.5+ KB\n",
            "Dogecoin - None\n",
            "<class 'pandas.core.frame.DataFrame'>\n",
            "DatetimeIndex: 2191 entries, 2022-12-31 to 2017-01-01\n",
            "Data columns (total 6 columns):\n",
            " #   Column    Non-Null Count  Dtype \n",
            "---  ------    --------------  ----- \n",
            " 0   Price     2191 non-null   object\n",
            " 1   Open      2191 non-null   object\n",
            " 2   High      2191 non-null   object\n",
            " 3   Low       2191 non-null   object\n",
            " 4   Vol.      2190 non-null   object\n",
            " 5   Change %  2191 non-null   object\n",
            "dtypes: object(6)\n",
            "memory usage: 119.8+ KB\n",
            "Ethereum - None\n",
            "<class 'pandas.core.frame.DataFrame'>\n",
            "DatetimeIndex: 1284 entries, 2022-12-31 to 2019-06-27\n",
            "Data columns (total 6 columns):\n",
            " #   Column    Non-Null Count  Dtype  \n",
            "---  ------    --------------  -----  \n",
            " 0   Price     1284 non-null   float64\n",
            " 1   Open      1284 non-null   float64\n",
            " 2   High      1284 non-null   float64\n",
            " 3   Low       1284 non-null   float64\n",
            " 4   Vol.      1284 non-null   object \n",
            " 5   Change %  1284 non-null   object \n",
            "dtypes: float64(4), object(2)\n",
            "memory usage: 70.2+ KB\n",
            "Polygon - None\n",
            "<class 'pandas.core.frame.DataFrame'>\n",
            "DatetimeIndex: 2087 entries, 2022-12-31 to 2017-04-14\n",
            "Data columns (total 6 columns):\n",
            " #   Column    Non-Null Count  Dtype  \n",
            "---  ------    --------------  -----  \n",
            " 0   Price     2087 non-null   float64\n",
            " 1   Open      2087 non-null   float64\n",
            " 2   High      2087 non-null   float64\n",
            " 3   Low       2087 non-null   float64\n",
            " 4   Vol.      2087 non-null   object \n",
            " 5   Change %  2087 non-null   object \n",
            "dtypes: float64(4), object(2)\n",
            "memory usage: 114.1+ KB\n",
            "Tether - None\n",
            "<class 'pandas.core.frame.DataFrame'>\n",
            "DatetimeIndex: 2191 entries, 2022-12-31 to 2017-01-01\n",
            "Data columns (total 6 columns):\n",
            " #   Column    Non-Null Count  Dtype  \n",
            "---  ------    --------------  -----  \n",
            " 0   Price     2191 non-null   float64\n",
            " 1   Open      2191 non-null   float64\n",
            " 2   High      2191 non-null   float64\n",
            " 3   Low       2191 non-null   float64\n",
            " 4   Vol.      2179 non-null   object \n",
            " 5   Change %  2191 non-null   object \n",
            "dtypes: float64(4), object(2)\n",
            "memory usage: 119.8+ KB\n",
            "XRP - None\n"
          ]
        }
      ],
      "source": [
        "# checking data types\n",
        "for coin in df.keys():\n",
        "  print(f'{coin} - {df[coin].info()}')"
      ]
    },
    {
      "cell_type": "code",
      "execution_count": 112,
      "metadata": {
        "colab": {
          "base_uri": "https://localhost:8080/"
        },
        "id": "BQkxeGRMSILQ",
        "outputId": "a3bc081e-cd6d-421c-d4e2-97e575be7d67"
      },
      "outputs": [
        {
          "output_type": "stream",
          "name": "stderr",
          "text": [
            "<ipython-input-112-3388059f735e>:3: FutureWarning:\n",
            "\n",
            "The default value of regex will change from True to False in a future version. In addition, single character regular expressions will *not* be treated as literal strings when regex=True.\n",
            "\n"
          ]
        }
      ],
      "source": [
        "# change data types\n",
        "for coin in df.keys():\n",
        "  df[coin]['Vol.'] = df[coin]['Vol.'].str.replace('.','').str.replace('M','000000').str.replace('K','000').str.replace('B', '000000000').astype(float)\n",
        "  df[coin]['Change %'] = df[coin]['Change %'].str.replace('%','').str.replace(',','').astype(float)\n",
        "\n",
        "for coin in ['Bitcoin', 'Ethereum']:\n",
        "  df[coin]['Price'] = df[coin]['Price'].str.replace(',','').astype(float)\n",
        "  df[coin]['Open'] = df[coin]['Open'].str.replace(',','').astype(float)\n",
        "  df[coin]['High'] = df[coin]['High'].str.replace(',','').astype(float)\n",
        "  df[coin]['Low'] = df[coin]['Low'].str.replace(',','').astype(float)"
      ]
    },
    {
      "cell_type": "markdown",
      "metadata": {
        "id": "2iVTsXvyxQ9D"
      },
      "source": [
        "## Missing Values"
      ]
    },
    {
      "cell_type": "markdown",
      "metadata": {
        "id": "qIKS2A61zT3X"
      },
      "source": [
        "We have used Linear Interpolation to fill the missing values in the dataset. Linear interpolation, in the context of time series analysis, is a method for filling missing values by estimating the values that lie between two known values."
      ]
    },
    {
      "cell_type": "code",
      "execution_count": 113,
      "metadata": {
        "colab": {
          "base_uri": "https://localhost:8080/",
          "height": 0
        },
        "id": "j-oR-m2pxDFY",
        "outputId": "058200c7-68cf-4a85-dde8-b6be2fc9f491"
      },
      "outputs": [
        {
          "output_type": "execute_result",
          "data": {
            "text/plain": [
              "          Price  Open  High  Low  Vol.  Change %\n",
              "BNB           0     0     0    0     1         0\n",
              "Bitcoin       0     0     0    0     0         0\n",
              "Cardano       0     0     0    0     5         0\n",
              "Dogecoin      0     0     0    0     1         0\n",
              "Ethereum      0     0     0    0     1         0\n",
              "Polygon       0     0     0    0     0         0\n",
              "Tether        0     0     0    0     0         0\n",
              "XRP           0     0     0    0    12         0"
            ],
            "text/html": [
              "\n",
              "  <div id=\"df-1022a4cd-890b-4141-ae32-fbaa3c3c4262\">\n",
              "    <div class=\"colab-df-container\">\n",
              "      <div>\n",
              "<style scoped>\n",
              "    .dataframe tbody tr th:only-of-type {\n",
              "        vertical-align: middle;\n",
              "    }\n",
              "\n",
              "    .dataframe tbody tr th {\n",
              "        vertical-align: top;\n",
              "    }\n",
              "\n",
              "    .dataframe thead th {\n",
              "        text-align: right;\n",
              "    }\n",
              "</style>\n",
              "<table border=\"1\" class=\"dataframe\">\n",
              "  <thead>\n",
              "    <tr style=\"text-align: right;\">\n",
              "      <th></th>\n",
              "      <th>Price</th>\n",
              "      <th>Open</th>\n",
              "      <th>High</th>\n",
              "      <th>Low</th>\n",
              "      <th>Vol.</th>\n",
              "      <th>Change %</th>\n",
              "    </tr>\n",
              "  </thead>\n",
              "  <tbody>\n",
              "    <tr>\n",
              "      <th>BNB</th>\n",
              "      <td>0</td>\n",
              "      <td>0</td>\n",
              "      <td>0</td>\n",
              "      <td>0</td>\n",
              "      <td>1</td>\n",
              "      <td>0</td>\n",
              "    </tr>\n",
              "    <tr>\n",
              "      <th>Bitcoin</th>\n",
              "      <td>0</td>\n",
              "      <td>0</td>\n",
              "      <td>0</td>\n",
              "      <td>0</td>\n",
              "      <td>0</td>\n",
              "      <td>0</td>\n",
              "    </tr>\n",
              "    <tr>\n",
              "      <th>Cardano</th>\n",
              "      <td>0</td>\n",
              "      <td>0</td>\n",
              "      <td>0</td>\n",
              "      <td>0</td>\n",
              "      <td>5</td>\n",
              "      <td>0</td>\n",
              "    </tr>\n",
              "    <tr>\n",
              "      <th>Dogecoin</th>\n",
              "      <td>0</td>\n",
              "      <td>0</td>\n",
              "      <td>0</td>\n",
              "      <td>0</td>\n",
              "      <td>1</td>\n",
              "      <td>0</td>\n",
              "    </tr>\n",
              "    <tr>\n",
              "      <th>Ethereum</th>\n",
              "      <td>0</td>\n",
              "      <td>0</td>\n",
              "      <td>0</td>\n",
              "      <td>0</td>\n",
              "      <td>1</td>\n",
              "      <td>0</td>\n",
              "    </tr>\n",
              "    <tr>\n",
              "      <th>Polygon</th>\n",
              "      <td>0</td>\n",
              "      <td>0</td>\n",
              "      <td>0</td>\n",
              "      <td>0</td>\n",
              "      <td>0</td>\n",
              "      <td>0</td>\n",
              "    </tr>\n",
              "    <tr>\n",
              "      <th>Tether</th>\n",
              "      <td>0</td>\n",
              "      <td>0</td>\n",
              "      <td>0</td>\n",
              "      <td>0</td>\n",
              "      <td>0</td>\n",
              "      <td>0</td>\n",
              "    </tr>\n",
              "    <tr>\n",
              "      <th>XRP</th>\n",
              "      <td>0</td>\n",
              "      <td>0</td>\n",
              "      <td>0</td>\n",
              "      <td>0</td>\n",
              "      <td>12</td>\n",
              "      <td>0</td>\n",
              "    </tr>\n",
              "  </tbody>\n",
              "</table>\n",
              "</div>\n",
              "      <button class=\"colab-df-convert\" onclick=\"convertToInteractive('df-1022a4cd-890b-4141-ae32-fbaa3c3c4262')\"\n",
              "              title=\"Convert this dataframe to an interactive table.\"\n",
              "              style=\"display:none;\">\n",
              "        \n",
              "  <svg xmlns=\"http://www.w3.org/2000/svg\" height=\"24px\"viewBox=\"0 0 24 24\"\n",
              "       width=\"24px\">\n",
              "    <path d=\"M0 0h24v24H0V0z\" fill=\"none\"/>\n",
              "    <path d=\"M18.56 5.44l.94 2.06.94-2.06 2.06-.94-2.06-.94-.94-2.06-.94 2.06-2.06.94zm-11 1L8.5 8.5l.94-2.06 2.06-.94-2.06-.94L8.5 2.5l-.94 2.06-2.06.94zm10 10l.94 2.06.94-2.06 2.06-.94-2.06-.94-.94-2.06-.94 2.06-2.06.94z\"/><path d=\"M17.41 7.96l-1.37-1.37c-.4-.4-.92-.59-1.43-.59-.52 0-1.04.2-1.43.59L10.3 9.45l-7.72 7.72c-.78.78-.78 2.05 0 2.83L4 21.41c.39.39.9.59 1.41.59.51 0 1.02-.2 1.41-.59l7.78-7.78 2.81-2.81c.8-.78.8-2.07 0-2.86zM5.41 20L4 18.59l7.72-7.72 1.47 1.35L5.41 20z\"/>\n",
              "  </svg>\n",
              "      </button>\n",
              "      \n",
              "  <style>\n",
              "    .colab-df-container {\n",
              "      display:flex;\n",
              "      flex-wrap:wrap;\n",
              "      gap: 12px;\n",
              "    }\n",
              "\n",
              "    .colab-df-convert {\n",
              "      background-color: #E8F0FE;\n",
              "      border: none;\n",
              "      border-radius: 50%;\n",
              "      cursor: pointer;\n",
              "      display: none;\n",
              "      fill: #1967D2;\n",
              "      height: 32px;\n",
              "      padding: 0 0 0 0;\n",
              "      width: 32px;\n",
              "    }\n",
              "\n",
              "    .colab-df-convert:hover {\n",
              "      background-color: #E2EBFA;\n",
              "      box-shadow: 0px 1px 2px rgba(60, 64, 67, 0.3), 0px 1px 3px 1px rgba(60, 64, 67, 0.15);\n",
              "      fill: #174EA6;\n",
              "    }\n",
              "\n",
              "    [theme=dark] .colab-df-convert {\n",
              "      background-color: #3B4455;\n",
              "      fill: #D2E3FC;\n",
              "    }\n",
              "\n",
              "    [theme=dark] .colab-df-convert:hover {\n",
              "      background-color: #434B5C;\n",
              "      box-shadow: 0px 1px 3px 1px rgba(0, 0, 0, 0.15);\n",
              "      filter: drop-shadow(0px 1px 2px rgba(0, 0, 0, 0.3));\n",
              "      fill: #FFFFFF;\n",
              "    }\n",
              "  </style>\n",
              "\n",
              "      <script>\n",
              "        const buttonEl =\n",
              "          document.querySelector('#df-1022a4cd-890b-4141-ae32-fbaa3c3c4262 button.colab-df-convert');\n",
              "        buttonEl.style.display =\n",
              "          google.colab.kernel.accessAllowed ? 'block' : 'none';\n",
              "\n",
              "        async function convertToInteractive(key) {\n",
              "          const element = document.querySelector('#df-1022a4cd-890b-4141-ae32-fbaa3c3c4262');\n",
              "          const dataTable =\n",
              "            await google.colab.kernel.invokeFunction('convertToInteractive',\n",
              "                                                     [key], {});\n",
              "          if (!dataTable) return;\n",
              "\n",
              "          const docLinkHtml = 'Like what you see? Visit the ' +\n",
              "            '<a target=\"_blank\" href=https://colab.research.google.com/notebooks/data_table.ipynb>data table notebook</a>'\n",
              "            + ' to learn more about interactive tables.';\n",
              "          element.innerHTML = '';\n",
              "          dataTable['output_type'] = 'display_data';\n",
              "          await google.colab.output.renderOutput(dataTable, element);\n",
              "          const docLink = document.createElement('div');\n",
              "          docLink.innerHTML = docLinkHtml;\n",
              "          element.appendChild(docLink);\n",
              "        }\n",
              "      </script>\n",
              "    </div>\n",
              "  </div>\n",
              "  "
            ]
          },
          "metadata": {},
          "execution_count": 113
        }
      ],
      "source": [
        "# count missing values\n",
        "pd.DataFrame([df[coin].isna().sum() for coin in coins], index=coins)"
      ]
    },
    {
      "cell_type": "code",
      "execution_count": 114,
      "metadata": {
        "id": "HmkSGwl2DgQ-"
      },
      "outputs": [],
      "source": [
        "# Fill missing values with the mean of the previous two and next two values\n",
        "for coin in df.keys():\n",
        "  df[coin]['Vol.'].fillna(df[coin]['Vol.'].rolling(window=5, min_periods=1, center=True).mean(), inplace=True)"
      ]
    },
    {
      "cell_type": "markdown",
      "metadata": {
        "id": "DP6UlE_9xWxN"
      },
      "source": [
        "## Drop records not required"
      ]
    },
    {
      "cell_type": "markdown",
      "metadata": {
        "id": "uY8-zNwmzwT0"
      },
      "source": [
        "Starting date and Ending date has been defined at the beginning of the notebook. Since crypto currencies launched at different times, we picked the time frame shared by all for the analysis"
      ]
    },
    {
      "cell_type": "code",
      "execution_count": 115,
      "metadata": {
        "id": "y_jNkky5Fyvx"
      },
      "outputs": [],
      "source": [
        "# Reset the range for all remaining datasets\n",
        "for coin in df.keys():\n",
        "    df[coin] = df[coin].loc[time_period['start']:time_period['end']]"
      ]
    },
    {
      "cell_type": "code",
      "execution_count": 116,
      "metadata": {
        "colab": {
          "base_uri": "https://localhost:8080/",
          "height": 0
        },
        "id": "T0AJHVpDgGQ_",
        "outputId": "975e6c39-9c44-4021-862d-a83ce9caa3ba"
      },
      "outputs": [
        {
          "output_type": "execute_result",
          "data": {
            "text/plain": [
              "    BNB  Bitcoin  Cardano  Dogecoin  Ethereum  Polygon  Tether   XRP\n",
              "0  1096     1096     1096      1096      1096     1096    1096  1096"
            ],
            "text/html": [
              "\n",
              "  <div id=\"df-205a458d-d5f7-442f-a682-2ca54fe9b25b\">\n",
              "    <div class=\"colab-df-container\">\n",
              "      <div>\n",
              "<style scoped>\n",
              "    .dataframe tbody tr th:only-of-type {\n",
              "        vertical-align: middle;\n",
              "    }\n",
              "\n",
              "    .dataframe tbody tr th {\n",
              "        vertical-align: top;\n",
              "    }\n",
              "\n",
              "    .dataframe thead th {\n",
              "        text-align: right;\n",
              "    }\n",
              "</style>\n",
              "<table border=\"1\" class=\"dataframe\">\n",
              "  <thead>\n",
              "    <tr style=\"text-align: right;\">\n",
              "      <th></th>\n",
              "      <th>BNB</th>\n",
              "      <th>Bitcoin</th>\n",
              "      <th>Cardano</th>\n",
              "      <th>Dogecoin</th>\n",
              "      <th>Ethereum</th>\n",
              "      <th>Polygon</th>\n",
              "      <th>Tether</th>\n",
              "      <th>XRP</th>\n",
              "    </tr>\n",
              "  </thead>\n",
              "  <tbody>\n",
              "    <tr>\n",
              "      <th>0</th>\n",
              "      <td>1096</td>\n",
              "      <td>1096</td>\n",
              "      <td>1096</td>\n",
              "      <td>1096</td>\n",
              "      <td>1096</td>\n",
              "      <td>1096</td>\n",
              "      <td>1096</td>\n",
              "      <td>1096</td>\n",
              "    </tr>\n",
              "  </tbody>\n",
              "</table>\n",
              "</div>\n",
              "      <button class=\"colab-df-convert\" onclick=\"convertToInteractive('df-205a458d-d5f7-442f-a682-2ca54fe9b25b')\"\n",
              "              title=\"Convert this dataframe to an interactive table.\"\n",
              "              style=\"display:none;\">\n",
              "        \n",
              "  <svg xmlns=\"http://www.w3.org/2000/svg\" height=\"24px\"viewBox=\"0 0 24 24\"\n",
              "       width=\"24px\">\n",
              "    <path d=\"M0 0h24v24H0V0z\" fill=\"none\"/>\n",
              "    <path d=\"M18.56 5.44l.94 2.06.94-2.06 2.06-.94-2.06-.94-.94-2.06-.94 2.06-2.06.94zm-11 1L8.5 8.5l.94-2.06 2.06-.94-2.06-.94L8.5 2.5l-.94 2.06-2.06.94zm10 10l.94 2.06.94-2.06 2.06-.94-2.06-.94-.94-2.06-.94 2.06-2.06.94z\"/><path d=\"M17.41 7.96l-1.37-1.37c-.4-.4-.92-.59-1.43-.59-.52 0-1.04.2-1.43.59L10.3 9.45l-7.72 7.72c-.78.78-.78 2.05 0 2.83L4 21.41c.39.39.9.59 1.41.59.51 0 1.02-.2 1.41-.59l7.78-7.78 2.81-2.81c.8-.78.8-2.07 0-2.86zM5.41 20L4 18.59l7.72-7.72 1.47 1.35L5.41 20z\"/>\n",
              "  </svg>\n",
              "      </button>\n",
              "      \n",
              "  <style>\n",
              "    .colab-df-container {\n",
              "      display:flex;\n",
              "      flex-wrap:wrap;\n",
              "      gap: 12px;\n",
              "    }\n",
              "\n",
              "    .colab-df-convert {\n",
              "      background-color: #E8F0FE;\n",
              "      border: none;\n",
              "      border-radius: 50%;\n",
              "      cursor: pointer;\n",
              "      display: none;\n",
              "      fill: #1967D2;\n",
              "      height: 32px;\n",
              "      padding: 0 0 0 0;\n",
              "      width: 32px;\n",
              "    }\n",
              "\n",
              "    .colab-df-convert:hover {\n",
              "      background-color: #E2EBFA;\n",
              "      box-shadow: 0px 1px 2px rgba(60, 64, 67, 0.3), 0px 1px 3px 1px rgba(60, 64, 67, 0.15);\n",
              "      fill: #174EA6;\n",
              "    }\n",
              "\n",
              "    [theme=dark] .colab-df-convert {\n",
              "      background-color: #3B4455;\n",
              "      fill: #D2E3FC;\n",
              "    }\n",
              "\n",
              "    [theme=dark] .colab-df-convert:hover {\n",
              "      background-color: #434B5C;\n",
              "      box-shadow: 0px 1px 3px 1px rgba(0, 0, 0, 0.15);\n",
              "      filter: drop-shadow(0px 1px 2px rgba(0, 0, 0, 0.3));\n",
              "      fill: #FFFFFF;\n",
              "    }\n",
              "  </style>\n",
              "\n",
              "      <script>\n",
              "        const buttonEl =\n",
              "          document.querySelector('#df-205a458d-d5f7-442f-a682-2ca54fe9b25b button.colab-df-convert');\n",
              "        buttonEl.style.display =\n",
              "          google.colab.kernel.accessAllowed ? 'block' : 'none';\n",
              "\n",
              "        async function convertToInteractive(key) {\n",
              "          const element = document.querySelector('#df-205a458d-d5f7-442f-a682-2ca54fe9b25b');\n",
              "          const dataTable =\n",
              "            await google.colab.kernel.invokeFunction('convertToInteractive',\n",
              "                                                     [key], {});\n",
              "          if (!dataTable) return;\n",
              "\n",
              "          const docLinkHtml = 'Like what you see? Visit the ' +\n",
              "            '<a target=\"_blank\" href=https://colab.research.google.com/notebooks/data_table.ipynb>data table notebook</a>'\n",
              "            + ' to learn more about interactive tables.';\n",
              "          element.innerHTML = '';\n",
              "          dataTable['output_type'] = 'display_data';\n",
              "          await google.colab.output.renderOutput(dataTable, element);\n",
              "          const docLink = document.createElement('div');\n",
              "          docLink.innerHTML = docLinkHtml;\n",
              "          element.appendChild(docLink);\n",
              "        }\n",
              "      </script>\n",
              "    </div>\n",
              "  </div>\n",
              "  "
            ]
          },
          "metadata": {},
          "execution_count": 116
        }
      ],
      "source": [
        "pd.DataFrame([[df[coin].shape[0] for coin in coins]], columns=coins)"
      ]
    },
    {
      "cell_type": "code",
      "execution_count": 117,
      "metadata": {
        "id": "SxFV5KlIevqU"
      },
      "outputs": [],
      "source": [
        "for coin_df in df.values():\n",
        "  coin_df.sort_index(inplace=True)"
      ]
    },
    {
      "cell_type": "markdown",
      "metadata": {
        "id": "5k9qszP8xwj8"
      },
      "source": [
        "## Combine into single dataset"
      ]
    },
    {
      "cell_type": "markdown",
      "metadata": {
        "id": "VOfFqZnP0Hpg"
      },
      "source": [
        "Until now we had a dictionary which contained all the datasets as values and their respective keys as the name of the currencies. For analysis we have to combine all the datasets into one.\n",
        "\n",
        "We have also Multi-indexed the dataset."
      ]
    },
    {
      "cell_type": "code",
      "execution_count": 118,
      "metadata": {
        "colab": {
          "base_uri": "https://localhost:8080/",
          "height": 0
        },
        "id": "v1BC8P9Qx2HW",
        "outputId": "d92ee56a-e346-4f91-9ddb-816ef4513b87"
      },
      "outputs": [
        {
          "output_type": "execute_result",
          "data": {
            "text/plain": [
              "            Price                                                              \\\n",
              "              BNB Bitcoin Cardano  Dogecoin Ethereum Polygon  Tether      XRP   \n",
              "Date                                                                            \n",
              "2020-01-01  13.70  7199.8  0.0335  0.002040   130.75   0.015  1.0121  0.19307   \n",
              "2020-01-02  13.03  6967.0  0.0327  0.001999   127.19   0.015  1.0053  0.18748   \n",
              "2020-01-03  13.65  7343.1  0.0341  0.002042   134.27   0.015  1.0039  0.19321   \n",
              "2020-01-04  13.85  7376.8  0.0344  0.002307   134.33   0.015  1.0050  0.19311   \n",
              "2020-01-05  14.07  7372.5  0.0346  0.002080   135.59   0.015  1.0032  0.19455   \n",
              "\n",
              "             Open          ...         Vol.               Change %          \\\n",
              "              BNB Bitcoin  ...       Tether           XRP      BNB Bitcoin   \n",
              "Date                       ...                                               \n",
              "2020-01-01  13.73  7196.4  ...  108000000.0  1.230000e+11    -0.25    0.05   \n",
              "2020-01-02  13.70  7199.7  ...  279000000.0  1.470000e+11    -4.85   -3.23   \n",
              "2020-01-03  13.02  6967.1  ...  623000000.0  1.740000e+11     4.72    5.40   \n",
              "2020-01-04  13.65  7345.1  ...  274000000.0  1.110000e+11     1.49    0.46   \n",
              "2020-01-05  13.85  7376.8  ...  461000000.0  1.150000e+11     1.58   -0.06   \n",
              "\n",
              "                                                           \n",
              "           Cardano Dogecoin Ethereum Polygon Tether   XRP  \n",
              "Date                                                       \n",
              "2020-01-01    1.94     1.24     1.19    8.45   0.73  0.07  \n",
              "2020-01-02   -2.33    -1.98    -2.72    0.00  -0.68 -2.89  \n",
              "2020-01-03    4.32     2.14     5.56    0.00  -0.14  3.06  \n",
              "2020-01-04    0.79    12.99     0.04    0.00   0.11 -0.05  \n",
              "2020-01-05    0.73    -9.86     0.94    0.00  -0.18  0.74  \n",
              "\n",
              "[5 rows x 48 columns]"
            ],
            "text/html": [
              "\n",
              "  <div id=\"df-2d618286-a2d1-4482-bf50-3255622e80c8\">\n",
              "    <div class=\"colab-df-container\">\n",
              "      <div>\n",
              "<style scoped>\n",
              "    .dataframe tbody tr th:only-of-type {\n",
              "        vertical-align: middle;\n",
              "    }\n",
              "\n",
              "    .dataframe tbody tr th {\n",
              "        vertical-align: top;\n",
              "    }\n",
              "\n",
              "    .dataframe thead tr th {\n",
              "        text-align: left;\n",
              "    }\n",
              "\n",
              "    .dataframe thead tr:last-of-type th {\n",
              "        text-align: right;\n",
              "    }\n",
              "</style>\n",
              "<table border=\"1\" class=\"dataframe\">\n",
              "  <thead>\n",
              "    <tr>\n",
              "      <th></th>\n",
              "      <th colspan=\"8\" halign=\"left\">Price</th>\n",
              "      <th colspan=\"2\" halign=\"left\">Open</th>\n",
              "      <th>...</th>\n",
              "      <th colspan=\"2\" halign=\"left\">Vol.</th>\n",
              "      <th colspan=\"8\" halign=\"left\">Change %</th>\n",
              "    </tr>\n",
              "    <tr>\n",
              "      <th></th>\n",
              "      <th>BNB</th>\n",
              "      <th>Bitcoin</th>\n",
              "      <th>Cardano</th>\n",
              "      <th>Dogecoin</th>\n",
              "      <th>Ethereum</th>\n",
              "      <th>Polygon</th>\n",
              "      <th>Tether</th>\n",
              "      <th>XRP</th>\n",
              "      <th>BNB</th>\n",
              "      <th>Bitcoin</th>\n",
              "      <th>...</th>\n",
              "      <th>Tether</th>\n",
              "      <th>XRP</th>\n",
              "      <th>BNB</th>\n",
              "      <th>Bitcoin</th>\n",
              "      <th>Cardano</th>\n",
              "      <th>Dogecoin</th>\n",
              "      <th>Ethereum</th>\n",
              "      <th>Polygon</th>\n",
              "      <th>Tether</th>\n",
              "      <th>XRP</th>\n",
              "    </tr>\n",
              "    <tr>\n",
              "      <th>Date</th>\n",
              "      <th></th>\n",
              "      <th></th>\n",
              "      <th></th>\n",
              "      <th></th>\n",
              "      <th></th>\n",
              "      <th></th>\n",
              "      <th></th>\n",
              "      <th></th>\n",
              "      <th></th>\n",
              "      <th></th>\n",
              "      <th></th>\n",
              "      <th></th>\n",
              "      <th></th>\n",
              "      <th></th>\n",
              "      <th></th>\n",
              "      <th></th>\n",
              "      <th></th>\n",
              "      <th></th>\n",
              "      <th></th>\n",
              "      <th></th>\n",
              "      <th></th>\n",
              "    </tr>\n",
              "  </thead>\n",
              "  <tbody>\n",
              "    <tr>\n",
              "      <th>2020-01-01</th>\n",
              "      <td>13.70</td>\n",
              "      <td>7199.8</td>\n",
              "      <td>0.0335</td>\n",
              "      <td>0.002040</td>\n",
              "      <td>130.75</td>\n",
              "      <td>0.015</td>\n",
              "      <td>1.0121</td>\n",
              "      <td>0.19307</td>\n",
              "      <td>13.73</td>\n",
              "      <td>7196.4</td>\n",
              "      <td>...</td>\n",
              "      <td>108000000.0</td>\n",
              "      <td>1.230000e+11</td>\n",
              "      <td>-0.25</td>\n",
              "      <td>0.05</td>\n",
              "      <td>1.94</td>\n",
              "      <td>1.24</td>\n",
              "      <td>1.19</td>\n",
              "      <td>8.45</td>\n",
              "      <td>0.73</td>\n",
              "      <td>0.07</td>\n",
              "    </tr>\n",
              "    <tr>\n",
              "      <th>2020-01-02</th>\n",
              "      <td>13.03</td>\n",
              "      <td>6967.0</td>\n",
              "      <td>0.0327</td>\n",
              "      <td>0.001999</td>\n",
              "      <td>127.19</td>\n",
              "      <td>0.015</td>\n",
              "      <td>1.0053</td>\n",
              "      <td>0.18748</td>\n",
              "      <td>13.70</td>\n",
              "      <td>7199.7</td>\n",
              "      <td>...</td>\n",
              "      <td>279000000.0</td>\n",
              "      <td>1.470000e+11</td>\n",
              "      <td>-4.85</td>\n",
              "      <td>-3.23</td>\n",
              "      <td>-2.33</td>\n",
              "      <td>-1.98</td>\n",
              "      <td>-2.72</td>\n",
              "      <td>0.00</td>\n",
              "      <td>-0.68</td>\n",
              "      <td>-2.89</td>\n",
              "    </tr>\n",
              "    <tr>\n",
              "      <th>2020-01-03</th>\n",
              "      <td>13.65</td>\n",
              "      <td>7343.1</td>\n",
              "      <td>0.0341</td>\n",
              "      <td>0.002042</td>\n",
              "      <td>134.27</td>\n",
              "      <td>0.015</td>\n",
              "      <td>1.0039</td>\n",
              "      <td>0.19321</td>\n",
              "      <td>13.02</td>\n",
              "      <td>6967.1</td>\n",
              "      <td>...</td>\n",
              "      <td>623000000.0</td>\n",
              "      <td>1.740000e+11</td>\n",
              "      <td>4.72</td>\n",
              "      <td>5.40</td>\n",
              "      <td>4.32</td>\n",
              "      <td>2.14</td>\n",
              "      <td>5.56</td>\n",
              "      <td>0.00</td>\n",
              "      <td>-0.14</td>\n",
              "      <td>3.06</td>\n",
              "    </tr>\n",
              "    <tr>\n",
              "      <th>2020-01-04</th>\n",
              "      <td>13.85</td>\n",
              "      <td>7376.8</td>\n",
              "      <td>0.0344</td>\n",
              "      <td>0.002307</td>\n",
              "      <td>134.33</td>\n",
              "      <td>0.015</td>\n",
              "      <td>1.0050</td>\n",
              "      <td>0.19311</td>\n",
              "      <td>13.65</td>\n",
              "      <td>7345.1</td>\n",
              "      <td>...</td>\n",
              "      <td>274000000.0</td>\n",
              "      <td>1.110000e+11</td>\n",
              "      <td>1.49</td>\n",
              "      <td>0.46</td>\n",
              "      <td>0.79</td>\n",
              "      <td>12.99</td>\n",
              "      <td>0.04</td>\n",
              "      <td>0.00</td>\n",
              "      <td>0.11</td>\n",
              "      <td>-0.05</td>\n",
              "    </tr>\n",
              "    <tr>\n",
              "      <th>2020-01-05</th>\n",
              "      <td>14.07</td>\n",
              "      <td>7372.5</td>\n",
              "      <td>0.0346</td>\n",
              "      <td>0.002080</td>\n",
              "      <td>135.59</td>\n",
              "      <td>0.015</td>\n",
              "      <td>1.0032</td>\n",
              "      <td>0.19455</td>\n",
              "      <td>13.85</td>\n",
              "      <td>7376.8</td>\n",
              "      <td>...</td>\n",
              "      <td>461000000.0</td>\n",
              "      <td>1.150000e+11</td>\n",
              "      <td>1.58</td>\n",
              "      <td>-0.06</td>\n",
              "      <td>0.73</td>\n",
              "      <td>-9.86</td>\n",
              "      <td>0.94</td>\n",
              "      <td>0.00</td>\n",
              "      <td>-0.18</td>\n",
              "      <td>0.74</td>\n",
              "    </tr>\n",
              "  </tbody>\n",
              "</table>\n",
              "<p>5 rows × 48 columns</p>\n",
              "</div>\n",
              "      <button class=\"colab-df-convert\" onclick=\"convertToInteractive('df-2d618286-a2d1-4482-bf50-3255622e80c8')\"\n",
              "              title=\"Convert this dataframe to an interactive table.\"\n",
              "              style=\"display:none;\">\n",
              "        \n",
              "  <svg xmlns=\"http://www.w3.org/2000/svg\" height=\"24px\"viewBox=\"0 0 24 24\"\n",
              "       width=\"24px\">\n",
              "    <path d=\"M0 0h24v24H0V0z\" fill=\"none\"/>\n",
              "    <path d=\"M18.56 5.44l.94 2.06.94-2.06 2.06-.94-2.06-.94-.94-2.06-.94 2.06-2.06.94zm-11 1L8.5 8.5l.94-2.06 2.06-.94-2.06-.94L8.5 2.5l-.94 2.06-2.06.94zm10 10l.94 2.06.94-2.06 2.06-.94-2.06-.94-.94-2.06-.94 2.06-2.06.94z\"/><path d=\"M17.41 7.96l-1.37-1.37c-.4-.4-.92-.59-1.43-.59-.52 0-1.04.2-1.43.59L10.3 9.45l-7.72 7.72c-.78.78-.78 2.05 0 2.83L4 21.41c.39.39.9.59 1.41.59.51 0 1.02-.2 1.41-.59l7.78-7.78 2.81-2.81c.8-.78.8-2.07 0-2.86zM5.41 20L4 18.59l7.72-7.72 1.47 1.35L5.41 20z\"/>\n",
              "  </svg>\n",
              "      </button>\n",
              "      \n",
              "  <style>\n",
              "    .colab-df-container {\n",
              "      display:flex;\n",
              "      flex-wrap:wrap;\n",
              "      gap: 12px;\n",
              "    }\n",
              "\n",
              "    .colab-df-convert {\n",
              "      background-color: #E8F0FE;\n",
              "      border: none;\n",
              "      border-radius: 50%;\n",
              "      cursor: pointer;\n",
              "      display: none;\n",
              "      fill: #1967D2;\n",
              "      height: 32px;\n",
              "      padding: 0 0 0 0;\n",
              "      width: 32px;\n",
              "    }\n",
              "\n",
              "    .colab-df-convert:hover {\n",
              "      background-color: #E2EBFA;\n",
              "      box-shadow: 0px 1px 2px rgba(60, 64, 67, 0.3), 0px 1px 3px 1px rgba(60, 64, 67, 0.15);\n",
              "      fill: #174EA6;\n",
              "    }\n",
              "\n",
              "    [theme=dark] .colab-df-convert {\n",
              "      background-color: #3B4455;\n",
              "      fill: #D2E3FC;\n",
              "    }\n",
              "\n",
              "    [theme=dark] .colab-df-convert:hover {\n",
              "      background-color: #434B5C;\n",
              "      box-shadow: 0px 1px 3px 1px rgba(0, 0, 0, 0.15);\n",
              "      filter: drop-shadow(0px 1px 2px rgba(0, 0, 0, 0.3));\n",
              "      fill: #FFFFFF;\n",
              "    }\n",
              "  </style>\n",
              "\n",
              "      <script>\n",
              "        const buttonEl =\n",
              "          document.querySelector('#df-2d618286-a2d1-4482-bf50-3255622e80c8 button.colab-df-convert');\n",
              "        buttonEl.style.display =\n",
              "          google.colab.kernel.accessAllowed ? 'block' : 'none';\n",
              "\n",
              "        async function convertToInteractive(key) {\n",
              "          const element = document.querySelector('#df-2d618286-a2d1-4482-bf50-3255622e80c8');\n",
              "          const dataTable =\n",
              "            await google.colab.kernel.invokeFunction('convertToInteractive',\n",
              "                                                     [key], {});\n",
              "          if (!dataTable) return;\n",
              "\n",
              "          const docLinkHtml = 'Like what you see? Visit the ' +\n",
              "            '<a target=\"_blank\" href=https://colab.research.google.com/notebooks/data_table.ipynb>data table notebook</a>'\n",
              "            + ' to learn more about interactive tables.';\n",
              "          element.innerHTML = '';\n",
              "          dataTable['output_type'] = 'display_data';\n",
              "          await google.colab.output.renderOutput(dataTable, element);\n",
              "          const docLink = document.createElement('div');\n",
              "          docLink.innerHTML = docLinkHtml;\n",
              "          element.appendChild(docLink);\n",
              "        }\n",
              "      </script>\n",
              "    </div>\n",
              "  </div>\n",
              "  "
            ]
          },
          "metadata": {},
          "execution_count": 118
        }
      ],
      "source": [
        "# Create a new dataset for Price of each currency\n",
        "df_price = pd.DataFrame(index=df['Bitcoin'].index, columns=df.keys())\n",
        "for coin in df.keys():\n",
        "    df_price[coin] = df[coin]['Price']\n",
        "    \n",
        "# Create a new dataset for Price of each currency\n",
        "df_open = pd.DataFrame(index=df['Bitcoin'].index, columns=df.keys())\n",
        "for coin in df.keys():\n",
        "    df_open[coin] = df[coin]['Open']\n",
        "\n",
        "# Create a new dataset for Price of each currency\n",
        "df_high = pd.DataFrame(index=df['Bitcoin'].index, columns=df.keys())\n",
        "for coin in df.keys():\n",
        "    df_high[coin] = df[coin]['High']\n",
        "\n",
        "# Create a new dataset for Price of each currency\n",
        "df_low = pd.DataFrame(index=df['Bitcoin'].index, columns=df.keys())\n",
        "for coin in df.keys():\n",
        "    df_low[coin] = df[coin]['Low']\n",
        "\n",
        "# Create a new dataset for Vol. of each currency\n",
        "df_vol = pd.DataFrame(index=df['Bitcoin'].index, columns=df.keys())\n",
        "for coin in df.keys():\n",
        "    df_vol[coin] = df[coin]['Vol.']\n",
        "\n",
        "# Create a new dataset for Vol. of each currency\n",
        "df_change = pd.DataFrame(index=df['Bitcoin'].index, columns=df.keys())\n",
        "for coin in df.keys():\n",
        "    df_change[coin] = df[coin]['Change %']\n",
        "\n",
        "merged_df = pd.concat([df_price, df_open, df_high, df_low, df_vol, df_change], axis=1, join='outer', keys=['Price', 'Open', 'High', 'Low', 'Vol.', 'Change %'])\n",
        "merged_df.head()"
      ]
    },
    {
      "cell_type": "code",
      "execution_count": 119,
      "metadata": {
        "colab": {
          "base_uri": "https://localhost:8080/"
        },
        "id": "yiTQRbjiEVpT",
        "outputId": "996eb78b-a473-4dbf-c1dd-977f6fc28191"
      },
      "outputs": [
        {
          "output_type": "execute_result",
          "data": {
            "text/plain": [
              "FrozenList([['Price', 'Open', 'High', 'Low', 'Vol.', 'Change %'], ['BNB', 'Bitcoin', 'Cardano', 'Dogecoin', 'Ethereum', 'Polygon', 'Tether', 'XRP']])"
            ]
          },
          "metadata": {},
          "execution_count": 119
        }
      ],
      "source": [
        "merged_df.columns.levels"
      ]
    },
    {
      "cell_type": "markdown",
      "metadata": {
        "id": "zTjdgJ8tYyj1"
      },
      "source": [
        "# Trading Strategy"
      ]
    },
    {
      "cell_type": "code",
      "execution_count": 120,
      "metadata": {
        "id": "crILBLgEbNZO"
      },
      "outputs": [],
      "source": [
        "ma = pd.DataFrame()\n",
        "rsi = pd.DataFrame()"
      ]
    },
    {
      "cell_type": "markdown",
      "metadata": {
        "id": "2iwZA_CaY7V_"
      },
      "source": [
        "##Moving Average"
      ]
    },
    {
      "cell_type": "code",
      "execution_count": 121,
      "metadata": {
        "colab": {
          "base_uri": "https://localhost:8080/"
        },
        "id": "B5zEEDH0Y1bD",
        "outputId": "05969169-983c-407e-bf95-d97591a6a75d"
      },
      "outputs": [
        {
          "output_type": "execute_result",
          "data": {
            "text/plain": [
              "Date\n",
              "2020-07-18     8527.2010\n",
              "2020-07-19     8537.2420\n",
              "2020-07-20     8548.2190\n",
              "2020-07-21     8558.4400\n",
              "2020-07-22     8569.1245\n",
              "                 ...    \n",
              "2022-12-27    19898.7470\n",
              "2022-12-28    19839.4610\n",
              "2022-12-29    19789.6115\n",
              "2022-12-30    19760.4075\n",
              "2022-12-31    19732.3080\n",
              "Name: Bitcoin, Length: 897, dtype: float64"
            ]
          },
          "metadata": {},
          "execution_count": 121
        }
      ],
      "source": [
        "# Calculate n-day Moving Average\n",
        "ma_n = 200\n",
        "for coin in coins:\n",
        "  ma[coin] = merged_df['Price'][coin].rolling(window=ma_n).mean()\n",
        "ma['Bitcoin'].iloc[ma_n-1:]"
      ]
    },
    {
      "cell_type": "markdown",
      "metadata": {
        "id": "kn9uRBTHZAeL"
      },
      "source": [
        "##RSI"
      ]
    },
    {
      "cell_type": "code",
      "execution_count": 122,
      "metadata": {
        "colab": {
          "base_uri": "https://localhost:8080/"
        },
        "id": "L4dmTpkHZByC",
        "outputId": "3cb1c67b-38a3-42df-a2c9-4122fd31c716"
      },
      "outputs": [
        {
          "output_type": "execute_result",
          "data": {
            "text/plain": [
              "Date\n",
              "2020-07-18    51.554899\n",
              "2020-07-19    55.591758\n",
              "2020-07-20    40.435442\n",
              "2020-07-21    56.163740\n",
              "2020-07-22    54.117531\n",
              "                ...    \n",
              "2022-12-27    29.492524\n",
              "2022-12-28    27.326804\n",
              "2022-12-29    35.049233\n",
              "2022-12-30    49.344876\n",
              "2022-12-31    42.655800\n",
              "Name: Bitcoin, Length: 897, dtype: float64"
            ]
          },
          "metadata": {},
          "execution_count": 122
        }
      ],
      "source": [
        "for coin in coins:\n",
        "  # Calculate RSI\n",
        "  delta = merged_df['Price'][coin].diff()\n",
        "  gain = delta.where(delta > 0, 0)\n",
        "  loss = -delta.where(delta < 0, 0)\n",
        "  avg_gain = gain.rolling(window=14).mean()\n",
        "  avg_loss = loss.rolling(window=14).mean()\n",
        "  rs = avg_gain / avg_loss\n",
        "  rsi[coin] = 100 - (100 / (1 + rs))\n",
        "\n",
        "rsi['Bitcoin'].iloc[ma_n-1:]\n",
        "# rsi"
      ]
    },
    {
      "cell_type": "markdown",
      "metadata": {
        "id": "PNDt1l8Ke_mc"
      },
      "source": [
        "##Signal"
      ]
    },
    {
      "cell_type": "code",
      "execution_count": 123,
      "metadata": {
        "colab": {
          "base_uri": "https://localhost:8080/",
          "height": 0
        },
        "id": "nH_HokIneVV6",
        "outputId": "25ecd663-d83b-4f99-a92b-b51acaef937a"
      },
      "outputs": [
        {
          "output_type": "execute_result",
          "data": {
            "text/plain": [
              "            BNB Bitcoin Cardano Dogecoin Ethereum Polygon Tether  XRP\n",
              "Date                                                                 \n",
              "2020-07-18  nan     nan     nan      nan      nan     nan    nan  nan\n",
              "2020-07-19  nan     nan     nan      nan      nan     nan    nan  nan\n",
              "2020-07-20  nan     nan     nan      nan      nan     nan    nan  nan\n",
              "2020-07-21  nan     nan     nan      nan      nan     nan    nan  nan\n",
              "2020-07-22  nan     nan     nan      buy      nan     nan    nan  nan\n",
              "...         ...     ...     ...      ...      ...     ...    ...  ...\n",
              "2022-12-27  nan     nan     nan      buy      nan     buy    nan  nan\n",
              "2022-12-28  nan     nan     nan      nan      nan     nan    nan  nan\n",
              "2022-12-29  nan     nan     nan      nan      nan     nan    nan  nan\n",
              "2022-12-30  nan     nan     nan      nan      nan     nan    nan  nan\n",
              "2022-12-31  nan     nan     nan      nan      nan     nan    nan  nan\n",
              "\n",
              "[897 rows x 8 columns]"
            ],
            "text/html": [
              "\n",
              "  <div id=\"df-0aebd216-7d89-4596-bbf6-a1fd488d8b1f\">\n",
              "    <div class=\"colab-df-container\">\n",
              "      <div>\n",
              "<style scoped>\n",
              "    .dataframe tbody tr th:only-of-type {\n",
              "        vertical-align: middle;\n",
              "    }\n",
              "\n",
              "    .dataframe tbody tr th {\n",
              "        vertical-align: top;\n",
              "    }\n",
              "\n",
              "    .dataframe thead th {\n",
              "        text-align: right;\n",
              "    }\n",
              "</style>\n",
              "<table border=\"1\" class=\"dataframe\">\n",
              "  <thead>\n",
              "    <tr style=\"text-align: right;\">\n",
              "      <th></th>\n",
              "      <th>BNB</th>\n",
              "      <th>Bitcoin</th>\n",
              "      <th>Cardano</th>\n",
              "      <th>Dogecoin</th>\n",
              "      <th>Ethereum</th>\n",
              "      <th>Polygon</th>\n",
              "      <th>Tether</th>\n",
              "      <th>XRP</th>\n",
              "    </tr>\n",
              "    <tr>\n",
              "      <th>Date</th>\n",
              "      <th></th>\n",
              "      <th></th>\n",
              "      <th></th>\n",
              "      <th></th>\n",
              "      <th></th>\n",
              "      <th></th>\n",
              "      <th></th>\n",
              "      <th></th>\n",
              "    </tr>\n",
              "  </thead>\n",
              "  <tbody>\n",
              "    <tr>\n",
              "      <th>2020-07-18</th>\n",
              "      <td>nan</td>\n",
              "      <td>nan</td>\n",
              "      <td>nan</td>\n",
              "      <td>nan</td>\n",
              "      <td>nan</td>\n",
              "      <td>nan</td>\n",
              "      <td>nan</td>\n",
              "      <td>nan</td>\n",
              "    </tr>\n",
              "    <tr>\n",
              "      <th>2020-07-19</th>\n",
              "      <td>nan</td>\n",
              "      <td>nan</td>\n",
              "      <td>nan</td>\n",
              "      <td>nan</td>\n",
              "      <td>nan</td>\n",
              "      <td>nan</td>\n",
              "      <td>nan</td>\n",
              "      <td>nan</td>\n",
              "    </tr>\n",
              "    <tr>\n",
              "      <th>2020-07-20</th>\n",
              "      <td>nan</td>\n",
              "      <td>nan</td>\n",
              "      <td>nan</td>\n",
              "      <td>nan</td>\n",
              "      <td>nan</td>\n",
              "      <td>nan</td>\n",
              "      <td>nan</td>\n",
              "      <td>nan</td>\n",
              "    </tr>\n",
              "    <tr>\n",
              "      <th>2020-07-21</th>\n",
              "      <td>nan</td>\n",
              "      <td>nan</td>\n",
              "      <td>nan</td>\n",
              "      <td>nan</td>\n",
              "      <td>nan</td>\n",
              "      <td>nan</td>\n",
              "      <td>nan</td>\n",
              "      <td>nan</td>\n",
              "    </tr>\n",
              "    <tr>\n",
              "      <th>2020-07-22</th>\n",
              "      <td>nan</td>\n",
              "      <td>nan</td>\n",
              "      <td>nan</td>\n",
              "      <td>buy</td>\n",
              "      <td>nan</td>\n",
              "      <td>nan</td>\n",
              "      <td>nan</td>\n",
              "      <td>nan</td>\n",
              "    </tr>\n",
              "    <tr>\n",
              "      <th>...</th>\n",
              "      <td>...</td>\n",
              "      <td>...</td>\n",
              "      <td>...</td>\n",
              "      <td>...</td>\n",
              "      <td>...</td>\n",
              "      <td>...</td>\n",
              "      <td>...</td>\n",
              "      <td>...</td>\n",
              "    </tr>\n",
              "    <tr>\n",
              "      <th>2022-12-27</th>\n",
              "      <td>nan</td>\n",
              "      <td>nan</td>\n",
              "      <td>nan</td>\n",
              "      <td>buy</td>\n",
              "      <td>nan</td>\n",
              "      <td>buy</td>\n",
              "      <td>nan</td>\n",
              "      <td>nan</td>\n",
              "    </tr>\n",
              "    <tr>\n",
              "      <th>2022-12-28</th>\n",
              "      <td>nan</td>\n",
              "      <td>nan</td>\n",
              "      <td>nan</td>\n",
              "      <td>nan</td>\n",
              "      <td>nan</td>\n",
              "      <td>nan</td>\n",
              "      <td>nan</td>\n",
              "      <td>nan</td>\n",
              "    </tr>\n",
              "    <tr>\n",
              "      <th>2022-12-29</th>\n",
              "      <td>nan</td>\n",
              "      <td>nan</td>\n",
              "      <td>nan</td>\n",
              "      <td>nan</td>\n",
              "      <td>nan</td>\n",
              "      <td>nan</td>\n",
              "      <td>nan</td>\n",
              "      <td>nan</td>\n",
              "    </tr>\n",
              "    <tr>\n",
              "      <th>2022-12-30</th>\n",
              "      <td>nan</td>\n",
              "      <td>nan</td>\n",
              "      <td>nan</td>\n",
              "      <td>nan</td>\n",
              "      <td>nan</td>\n",
              "      <td>nan</td>\n",
              "      <td>nan</td>\n",
              "      <td>nan</td>\n",
              "    </tr>\n",
              "    <tr>\n",
              "      <th>2022-12-31</th>\n",
              "      <td>nan</td>\n",
              "      <td>nan</td>\n",
              "      <td>nan</td>\n",
              "      <td>nan</td>\n",
              "      <td>nan</td>\n",
              "      <td>nan</td>\n",
              "      <td>nan</td>\n",
              "      <td>nan</td>\n",
              "    </tr>\n",
              "  </tbody>\n",
              "</table>\n",
              "<p>897 rows × 8 columns</p>\n",
              "</div>\n",
              "      <button class=\"colab-df-convert\" onclick=\"convertToInteractive('df-0aebd216-7d89-4596-bbf6-a1fd488d8b1f')\"\n",
              "              title=\"Convert this dataframe to an interactive table.\"\n",
              "              style=\"display:none;\">\n",
              "        \n",
              "  <svg xmlns=\"http://www.w3.org/2000/svg\" height=\"24px\"viewBox=\"0 0 24 24\"\n",
              "       width=\"24px\">\n",
              "    <path d=\"M0 0h24v24H0V0z\" fill=\"none\"/>\n",
              "    <path d=\"M18.56 5.44l.94 2.06.94-2.06 2.06-.94-2.06-.94-.94-2.06-.94 2.06-2.06.94zm-11 1L8.5 8.5l.94-2.06 2.06-.94-2.06-.94L8.5 2.5l-.94 2.06-2.06.94zm10 10l.94 2.06.94-2.06 2.06-.94-2.06-.94-.94-2.06-.94 2.06-2.06.94z\"/><path d=\"M17.41 7.96l-1.37-1.37c-.4-.4-.92-.59-1.43-.59-.52 0-1.04.2-1.43.59L10.3 9.45l-7.72 7.72c-.78.78-.78 2.05 0 2.83L4 21.41c.39.39.9.59 1.41.59.51 0 1.02-.2 1.41-.59l7.78-7.78 2.81-2.81c.8-.78.8-2.07 0-2.86zM5.41 20L4 18.59l7.72-7.72 1.47 1.35L5.41 20z\"/>\n",
              "  </svg>\n",
              "      </button>\n",
              "      \n",
              "  <style>\n",
              "    .colab-df-container {\n",
              "      display:flex;\n",
              "      flex-wrap:wrap;\n",
              "      gap: 12px;\n",
              "    }\n",
              "\n",
              "    .colab-df-convert {\n",
              "      background-color: #E8F0FE;\n",
              "      border: none;\n",
              "      border-radius: 50%;\n",
              "      cursor: pointer;\n",
              "      display: none;\n",
              "      fill: #1967D2;\n",
              "      height: 32px;\n",
              "      padding: 0 0 0 0;\n",
              "      width: 32px;\n",
              "    }\n",
              "\n",
              "    .colab-df-convert:hover {\n",
              "      background-color: #E2EBFA;\n",
              "      box-shadow: 0px 1px 2px rgba(60, 64, 67, 0.3), 0px 1px 3px 1px rgba(60, 64, 67, 0.15);\n",
              "      fill: #174EA6;\n",
              "    }\n",
              "\n",
              "    [theme=dark] .colab-df-convert {\n",
              "      background-color: #3B4455;\n",
              "      fill: #D2E3FC;\n",
              "    }\n",
              "\n",
              "    [theme=dark] .colab-df-convert:hover {\n",
              "      background-color: #434B5C;\n",
              "      box-shadow: 0px 1px 3px 1px rgba(0, 0, 0, 0.15);\n",
              "      filter: drop-shadow(0px 1px 2px rgba(0, 0, 0, 0.3));\n",
              "      fill: #FFFFFF;\n",
              "    }\n",
              "  </style>\n",
              "\n",
              "      <script>\n",
              "        const buttonEl =\n",
              "          document.querySelector('#df-0aebd216-7d89-4596-bbf6-a1fd488d8b1f button.colab-df-convert');\n",
              "        buttonEl.style.display =\n",
              "          google.colab.kernel.accessAllowed ? 'block' : 'none';\n",
              "\n",
              "        async function convertToInteractive(key) {\n",
              "          const element = document.querySelector('#df-0aebd216-7d89-4596-bbf6-a1fd488d8b1f');\n",
              "          const dataTable =\n",
              "            await google.colab.kernel.invokeFunction('convertToInteractive',\n",
              "                                                     [key], {});\n",
              "          if (!dataTable) return;\n",
              "\n",
              "          const docLinkHtml = 'Like what you see? Visit the ' +\n",
              "            '<a target=\"_blank\" href=https://colab.research.google.com/notebooks/data_table.ipynb>data table notebook</a>'\n",
              "            + ' to learn more about interactive tables.';\n",
              "          element.innerHTML = '';\n",
              "          dataTable['output_type'] = 'display_data';\n",
              "          await google.colab.output.renderOutput(dataTable, element);\n",
              "          const docLink = document.createElement('div');\n",
              "          docLink.innerHTML = docLinkHtml;\n",
              "          element.appendChild(docLink);\n",
              "        }\n",
              "      </script>\n",
              "    </div>\n",
              "  </div>\n",
              "  "
            ]
          },
          "metadata": {},
          "execution_count": 123
        }
      ],
      "source": [
        "signal = pd.DataFrame(index=ma.index[ma_n-1:])\n",
        "\n",
        "def trading_signal():\n",
        "  for coin in coins:\n",
        "    signal[coin] = np.where(\n",
        "                            (rsi[coin].iloc[ma_n-1:] < 30) & (merged_df['Price'][coin].iloc[ma_n-1:] > ma[coin].iloc[ma_n-1:]), \n",
        "                            'buy', \n",
        "                            np.nan\n",
        "                            )\n",
        "    signal[coin] = np.where(\n",
        "                            (rsi[coin].iloc[ma_n-1:] > 70) & (merged_df['Price'][coin].iloc[ma_n-1:] < ma[coin].iloc[ma_n-1:]), \n",
        "                            'sell', \n",
        "                            signal[coin]\n",
        "                            )\n",
        "\n",
        "trading_signal()\n",
        "signal"
      ]
    },
    {
      "cell_type": "code",
      "execution_count": 124,
      "metadata": {
        "colab": {
          "base_uri": "https://localhost:8080/",
          "height": 0
        },
        "id": "runB8AKEoKE2",
        "outputId": "17cb717e-f91f-4ad2-ab07-61ed8cb38450"
      },
      "outputs": [
        {
          "output_type": "stream",
          "name": "stdout",
          "text": [
            "Frequency of buy signals\n"
          ]
        },
        {
          "output_type": "execute_result",
          "data": {
            "text/plain": [
              "     BNB  Bitcoin  Cardano  Dogecoin  Ethereum  Polygon  Tether  XRP\n",
              "buy   16       18       23        56        11       40       1   10"
            ],
            "text/html": [
              "\n",
              "  <div id=\"df-186435c9-51ab-4252-a57e-1032a2819779\">\n",
              "    <div class=\"colab-df-container\">\n",
              "      <div>\n",
              "<style scoped>\n",
              "    .dataframe tbody tr th:only-of-type {\n",
              "        vertical-align: middle;\n",
              "    }\n",
              "\n",
              "    .dataframe tbody tr th {\n",
              "        vertical-align: top;\n",
              "    }\n",
              "\n",
              "    .dataframe thead th {\n",
              "        text-align: right;\n",
              "    }\n",
              "</style>\n",
              "<table border=\"1\" class=\"dataframe\">\n",
              "  <thead>\n",
              "    <tr style=\"text-align: right;\">\n",
              "      <th></th>\n",
              "      <th>BNB</th>\n",
              "      <th>Bitcoin</th>\n",
              "      <th>Cardano</th>\n",
              "      <th>Dogecoin</th>\n",
              "      <th>Ethereum</th>\n",
              "      <th>Polygon</th>\n",
              "      <th>Tether</th>\n",
              "      <th>XRP</th>\n",
              "    </tr>\n",
              "  </thead>\n",
              "  <tbody>\n",
              "    <tr>\n",
              "      <th>buy</th>\n",
              "      <td>16</td>\n",
              "      <td>18</td>\n",
              "      <td>23</td>\n",
              "      <td>56</td>\n",
              "      <td>11</td>\n",
              "      <td>40</td>\n",
              "      <td>1</td>\n",
              "      <td>10</td>\n",
              "    </tr>\n",
              "  </tbody>\n",
              "</table>\n",
              "</div>\n",
              "      <button class=\"colab-df-convert\" onclick=\"convertToInteractive('df-186435c9-51ab-4252-a57e-1032a2819779')\"\n",
              "              title=\"Convert this dataframe to an interactive table.\"\n",
              "              style=\"display:none;\">\n",
              "        \n",
              "  <svg xmlns=\"http://www.w3.org/2000/svg\" height=\"24px\"viewBox=\"0 0 24 24\"\n",
              "       width=\"24px\">\n",
              "    <path d=\"M0 0h24v24H0V0z\" fill=\"none\"/>\n",
              "    <path d=\"M18.56 5.44l.94 2.06.94-2.06 2.06-.94-2.06-.94-.94-2.06-.94 2.06-2.06.94zm-11 1L8.5 8.5l.94-2.06 2.06-.94-2.06-.94L8.5 2.5l-.94 2.06-2.06.94zm10 10l.94 2.06.94-2.06 2.06-.94-2.06-.94-.94-2.06-.94 2.06-2.06.94z\"/><path d=\"M17.41 7.96l-1.37-1.37c-.4-.4-.92-.59-1.43-.59-.52 0-1.04.2-1.43.59L10.3 9.45l-7.72 7.72c-.78.78-.78 2.05 0 2.83L4 21.41c.39.39.9.59 1.41.59.51 0 1.02-.2 1.41-.59l7.78-7.78 2.81-2.81c.8-.78.8-2.07 0-2.86zM5.41 20L4 18.59l7.72-7.72 1.47 1.35L5.41 20z\"/>\n",
              "  </svg>\n",
              "      </button>\n",
              "      \n",
              "  <style>\n",
              "    .colab-df-container {\n",
              "      display:flex;\n",
              "      flex-wrap:wrap;\n",
              "      gap: 12px;\n",
              "    }\n",
              "\n",
              "    .colab-df-convert {\n",
              "      background-color: #E8F0FE;\n",
              "      border: none;\n",
              "      border-radius: 50%;\n",
              "      cursor: pointer;\n",
              "      display: none;\n",
              "      fill: #1967D2;\n",
              "      height: 32px;\n",
              "      padding: 0 0 0 0;\n",
              "      width: 32px;\n",
              "    }\n",
              "\n",
              "    .colab-df-convert:hover {\n",
              "      background-color: #E2EBFA;\n",
              "      box-shadow: 0px 1px 2px rgba(60, 64, 67, 0.3), 0px 1px 3px 1px rgba(60, 64, 67, 0.15);\n",
              "      fill: #174EA6;\n",
              "    }\n",
              "\n",
              "    [theme=dark] .colab-df-convert {\n",
              "      background-color: #3B4455;\n",
              "      fill: #D2E3FC;\n",
              "    }\n",
              "\n",
              "    [theme=dark] .colab-df-convert:hover {\n",
              "      background-color: #434B5C;\n",
              "      box-shadow: 0px 1px 3px 1px rgba(0, 0, 0, 0.15);\n",
              "      filter: drop-shadow(0px 1px 2px rgba(0, 0, 0, 0.3));\n",
              "      fill: #FFFFFF;\n",
              "    }\n",
              "  </style>\n",
              "\n",
              "      <script>\n",
              "        const buttonEl =\n",
              "          document.querySelector('#df-186435c9-51ab-4252-a57e-1032a2819779 button.colab-df-convert');\n",
              "        buttonEl.style.display =\n",
              "          google.colab.kernel.accessAllowed ? 'block' : 'none';\n",
              "\n",
              "        async function convertToInteractive(key) {\n",
              "          const element = document.querySelector('#df-186435c9-51ab-4252-a57e-1032a2819779');\n",
              "          const dataTable =\n",
              "            await google.colab.kernel.invokeFunction('convertToInteractive',\n",
              "                                                     [key], {});\n",
              "          if (!dataTable) return;\n",
              "\n",
              "          const docLinkHtml = 'Like what you see? Visit the ' +\n",
              "            '<a target=\"_blank\" href=https://colab.research.google.com/notebooks/data_table.ipynb>data table notebook</a>'\n",
              "            + ' to learn more about interactive tables.';\n",
              "          element.innerHTML = '';\n",
              "          dataTable['output_type'] = 'display_data';\n",
              "          await google.colab.output.renderOutput(dataTable, element);\n",
              "          const docLink = document.createElement('div');\n",
              "          docLink.innerHTML = docLinkHtml;\n",
              "          element.appendChild(docLink);\n",
              "        }\n",
              "      </script>\n",
              "    </div>\n",
              "  </div>\n",
              "  "
            ]
          },
          "metadata": {},
          "execution_count": 124
        }
      ],
      "source": [
        "print('Frequency of buy signals')\n",
        "pd.DataFrame([[signal[coin].value_counts()[\"buy\"] for coin in coins]], columns=coins, index=['buy'])"
      ]
    },
    {
      "cell_type": "code",
      "execution_count": 125,
      "metadata": {
        "colab": {
          "base_uri": "https://localhost:8080/",
          "height": 0
        },
        "id": "AdoWz2SQiZ4O",
        "outputId": "453bb6be-d707-43a1-c804-c63dbb856b68"
      },
      "outputs": [
        {
          "output_type": "stream",
          "name": "stdout",
          "text": [
            "Frequency of sell signals\n"
          ]
        },
        {
          "output_type": "execute_result",
          "data": {
            "text/plain": [
              "      BNB  Bitcoin  Cardano  Dogecoin  Ethereum  Polygon  Tether  XRP\n",
              "sell   30       38       19        18        39       15       4   24"
            ],
            "text/html": [
              "\n",
              "  <div id=\"df-0392d487-a9e5-4742-8952-a162f6af6d34\">\n",
              "    <div class=\"colab-df-container\">\n",
              "      <div>\n",
              "<style scoped>\n",
              "    .dataframe tbody tr th:only-of-type {\n",
              "        vertical-align: middle;\n",
              "    }\n",
              "\n",
              "    .dataframe tbody tr th {\n",
              "        vertical-align: top;\n",
              "    }\n",
              "\n",
              "    .dataframe thead th {\n",
              "        text-align: right;\n",
              "    }\n",
              "</style>\n",
              "<table border=\"1\" class=\"dataframe\">\n",
              "  <thead>\n",
              "    <tr style=\"text-align: right;\">\n",
              "      <th></th>\n",
              "      <th>BNB</th>\n",
              "      <th>Bitcoin</th>\n",
              "      <th>Cardano</th>\n",
              "      <th>Dogecoin</th>\n",
              "      <th>Ethereum</th>\n",
              "      <th>Polygon</th>\n",
              "      <th>Tether</th>\n",
              "      <th>XRP</th>\n",
              "    </tr>\n",
              "  </thead>\n",
              "  <tbody>\n",
              "    <tr>\n",
              "      <th>sell</th>\n",
              "      <td>30</td>\n",
              "      <td>38</td>\n",
              "      <td>19</td>\n",
              "      <td>18</td>\n",
              "      <td>39</td>\n",
              "      <td>15</td>\n",
              "      <td>4</td>\n",
              "      <td>24</td>\n",
              "    </tr>\n",
              "  </tbody>\n",
              "</table>\n",
              "</div>\n",
              "      <button class=\"colab-df-convert\" onclick=\"convertToInteractive('df-0392d487-a9e5-4742-8952-a162f6af6d34')\"\n",
              "              title=\"Convert this dataframe to an interactive table.\"\n",
              "              style=\"display:none;\">\n",
              "        \n",
              "  <svg xmlns=\"http://www.w3.org/2000/svg\" height=\"24px\"viewBox=\"0 0 24 24\"\n",
              "       width=\"24px\">\n",
              "    <path d=\"M0 0h24v24H0V0z\" fill=\"none\"/>\n",
              "    <path d=\"M18.56 5.44l.94 2.06.94-2.06 2.06-.94-2.06-.94-.94-2.06-.94 2.06-2.06.94zm-11 1L8.5 8.5l.94-2.06 2.06-.94-2.06-.94L8.5 2.5l-.94 2.06-2.06.94zm10 10l.94 2.06.94-2.06 2.06-.94-2.06-.94-.94-2.06-.94 2.06-2.06.94z\"/><path d=\"M17.41 7.96l-1.37-1.37c-.4-.4-.92-.59-1.43-.59-.52 0-1.04.2-1.43.59L10.3 9.45l-7.72 7.72c-.78.78-.78 2.05 0 2.83L4 21.41c.39.39.9.59 1.41.59.51 0 1.02-.2 1.41-.59l7.78-7.78 2.81-2.81c.8-.78.8-2.07 0-2.86zM5.41 20L4 18.59l7.72-7.72 1.47 1.35L5.41 20z\"/>\n",
              "  </svg>\n",
              "      </button>\n",
              "      \n",
              "  <style>\n",
              "    .colab-df-container {\n",
              "      display:flex;\n",
              "      flex-wrap:wrap;\n",
              "      gap: 12px;\n",
              "    }\n",
              "\n",
              "    .colab-df-convert {\n",
              "      background-color: #E8F0FE;\n",
              "      border: none;\n",
              "      border-radius: 50%;\n",
              "      cursor: pointer;\n",
              "      display: none;\n",
              "      fill: #1967D2;\n",
              "      height: 32px;\n",
              "      padding: 0 0 0 0;\n",
              "      width: 32px;\n",
              "    }\n",
              "\n",
              "    .colab-df-convert:hover {\n",
              "      background-color: #E2EBFA;\n",
              "      box-shadow: 0px 1px 2px rgba(60, 64, 67, 0.3), 0px 1px 3px 1px rgba(60, 64, 67, 0.15);\n",
              "      fill: #174EA6;\n",
              "    }\n",
              "\n",
              "    [theme=dark] .colab-df-convert {\n",
              "      background-color: #3B4455;\n",
              "      fill: #D2E3FC;\n",
              "    }\n",
              "\n",
              "    [theme=dark] .colab-df-convert:hover {\n",
              "      background-color: #434B5C;\n",
              "      box-shadow: 0px 1px 3px 1px rgba(0, 0, 0, 0.15);\n",
              "      filter: drop-shadow(0px 1px 2px rgba(0, 0, 0, 0.3));\n",
              "      fill: #FFFFFF;\n",
              "    }\n",
              "  </style>\n",
              "\n",
              "      <script>\n",
              "        const buttonEl =\n",
              "          document.querySelector('#df-0392d487-a9e5-4742-8952-a162f6af6d34 button.colab-df-convert');\n",
              "        buttonEl.style.display =\n",
              "          google.colab.kernel.accessAllowed ? 'block' : 'none';\n",
              "\n",
              "        async function convertToInteractive(key) {\n",
              "          const element = document.querySelector('#df-0392d487-a9e5-4742-8952-a162f6af6d34');\n",
              "          const dataTable =\n",
              "            await google.colab.kernel.invokeFunction('convertToInteractive',\n",
              "                                                     [key], {});\n",
              "          if (!dataTable) return;\n",
              "\n",
              "          const docLinkHtml = 'Like what you see? Visit the ' +\n",
              "            '<a target=\"_blank\" href=https://colab.research.google.com/notebooks/data_table.ipynb>data table notebook</a>'\n",
              "            + ' to learn more about interactive tables.';\n",
              "          element.innerHTML = '';\n",
              "          dataTable['output_type'] = 'display_data';\n",
              "          await google.colab.output.renderOutput(dataTable, element);\n",
              "          const docLink = document.createElement('div');\n",
              "          docLink.innerHTML = docLinkHtml;\n",
              "          element.appendChild(docLink);\n",
              "        }\n",
              "      </script>\n",
              "    </div>\n",
              "  </div>\n",
              "  "
            ]
          },
          "metadata": {},
          "execution_count": 125
        }
      ],
      "source": [
        "print('Frequency of sell signals')\n",
        "pd.DataFrame([[signal[coin].value_counts()[\"sell\"] for coin in coins]], columns=coins, index=['sell'])"
      ]
    },
    {
      "cell_type": "code",
      "execution_count": 126,
      "metadata": {
        "colab": {
          "base_uri": "https://localhost:8080/"
        },
        "id": "WTehLiKsmDGg",
        "outputId": "ee9f0f60-082c-49f7-e539-bb727eb1f2e9"
      },
      "outputs": [
        {
          "output_type": "stream",
          "name": "stdout",
          "text": [
            "Dates of buy signals\n"
          ]
        },
        {
          "output_type": "execute_result",
          "data": {
            "text/plain": [
              "DatetimeIndex(['2020-09-15', '2020-12-14', '2021-02-26', '2021-02-27',\n",
              "               '2021-02-28', '2021-06-17', '2021-11-22', '2021-11-23',\n",
              "               '2021-11-25', '2022-10-23'],\n",
              "              dtype='datetime64[ns]', name='Date', freq=None)"
            ]
          },
          "metadata": {},
          "execution_count": 126
        }
      ],
      "source": [
        "print(\"Dates of buy signals\")\n",
        "signal[signal[coin].isin(['buy'])].index"
      ]
    },
    {
      "cell_type": "markdown",
      "metadata": {
        "id": "u0gEPCE9B36l"
      },
      "source": [
        "# EDA"
      ]
    },
    {
      "cell_type": "code",
      "execution_count": 127,
      "metadata": {
        "id": "aHvUR7nRhPvF"
      },
      "outputs": [],
      "source": [
        "compare = ['Bitcoin', 'Ethereum', 'Tether']"
      ]
    },
    {
      "cell_type": "code",
      "execution_count": 128,
      "metadata": {
        "colab": {
          "base_uri": "https://localhost:8080/",
          "height": 0
        },
        "id": "Sr_rXhyBKNEE",
        "outputId": "e38740b3-d495-4f37-d0f6-ebf8738cb693"
      },
      "outputs": [
        {
          "output_type": "execute_result",
          "data": {
            "text/plain": [
              "[<matplotlib.lines.Line2D at 0x7f2874dec8e0>]"
            ]
          },
          "metadata": {},
          "execution_count": 128
        },
        {
          "output_type": "display_data",
          "data": {
            "text/plain": [
              "<Figure size 1500x1000 with 3 Axes>"
            ],
            "image/png": "[encoded data removed]"
          },
          "metadata": {}
        }
      ],
      "source": [
        "plt.figure(figsize = (15,10)) \n",
        "\n",
        "plt.subplot(2,2,1) \n",
        "plt.title(compare[0],fontsize = 15)\n",
        "plt.xticks(fontsize = 8)\n",
        "plt.yticks(fontsize = 8)\n",
        "plt.xlabel('Date',fontsize = 10)\n",
        "plt.ylabel('Opening price',fontsize = 10)\n",
        "plt.plot(merged_df['Open'][compare[0]])\n",
        "\n",
        "plt.subplot(2,2,2)\n",
        "plt.title(compare[1],fontsize = 15)\n",
        "plt.xticks(fontsize = 8)\n",
        "plt.yticks(fontsize = 8)\n",
        "plt.xlabel('Date',fontsize = 10)\n",
        "plt.ylabel('Opening price',fontsize = 10)\n",
        "plt.plot(merged_df['Open'][compare[1]])\n",
        "\n",
        "plt.subplot(2,2,3)\n",
        "plt.title(compare[2],fontsize = 15)\n",
        "plt.xticks(fontsize = 8)\n",
        "plt.yticks(fontsize = 8)\n",
        "plt.xlabel('Date',fontsize = 10)\n",
        "plt.ylabel('Opening price',fontsize = 10)\n",
        "plt.plot(merged_df['Open'][compare[2]])"
      ]
    },
    {
      "cell_type": "code",
      "execution_count": 129,
      "metadata": {
        "colab": {
          "base_uri": "https://localhost:8080/",
          "height": 0
        },
        "id": "dGfuWaQIKfQC",
        "outputId": "7eb87116-b43c-4503-d58f-728bf798c152"
      },
      "outputs": [
        {
          "output_type": "execute_result",
          "data": {
            "text/plain": [
              "[<matplotlib.lines.Line2D at 0x7f2874eb3b80>]"
            ]
          },
          "metadata": {},
          "execution_count": 129
        },
        {
          "output_type": "display_data",
          "data": {
            "text/plain": [
              "<Figure size 1500x1000 with 3 Axes>"
            ],
            "image/png": "[encoded data removed]"
          },
          "metadata": {}
        }
      ],
      "source": [
        "plt.figure(figsize = (15,10)) \n",
        "\n",
        "plt.subplot(2,2,1) \n",
        "plt.title(compare[0],fontsize = 15)\n",
        "plt.xticks(fontsize = 8)\n",
        "plt.yticks(fontsize = 8)\n",
        "plt.xlabel('Date',fontsize = 10)\n",
        "plt.ylabel('Change %',fontsize = 10)\n",
        "plt.plot(merged_df['Change %'][compare[0]])\n",
        "\n",
        "plt.subplot(2,2,2)\n",
        "plt.title(compare[1],fontsize = 15)\n",
        "plt.xticks(fontsize = 8)\n",
        "plt.yticks(fontsize = 8)\n",
        "plt.xlabel('Date',fontsize = 10)\n",
        "plt.ylabel('Change %',fontsize = 10)\n",
        "plt.plot(merged_df['Change %'][compare[1]])\n",
        "\n",
        "plt.subplot(2,2,3)\n",
        "plt.title(compare[2],fontsize = 15)\n",
        "plt.xticks(fontsize = 8)\n",
        "plt.yticks(fontsize = 8)\n",
        "plt.xlabel('Date',fontsize = 10)\n",
        "plt.ylabel('Change %',fontsize = 10)\n",
        "plt.plot(merged_df['Change %'][compare[2]])"
      ]
    },
    {
      "cell_type": "code",
      "source": [
        "change = np.array(merged_df['Change %']).T"
      ],
      "metadata": {
        "id": "24IboRyLizWy"
      },
      "execution_count": 130,
      "outputs": []
    },
    {
      "cell_type": "code",
      "source": [
        "print('Frequency of positive, negative and neutral changes in movements (based on Change % attribute)')\n",
        "pd.DataFrame(\n",
        "    [\n",
        "      [np.sum(change[i]>0) for i in range(len(change))],\n",
        "      [np.sum(change[i]<0) for i in range(len(change))],\n",
        "      [np.sum(change[i]==0) for i in range(len(change))]\n",
        "    ], \n",
        "    columns=coins, index=['#positive', '#negative', '#no_change']\n",
        ").plot(kind='bar')"
      ],
      "metadata": {
        "colab": {
          "base_uri": "https://localhost:8080/",
          "height": 0
        },
        "id": "ekUStFwPiz63",
        "outputId": "8b4d4fdb-016c-44e5-d678-2b5876ba2ff3"
      },
      "execution_count": 131,
      "outputs": [
        {
          "output_type": "stream",
          "name": "stdout",
          "text": [
            "Frequency of positive, negative and neutral changes in movements (based on Change % attribute)\n"
          ]
        },
        {
          "output_type": "execute_result",
          "data": {
            "text/plain": [
              "<Axes: >"
            ]
          },
          "metadata": {},
          "execution_count": 131
        },
        {
          "output_type": "display_data",
          "data": {
            "text/plain": [
              "<Figure size 640x480 with 1 Axes>"
            ],
            "image/png": "[encoded data removed]"
          },
          "metadata": {}
        }
      ]
    },
    {
      "cell_type": "code",
      "source": [
        "# plt.figure(figsize = (10,5))\n",
        "# plt.title(compare[0],fontsize = 15)\n",
        "# plt.xticks(fontsize = 8)\n",
        "# plt.yticks(fontsize = 8)\n",
        "# plt.xlabel('Date',fontsize = 10)\n",
        "# plt.ylabel('Price',fontsize = 10)\n",
        "# plt.plot(merged_df.iloc[0:30]['Open'][compare[0]],label = 'Open') # Opening prices of first 30 days are plotted against date\n",
        "# plt.plot(merged_df.iloc[0:30]['Price'][compare[0]],label = 'Close') # Closing prices of first 30 days are plotted against date\n",
        "# plt.legend(loc='upper left', frameon=False,framealpha=1,prop={'size': 10}) # Properties of legend box"
      ],
      "metadata": {
        "id": "Sh58fxumjFd5"
      },
      "execution_count": 132,
      "outputs": []
    },
    {
      "cell_type": "markdown",
      "metadata": {
        "id": "qZSmKeK4j6cL"
      },
      "source": [
        "# Features"
      ]
    },
    {
      "cell_type": "code",
      "execution_count": 133,
      "metadata": {
        "id": "pqNmhLBtB5uF"
      },
      "outputs": [],
      "source": [
        "crypto_open = np.array(merged_df['Open']).T\n",
        "crypto_close = np.array(merged_df['Price']).T"
      ]
    },
    {
      "cell_type": "code",
      "execution_count": 134,
      "metadata": {
        "colab": {
          "base_uri": "https://localhost:8080/"
        },
        "id": "IPA6zpw0F3lK",
        "outputId": "4651ce42-482d-4f49-bd84-c5baed959603"
      },
      "outputs": [
        {
          "output_type": "execute_result",
          "data": {
            "text/plain": [
              "array([[-3.000e-02, -6.700e-01,  6.300e-01, ...,  1.900e+00, -5.000e-01,\n",
              "         3.000e-01],\n",
              "       [ 3.400e+00, -2.327e+02,  3.760e+02, ...,  9.020e+01, -2.920e+01,\n",
              "        -6.980e+01],\n",
              "       [ 7.000e-04, -8.000e-04,  1.400e-03, ..., -4.300e-03,  1.800e-03,\n",
              "        -1.000e-04],\n",
              "       ...,\n",
              "       [ 1.000e-03,  0.000e+00,  0.000e+00, ..., -6.000e-03, -1.600e-02,\n",
              "        -3.000e-03],\n",
              "       [ 2.600e-03, -1.100e-02, -1.400e-03, ..., -1.000e-04,  0.000e+00,\n",
              "         2.000e-04],\n",
              "       [ 1.400e-04, -5.580e-03,  5.720e-03, ..., -1.384e-02,  3.090e-03,\n",
              "        -6.440e-03]])"
            ]
          },
          "metadata": {},
          "execution_count": 134
        }
      ],
      "source": [
        "movements = crypto_close-crypto_open\n",
        "movements"
      ]
    },
    {
      "cell_type": "code",
      "source": [
        "print('Frequency of positive, negative and neutral changes in movements \\n(based on calculated difference in Opening and Closing price)')\n",
        "pd.DataFrame(\n",
        "    [\n",
        "      [np.sum(movements[i]>0) for i in range(len(movements))],\n",
        "      [np.sum(movements[i]<0) for i in range(len(movements))],\n",
        "      [np.sum(movements[i]==0) for i in range(len(movements))]\n",
        "    ], \n",
        "    columns=coins, index=['#positive', '#negative', '#no_change']\n",
        ").plot(kind='bar')"
      ],
      "metadata": {
        "colab": {
          "base_uri": "https://localhost:8080/",
          "height": 0
        },
        "id": "N1ZHveC0jRD5",
        "outputId": "b7daf2cd-39ff-410e-ae55-9fadde096c98"
      },
      "execution_count": 135,
      "outputs": [
        {
          "output_type": "stream",
          "name": "stdout",
          "text": [
            "Frequency of positive, negative and neutral changes in movements \n",
            "(based on calculated difference in Opening and Closing price)\n"
          ]
        },
        {
          "output_type": "execute_result",
          "data": {
            "text/plain": [
              "<Axes: >"
            ]
          },
          "metadata": {},
          "execution_count": 135
        },
        {
          "output_type": "display_data",
          "data": {
            "text/plain": [
              "<Figure size 640x480 with 1 Axes>"
            ],
            "image/png": "[encoded data removed]"
          },
          "metadata": {}
        }
      ]
    },
    {
      "cell_type": "code",
      "execution_count": 136,
      "metadata": {
        "colab": {
          "base_uri": "https://localhost:8080/",
          "height": 0
        },
        "id": "IaXZQkhaF9ui",
        "outputId": "82942f11-3b72-44bb-9f9f-45f163b00ff1"
      },
      "outputs": [
        {
          "output_type": "execute_result",
          "data": {
            "text/plain": [
              "        BNB  Bitcoin  Cardano  Dogecoin  Ethereum  Polygon  Tether      XRP\n",
              "Sum  230.21   8919.1   0.2761  0.063618   1012.95    0.701 -0.0777  0.13509"
            ],
            "text/html": [
              "\n",
              "  <div id=\"df-dce47fa3-fdb2-474d-aa96-94bb6a8be7f2\">\n",
              "    <div class=\"colab-df-container\">\n",
              "      <div>\n",
              "<style scoped>\n",
              "    .dataframe tbody tr th:only-of-type {\n",
              "        vertical-align: middle;\n",
              "    }\n",
              "\n",
              "    .dataframe tbody tr th {\n",
              "        vertical-align: top;\n",
              "    }\n",
              "\n",
              "    .dataframe thead th {\n",
              "        text-align: right;\n",
              "    }\n",
              "</style>\n",
              "<table border=\"1\" class=\"dataframe\">\n",
              "  <thead>\n",
              "    <tr style=\"text-align: right;\">\n",
              "      <th></th>\n",
              "      <th>BNB</th>\n",
              "      <th>Bitcoin</th>\n",
              "      <th>Cardano</th>\n",
              "      <th>Dogecoin</th>\n",
              "      <th>Ethereum</th>\n",
              "      <th>Polygon</th>\n",
              "      <th>Tether</th>\n",
              "      <th>XRP</th>\n",
              "    </tr>\n",
              "  </thead>\n",
              "  <tbody>\n",
              "    <tr>\n",
              "      <th>Sum</th>\n",
              "      <td>230.21</td>\n",
              "      <td>8919.1</td>\n",
              "      <td>0.2761</td>\n",
              "      <td>0.063618</td>\n",
              "      <td>1012.95</td>\n",
              "      <td>0.701</td>\n",
              "      <td>-0.0777</td>\n",
              "      <td>0.13509</td>\n",
              "    </tr>\n",
              "  </tbody>\n",
              "</table>\n",
              "</div>\n",
              "      <button class=\"colab-df-convert\" onclick=\"convertToInteractive('df-dce47fa3-fdb2-474d-aa96-94bb6a8be7f2')\"\n",
              "              title=\"Convert this dataframe to an interactive table.\"\n",
              "              style=\"display:none;\">\n",
              "        \n",
              "  <svg xmlns=\"http://www.w3.org/2000/svg\" height=\"24px\"viewBox=\"0 0 24 24\"\n",
              "       width=\"24px\">\n",
              "    <path d=\"M0 0h24v24H0V0z\" fill=\"none\"/>\n",
              "    <path d=\"M18.56 5.44l.94 2.06.94-2.06 2.06-.94-2.06-.94-.94-2.06-.94 2.06-2.06.94zm-11 1L8.5 8.5l.94-2.06 2.06-.94-2.06-.94L8.5 2.5l-.94 2.06-2.06.94zm10 10l.94 2.06.94-2.06 2.06-.94-2.06-.94-.94-2.06-.94 2.06-2.06.94z\"/><path d=\"M17.41 7.96l-1.37-1.37c-.4-.4-.92-.59-1.43-.59-.52 0-1.04.2-1.43.59L10.3 9.45l-7.72 7.72c-.78.78-.78 2.05 0 2.83L4 21.41c.39.39.9.59 1.41.59.51 0 1.02-.2 1.41-.59l7.78-7.78 2.81-2.81c.8-.78.8-2.07 0-2.86zM5.41 20L4 18.59l7.72-7.72 1.47 1.35L5.41 20z\"/>\n",
              "  </svg>\n",
              "      </button>\n",
              "      \n",
              "  <style>\n",
              "    .colab-df-container {\n",
              "      display:flex;\n",
              "      flex-wrap:wrap;\n",
              "      gap: 12px;\n",
              "    }\n",
              "\n",
              "    .colab-df-convert {\n",
              "      background-color: #E8F0FE;\n",
              "      border: none;\n",
              "      border-radius: 50%;\n",
              "      cursor: pointer;\n",
              "      display: none;\n",
              "      fill: #1967D2;\n",
              "      height: 32px;\n",
              "      padding: 0 0 0 0;\n",
              "      width: 32px;\n",
              "    }\n",
              "\n",
              "    .colab-df-convert:hover {\n",
              "      background-color: #E2EBFA;\n",
              "      box-shadow: 0px 1px 2px rgba(60, 64, 67, 0.3), 0px 1px 3px 1px rgba(60, 64, 67, 0.15);\n",
              "      fill: #174EA6;\n",
              "    }\n",
              "\n",
              "    [theme=dark] .colab-df-convert {\n",
              "      background-color: #3B4455;\n",
              "      fill: #D2E3FC;\n",
              "    }\n",
              "\n",
              "    [theme=dark] .colab-df-convert:hover {\n",
              "      background-color: #434B5C;\n",
              "      box-shadow: 0px 1px 3px 1px rgba(0, 0, 0, 0.15);\n",
              "      filter: drop-shadow(0px 1px 2px rgba(0, 0, 0, 0.3));\n",
              "      fill: #FFFFFF;\n",
              "    }\n",
              "  </style>\n",
              "\n",
              "      <script>\n",
              "        const buttonEl =\n",
              "          document.querySelector('#df-dce47fa3-fdb2-474d-aa96-94bb6a8be7f2 button.colab-df-convert');\n",
              "        buttonEl.style.display =\n",
              "          google.colab.kernel.accessAllowed ? 'block' : 'none';\n",
              "\n",
              "        async function convertToInteractive(key) {\n",
              "          const element = document.querySelector('#df-dce47fa3-fdb2-474d-aa96-94bb6a8be7f2');\n",
              "          const dataTable =\n",
              "            await google.colab.kernel.invokeFunction('convertToInteractive',\n",
              "                                                     [key], {});\n",
              "          if (!dataTable) return;\n",
              "\n",
              "          const docLinkHtml = 'Like what you see? Visit the ' +\n",
              "            '<a target=\"_blank\" href=https://colab.research.google.com/notebooks/data_table.ipynb>data table notebook</a>'\n",
              "            + ' to learn more about interactive tables.';\n",
              "          element.innerHTML = '';\n",
              "          dataTable['output_type'] = 'display_data';\n",
              "          await google.colab.output.renderOutput(dataTable, element);\n",
              "          const docLink = document.createElement('div');\n",
              "          docLink.innerHTML = docLinkHtml;\n",
              "          element.appendChild(docLink);\n",
              "        }\n",
              "      </script>\n",
              "    </div>\n",
              "  </div>\n",
              "  "
            ]
          },
          "metadata": {},
          "execution_count": 136
        }
      ],
      "source": [
        "sum_of_movements = np.sum(movements,1)\n",
        "pd.DataFrame([sum_of_movements], columns=coins, index=['Sum'])"
      ]
    },
    {
      "cell_type": "code",
      "execution_count": 137,
      "metadata": {
        "colab": {
          "base_uri": "https://localhost:8080/",
          "height": 0
        },
        "id": "QwfiB79hHt7J",
        "outputId": "2585e9b8-2614-438d-de05-520ed23398cf"
      },
      "outputs": [
        {
          "output_type": "execute_result",
          "data": {
            "text/plain": [
              "[<matplotlib.lines.Line2D at 0x7f2874a99ba0>]"
            ]
          },
          "metadata": {},
          "execution_count": 137
        },
        {
          "output_type": "display_data",
          "data": {
            "text/plain": [
              "<Figure size 2000x1000 with 2 Axes>"
            ],
            "image/png": "[encoded data removed]"
          },
          "metadata": {}
        }
      ],
      "source": [
        "compare = ['Bitcoin', 'Ethereum']\n",
        "\n",
        "plt.figure(figsize = (20,10)) \n",
        "\n",
        "ax1 = plt.subplot(2,2,1)\n",
        "plt.title(compare[0],fontsize = 15)\n",
        "plt.xticks(fontsize = 8)\n",
        "plt.yticks(fontsize = 8)\n",
        "plt.xlabel('Date',fontsize = 10)\n",
        "plt.ylabel('Movement',fontsize = 10)\n",
        "plt.plot(movements[coins.index(compare[0])])\n",
        "\n",
        "ax2= plt.subplot(2,2,2,sharey = ax1)\n",
        "plt.title(compare[1],fontsize = 15)\n",
        "plt.xticks(fontsize = 8)\n",
        "plt.yticks(fontsize = 8)\n",
        "plt.xlabel('Date',fontsize = 10)\n",
        "plt.ylabel('Movement',fontsize = 10)\n",
        "plt.plot(movements[coins.index(compare[1])])"
      ]
    },
    {
      "cell_type": "markdown",
      "metadata": {
        "id": "9X2is3uoJ90u"
      },
      "source": [
        "## Normalize"
      ]
    },
    {
      "cell_type": "code",
      "execution_count": 138,
      "metadata": {
        "colab": {
          "base_uri": "https://localhost:8080/",
          "height": 0
        },
        "id": "JpAvPLDrLJ2V",
        "outputId": "cf976d7f-fe63-4fb0-e33c-edee84483be5"
      },
      "outputs": [
        {
          "output_type": "stream",
          "name": "stdout",
          "text": [
            "Min Max Values of movements\n"
          ]
        },
        {
          "output_type": "execute_result",
          "data": {
            "text/plain": [
              "        BNB  Bitcoin  Cardano  Dogecoin  Ethereum  Polygon  Tether      XRP\n",
              "min -173.15  -7310.3  -0.5338 -0.145905   -940.53   -0.827 -0.0110 -0.52885\n",
              "max  137.00   7542.1   0.4164  0.182923    545.49    0.723  0.0102  0.35522"
            ],
            "text/html": [
              "\n",
              "  <div id=\"df-bf344bf3-f604-4958-b78c-5306d471f428\">\n",
              "    <div class=\"colab-df-container\">\n",
              "      <div>\n",
              "<style scoped>\n",
              "    .dataframe tbody tr th:only-of-type {\n",
              "        vertical-align: middle;\n",
              "    }\n",
              "\n",
              "    .dataframe tbody tr th {\n",
              "        vertical-align: top;\n",
              "    }\n",
              "\n",
              "    .dataframe thead th {\n",
              "        text-align: right;\n",
              "    }\n",
              "</style>\n",
              "<table border=\"1\" class=\"dataframe\">\n",
              "  <thead>\n",
              "    <tr style=\"text-align: right;\">\n",
              "      <th></th>\n",
              "      <th>BNB</th>\n",
              "      <th>Bitcoin</th>\n",
              "      <th>Cardano</th>\n",
              "      <th>Dogecoin</th>\n",
              "      <th>Ethereum</th>\n",
              "      <th>Polygon</th>\n",
              "      <th>Tether</th>\n",
              "      <th>XRP</th>\n",
              "    </tr>\n",
              "  </thead>\n",
              "  <tbody>\n",
              "    <tr>\n",
              "      <th>min</th>\n",
              "      <td>-173.15</td>\n",
              "      <td>-7310.3</td>\n",
              "      <td>-0.5338</td>\n",
              "      <td>-0.145905</td>\n",
              "      <td>-940.53</td>\n",
              "      <td>-0.827</td>\n",
              "      <td>-0.0110</td>\n",
              "      <td>-0.52885</td>\n",
              "    </tr>\n",
              "    <tr>\n",
              "      <th>max</th>\n",
              "      <td>137.00</td>\n",
              "      <td>7542.1</td>\n",
              "      <td>0.4164</td>\n",
              "      <td>0.182923</td>\n",
              "      <td>545.49</td>\n",
              "      <td>0.723</td>\n",
              "      <td>0.0102</td>\n",
              "      <td>0.35522</td>\n",
              "    </tr>\n",
              "  </tbody>\n",
              "</table>\n",
              "</div>\n",
              "      <button class=\"colab-df-convert\" onclick=\"convertToInteractive('df-bf344bf3-f604-4958-b78c-5306d471f428')\"\n",
              "              title=\"Convert this dataframe to an interactive table.\"\n",
              "              style=\"display:none;\">\n",
              "        \n",
              "  <svg xmlns=\"http://www.w3.org/2000/svg\" height=\"24px\"viewBox=\"0 0 24 24\"\n",
              "       width=\"24px\">\n",
              "    <path d=\"M0 0h24v24H0V0z\" fill=\"none\"/>\n",
              "    <path d=\"M18.56 5.44l.94 2.06.94-2.06 2.06-.94-2.06-.94-.94-2.06-.94 2.06-2.06.94zm-11 1L8.5 8.5l.94-2.06 2.06-.94-2.06-.94L8.5 2.5l-.94 2.06-2.06.94zm10 10l.94 2.06.94-2.06 2.06-.94-2.06-.94-.94-2.06-.94 2.06-2.06.94z\"/><path d=\"M17.41 7.96l-1.37-1.37c-.4-.4-.92-.59-1.43-.59-.52 0-1.04.2-1.43.59L10.3 9.45l-7.72 7.72c-.78.78-.78 2.05 0 2.83L4 21.41c.39.39.9.59 1.41.59.51 0 1.02-.2 1.41-.59l7.78-7.78 2.81-2.81c.8-.78.8-2.07 0-2.86zM5.41 20L4 18.59l7.72-7.72 1.47 1.35L5.41 20z\"/>\n",
              "  </svg>\n",
              "      </button>\n",
              "      \n",
              "  <style>\n",
              "    .colab-df-container {\n",
              "      display:flex;\n",
              "      flex-wrap:wrap;\n",
              "      gap: 12px;\n",
              "    }\n",
              "\n",
              "    .colab-df-convert {\n",
              "      background-color: #E8F0FE;\n",
              "      border: none;\n",
              "      border-radius: 50%;\n",
              "      cursor: pointer;\n",
              "      display: none;\n",
              "      fill: #1967D2;\n",
              "      height: 32px;\n",
              "      padding: 0 0 0 0;\n",
              "      width: 32px;\n",
              "    }\n",
              "\n",
              "    .colab-df-convert:hover {\n",
              "      background-color: #E2EBFA;\n",
              "      box-shadow: 0px 1px 2px rgba(60, 64, 67, 0.3), 0px 1px 3px 1px rgba(60, 64, 67, 0.15);\n",
              "      fill: #174EA6;\n",
              "    }\n",
              "\n",
              "    [theme=dark] .colab-df-convert {\n",
              "      background-color: #3B4455;\n",
              "      fill: #D2E3FC;\n",
              "    }\n",
              "\n",
              "    [theme=dark] .colab-df-convert:hover {\n",
              "      background-color: #434B5C;\n",
              "      box-shadow: 0px 1px 3px 1px rgba(0, 0, 0, 0.15);\n",
              "      filter: drop-shadow(0px 1px 2px rgba(0, 0, 0, 0.3));\n",
              "      fill: #FFFFFF;\n",
              "    }\n",
              "  </style>\n",
              "\n",
              "      <script>\n",
              "        const buttonEl =\n",
              "          document.querySelector('#df-bf344bf3-f604-4958-b78c-5306d471f428 button.colab-df-convert');\n",
              "        buttonEl.style.display =\n",
              "          google.colab.kernel.accessAllowed ? 'block' : 'none';\n",
              "\n",
              "        async function convertToInteractive(key) {\n",
              "          const element = document.querySelector('#df-bf344bf3-f604-4958-b78c-5306d471f428');\n",
              "          const dataTable =\n",
              "            await google.colab.kernel.invokeFunction('convertToInteractive',\n",
              "                                                     [key], {});\n",
              "          if (!dataTable) return;\n",
              "\n",
              "          const docLinkHtml = 'Like what you see? Visit the ' +\n",
              "            '<a target=\"_blank\" href=https://colab.research.google.com/notebooks/data_table.ipynb>data table notebook</a>'\n",
              "            + ' to learn more about interactive tables.';\n",
              "          element.innerHTML = '';\n",
              "          dataTable['output_type'] = 'display_data';\n",
              "          await google.colab.output.renderOutput(dataTable, element);\n",
              "          const docLink = document.createElement('div');\n",
              "          docLink.innerHTML = docLinkHtml;\n",
              "          element.appendChild(docLink);\n",
              "        }\n",
              "      </script>\n",
              "    </div>\n",
              "  </div>\n",
              "  "
            ]
          },
          "metadata": {},
          "execution_count": 138
        }
      ],
      "source": [
        "print('Min Max Values of movements')\n",
        "pd.DataFrame(movements.T, columns=coins).describe().loc[['min', 'max']]"
      ]
    },
    {
      "cell_type": "code",
      "execution_count": 139,
      "metadata": {
        "id": "l52_VhOIJ9oI"
      },
      "outputs": [],
      "source": [
        "from sklearn.preprocessing import Normalizer\n",
        "\n",
        "normalizer = Normalizer() # Define a Normalizer\n",
        "\n",
        "norm_movements = normalizer.fit_transform(movements) # Fit and transform"
      ]
    },
    {
      "cell_type": "code",
      "execution_count": 140,
      "metadata": {
        "colab": {
          "base_uri": "https://localhost:8080/",
          "height": 0
        },
        "id": "WZWD2MFRLUQQ",
        "outputId": "241fe113-39a9-43a6-cca8-fb01c38f3f49"
      },
      "outputs": [
        {
          "output_type": "stream",
          "name": "stdout",
          "text": [
            "Min Max Values of normalized movements\n"
          ]
        },
        {
          "output_type": "execute_result",
          "data": {
            "text/plain": [
              "<Axes: >"
            ]
          },
          "metadata": {},
          "execution_count": 140
        },
        {
          "output_type": "display_data",
          "data": {
            "text/plain": [
              "<Figure size 640x480 with 1 Axes>"
            ],
            "image/png": "[encoded data removed]"
          },
          "metadata": {}
        }
      ],
      "source": [
        "print('Min Max Values of normalized movements')\n",
        "pd.DataFrame(norm_movements.T, columns=coins).describe().loc[['min', 'max']].plot(kind='bar')"
      ]
    },
    {
      "cell_type": "code",
      "source": [
        "print('Sum of normalized Change % attribute')\n",
        "pd.DataFrame([np.sum(normalizer.fit_transform(change),1)], columns=coins, index=['Norm Sum']).plot(kind='bar')"
      ],
      "metadata": {
        "colab": {
          "base_uri": "https://localhost:8080/",
          "height": 0
        },
        "id": "pzwcffx5ksxI",
        "outputId": "58fab868-db21-4ab2-87a9-462f9055c79c"
      },
      "execution_count": 141,
      "outputs": [
        {
          "output_type": "stream",
          "name": "stdout",
          "text": [
            "Sum of normalized Change % attribute\n"
          ]
        },
        {
          "output_type": "execute_result",
          "data": {
            "text/plain": [
              "<Axes: >"
            ]
          },
          "metadata": {},
          "execution_count": 141
        },
        {
          "output_type": "display_data",
          "data": {
            "text/plain": [
              "<Figure size 640x480 with 1 Axes>"
            ],
            "image/png": "[encoded data removed]"
          },
          "metadata": {}
        }
      ]
    },
    {
      "cell_type": "code",
      "execution_count": 142,
      "metadata": {
        "colab": {
          "base_uri": "https://localhost:8080/",
          "height": 0
        },
        "id": "omSkKAV1qiNg",
        "outputId": "7d6f87fc-5017-47bb-ab19-296165737589"
      },
      "outputs": [
        {
          "output_type": "stream",
          "name": "stdout",
          "text": [
            "Sum of normalized movements\n"
          ]
        },
        {
          "output_type": "execute_result",
          "data": {
            "text/plain": [
              "<Axes: >"
            ]
          },
          "metadata": {},
          "execution_count": 142
        },
        {
          "output_type": "display_data",
          "data": {
            "text/plain": [
              "<Figure size 640x480 with 1 Axes>"
            ],
            "image/png": "[encoded data removed]"
          },
          "metadata": {}
        }
      ],
      "source": [
        "print('Sum of normalized movements')\n",
        "sum_of_norm_movements = np.sum(norm_movements,1)\n",
        "pd.DataFrame([sum_of_norm_movements], columns=coins, index=['Norm Sum']).plot(kind='bar')"
      ]
    },
    {
      "cell_type": "code",
      "execution_count": 143,
      "metadata": {
        "colab": {
          "base_uri": "https://localhost:8080/",
          "height": 0
        },
        "id": "Z6DipQEILtHT",
        "outputId": "f40b2173-a40a-456b-cdd9-f7401ca2fb7a"
      },
      "outputs": [
        {
          "output_type": "stream",
          "name": "stdout",
          "text": [
            "Plot of normalized movements of each coin\n"
          ]
        },
        {
          "output_type": "display_data",
          "data": {
            "text/html": [
              "<html>\n",
              "<head><meta charset=\"utf-8\" /></head>\n",
              "<body>\n",
              "    <div>            <script src=\"https://cdnjs.cloudflare.com/ajax/libs/mathjax/2.7.5/MathJax.js?config=TeX-AMS-MML_SVG\"></script><script type=\"text/javascript\">if (window.MathJax && window.MathJax.Hub && window.MathJax.Hub.Config) {window.MathJax.Hub.Config({SVG: {font: \"STIX-Web\"}});}</script>                <script type=\"text/javascript\">window.PlotlyConfig = {MathJaxConfig: 'local'};</script>\n",
              "        <script src=\"https://cdn.plot.ly/plotly-2.18.2.min.js\"></script>                <div id=\"420042cb-5392-4514-b0a3-7a78a0cae4f7\" class=\"plotly-graph-div\" style=\"height:525px; width:100%;\"></div>            <script type=\"text/javascript\">                                    window.PLOTLYENV=window.PLOTLYENV || {};                                    if (document.getElementById(\"420042cb-5392-4514-b0a3-7a78a0cae4f7\")) {                    Plotly.newPlot(                        \"420042cb-5392-4514-b0a3-7a78a0cae4f7\",                        [{\"hovertemplate\":\"variable=BNB<br>index=%{x}<br>value=%{y}<extra></extra>\",\"legendgroup\":\"BNB\",\"line\":{\"color\":\"#636efa\",\"dash\":\"solid\"},\"marker\":{\"symbol\":\"circle\"},\"mode\":\"lines\",\"name\":\"BNB\",\"showlegend\":true,\"x\":[0,1,2,3,4,5,6,7,8,9,10,11,12,13,14,15,16,17,18,19,20,21,22,23,24,25,26,27,28,29,30,31,32,33,34,35,36,37,38,39,40,41,42,43,44,45,46,47,48,49,50,51,52,53,54,55,56,57,58,59,60,61,62,63,64,65,66,67,68,69,70,71,72,73,74,75,76,77,78,79,80,81,82,83,84,85,86,87,88,89,90,91,92,93,94,95,96,97,98,99,100,101,102,103,104,105,106,107,108,109,110,111,112,113,114,115,116,117,118,119,120,121,122,123,124,125,126,127,128,129,130,131,132,133,134,135,136,137,138,139,140,141,142,143,144,145,146,147,148,149,150,151,152,153,154,155,156,157,158,159,160,161,162,163,164,165,166,167,168,169,170,171,172,173,174,175,176,177,178,179,180,181,182,183,184,185,186,187,188,189,190,191,192,193,194,195,196,197,198,199,200,201,202,203,204,205,206,207,208,209,210,211,212,213,214,215,216,217,218,219,220,221,222,223,224,225,226,227,228,229,230,231,232,233,234,235,236,237,238,239,240,241,242,243,244,245,246,247,248,249,250,251,252,253,254,255,256,257,258,259,260,261,262,263,264,265,266,267,268,269,270,271,272,273,274,275,276,277,278,279,280,281,282,283,284,285,286,287,288,289,290,291,292,293,294,295,296,297,298,299,300,301,302,303,304,305,306,307,308,309,310,311,312,313,314,315,316,317,318,319,320,321,322,323,324,325,326,327,328,329,330,331,332,333,334,335,336,337,338,339,340,341,342,343,344,345,346,347,348,349,350,351,352,353,354,355,356,357,358,359,360,361,362,363,364,365,366,367,368,369,370,371,372,373,374,375,376,377,378,379,380,381,382,383,384,385,386,387,388,389,390,391,392,393,394,395,396,397,398,399,400,401,402,403,404,405,406,407,408,409,410,411,412,413,414,415,416,417,418,419,420,421,422,423,424,425,426,427,428,429,430,431,432,433,434,435,436,437,438,439,440,441,442,443,444,445,446,447,448,449,450,451,452,453,454,455,456,457,458,459,460,461,462,463,464,465,466,467,468,469,470,471,472,473,474,475,476,477,478,479,480,481,482,483,484,485,486,487,488,489,490,491,492,493,494,495,496,497,498,499,500,501,502,503,504,505,506,507,508,509,510,511,512,513,514,515,516,517,518,519,520,521,522,523,524,525,526,527,528,529,530,531,532,533,534,535,536,537,538,539,540,541,542,543,544,545,546,547,548,549,550,551,552,553,554,555,556,557,558,559,560,561,562,563,564,565,566,567,568,569,570,571,572,573,574,575,576,577,578,579,580,581,582,583,584,585,586,587,588,589,590,591,592,593,594,595,596,597,598,599,600,601,602,603,604,605,606,607,608,609,610,611,612,613,614,615,616,617,618,619,620,621,622,623,624,625,626,627,628,629,630,631,632,633,634,635,636,637,638,639,640,641,642,643,644,645,646,647,648,649,650,651,652,653,654,655,656,657,658,659,660,661,662,663,664,665,666,667,668,669,670,671,672,673,674,675,676,677,678,679,680,681,682,683,684,685,686,687,688,689,690,691,692,693,694,695,696,697,698,699,700,701,702,703,704,705,706,707,708,709,710,711,712,713,714,715,716,717,718,719,720,721,722,723,724,725,726,727,728,729,730,731,732,733,734,735,736,737,738,739,740,741,742,743,744,745,746,747,748,749,750,751,752,753,754,755,756,757,758,759,760,761,762,763,764,765,766,767,768,769,770,771,772,773,774,775,776,777,778,779,780,781,782,783,784,785,786,787,788,789,790,791,792,793,794,795,796,797,798,799,800,801,802,803,804,805,806,807,808,809,810,811,812,813,814,815,816,817,818,819,820,821,822,823,824,825,826,827,828,829,830,831,832,833,834,835,836,837,838,839,840,841,842,843,844,845,846,847,848,849,850,851,852,853,854,855,856,857,858,859,860,861,862,863,864,865,866,867,868,869,870,871,872,873,874,875,876,877,878,879,880,881,882,883,884,885,886,887,888,889,890,891,892,893,894,895,896,897,898,899,900,901,902,903,904,905,906,907,908,909,910,911,912,913,914,915,916,917,918,919,920,921,922,923,924,925,926,927,928,929,930,931,932,933,934,935,936,937,938,939,940,941,942,943,944,945,946,947,948,949,950,951,952,953,954,955,956,957,958,959,960,961,962,963,964,965,966,967,968,969,970,971,972,973,974,975,976,977,978,979,980,981,982,983,984,985,986,987,988,989,990,991,992,993,994,995,996,997,998,999,1000,1001,1002,1003,1004,1005,1006,1007,1008,1009,1010,1011,1012,1013,1014,1015,1016,1017,1018,1019,1020,1021,1022,1023,1024,1025,1026,1027,1028,1029,1030,1031,1032,1033,1034,1035,1036,1037,1038,1039,1040,1041,1042,1043,1044,1045,1046,1047,1048,1049,1050,1051,1052,1053,1054,1055,1056,1057,1058,1059,1060,1061,1062,1063,1064,1065,1066,1067,1068,1069,1070,1071,1072,1073,1074,1075,1076,1077,1078,1079,1080,1081,1082,1083,1084,1085,1086,1087,1088,1089,1090,1091,1092,1093,1094,1095],\"xaxis\":\"x\",\"y\":[-5.499349415960492e-05,-0.0012281880362311297,0.0011548633773516609,0.0003666232943973509,0.0004032856238370886,0.0016131424953483512,0.00010998698831920332,-0.0008982270712735133,-0.00025663630607814436,0.0012098568715112625,-0.00021997397663841314,0.0007149154240748378,-0.00031162980023774923,0.0026946812138205368,0.0017781229778271626,-0.0010632075537523249,0.001888109966146366,-0.0004949414474364248,-0.0008249024123940412,-9.165582359933935e-05,0.0014298308481496757,-0.0005132726121562887,-0.0013748373539900708,3.666232943973444e-05,-0.00020164281191854268,0.0009165582359933806,0.0003299609649576165,0.0006415907651953625,-0.00023830514135828363,0.0011548633773516641,-0.0006049284357556345,3.666232943973444e-05,0.00031162980023775254,9.165582359933935e-05,-0.0005316037768761592,0.001979765789745699,0.0025113695666218643,0.0025846942255013335,-0.0004949414474364248,0.0046194535094066375,0.001594811330628484,0.0009898828948728495,0.0013748373539900708,-0.0016498048247880824,0.001539817836468879,-0.003739557602852991,-0.0016131424953483545,9.165582359933935e-05,0.0010632075537523183,-0.0031712914965370976,-0.0003849544591172214,9.165582359933935e-05,-0.00027496747079801156,0.0013015126951105955,-0.0012281880362311265,-0.00348292129677485,-0.002731343543260271,0.0008065712476741707,-0.0004399479532768198,0.0005132726121562952,-0.0007149154240748378,0.0017964541425470265,-0.0005682661063159001,0.0004949414474364248,0.0014664931775894101,0.0011182010479119232,-0.002071421613345045,-0.0060676155222761765,-0.0006232596004754985,0.0005316037768761592,-0.0005499349415960296,-0.013363419080783487,0.003134629167097363,-0.0015214866717490117,0.0004949414474364248,-0.0017964541425470265,0.0015948113306284808,0.00020164281191854594,0.003482921296774847,-0.0006599219299152362,0.00031162980023774923,-0.0017414606483874217,0.00190644113086623,0.0002749674707980148,-1.833116471986722e-05,0.001594811330628484,-0.0016131424953483512,-0.000293298635517882,-0.0016498048247880824,0.0015764801659086136,0.0007149154240748378,0.000293298635517882,0.0005499349415960264,0.0006049284357556313,0.0007332465887947051,-0.0001283181530390738,0.0027496747079801417,-0.0008432335771139117,0.0006415907651953658,-0.00016498048247880824,-0.00236472024886292,0.00016498048247880824,0.0008798959065536428,0.001393168518709938,0.0010265452243125872,-0.0018881099661463628,0.0019431034603059677,-1.833116471986722e-05,0.0018147853072668938,-0.0010265452243125904,-0.0020164281191854335,0.0002199739766384099,0.001099869883192056,0.000586597271035764,-0.00020164281191854268,0.0005682661063158936,0.00027496747079801156,0.00023830514135827712,-0.000311629800237746,0.002034759283905304,-0.0008065712476741772,0.0008065712476741772,0.0001283181530390738,-0.0007515777535145723,-0.00016498048247880824,-0.000293298635517882,-0.00089822707127351,0.0011548633773516576,0.00027496747079801807,-0.0006049284357556345,-0.002804668202139743,-0.000293298635517882,0.0012281880362311297,0.0006415907651953658,0.0004949414474364248,-0.001191525706791392,0.0006232596004754985,0.0004399479532768198,0.0006232596004754985,0.0010448763890324544,-0.0005499349415960296,-0.001484824342309274,0.000934889400713251,-0.00021997397663841314,-0.0008432335771139051,0.0007332465887947018,-0.000293298635517882,0.0004399479532768263,0.0011365322126317872,-0.00014664931775893776,0.0013381750245503364,-0.0011365322126317937,0.0015031555070291445,-0.001173194542071528,0.0005132726121562887,-7.332465887946888e-05,0.0003299609649576165,-0.0002566363060781476,-0.0002566363060781411,1.8331164719863964e-05,-0.00010998698831920332,3.666232943973444e-05,-0.002126415107504643,0.0007515777535145723,0.000311629800237746,-0.0004582791179966903,-0.0003299609649576165,9.165582359933935e-05,-5.499349415960492e-05,-0.0004582791179966903,-0.000311629800237746,0.000164980482478805,-0.000164980482478805,0.0009715517301529822,-0.00020164281191854268,-0.0007149154240748378,-0.00016498048247880824,-0.0002566363060781476,-0.0011731945420715248,0.0004766102827165575,0.000146649317758941,-0.00010998698831920657,0.0007515777535145723,-0.0008249024123940444,-0.000146649317758941,0.0005132726121562952,-0.00010998698831920657,0.001448162012869543,0.0009165582359933806,0.0008432335771139117,-0.0008065712476741772,0.0008615647418337821,0.000586597271035764,0.0012648503656708609,0.0002016428119185492,-0.0006049284357556345,-0.0008432335771139117,-0.0008798959065536461,-0.00014664931775893776,0.00010998698831920332,0.0016131424953483545,-0.000989882894872856,0.0004582791179966903,0.0006965842593549739,0.0011915257067913985,0.0007699089182344362,0.0011365322126317937,-0.0004582791179966903,0.0004399479532768198,0.0006965842593549739,0.0,0.0002566363060781476,0.0012648503656708676,0.0017414606483874217,-0.0011548633773516576,0.0019614346250258347,0.0004216167885569558,0.0017964541425470265,-0.000953220565433115,-0.0007699089182344428,0.0010632075537523249,-0.0008798959065536461,0.00034829212967748044,-0.002493038401901994,0.0004216167885569558,0.0005132726121562952,0.002438044907742389,-0.0001833116471986722,0.0008798959065536461,0.0,-0.0009165582359933806,-0.0012098568715112625,0.001319843859830466,-0.0018514476367066316,0.00020164281191854268,-0.000641590765195369,0.0013931685187099348,-0.0022364020958238464,0.001484824342309274,0.0016681359895079528,-5.499349415960492e-05,-0.00023830514135827712,0.0012648503656708609,-0.0009165582359933806,0.0029146551904589498,-3.666232943973444e-05,-0.008010718982582148,0.0011365322126317937,-0.0027313435432602777,0.0068008621110708855,-0.0013381750245503364,0.0014481620128695397,0.0022913955899834513,7.33246588794754e-05,0.0015948113306284775,0.005682661063158962,0.004876089815484785,-7.332465887946888e-05,-0.007387459382106649,0.0013015126951105955,-0.0014114996834298052,0.0011182010479119297,-0.0008432335771139117,-0.0015214866717490085,-0.0060309531928364425,0.0018331164719867612,-0.002254733260543717,0.0032262849906967025,0.00020164281191854268,0.002786337037419876,9.165582359933935e-05,0.0013748373539900708,0.0033362719790159057,0.000934889400713251,-0.003281278484856301,-0.00027496747079801156,0.001594811330628484,0.0015031555070291445,-0.0007699089182344428,-0.001613142495348348,1.8331164719863964e-05,-1.8331164719863964e-05,0.0012648503656708609,-3.666232943973444e-05,0.00020164281191854268,0.004032856238370873,0.00010998698831920332,0.00020164281191854268,0.0008615647418337756,-0.0023280579194231857,0.0003849544591172214,0.0008065712476741772,-0.00133817502455033,-0.0020530904486251744,0.0017597918131072856,0.0016681359895079528,0.0,0.0,-0.0008798959065536461,0.0016314736600682184,0.0008432335771139117,-0.002126415107504643,-0.0008615647418337756,-0.002529700731341735,3.666232943974095e-05,0.0,-0.001319843859830466,-0.0017047983189476873,0.00010998698831920984,0.0013748373539900708,0.0025113695666218578,-0.002383051413582784,0.0011365322126317872,-0.0005316037768761592,0.0001833116471986787,-0.0004032856238370919,-0.0005316037768761592,0.0008798959065536461,-0.0005499349415960296,-0.00047661028271656075,0.0005316037768761592,0.0011182010479119232,-0.0008798959065536461,5.499349415960492e-05,0.001539817836468879,0.0028229993668596105,-0.0008249024123940412,0.0017231294836675577,0.0028963240257390793,-0.00483942748604505,-0.005609336404279493,0.0004032856238370919,0.0012831815303907315,0.0017231294836675577,0.0025480318960615926,-0.0022180709311039825,0.0004032856238370919,0.0007332465887947018,-0.003024642178778153,0.001301512695110602,-0.00031162980023775254,-0.00021997397663840664,-0.003079635672937758,0.000934889400713251,-0.00089822707127351,-0.0007332465887947083,0.0014664931775894101,0.001778122977827156,0.0016314736600682184,-0.000953220565433115,0.001924772295586094,-0.0006232596004754985,0.0013565061892702069,0.004289492544449014,0.001778122977827169,-0.003886206920611942,0.002529700731341735,-0.004271161379729157,0.0024197137430225185,0.001228188036231133,0.0007515777535145788,0.00014664931775893776,0.0042161678855695455,0.005792648051478172,-0.00190644113086623,-0.0013931685187099348,0.0007149154240748378,0.0009165582359933806,0.005462687086520542,-0.00027496747079801156,0.001228188036231133,0.0007332465887947018,0.002603025390221204,-0.00236472024886292,0.0027496747079801417,-0.00258469422550134,-0.007625764523464933,0.00016498048247881475,0.0034462589673351024,0.003226284990696709,-0.001778122977827169,0.003996193908931139,0.004912752144924519,-0.0010265452243125774,-0.005022739133243729,-5.499349415960492e-05,-0.007130823076028502,0.003996193908931139,9.165582359934587e-05,0.0016498048247880824,-7.332465887946888e-05,-7.332465887946888e-05,-0.0013748373539900708,0.0027496747079801417,0.0007149154240748378,0.0034462589673351024,-0.0009165582359933806,0.013033458115825871,-0.0007882400829543068,0.002089752778064909,0.0064342388166735275,0.02216237814631995,0.00887228372441593,-0.008175699465060943,0.020714216133450394,0.05108895607427101,0.03869708872364053,-0.008615647418337756,0.022895624735114663,-0.006544225804992724,0.005297706604041714,-0.010980367667200716,0.0001833116471986657,0.06469068029641278,0.05565341608951809,0.2511369566621863,-0.14367966907432234,0.07227978249043795,-0.04828428787213124,-0.0654422580499274,0.04133677644330143,-0.037688874664047814,-0.02130081340448612,0.00548101825124038,-0.028413305315794796,0.0819036439683685,-0.02799168852723781,0.0025113695666218712,-0.02001763187409546,-0.0074424528762662544,0.0011365322126318002,0.02522368265453787,0.0010265452243125904,0.09605530313210629,-0.027221779609003443,0.02185074834608222,-0.04885255397844714,0.022858962405674855,-0.021337475733925873,-0.018312833555147706,0.0074057905468264485,0.021209157580886814,-0.016058100294604114,0.0034279278026152515,0.0017597918131073574,0.0006415907651954081,-0.017799560942991465,0.0010632075537523444,-0.012575178997829154,-0.026305221373010012,0.038550439405881584,0.026268559043570255,-0.0008065712476741707,0.011456977949917256,0.06652379676839959,-0.01691966503643784,0.058916363409654476,0.007185816570188132,-0.031694583800651134,0.050337378320756423,0.033087752319361056,0.06467234913169288,-0.04989743036747958,0.0774308397767207,0.06397576487233791,0.03437093384975177,0.098988289487285,0.13396415177279258,-0.08522158478266453,-0.0009532205654330824,-0.013455074904382885,-0.06153771996459545,0.012611841327268909,-0.06173936277651412,0.041245120619702126,0.15310188774033426,-0.08085876757933605,-0.06866854304062403,0.03930201715939605,-0.053197040017055774,0.012520185503669653,0.05671662364327038,0.0615560511293153,-0.011566964938236363,0.06811860809902798,0.04296825010336978,-0.006250927169474797,0.0037395576028531343,0.10008815937047699,-0.10318612620813472,0.055323455124560564,-0.03213453175392787,-0.018276171225708057,0.04001693258347086,0.028376642986355095,-0.05493850066544328,0.07442452876266255,-0.1576663477555813,-0.02538866313701668,0.05627667568999365,-0.07257308112595592,0.001044876389032337,-0.09460714111923677,-0.006434238816673619,-0.3174041171245076,0.10549585296283812,-0.11856597340810372,-0.04984243687332003,-0.06907182866446117,0.15299190075201505,-0.0030613045082179204,0.06500231009665061,-0.021520787381124593,-0.07420455478602413,-0.04500300938727501,0.03809216028788485,0.05158389752170743,0.01605810029460401,0.07099660096004728,0.04850426184876966,-0.06874186769950354,-0.0010815387184722474,0.005700992227878852,-0.06443404399033471,-0.009917160113448424,0.041703399737698814,-0.04417810697488088,-0.010998698831920567,-0.004326154873888677,0.04137343877274118,0.007754082676504032,-0.006049284357556332,-0.03596574518038026,0.010082140595927186,-0.029311532387068327,-0.0046194535094066045,0.00975217963096966,-0.12335040739998909,-0.01899108664978287,0.06355414808378093,0.02232735862879876,-0.05030071599131672,-0.003116298002377473,0.02091585894536899,-0.001906441130866269,0.018386158214027164,0.006177602510595393,-0.028614948127713365,-0.0004766102827165412,0.021777423687202712,0.01581979515324574,-0.010210458748966247,0.03301442766048155,0.014060003340138487,-0.03140128516513321,0.011456977949917256,-0.0012831815303907118,0.010650406702243086,-0.010522088549204025,-0.013143445104145002,0.0008982270712735296,0.011163679314399329,-0.02342722851199086,-0.004711109333005964,0.0033729343084556987,-0.039760296277392845,-0.029128220739869714,0.05222548828690284,0.0008249024123940217,0.009862166619288766,0.00777241384122378,3.666232943970188e-05,0.0031346291670973237,0.01715797017779611,0.00012831815303906077,0.0054260247570808795,0.0108337183494417,0.01796454142547028,0.0008432335771138726,-0.0034829212967748043,-0.014060003340138487,0.02108083942784775,0.005481018251240432,0.007699089182344376,0.026030253902211985,-0.026305221373010064,0.023225585700072292,0.0318962266125696,0.03589242052150086,-0.010943705337761013,0.04654282722374384,-0.003629570614533716,0.009513874489611286,0.003629570614533716,-0.025920266913892778,-0.010008815937047678,0.06412241419009694,0.042986581268089526,-0.011456977949917256,7.332465887950795e-05,0.09369058288324339,-0.05103396258011149,0.05772483770286312,-0.046946112847580976,0.030521389258579633,-0.015526496517727917,-0.011676951926555676,-0.03614905682757887,0.0076807580176245244,0.04672613887094245,-0.010173796419526544,0.007992387817862304,0.01633306776540198,0.012996795786386194,-0.015361516035249049,-0.14444957799255678,-0.004986076803803936,0.01208023755039271,-0.036845641086933834,0.007332465887947045,0.021795754851922564,-0.032959434166322,0.028028350856677615,0.030814687894097456,-0.012795152974467521,-0.033014427660481654,0.00821236179450062,-0.004234499050289422,-0.08210528678028696,-0.03825714077036371,0.06502064126137036,0.008817290230256325,-0.05211550129858353,-0.010247121078406052,-0.009128920030494104,-0.016864671542278182,-0.004362817203328483,0.06342582993074188,0.036845641086933834,0.061812687435393636,0.010833718349441804,0.005755985722038405,-0.0070391672524291165,0.028999902586830547,-0.013400081410223228,0.006269258334194647,-0.03576410236846169,0.005481018251240432,-0.032134531753927977,0.01684634037755833,0.055470104442319375,0.04769769060109559,0.0036845641086933733,0.0034645901320549534,-0.01684634037755833,0.010247121078405948,0.025828611090293416,0.005682661063159001,0.023848845300547743,-0.055360117454000164,0.014499951293415221,0.012061906385672963,-0.0176162492957928,0.016883002706998135,-0.012648503656708714,-0.05376530612337167,0.07953892371950554,0.06861354954646448,-0.0025846942255012746,-0.006855855605230503,0.049274170767004126,0.005096063792123145,0.025883604584453074,-0.017084645518916704,0.08910779170327628,0.05314204652289622,0.024197137430225328,0.007864069664823139,-0.03583742702734109,-0.036827309922214085,0.025663630607814656,-0.0018331164719867612,0.04139176993746114,0.002383051413582706,-0.03169458380065103,-0.08230692959220554,-0.01943103460305971,-0.08384674742867447,0.09018933042174873,0.042674951467851746,-0.03508584927382658,-0.046652814212062944,0.057944811679501336,-0.0008982270712735296,0.08831955162032205,-0.09937324394640218,0.02324391686479204,0.020732547298170378,0.022052391158000686,-0.0006782530946351099,0.01065040670224319,-0.013033458115825897,-0.04690945051814127,-0.04766102827165579,-0.020164281191854372,0.05678994830214989,-0.01812952190794904,0.05171221567474639,-0.06621216696816182,-0.03343604444903854,0.01963267741497828,0.01332675675134372,-0.09097757050470294,0.013601724222141693,0.023463890841430666,-0.027661727562280282,-0.00020164281191856873,0.015214866717490241,-0.007864069664823347,-0.012080237550392814,0.009458880995451628,0.00903726420689464,0.027991688527238018,-0.01268516598614852,0.010173796419526648,-0.0015398178364689377,0.030814687894097352,-0.053893624276410736,-0.03664399827501537,0.007332465887947045,-0.012465192009509997,0.02877992861019213,0.007094160746588774,-0.03537914790934451,-0.008615647418337756,-0.06118942783491808,-0.001319843859830518,-0.046157872764626656,-0.03405930404951399,0.017011320860037198,-0.025278676148697474,0.07088661397172807,0.043078237091688884,-0.02190574184024188,0.027276773103162996,0.008560653924178204,0.007350797052666895,-0.04305990592696903,-0.006965842593549713,-0.01636973009484179,-0.040035263748190816,-0.10289282757261689,-0.04729440497725846,0.04729440497725846,-0.02295061822927432,0.024362117912704092,-0.018276171225707953,0.02771672105643973,-0.007387459382106597,0.0060309531928364815,-0.02161244320472395,-0.0060309531928364815,0.018147853072668894,-0.031364622835693405,0.008762296736096667,0.0506123457915545,0.026580188843808035,0.011017029996640417,0.02434378674798424,-0.04687278818870147,0.027661727562280282,-0.014518282458135176,-0.026946812138205368,0.005572674074839687,-0.009935491278168274,0.010375439231445113,0.05264710507545972,-0.009037264206894744,-0.04474637308119678,-0.00691084909939016,0.0008982270712735296,-0.03554412839182327,-0.043664834362724635,0.03240949922472595,-0.01559982117660732,-0.008414004606419187,0.025113695666218606,-0.0034095966378954005,-0.025095364501498754,0.0654239268852075,0.02379385180638809,0.0011182010479119492,-0.01209856871511256,-0.05151057286282803,0.018697788014264943,-0.01796454142547028,0.011182010479119285,0.0012831815303907118,0.021447462722245188,-0.038495445911721986,-0.0001833116471987178,0.0009165582359933806,-0.019797657897456935,0.021447462722245084,-0.0034829212967749084,0.02529700731341722,0.01209856871511256,0.009715517301529855,0.005132726121562952,-0.016663028730359717,0.009660523807370197,0.01490323691725236,0.007534108699865613,0.010778724855282147,-0.00747911520570606,0.010760393690562297,0.02729510426788285,-0.0016498048247880434,0.008175699465060917,0.01437163314037616,-0.024142143936065674,0.03437093384975177,-0.01977932673273719,0.024655416548221915,-0.004472804191647693,-0.005920966204517168,-0.04474637308119688,0.029549837528426597,-0.026965143302925217,0.009623861477930496,-0.0165163794126007,-0.043298211068327305,0.03565411538014248,0.017249626001395364,-0.015416509529408706,0.004619453509406709,-0.00021997397663841968,-0.018862768496743808,0.018386158214027164,0.009862166619288766,-0.007167485405468178,-0.024362117912704092,0.0029329863551788593,-0.010082140595927186,-0.00406951856781066,0.009917160113448424,-0.03371101191983651,0.009898828948728467,0.029109889575149758,-0.026030253902211985,-0.029293201222348474,0.023647202488629178,-0.0007515777535146179,-0.010467095055044368,0.03429760919087226,-0.043884808339363056,0.0011548633773516511,-0.024985377513179544,-0.017597918131072948,-0.10905209891849243,0.04157508158465975,-0.08813623997312345,-0.00441781069748814,0.041025146643063705,0.011017029996640417,0.028046682021397467,-0.027863370374198747,0.016644697565639865,-0.03389432356703523,0.03536081674462455,-0.008633978583057712,0.018532807531786075,0.012648503656708714,-0.004271161379729124,0.020750878462890122,-0.004601122344686754,-0.04141010110218099,-0.00384954459117224,0.011255335137998689,-0.0030979668376576223,0.029146551904589563,-0.0018514476367066121,-0.037212264381331274,0.014518282458135176,-0.017799560942991517,0.006360914157794007,-0.004436141862207887,-0.006929180264110011,-0.008982270712735087,-0.0034645901320549534,0.0027496747079801417,-0.006617550463872128,-0.030393071105540573,-0.027148454950123885,-0.059008019233253835,0.0012648503656708609,0.019376041108900052,-0.04326154873888755,0.010265452243125852,-0.034114297543673594,0.03283111601328288,0.002932986355178807,0.0065992192991523296,-0.010998698831920567,0.02696514330292527,0.020879196615929185,-0.0009165582359933806,-0.010430432725604667,-0.00040328562383708537,-0.012116899879832464,-0.013565061892702042,-0.0005499349415960491,-0.004802765156605322,0.002383051413582758,0.0018331164719867612,0.02218070931103985,-0.0003849544591172344,0.013748373539900709,0.005517680580680134,-0.0012648503656708609,0.004747771662445666,-0.016113093788763615,-0.016314736600682184,-0.009348894007132472,0.018312833555147758,0.014316639646216609,0.0,0.020695884968730517,-0.0036662329439735224,0.030796356729377607,0.008065712476741812,-0.01888109966146366,0.01354673072798214,-0.0060309531928364815,-0.006049284357556332,0.0042161678855695715,-0.030778025564657755,0.008450666935858994,0.04051187403090746,0.0102654522431258,0.030081441305302794,-0.010833718349441804,-0.007882400829543093,-1.833116471985094e-05,0.0005682661063159001,0.025113695666218606,0.025663630607814656,0.007515777535145658,-0.0016314736600681924,0.013931685187099425,0.004032856238370854,-0.0010815387184722474,0.008065712476741812,-0.009532205654331136,0.008065712476741708,-0.007149154240748326,-0.012098568715112664,0.0036479017792536714,-0.006214264840035095,-0.016864671542278286,-0.01629640543596228,-0.03479255063830876,0.008597316253617905,0.032831116013282834,-0.0027680058726999926,-0.0019980969544655235,-0.004967745639084189,0.008982270712735193,-0.04047521170146766,-0.003116298002377473,-0.0025846942255012746,0.017249626001395364,-0.008065712476741708,-0.004381148368048334,-0.0016314736600681924,-0.0016498048247880434,0.0005499349415960491,0.00203475928390533,-0.004032856238370958,-0.026415208361329167,0.03026475295250141,0.0030979668376576223,0.023647202488629178,0.00588430387507757,-0.0021997397663841966,-0.0029146551904589042,-0.030613045082178995,0.0036662329439735224,-0.015398178364688752,0.007149154240748326,0.0076807580176245244,-0.023610540159189473,0.010632075537523236,-0.010613744372803385,-0.0033179408142960417,0.01981598906217689,0.0027496747079801417,-0.003849544591172136,-0.0008798959065535745,0.0036662329439735224,-0.006800862111070951,0.016883002706998135,0.004399479532768185,0.0016314736600681924,-0.003629570614533716,0.0027496747079801417,0.0042161678855695715,0.0170479831894769,-0.004032856238370854,-0.013015126951106045,-0.008414004606419187,-0.011200341643839136,0.0031346291670974282,-0.012263549197591428,-0.0003666232943973314,-0.0009165582359933806,0.0016314736600681924,-0.004032856238370854,-0.00238305141358281,0.007882400829543093,0.005865972710357614,-0.004601122344686754,-0.0019980969544655235,-0.0056643298984390454,0.0018331164719867612,0.0008982270712735296,0.010082140595927186,-0.0034645901320549534,0.01833116471986761,0.011365322126317898,-0.006415907651953664,0.02036592400377294,0.01208023755039271,0.016681359895079566,0.02252900144071733,-0.0031162980023775773,-0.006782530946350995,0.017249626001395468,0.045626268987750455,-0.009348894007132524,-0.019852651391616696,-0.0025297007313417217,-0.01723129483667551,-0.1098586701661665,0.06800862111070877,-0.025315338478137175,-0.01376670470462056,-0.010980367667200716,0.0042161678855695715,-0.0036662329439735224,-0.012465192009509997,-0.003116298002377473,0.008230692959220574,0.002566363060781528,-0.015068217399731226,-0.018532807531786127,0.023060605217593476,0.0586780582682962,0.0022180709311040475,0.0005499349415960491,0.01926605412058084,-0.0065992192991522775,-0.02603025390221209,0.0034645901320549534,0.009165582359933805,-0.015214866717490033,0.0025663630607814236,-0.005682661063159001,0.00328127848485634,-0.006214264840035095,0.0032812784848562358,-0.01118201047911918,0.011731945420715229,-0.008249024123940425,0.0036662329439735224,-0.006782530946350995,-0.015398178364688752,-0.00714915424074843,-0.008249024123940425,-0.01668135989507946,-0.050410702979635985,0.019980969544655707,0.01649804824788085,-0.019247722955860993,0.019980969544655707,-0.009532205654331188,-0.0005499349415959971,0.0005499349415959971,-0.003116298002377473,-0.00238305141358281,0.002016428119185479,0.0042161678855695195,-0.004032856238370854,0.0034829212967748564,-0.0009165582359933806,0.0005499349415959971],\"yaxis\":\"y\",\"type\":\"scattergl\"}],                        {\"template\":{\"data\":{\"histogram2dcontour\":[{\"type\":\"histogram2dcontour\",\"colorbar\":{\"outlinewidth\":0,\"ticks\":\"\"},\"colorscale\":[[0.0,\"#0d0887\"],[0.1111111111111111,\"#46039f\"],[0.2222222222222222,\"#7201a8\"],[0.3333333333333333,\"#9c179e\"],[0.4444444444444444,\"#bd3786\"],[0.5555555555555556,\"#d8576b\"],[0.6666666666666666,\"#ed7953\"],[0.7777777777777778,\"#fb9f3a\"],[0.8888888888888888,\"#fdca26\"],[1.0,\"#f0f921\"]]}],\"choropleth\":[{\"type\":\"choropleth\",\"colorbar\":{\"outlinewidth\":0,\"ticks\":\"\"}}],\"histogram2d\":[{\"type\":\"histogram2d\",\"colorbar\":{\"outlinewidth\":0,\"ticks\":\"\"},\"colorscale\":[[0.0,\"#0d0887\"],[0.1111111111111111,\"#46039f\"],[0.2222222222222222,\"#7201a8\"],[0.3333333333333333,\"#9c179e\"],[0.4444444444444444,\"#bd3786\"],[0.5555555555555556,\"#d8576b\"],[0.6666666666666666,\"#ed7953\"],[0.7777777777777778,\"#fb9f3a\"],[0.8888888888888888,\"#fdca26\"],[1.0,\"#f0f921\"]]}],\"heatmap\":[{\"type\":\"heatmap\",\"colorbar\":{\"outlinewidth\":0,\"ticks\":\"\"},\"colorscale\":[[0.0,\"#0d0887\"],[0.1111111111111111,\"#46039f\"],[0.2222222222222222,\"#7201a8\"],[0.3333333333333333,\"#9c179e\"],[0.4444444444444444,\"#bd3786\"],[0.5555555555555556,\"#d8576b\"],[0.6666666666666666,\"#ed7953\"],[0.7777777777777778,\"#fb9f3a\"],[0.8888888888888888,\"#fdca26\"],[1.0,\"#f0f921\"]]}],\"heatmapgl\":[{\"type\":\"heatmapgl\",\"colorbar\":{\"outlinewidth\":0,\"ticks\":\"\"},\"colorscale\":[[0.0,\"#0d0887\"],[0.1111111111111111,\"#46039f\"],[0.2222222222222222,\"#7201a8\"],[0.3333333333333333,\"#9c179e\"],[0.4444444444444444,\"#bd3786\"],[0.5555555555555556,\"#d8576b\"],[0.6666666666666666,\"#ed7953\"],[0.7777777777777778,\"#fb9f3a\"],[0.8888888888888888,\"#fdca26\"],[1.0,\"#f0f921\"]]}],\"contourcarpet\":[{\"type\":\"contourcarpet\",\"colorbar\":{\"outlinewidth\":0,\"ticks\":\"\"}}],\"contour\":[{\"type\":\"contour\",\"colorbar\":{\"outlinewidth\":0,\"ticks\":\"\"},\"colorscale\":[[0.0,\"#0d0887\"],[0.1111111111111111,\"#46039f\"],[0.2222222222222222,\"#7201a8\"],[0.3333333333333333,\"#9c179e\"],[0.4444444444444444,\"#bd3786\"],[0.5555555555555556,\"#d8576b\"],[0.6666666666666666,\"#ed7953\"],[0.7777777777777778,\"#fb9f3a\"],[0.8888888888888888,\"#fdca26\"],[1.0,\"#f0f921\"]]}],\"surface\":[{\"type\":\"surface\",\"colorbar\":{\"outlinewidth\":0,\"ticks\":\"\"},\"colorscale\":[[0.0,\"#0d0887\"],[0.1111111111111111,\"#46039f\"],[0.2222222222222222,\"#7201a8\"],[0.3333333333333333,\"#9c179e\"],[0.4444444444444444,\"#bd3786\"],[0.5555555555555556,\"#d8576b\"],[0.6666666666666666,\"#ed7953\"],[0.7777777777777778,\"#fb9f3a\"],[0.8888888888888888,\"#fdca26\"],[1.0,\"#f0f921\"]]}],\"mesh3d\":[{\"type\":\"mesh3d\",\"colorbar\":{\"outlinewidth\":0,\"ticks\":\"\"}}],\"scatter\":[{\"fillpattern\":{\"fillmode\":\"overlay\",\"size\":10,\"solidity\":0.2},\"type\":\"scatter\"}],\"parcoords\":[{\"type\":\"parcoords\",\"line\":{\"colorbar\":{\"outlinewidth\":0,\"ticks\":\"\"}}}],\"scatterpolargl\":[{\"type\":\"scatterpolargl\",\"marker\":{\"colorbar\":{\"outlinewidth\":0,\"ticks\":\"\"}}}],\"bar\":[{\"error_x\":{\"color\":\"#2a3f5f\"},\"error_y\":{\"color\":\"#2a3f5f\"},\"marker\":{\"line\":{\"color\":\"#E5ECF6\",\"width\":0.5},\"pattern\":{\"fillmode\":\"overlay\",\"size\":10,\"solidity\":0.2}},\"type\":\"bar\"}],\"scattergeo\":[{\"type\":\"scattergeo\",\"marker\":{\"colorbar\":{\"outlinewidth\":0,\"ticks\":\"\"}}}],\"scatterpolar\":[{\"type\":\"scatterpolar\",\"marker\":{\"colorbar\":{\"outlinewidth\":0,\"ticks\":\"\"}}}],\"histogram\":[{\"marker\":{\"pattern\":{\"fillmode\":\"overlay\",\"size\":10,\"solidity\":0.2}},\"type\":\"histogram\"}],\"scattergl\":[{\"type\":\"scattergl\",\"marker\":{\"colorbar\":{\"outlinewidth\":0,\"ticks\":\"\"}}}],\"scatter3d\":[{\"type\":\"scatter3d\",\"line\":{\"colorbar\":{\"outlinewidth\":0,\"ticks\":\"\"}},\"marker\":{\"colorbar\":{\"outlinewidth\":0,\"ticks\":\"\"}}}],\"scattermapbox\":[{\"type\":\"scattermapbox\",\"marker\":{\"colorbar\":{\"outlinewidth\":0,\"ticks\":\"\"}}}],\"scatterternary\":[{\"type\":\"scatterternary\",\"marker\":{\"colorbar\":{\"outlinewidth\":0,\"ticks\":\"\"}}}],\"scattercarpet\":[{\"type\":\"scattercarpet\",\"marker\":{\"colorbar\":{\"outlinewidth\":0,\"ticks\":\"\"}}}],\"carpet\":[{\"aaxis\":{\"endlinecolor\":\"#2a3f5f\",\"gridcolor\":\"white\",\"linecolor\":\"white\",\"minorgridcolor\":\"white\",\"startlinecolor\":\"#2a3f5f\"},\"baxis\":{\"endlinecolor\":\"#2a3f5f\",\"gridcolor\":\"white\",\"linecolor\":\"white\",\"minorgridcolor\":\"white\",\"startlinecolor\":\"#2a3f5f\"},\"type\":\"carpet\"}],\"table\":[{\"cells\":{\"fill\":{\"color\":\"#EBF0F8\"},\"line\":{\"color\":\"white\"}},\"header\":{\"fill\":{\"color\":\"#C8D4E3\"},\"line\":{\"color\":\"white\"}},\"type\":\"table\"}],\"barpolar\":[{\"marker\":{\"line\":{\"color\":\"#E5ECF6\",\"width\":0.5},\"pattern\":{\"fillmode\":\"overlay\",\"size\":10,\"solidity\":0.2}},\"type\":\"barpolar\"}],\"pie\":[{\"automargin\":true,\"type\":\"pie\"}]},\"layout\":{\"autotypenumbers\":\"strict\",\"colorway\":[\"#636efa\",\"#EF553B\",\"#00cc96\",\"#ab63fa\",\"#FFA15A\",\"#19d3f3\",\"#FF6692\",\"#B6E880\",\"#FF97FF\",\"#FECB52\"],\"font\":{\"color\":\"#2a3f5f\"},\"hovermode\":\"closest\",\"hoverlabel\":{\"align\":\"left\"},\"paper_bgcolor\":\"white\",\"plot_bgcolor\":\"#E5ECF6\",\"polar\":{\"bgcolor\":\"#E5ECF6\",\"angularaxis\":{\"gridcolor\":\"white\",\"linecolor\":\"white\",\"ticks\":\"\"},\"radialaxis\":{\"gridcolor\":\"white\",\"linecolor\":\"white\",\"ticks\":\"\"}},\"ternary\":{\"bgcolor\":\"#E5ECF6\",\"aaxis\":{\"gridcolor\":\"white\",\"linecolor\":\"white\",\"ticks\":\"\"},\"baxis\":{\"gridcolor\":\"white\",\"linecolor\":\"white\",\"ticks\":\"\"},\"caxis\":{\"gridcolor\":\"white\",\"linecolor\":\"white\",\"ticks\":\"\"}},\"coloraxis\":{\"colorbar\":{\"outlinewidth\":0,\"ticks\":\"\"}},\"colorscale\":{\"sequential\":[[0.0,\"#0d0887\"],[0.1111111111111111,\"#46039f\"],[0.2222222222222222,\"#7201a8\"],[0.3333333333333333,\"#9c179e\"],[0.4444444444444444,\"#bd3786\"],[0.5555555555555556,\"#d8576b\"],[0.6666666666666666,\"#ed7953\"],[0.7777777777777778,\"#fb9f3a\"],[0.8888888888888888,\"#fdca26\"],[1.0,\"#f0f921\"]],\"sequentialminus\":[[0.0,\"#0d0887\"],[0.1111111111111111,\"#46039f\"],[0.2222222222222222,\"#7201a8\"],[0.3333333333333333,\"#9c179e\"],[0.4444444444444444,\"#bd3786\"],[0.5555555555555556,\"#d8576b\"],[0.6666666666666666,\"#ed7953\"],[0.7777777777777778,\"#fb9f3a\"],[0.8888888888888888,\"#fdca26\"],[1.0,\"#f0f921\"]],\"diverging\":[[0,\"#8e0152\"],[0.1,\"#c51b7d\"],[0.2,\"#de77ae\"],[0.3,\"#f1b6da\"],[0.4,\"#fde0ef\"],[0.5,\"#f7f7f7\"],[0.6,\"#e6f5d0\"],[0.7,\"#b8e186\"],[0.8,\"#7fbc41\"],[0.9,\"#4d9221\"],[1,\"#276419\"]]},\"xaxis\":{\"gridcolor\":\"white\",\"linecolor\":\"white\",\"ticks\":\"\",\"title\":{\"standoff\":15},\"zerolinecolor\":\"white\",\"automargin\":true,\"zerolinewidth\":2},\"yaxis\":{\"gridcolor\":\"white\",\"linecolor\":\"white\",\"ticks\":\"\",\"title\":{\"standoff\":15},\"zerolinecolor\":\"white\",\"automargin\":true,\"zerolinewidth\":2},\"scene\":{\"xaxis\":{\"backgroundcolor\":\"#E5ECF6\",\"gridcolor\":\"white\",\"linecolor\":\"white\",\"showbackground\":true,\"ticks\":\"\",\"zerolinecolor\":\"white\",\"gridwidth\":2},\"yaxis\":{\"backgroundcolor\":\"#E5ECF6\",\"gridcolor\":\"white\",\"linecolor\":\"white\",\"showbackground\":true,\"ticks\":\"\",\"zerolinecolor\":\"white\",\"gridwidth\":2},\"zaxis\":{\"backgroundcolor\":\"#E5ECF6\",\"gridcolor\":\"white\",\"linecolor\":\"white\",\"showbackground\":true,\"ticks\":\"\",\"zerolinecolor\":\"white\",\"gridwidth\":2}},\"shapedefaults\":{\"line\":{\"color\":\"#2a3f5f\"}},\"annotationdefaults\":{\"arrowcolor\":\"#2a3f5f\",\"arrowhead\":0,\"arrowwidth\":1},\"geo\":{\"bgcolor\":\"white\",\"landcolor\":\"#E5ECF6\",\"subunitcolor\":\"white\",\"showland\":true,\"showlakes\":true,\"lakecolor\":\"white\"},\"title\":{\"x\":0.05},\"mapbox\":{\"style\":\"light\"}}},\"xaxis\":{\"anchor\":\"y\",\"domain\":[0.0,1.0],\"title\":{\"text\":\"index\"}},\"yaxis\":{\"anchor\":\"x\",\"domain\":[0.0,1.0],\"title\":{\"text\":\"value\"}},\"legend\":{\"title\":{\"text\":\"variable\"},\"tracegroupgap\":0},\"margin\":{\"t\":60}},                        {\"responsive\": true}                    ).then(function(){\n",
              "                            \n",
              "var gd = document.getElementById('420042cb-5392-4514-b0a3-7a78a0cae4f7');\n",
              "var x = new MutationObserver(function (mutations, observer) {{\n",
              "        var display = window.getComputedStyle(gd).display;\n",
              "        if (!display || display === 'none') {{\n",
              "            console.log([gd, 'removed!']);\n",
              "            Plotly.purge(gd);\n",
              "            observer.disconnect();\n",
              "        }}\n",
              "}});\n",
              "\n",
              "// Listen for the removal of the full notebook cells\n",
              "var notebookContainer = gd.closest('#notebook-container');\n",
              "if (notebookContainer) {{\n",
              "    x.observe(notebookContainer, {childList: true});\n",
              "}}\n",
              "\n",
              "// Listen for the clearing of the current output cell\n",
              "var outputEl = gd.closest('.output');\n",
              "if (outputEl) {{\n",
              "    x.observe(outputEl, {childList: true});\n",
              "}}\n",
              "\n",
              "                        })                };                            </script>        </div>\n",
              "</body>\n",
              "</html>"
            ]
          },
          "metadata": {}
        },
        {
          "output_type": "display_data",
          "data": {
            "text/html": [
              "<html>\n",
              "<head><meta charset=\"utf-8\" /></head>\n",
              "<body>\n",
              "    <div>            <script src=\"https://cdnjs.cloudflare.com/ajax/libs/mathjax/2.7.5/MathJax.js?config=TeX-AMS-MML_SVG\"></script><script type=\"text/javascript\">if (window.MathJax && window.MathJax.Hub && window.MathJax.Hub.Config) {window.MathJax.Hub.Config({SVG: {font: \"STIX-Web\"}});}</script>                <script type=\"text/javascript\">window.PlotlyConfig = {MathJaxConfig: 'local'};</script>\n",
              "        <script src=\"https://cdn.plot.ly/plotly-2.18.2.min.js\"></script>                <div id=\"496f95af-a1c2-449d-8b65-5ca5c7382ae9\" class=\"plotly-graph-div\" style=\"height:525px; width:100%;\"></div>            <script type=\"text/javascript\">                                    window.PLOTLYENV=window.PLOTLYENV || {};                                    if (document.getElementById(\"496f95af-a1c2-449d-8b65-5ca5c7382ae9\")) {                    Plotly.newPlot(                        \"496f95af-a1c2-449d-8b65-5ca5c7382ae9\",                        [{\"hovertemplate\":\"variable=Bitcoin<br>index=%{x}<br>value=%{y}<extra></extra>\",\"legendgroup\":\"Bitcoin\",\"line\":{\"color\":\"#636efa\",\"dash\":\"solid\"},\"marker\":{\"symbol\":\"circle\"},\"mode\":\"lines\",\"name\":\"Bitcoin\",\"showlegend\":true,\"x\":[0,1,2,3,4,5,6,7,8,9,10,11,12,13,14,15,16,17,18,19,20,21,22,23,24,25,26,27,28,29,30,31,32,33,34,35,36,37,38,39,40,41,42,43,44,45,46,47,48,49,50,51,52,53,54,55,56,57,58,59,60,61,62,63,64,65,66,67,68,69,70,71,72,73,74,75,76,77,78,79,80,81,82,83,84,85,86,87,88,89,90,91,92,93,94,95,96,97,98,99,100,101,102,103,104,105,106,107,108,109,110,111,112,113,114,115,116,117,118,119,120,121,122,123,124,125,126,127,128,129,130,131,132,133,134,135,136,137,138,139,140,141,142,143,144,145,146,147,148,149,150,151,152,153,154,155,156,157,158,159,160,161,162,163,164,165,166,167,168,169,170,171,172,173,174,175,176,177,178,179,180,181,182,183,184,185,186,187,188,189,190,191,192,193,194,195,196,197,198,199,200,201,202,203,204,205,206,207,208,209,210,211,212,213,214,215,216,217,218,219,220,221,222,223,224,225,226,227,228,229,230,231,232,233,234,235,236,237,238,239,240,241,242,243,244,245,246,247,248,249,250,251,252,253,254,255,256,257,258,259,260,261,262,263,264,265,266,267,268,269,270,271,272,273,274,275,276,277,278,279,280,281,282,283,284,285,286,287,288,289,290,291,292,293,294,295,296,297,298,299,300,301,302,303,304,305,306,307,308,309,310,311,312,313,314,315,316,317,318,319,320,321,322,323,324,325,326,327,328,329,330,331,332,333,334,335,336,337,338,339,340,341,342,343,344,345,346,347,348,349,350,351,352,353,354,355,356,357,358,359,360,361,362,363,364,365,366,367,368,369,370,371,372,373,374,375,376,377,378,379,380,381,382,383,384,385,386,387,388,389,390,391,392,393,394,395,396,397,398,399,400,401,402,403,404,405,406,407,408,409,410,411,412,413,414,415,416,417,418,419,420,421,422,423,424,425,426,427,428,429,430,431,432,433,434,435,436,437,438,439,440,441,442,443,444,445,446,447,448,449,450,451,452,453,454,455,456,457,458,459,460,461,462,463,464,465,466,467,468,469,470,471,472,473,474,475,476,477,478,479,480,481,482,483,484,485,486,487,488,489,490,491,492,493,494,495,496,497,498,499,500,501,502,503,504,505,506,507,508,509,510,511,512,513,514,515,516,517,518,519,520,521,522,523,524,525,526,527,528,529,530,531,532,533,534,535,536,537,538,539,540,541,542,543,544,545,546,547,548,549,550,551,552,553,554,555,556,557,558,559,560,561,562,563,564,565,566,567,568,569,570,571,572,573,574,575,576,577,578,579,580,581,582,583,584,585,586,587,588,589,590,591,592,593,594,595,596,597,598,599,600,601,602,603,604,605,606,607,608,609,610,611,612,613,614,615,616,617,618,619,620,621,622,623,624,625,626,627,628,629,630,631,632,633,634,635,636,637,638,639,640,641,642,643,644,645,646,647,648,649,650,651,652,653,654,655,656,657,658,659,660,661,662,663,664,665,666,667,668,669,670,671,672,673,674,675,676,677,678,679,680,681,682,683,684,685,686,687,688,689,690,691,692,693,694,695,696,697,698,699,700,701,702,703,704,705,706,707,708,709,710,711,712,713,714,715,716,717,718,719,720,721,722,723,724,725,726,727,728,729,730,731,732,733,734,735,736,737,738,739,740,741,742,743,744,745,746,747,748,749,750,751,752,753,754,755,756,757,758,759,760,761,762,763,764,765,766,767,768,769,770,771,772,773,774,775,776,777,778,779,780,781,782,783,784,785,786,787,788,789,790,791,792,793,794,795,796,797,798,799,800,801,802,803,804,805,806,807,808,809,810,811,812,813,814,815,816,817,818,819,820,821,822,823,824,825,826,827,828,829,830,831,832,833,834,835,836,837,838,839,840,841,842,843,844,845,846,847,848,849,850,851,852,853,854,855,856,857,858,859,860,861,862,863,864,865,866,867,868,869,870,871,872,873,874,875,876,877,878,879,880,881,882,883,884,885,886,887,888,889,890,891,892,893,894,895,896,897,898,899,900,901,902,903,904,905,906,907,908,909,910,911,912,913,914,915,916,917,918,919,920,921,922,923,924,925,926,927,928,929,930,931,932,933,934,935,936,937,938,939,940,941,942,943,944,945,946,947,948,949,950,951,952,953,954,955,956,957,958,959,960,961,962,963,964,965,966,967,968,969,970,971,972,973,974,975,976,977,978,979,980,981,982,983,984,985,986,987,988,989,990,991,992,993,994,995,996,997,998,999,1000,1001,1002,1003,1004,1005,1006,1007,1008,1009,1010,1011,1012,1013,1014,1015,1016,1017,1018,1019,1020,1021,1022,1023,1024,1025,1026,1027,1028,1029,1030,1031,1032,1033,1034,1035,1036,1037,1038,1039,1040,1041,1042,1043,1044,1045,1046,1047,1048,1049,1050,1051,1052,1053,1054,1055,1056,1057,1058,1059,1060,1061,1062,1063,1064,1065,1066,1067,1068,1069,1070,1071,1072,1073,1074,1075,1076,1077,1078,1079,1080,1081,1082,1083,1084,1085,1086,1087,1088,1089,1090,1091,1092,1093,1094,1095],\"xaxis\":\"x\",\"y\":[8.043694225196795e-05,-0.005505198959420566,0.008895379496098558,0.0007499561968785177,-0.00010172907402453569,0.009143787700111948,0.009382732734448626,-0.0022380396285396776,-0.005147964304125132,0.00815252067647757,-0.0038728021901897136,0.003886996944704773,-0.001819294370345702,0.016986389569677587,-0.00022711607224082286,-0.0021576026862877525,0.004409837069342468,7.807114983276268e-05,-0.004970529872686953,-0.0015093755634337704,0.0021434079317726932,-0.0012893568684504558,-0.006468076474024847,0.000828027346711302,-0.0023255739480491536,0.006297739419844219,0.006115573403567759,0.012082101884727458,-0.0018547812566333077,0.004925579816722633,-0.0037663415313268105,0.0007641509513935988,-0.0011024592673356277,-0.0008990011192865564,-0.002427303022073711,0.009881914934894568,0.003789999455518605,0.0011048250597548116,0.0018500496717949832,0.0060587943855075635,-0.007035866654626883,0.008883550534002683,0.0020913604985508655,-0.0020535078198440117,0.0023066476086957698,-0.010132688931327143,0.0005890823123746034,-0.005448419941360393,0.010809305563211245,-0.012992931966109933,-0.0002247502798216391,0.0019470471609811298,-0.0006813482167224255,0.006792190035451859,-0.006636047735786291,-0.008171447015830955,-0.012226415222297194,0.00043767159754740245,-0.0029004615059087407,-0.003629125571014669,-8.990011192863843e-05,0.008689555555630304,-0.003423301630546457,-8.043694225194644e-05,0.00715415627558564,0.0017554179750279343,-0.0058293125208476,-0.020196769882498217,-0.002432034606912057,-0.0009889012312152164,0.0010172907402453137,-0.07355721789699371,0.018195309495876076,-0.009621677768785324,0.004338863296767235,-0.007958525698105191,0.00546261469587543,0.0023823529661093704,0.019229160783055612,0.0007972720452620207,-0.0004589637293199917,-0.008630410745150923,0.015304311159644026,0.006524855492085063,-0.0015590572042364357,0.0011166540218506872,-0.008329955107915706,-0.003305012009587678,-0.008109936412932414,0.011843156850390802,0.0005062795777034732,0.005349056659755019,0.003825486341806211,-0.001514107148272095,0.002874437789297805,-0.00200619197146053,0.013236608585284955,-0.003480080648606652,0.004154331488071547,-0.0017057363342252907,-0.010075909913266949,0.00012065541337794117,0.001175798832330066,-0.0018169285779265183,0.00021528711014492558,-0.005256790755407175,0.010799842393534553,-0.0011757988323300445,0.004610929424972377,-0.0025550558127091605,-0.006846603261092871,0.0002152871101449471,0.006397102701449593,0.008888282118841028,0.00029572405239689355,0.0008635142329989292,0.0032766225005575805,0.002048776235005687,-0.00045186635206246196,0.024230445957191867,-0.003349962065552019,0.004565979369008036,0.003423301630546414,-0.001909194482274362,-0.0002555055812708988,0.0029998247875140708,0.0035676149681161066,0.01956746909899762,-0.004114113016945574,-0.005947602141806315,-0.019283574008696642,-0.00373322043745841,0.005772533502787362,0.011469361648161145,0.011348706234783162,-0.010896839882720742,0.0014525965453735326,0.00712340097413638,0.0012373094352286285,0.0010054617781494381,-0.006167620836789629,-0.010707576489186731,0.0026378585473802903,0.0001703370541806279,-0.010638968509030617,0.0040265786974361195,-0.001305917415384699,0.008441147351616956,0.008810210969008287,-0.0035155675348942793,0.00633322630613189,-0.005632951750056037,0.017383842696098974,-0.015687569531550417,0.0033168409716835753,0.003009287957190763,-0.0038515100584171243,0.0009179274586399834,0.0017270284659978584,0.0008161983846154262,-0.00021055552530662263,0.0026023716610926633,-0.014093025441026334,0.004327034334671338,0.00011355803612038991,-0.0029667036936456706,0.001890268142920935,0.0023161107783724617,-0.0013958175273133375,-0.0018098312006689886,-0.001805099615830621,0.0010598750037904493,-0.001476254469565284,0.009160348247046191,-0.0014029149045708459,-0.007632046344259037,-0.0012609673594203368,-0.002070068366778255,-0.003600736061984593,0.0027348560365664802,0.0014809860544036516,-0.0011970909641026337,0.0022238448740246396,-0.0034256674229655977,-0.000423476843032343,0.0015921782981048577,-0.0012609673594203368,0.006117939195986942,-0.0019588761230770056,0.004107015639688066,-0.00459910046287648,0.001090630305239752,-0.001242041020066953,0.0015756177511706145,-0.0013461358865106507,0.00024367661917502306,-0.001298820038127148,-0.0014999123937570785,0.00048262165351172165,0.0003406741083612558,0.0008966353268673727,-0.00108116713556306,0.005323032943144084,0.0029879958254182383,0.0020345814804906275,-0.0012491383973245041,0.003723757267781675,0.005737046616499735,0.025789503161428258,-0.0012444068124861367,0.004672440027870918,-0.00022711607224077982,0.005604562241025918,0.011116858577704013,-0.01740750062029077,0.0037261230602008586,-0.0009250248358974486,0.013018955682720868,0.0005228401246377164,-0.003905923284058179,0.004085723507915456,-0.0019683392927536975,0.004923214024303493,-0.011800572586845666,0.003946141755184173,0.005055698399777266,-0.00048025586109258094,0.002228576458862964,0.0012656989442587044,0.009079911304794245,-0.007934867773913439,-0.004594368878038112,0.0025053741719064737,-0.007752701757636936,0.003125211785730337,-0.00046132952173915396,0.0026473217170569826,-0.010127957346488818,0.0032505987839466454,-0.0031914539734672668,0.004729219045931113,-0.0014123780742475377,0.0055335884684506636,-0.0013461358865106507,0.006404200078707101,-0.011854985812486677,-0.029439920864215582,0.007187277369454083,-0.008992376985284704,0.004830948119955627,0.0019044628974359944,-0.005921578425195379,0.002313744985953321,0.0027301244517281558,0.0011923593792643092,0.0012231146807135259,-0.0027372218289856637,0.008105204828094023,0.002604737453511804,0.0038869969447047517,-0.00020818973288743887,-0.0001963607707915201,0.0035202991197326038,-0.003787633663099421,-0.01190230166087018,0.00265205330189535,-0.006960161297213304,0.011859717397325002,-0.0012089199261985095,0.0009226590434783079,0.0011426777384616225,-0.0019683392927536975,0.003468251686510776,-0.0015921782981048577,-0.003693001966332415,-0.001119019814269871,-0.0006624218773690415,0.0030400432586400656,0.0027679771304349237,-0.004438226578372587,0.00165368890100342,0.005994917990189817,0.0030920906918619363,0.00579382563455993,0.0017838074840580533,0.0038586074356746756,-0.002595274283835155,-9.463169676700593e-05,0.0019304866140469298,-0.0042868158635453865,0.0009534143449276106,0.0034256674229655977,0.0058269467284283736,0.0037758047010035454,0.02117620794403676,0.004000554980825185,-0.0009131958738016159,0.004343594881605581,-0.0020061919714605084,0.000676616631884101,0.014107220195541392,-0.008975816438350505,0.004232402637904375,0.0024344003993312193,0.005609293825864243,-0.0008540510633222372,-0.004691366367224345,0.010868450373690624,0.0029004615059087407,0.034102897722409764,-0.0003785267870680237,-0.017738711558975287,0.015545621986399909,-0.003693001966332372,-0.0005772533502787276,0.009290466830100782,0.014168730798439999,0.0007381272347826636,-0.005964162688740558,-0.002879169374136173,0.018020240856857078,0.02239222524749278,0.0026567848867336745,0.0006718850470457766,0.020575296669566284,0.0003170161841695043,-0.006539050246600058,-0.001147409323299947,0.017932706537347624,-0.01013742051616551,-0.036903995946713175,-0.000799637837681269,0.0139132252171691,0.01078328184660031,0.03577314717034739,-0.021933261518172768,0.010667358018060692,0.0050509668149389415,-0.018287575400223896,0.011568724929766476,0.005533588468450707,-0.004677171612709286,-0.01997201960267662,0.005289911849275597,-0.007071353540914467,-0.0053679829991084465,0.01850522830278803,0.00872267664949879,0.002304281816276543,0.003808925794871989,0.04536406963768347,0.03485048812686916,0.007206203708807554,0.016948536890970797,-0.008722676649498703,-0.017639348277369873,0.025853379556746006,-0.01331704552753686,0.011433874761873476,0.022732899355853948,0.041157690716390076,-0.004707926914158545,0.0188932182595327,0.007350517046377203,0.035349670327315084,0.001954144538238724,0.009657164655072973,0.06703709398974697,0.018121969930881637,-0.023515976646600975,0.046750423995320076,0.06609787439933433,0.06297029682118485,0.026802062316835292,-0.010771452884504347,-0.04631038660535353,-0.06271715703233319,-0.031935831866445365,0.07856796624080668,0.04240209752887608,-0.05512059757436164,-0.017324697885619682,-0.004270255316611143,0.0183348912486074,-0.014850079015162337,-0.00912722715317762,-0.10954092059264782,0.05114370051772834,-0.021415152978373375,0.0036149308164996094,0.00018926339353401186,0.006103744441471883,-0.049577545936234375,0.07016703736031576,0.02176765604883068,-0.0003998189188406345,-0.027762574039020365,0.009673725202007044,0.04663450016678046,0.05109875046176406,-0.015775103851059957,0.03125684944214199,0.02261697552731442,-0.008895379496098558,0.17843043004660883,0.0026544190943144476,-0.0395513176637702,0.07466204295674837,-0.014745984148718768,-0.004835679704794038,0.034807903863324025,-0.015964367244593797,0.02922936533890896,0.06903145699911152,-0.012119954563434353,0.10211942977369529,4.021847112590867e-05,0.03610672390145122,-0.07868152427692698,-0.12308981377726383,0.018604591584393402,-0.06547093940825309,-0.013790204011371975,-0.004646416311260026,-0.02299550231438244,0.10492289379041783,-0.027712892398217722,0.04667471863790654,-0.04636953141583291,0.010146883685842246,0.0013461358865106939,0.049286553468675935,0.031278141573914606,0.059774111262879265,0.022929260126645642,0.04609273370278948,-0.012801302780156693,0.09292596043278069,-0.049184824394651334,-0.07868862165418458,0.030050295308362666,0.04780320162185302,-0.029709621200001583,0.010480460416945907,0.00022001869498335767,-0.016882294703233824,-0.07620217382163152,0.007925404604236748,-0.04693022421917735,-0.023840090208027902,0.08797672269186617,0.01961478494738112,-0.0021694316483837142,0.04380264664102787,0.027365120912599045,-0.0001821660162765897,-0.001062240796209504,0.006129768158082948,-0.04534987488316845,0.026974765163435145,0.018715783828094565,-0.027743647699666897,-0.04844196557503048,0.050377183773915646,0.0009912670236342494,0.03834949511482916,0.004880629760758228,-0.0027987324318840975,0.0869972846303278,-0.013338337659309384,0.005616391203121837,-0.04333895132686958,-0.03114329140602169,-0.09075416299197783,-0.013295753395764335,0.019827706265106885,-0.06291351780312479,-0.04948764582430582,-0.013331240282051961,-0.024885770457303422,-0.026605701546043685,0.11963812263768725,0.024258835466222005,-0.004603832047714805,-0.030230095532219944,0.09836964878930267,0.0020818973288741307,-0.028469945972353597,0.013343069244147836,-0.08112538784593498,0.08443039985552277,-0.024500146292977802,0.02190250621672342,0.03571873394470629,-0.014249167740691815,-0.056833431285844484,0.020099772393312027,-0.17294652321896095,0.007248787972352689,0.0031914539734673097,-0.07405640009743956,-0.007165985237681559,-0.06820342965240021,-0.015169460991750983,-0.1461539240718024,0.09487773917860001,-0.07839762918662596,0.003721391475362577,-0.06546384203099567,0.0953485318700159,-0.008878818949164228,0.02066519678149492,-0.01967629555027964,-0.06815138221917844,-0.02554819233467246,0.025160202377927703,0.03914440136767197,-0.01435326260713573,0.0205374439908596,0.03860026911126186,-0.05536190840111761,-0.03125684944214199,0.007019306107692768,-0.0529322395866248,-0.0045352240675586904,0.09337072940758552,-0.017170921378373123,0.015621327343813402,-0.04416697867358088,0.08411338367135326,0.03561227328584358,-0.008668263423857778,-0.04287052442787283,-0.006761434734002643,-0.054320959736680545,-0.006070623347603396,0.0020085577638797353,-0.09240548610056215,0.0192504529148282,0.02782171884949983,0.023366931724193043,-0.07254702453400592,0.01540840602608781,0.057521876879824595,-0.004880629760758228,0.032113266297883324,-0.0190611895212941,-0.0351816990655536,0.006416029040803106,0.021968748404460565,0.013139611096098637,-0.03807033160936642,0.012706671083389688,-0.008538144840802973,-0.023494684514828366,0.022027893214939774,-0.006792190035451817,0.0169603658530665,-0.0263856828510605,-0.008942695344482061,0.002197821157413661,-0.023184765707916454,-0.010605847415162174,0.00317489342653298,0.006328494721293522,-0.022373298908139397,-0.024642093838128397,0.05528147145886571,0.0039556049248608656,0.030883054239912423,0.005306472396209926,0.023624803097882997,0.04457862655451722,0.05104670302854211,0.013078100493200117,-0.00017980022385727685,0.05210184644749436,-0.01532323749899754,-0.03860263490368083,-0.016593668028094526,-0.02453563317926543,0.036634295610927174,0.026799696524415977,0.04558881991750511,0.04328217230880934,-0.018739441752286316,0.05889403648294618,-0.01627665184392502,-0.0006837140091414802,-0.02741716834582083,0.08055759766533295,-0.017225334604014222,-0.0021599684787068072,-0.02354673194805015,-0.028765670024750663,0.0007736141210703769,0.04802558610925551,0.06073698877748365,-0.010745429167893455,0.00908700868205171,0.006725947847714844,-0.043005374595765915,0.0304501142272033,-0.05116735844192018,0.05285416843679213,-0.0039201180385733244,-0.002893364128651103,-0.04221519992776138,0.0033428646882945534,0.03998662346889846,0.010799842393534553,0.01725845569788271,-0.0019139260671127295,0.04376479396232111,0.021356008167893997,-0.13945399994069826,-0.016861002571461215,0.007759799134894487,-0.03650654282029168,0.0074995619687852205,0.021285034395318914,-0.026291051154293494,0.050327502133113,0.02507266805841812,-0.009091740266890164,-0.011010397918841003,0.024197324863323315,-0.025105789152286777,-0.10338986030279244,-0.055856359016725254,0.06839032725351508,0.03119297304682433,-0.04843959978261116,-0.003120480200891883,0.012245341561650533,-0.02432744344637812,-0.02714983380245397,0.01215307565730284,0.05414825689008087,0.10224008518707318,-0.011362900989298135,0.01264989206532945,0.024294322352509633,0.052989018604685044,0.09115871349565675,-0.03646395855674646,0.003056603805574223,0.024093229996879746,-0.006028039084058347,0.06601507166466337,-0.03465176156365833,0.03230726127625579,-0.0005819849351170521,0.10230396158239101,-0.01911796853935434,0.015661545814939483,0.012550528783724162,0.05319011096031493,0.04027051855919948,-0.08976762755318204,-0.03573529449164062,0.014651352451951764,-0.010449705115496562,0.05211130961717093,-0.06521779961940125,-0.044344413105019014,0.05075334476856453,0.039340762138463575,-0.009579093505240211,-0.012600210424526807,-0.009340148470903384,0.054637975920850054,-0.007215666878484203,-0.0355531284753642,-0.01034324445663368,0.012082101884727586,0.04233348954871997,0.10058166470123127,-0.01476964207291052,-0.047552427625420654,-0.002746684998662485,-0.015332700668674102,0.006276447288071566,0.0262839537770359,-0.045352240675587595,-0.08318126145819822,0.006945966542698374,-0.0807421294740285,0.027800426717727134,0.03872329031705873,-0.023887406056411403,-0.05703688943389352,0.030007711044817444,-0.009172177209142153,0.041827209971016625,-0.12317261651193497,0.02410032737413734,0.05993735093980238,0.01198747018796058,-0.021583124240134775,0.007537414647492161,-0.016839710439688776,-0.06774919750791866,-0.1046981435105962,0.004946871948495201,0.027206612820514207,0.0011308487763656177,-0.0029028272983278383,-0.06815847959643602,-0.01075252654515105,0.05148200883367037,0.017707956257525987,-0.0797816177518436,0.039194083008474614,0.011954349094092093,-0.02953455256098259,-0.03449798505641212,0.01619148331683458,-0.0035770781377927555,0.004537589859977831,0.04736079843946733,-0.007073719333333694,0.05208055431572175,-0.0005039137852843754,-0.0090657165502791,0.008893013703679417,-0.002493545209810641,-0.07471645618238965,-0.02570906621917644,0.015439161327537157,-0.02138203188450506,0.03597187373355813,-0.010099567837458572,-0.02043334912441586,-0.01415690183634395,-0.056949355114384106,-0.007904112472464137,-0.036698172006245006,0.002855511449944335,0.003953239132441811,-0.0003950873340023531,0.021389129261762483,0.02758513960758223,-0.03170161841694699,0.012091565054404322,0.0005535954260870191,-2.365792419140722e-06,-0.020610783555853825,0.0036598808724638858,-0.016264822881829146,-0.022893773240357844,-0.09989795069208979,-0.03294365943701394,0.02830907208784979,0.009881914934894698,0.006134499742921057,-0.0038302179266445995,0.008616215990635993,0.01300002934336744,0.010274636476477738,-0.00590974946309959,0.01359857482541865,0.005538320053288988,-0.04308107995317945,0.009406390658640528,0.1012511839558579,-0.0036527834952064637,0.023191863085173875,0.03427323477659048,0.004833313912374725,0.00829683401404735,-0.02053271240602115,-0.026754746468451787,-0.004334131711928976,-0.003416204253288949,0.01157345651460493,0.0471762666307716,-0.01555035357123832,-0.07884476395385011,-0.012595478839688524,0.0021339447620960872,-0.04103703530301209,-0.03163774202162933,0.029096880963435014,-0.024216251202676786,0.025763479444817366,0.020591857216500527,-0.0025101057567447982,-0.03377168678372525,0.12966908249498987,0.029172586320848893,-0.012006396527313877,-0.03429925849320137,-0.07855140569387252,0.005985454820513126,-0.023497050307247677,-0.009363806395095134,0.017133068699666527,0.07564621260312537,-0.059561189945153505,-0.01637838091794962,0.0019896314245264374,-0.024150009014939813,0.044514750159199555,-0.00916271403946542,0.04344068040089401,-0.00482385074269799,0.020184940920402468,0.011000934749164441,-0.022829896845040182,-0.006151060289855386,0.03196185558305625,0.01275162113935405,0.026071032459310136,0.007523219892976972,0.005133769549610072,0.05481541035228819,0.005819849351170865,0.007641509513935729,-0.008848063647715055,-0.03657515080044779,0.01816928577926514,-0.011545067005574724,0.014052806969900382,0.00525205917056883,-0.026212980004460644,-0.0549100420490552,0.006671534622073918,-0.027798060925307993,0.01163969870234173,-0.014715228847269423,-0.06262252533556618,0.013508674713490097,0.025101057567448324,-0.028318535257526527,0.014762544695652927,-0.004471347672241031,-0.016063730526199256,0.026094690383501887,0.01641859938907553,-0.0030991880691194442,-0.02100823668227532,-0.018405865021182653,-0.006884455939799682,0.0007097377257525445,0.02278258099665668,-0.05512296336678096,0.026733454336679178,0.011947251716834499,-0.027608797531773983,-0.022238448740246396,0.019375839913044465,0.0009936328160535623,-0.01885536558082593,0.04662976858194218,-0.07433319781048316,-0.012562357745820037,-0.012656989442587044,-0.03331035726198609,-0.09335416886065136,0.021512150467559606,-0.04589164134715951,-0.002304281816276629,0.006863163808027158,0.018812781317280796,0.029101612548273554,-0.034524008773022925,0.013740522370569245,-0.041491267447493735,0.037982797289857005,-0.026669577941361516,0.005817483558751639,0.020194404090079034,-0.02824756148495127,0.013179829567224804,-0.002557421605128387,-0.007911209849721731,-0.014024417460870263,0.009628775146042854,0.010364536588406376,0.05342195861739399,0.001495180808918711,-0.04718809559286748,0.015540890401561584,-0.017857001179934003,0.003865704812932141,0.0011332145687849306,0.03445540079286681,-0.005713388692307983,-0.021897774631885226,-0.0024675214931996624,-0.023991500922855232,-0.016085022657971782,-0.04252985031951166,-0.09837674616656018,-0.006903382279153066,0.010418949814047389,-0.0518416092813851,0.0012609673594203368,-0.034538203527538024,0.0377059995768135,-0.00010882645128210846,0.0035202991197326896,-0.017847538010257354,0.026813891278931166,0.002980898448160687,0.00622203406243064,-0.010560897359197897,-0.0072748116889635814,-0.010643700093869028,-0.003943775962764989,-0.004369618598216517,-0.01570176428606539,-0.000761785158974415,0.0015732519587514737,0.021415152978373462,-0.0003596004477146398,0.009006571739799721,0.025548192334672377,-0.0006127402365663118,-0.0005417664639911434,-0.017506863901896097,-0.020913604985508313,-0.014958905466444447,0.021727437577704598,0.007949062528428499,0.005654243881828605,0.009101203436566813,-0.010035691442140997,0.04116951967848595,0.020840265420513916,-0.004655879480936675,-0.0015827151284282088,-0.011232782406243588,-0.0052804486795988625,0.0031299433705687042,-0.030291606135118547,-0.001251504189743602,0.04046214774515255,0.021109965756299833,-0.001795636446153972,-0.003312109386845208,-0.007826041322631374,-0.000761785158974415,-0.0066833635841697945,-0.003972165471795109,-0.0049705298726870385,0.01643989152084814,-0.00861148440579754,0.005467346280713733,0.015164729406912702,-0.015883930302341896,0.01922442919821731,-0.0006624218773690415,0.010963082070457672,0.0010314854947603303,-0.0032955488399109647,-0.004769437517057065,-0.005815117766332497,-0.012250073146488901,-0.0031725276341139255,-0.05607637771170853,0.007291372235897825,0.008949792721739569,-0.002377621381271024,0.0023823529661093916,-0.003572346552954474,0.004731584838350297,-0.03109360976521896,-0.005110111625418321,-0.011450435308807719,0.01761332456075898,-0.011899935868450997,0.005926310010033747,0.0018027338234113943,-0.004232402637904289,-0.0028720719968785787,0.003967433886956741,-0.004892458722854276,-0.023823529661093745,0.011715404059755352,0.0008493194784839127,0.048413576066000275,0.006780361073356027,0.004364887013378149,0.013217682245931572,-0.052515860120849925,0.0011119224370123198,-0.012316315334225789,0.002377621381271024,0.007350517046377203,-0.016444623105686507,0.002874437789297805,-0.015768006473802363,-0.009134324530435214,0.02166829276722522,-0.0026165664156076796,-0.008592558066444156,-0.002883900958974454,0.00999783876343423,-0.003496641195540852,0.007750335965217752,0.00408808930033464,-0.004031310282274487,-0.002626029585284415,-0.006143962912597878,0.01350157733623259,0.01680895513823943,-0.004329400127090522,-0.0047505111777036806,-0.010198931119064116,-0.0027253928668897883,0.0005843507275362789,-0.0072653485192869325,-0.0017790758992197288,0.0022782580996656508,0.005327764527982452,-0.0046842689899667935,-0.0026733454336679177,0.004568345161427264,0.006766166318840925,-0.005209474907023694,-0.004833313912374811,-0.0019446813685619032,0.002831853525752584,0.0009983644008919297,0.008668263423857778,-0.005670804428762848,0.017764735275586224,0.016151264845708755,-0.011275366669788723,0.007130498351393932,0.005100648455741585,-0.004331765919509748,-0.0030684327676701846,-0.00029808984481603427,-0.007771628096990363,0.0012396752276478123,0.02222661977815052,0.003688270381494005,-0.009046790210925802,-0.007743238587960243,-0.04877317651371482,-0.06274081495652498,0.04026815276678017,-0.012756352724192331,-0.0060256732916391205,-0.011341608857525696,0.00683004271415867,0.006626584566109556,-0.008396197295652635,0.003565249175696966,-0.001824025955184091,0.0011119224370123198,-0.009761259521516628,-0.011885741113935937,0.010321952324861156,0.009628775146042897,-8.753431950949771e-05,-0.0020889947061316387,-0.0013201121698997156,-0.0007286640651060146,-0.005072258946711467,0.005405835677815257,0.01710704498305555,-0.004528126690301269,0.0028720719968785787,-0.004942140363656919,0.005389275130880971,-0.0033215725565219427,0.0029099246755854326,-0.006013844329543244,0.009238419396878954,-0.0023634266267559215,3.5486886287627224e-05,-0.0007972720452620422,0.002772708715273291,0.013430603563657249,0.00042111105061324526,-0.010416584021628247,-0.017201676679822555,0.0035037385727983606,-0.0008493194784839127,-0.007092645672687078,0.01091813201449331,-0.0016773468251952146,-0.00026496875094763386,-0.000979438061538546,0.0013863543576366885,-9.226590434786521e-05,0.002041678857748136,-0.005017845721070542,-0.0037781704934227293,0.002133944762096001,-0.0006908113863991605,-0.0016513231085842363],\"yaxis\":\"y\",\"type\":\"scattergl\"}],                        {\"template\":{\"data\":{\"histogram2dcontour\":[{\"type\":\"histogram2dcontour\",\"colorbar\":{\"outlinewidth\":0,\"ticks\":\"\"},\"colorscale\":[[0.0,\"#0d0887\"],[0.1111111111111111,\"#46039f\"],[0.2222222222222222,\"#7201a8\"],[0.3333333333333333,\"#9c179e\"],[0.4444444444444444,\"#bd3786\"],[0.5555555555555556,\"#d8576b\"],[0.6666666666666666,\"#ed7953\"],[0.7777777777777778,\"#fb9f3a\"],[0.8888888888888888,\"#fdca26\"],[1.0,\"#f0f921\"]]}],\"choropleth\":[{\"type\":\"choropleth\",\"colorbar\":{\"outlinewidth\":0,\"ticks\":\"\"}}],\"histogram2d\":[{\"type\":\"histogram2d\",\"colorbar\":{\"outlinewidth\":0,\"ticks\":\"\"},\"colorscale\":[[0.0,\"#0d0887\"],[0.1111111111111111,\"#46039f\"],[0.2222222222222222,\"#7201a8\"],[0.3333333333333333,\"#9c179e\"],[0.4444444444444444,\"#bd3786\"],[0.5555555555555556,\"#d8576b\"],[0.6666666666666666,\"#ed7953\"],[0.7777777777777778,\"#fb9f3a\"],[0.8888888888888888,\"#fdca26\"],[1.0,\"#f0f921\"]]}],\"heatmap\":[{\"type\":\"heatmap\",\"colorbar\":{\"outlinewidth\":0,\"ticks\":\"\"},\"colorscale\":[[0.0,\"#0d0887\"],[0.1111111111111111,\"#46039f\"],[0.2222222222222222,\"#7201a8\"],[0.3333333333333333,\"#9c179e\"],[0.4444444444444444,\"#bd3786\"],[0.5555555555555556,\"#d8576b\"],[0.6666666666666666,\"#ed7953\"],[0.7777777777777778,\"#fb9f3a\"],[0.8888888888888888,\"#fdca26\"],[1.0,\"#f0f921\"]]}],\"heatmapgl\":[{\"type\":\"heatmapgl\",\"colorbar\":{\"outlinewidth\":0,\"ticks\":\"\"},\"colorscale\":[[0.0,\"#0d0887\"],[0.1111111111111111,\"#46039f\"],[0.2222222222222222,\"#7201a8\"],[0.3333333333333333,\"#9c179e\"],[0.4444444444444444,\"#bd3786\"],[0.5555555555555556,\"#d8576b\"],[0.6666666666666666,\"#ed7953\"],[0.7777777777777778,\"#fb9f3a\"],[0.8888888888888888,\"#fdca26\"],[1.0,\"#f0f921\"]]}],\"contourcarpet\":[{\"type\":\"contourcarpet\",\"colorbar\":{\"outlinewidth\":0,\"ticks\":\"\"}}],\"contour\":[{\"type\":\"contour\",\"colorbar\":{\"outlinewidth\":0,\"ticks\":\"\"},\"colorscale\":[[0.0,\"#0d0887\"],[0.1111111111111111,\"#46039f\"],[0.2222222222222222,\"#7201a8\"],[0.3333333333333333,\"#9c179e\"],[0.4444444444444444,\"#bd3786\"],[0.5555555555555556,\"#d8576b\"],[0.6666666666666666,\"#ed7953\"],[0.7777777777777778,\"#fb9f3a\"],[0.8888888888888888,\"#fdca26\"],[1.0,\"#f0f921\"]]}],\"surface\":[{\"type\":\"surface\",\"colorbar\":{\"outlinewidth\":0,\"ticks\":\"\"},\"colorscale\":[[0.0,\"#0d0887\"],[0.1111111111111111,\"#46039f\"],[0.2222222222222222,\"#7201a8\"],[0.3333333333333333,\"#9c179e\"],[0.4444444444444444,\"#bd3786\"],[0.5555555555555556,\"#d8576b\"],[0.6666666666666666,\"#ed7953\"],[0.7777777777777778,\"#fb9f3a\"],[0.8888888888888888,\"#fdca26\"],[1.0,\"#f0f921\"]]}],\"mesh3d\":[{\"type\":\"mesh3d\",\"colorbar\":{\"outlinewidth\":0,\"ticks\":\"\"}}],\"scatter\":[{\"fillpattern\":{\"fillmode\":\"overlay\",\"size\":10,\"solidity\":0.2},\"type\":\"scatter\"}],\"parcoords\":[{\"type\":\"parcoords\",\"line\":{\"colorbar\":{\"outlinewidth\":0,\"ticks\":\"\"}}}],\"scatterpolargl\":[{\"type\":\"scatterpolargl\",\"marker\":{\"colorbar\":{\"outlinewidth\":0,\"ticks\":\"\"}}}],\"bar\":[{\"error_x\":{\"color\":\"#2a3f5f\"},\"error_y\":{\"color\":\"#2a3f5f\"},\"marker\":{\"line\":{\"color\":\"#E5ECF6\",\"width\":0.5},\"pattern\":{\"fillmode\":\"overlay\",\"size\":10,\"solidity\":0.2}},\"type\":\"bar\"}],\"scattergeo\":[{\"type\":\"scattergeo\",\"marker\":{\"colorbar\":{\"outlinewidth\":0,\"ticks\":\"\"}}}],\"scatterpolar\":[{\"type\":\"scatterpolar\",\"marker\":{\"colorbar\":{\"outlinewidth\":0,\"ticks\":\"\"}}}],\"histogram\":[{\"marker\":{\"pattern\":{\"fillmode\":\"overlay\",\"size\":10,\"solidity\":0.2}},\"type\":\"histogram\"}],\"scattergl\":[{\"type\":\"scattergl\",\"marker\":{\"colorbar\":{\"outlinewidth\":0,\"ticks\":\"\"}}}],\"scatter3d\":[{\"type\":\"scatter3d\",\"line\":{\"colorbar\":{\"outlinewidth\":0,\"ticks\":\"\"}},\"marker\":{\"colorbar\":{\"outlinewidth\":0,\"ticks\":\"\"}}}],\"scattermapbox\":[{\"type\":\"scattermapbox\",\"marker\":{\"colorbar\":{\"outlinewidth\":0,\"ticks\":\"\"}}}],\"scatterternary\":[{\"type\":\"scatterternary\",\"marker\":{\"colorbar\":{\"outlinewidth\":0,\"ticks\":\"\"}}}],\"scattercarpet\":[{\"type\":\"scattercarpet\",\"marker\":{\"colorbar\":{\"outlinewidth\":0,\"ticks\":\"\"}}}],\"carpet\":[{\"aaxis\":{\"endlinecolor\":\"#2a3f5f\",\"gridcolor\":\"white\",\"linecolor\":\"white\",\"minorgridcolor\":\"white\",\"startlinecolor\":\"#2a3f5f\"},\"baxis\":{\"endlinecolor\":\"#2a3f5f\",\"gridcolor\":\"white\",\"linecolor\":\"white\",\"minorgridcolor\":\"white\",\"startlinecolor\":\"#2a3f5f\"},\"type\":\"carpet\"}],\"table\":[{\"cells\":{\"fill\":{\"color\":\"#EBF0F8\"},\"line\":{\"color\":\"white\"}},\"header\":{\"fill\":{\"color\":\"#C8D4E3\"},\"line\":{\"color\":\"white\"}},\"type\":\"table\"}],\"barpolar\":[{\"marker\":{\"line\":{\"color\":\"#E5ECF6\",\"width\":0.5},\"pattern\":{\"fillmode\":\"overlay\",\"size\":10,\"solidity\":0.2}},\"type\":\"barpolar\"}],\"pie\":[{\"automargin\":true,\"type\":\"pie\"}]},\"layout\":{\"autotypenumbers\":\"strict\",\"colorway\":[\"#636efa\",\"#EF553B\",\"#00cc96\",\"#ab63fa\",\"#FFA15A\",\"#19d3f3\",\"#FF6692\",\"#B6E880\",\"#FF97FF\",\"#FECB52\"],\"font\":{\"color\":\"#2a3f5f\"},\"hovermode\":\"closest\",\"hoverlabel\":{\"align\":\"left\"},\"paper_bgcolor\":\"white\",\"plot_bgcolor\":\"#E5ECF6\",\"polar\":{\"bgcolor\":\"#E5ECF6\",\"angularaxis\":{\"gridcolor\":\"white\",\"linecolor\":\"white\",\"ticks\":\"\"},\"radialaxis\":{\"gridcolor\":\"white\",\"linecolor\":\"white\",\"ticks\":\"\"}},\"ternary\":{\"bgcolor\":\"#E5ECF6\",\"aaxis\":{\"gridcolor\":\"white\",\"linecolor\":\"white\",\"ticks\":\"\"},\"baxis\":{\"gridcolor\":\"white\",\"linecolor\":\"white\",\"ticks\":\"\"},\"caxis\":{\"gridcolor\":\"white\",\"linecolor\":\"white\",\"ticks\":\"\"}},\"coloraxis\":{\"colorbar\":{\"outlinewidth\":0,\"ticks\":\"\"}},\"colorscale\":{\"sequential\":[[0.0,\"#0d0887\"],[0.1111111111111111,\"#46039f\"],[0.2222222222222222,\"#7201a8\"],[0.3333333333333333,\"#9c179e\"],[0.4444444444444444,\"#bd3786\"],[0.5555555555555556,\"#d8576b\"],[0.6666666666666666,\"#ed7953\"],[0.7777777777777778,\"#fb9f3a\"],[0.8888888888888888,\"#fdca26\"],[1.0,\"#f0f921\"]],\"sequentialminus\":[[0.0,\"#0d0887\"],[0.1111111111111111,\"#46039f\"],[0.2222222222222222,\"#7201a8\"],[0.3333333333333333,\"#9c179e\"],[0.4444444444444444,\"#bd3786\"],[0.5555555555555556,\"#d8576b\"],[0.6666666666666666,\"#ed7953\"],[0.7777777777777778,\"#fb9f3a\"],[0.8888888888888888,\"#fdca26\"],[1.0,\"#f0f921\"]],\"diverging\":[[0,\"#8e0152\"],[0.1,\"#c51b7d\"],[0.2,\"#de77ae\"],[0.3,\"#f1b6da\"],[0.4,\"#fde0ef\"],[0.5,\"#f7f7f7\"],[0.6,\"#e6f5d0\"],[0.7,\"#b8e186\"],[0.8,\"#7fbc41\"],[0.9,\"#4d9221\"],[1,\"#276419\"]]},\"xaxis\":{\"gridcolor\":\"white\",\"linecolor\":\"white\",\"ticks\":\"\",\"title\":{\"standoff\":15},\"zerolinecolor\":\"white\",\"automargin\":true,\"zerolinewidth\":2},\"yaxis\":{\"gridcolor\":\"white\",\"linecolor\":\"white\",\"ticks\":\"\",\"title\":{\"standoff\":15},\"zerolinecolor\":\"white\",\"automargin\":true,\"zerolinewidth\":2},\"scene\":{\"xaxis\":{\"backgroundcolor\":\"#E5ECF6\",\"gridcolor\":\"white\",\"linecolor\":\"white\",\"showbackground\":true,\"ticks\":\"\",\"zerolinecolor\":\"white\",\"gridwidth\":2},\"yaxis\":{\"backgroundcolor\":\"#E5ECF6\",\"gridcolor\":\"white\",\"linecolor\":\"white\",\"showbackground\":true,\"ticks\":\"\",\"zerolinecolor\":\"white\",\"gridwidth\":2},\"zaxis\":{\"backgroundcolor\":\"#E5ECF6\",\"gridcolor\":\"white\",\"linecolor\":\"white\",\"showbackground\":true,\"ticks\":\"\",\"zerolinecolor\":\"white\",\"gridwidth\":2}},\"shapedefaults\":{\"line\":{\"color\":\"#2a3f5f\"}},\"annotationdefaults\":{\"arrowcolor\":\"#2a3f5f\",\"arrowhead\":0,\"arrowwidth\":1},\"geo\":{\"bgcolor\":\"white\",\"landcolor\":\"#E5ECF6\",\"subunitcolor\":\"white\",\"showland\":true,\"showlakes\":true,\"lakecolor\":\"white\"},\"title\":{\"x\":0.05},\"mapbox\":{\"style\":\"light\"}}},\"xaxis\":{\"anchor\":\"y\",\"domain\":[0.0,1.0],\"title\":{\"text\":\"index\"}},\"yaxis\":{\"anchor\":\"x\",\"domain\":[0.0,1.0],\"title\":{\"text\":\"value\"}},\"legend\":{\"title\":{\"text\":\"variable\"},\"tracegroupgap\":0},\"margin\":{\"t\":60}},                        {\"responsive\": true}                    ).then(function(){\n",
              "                            \n",
              "var gd = document.getElementById('496f95af-a1c2-449d-8b65-5ca5c7382ae9');\n",
              "var x = new MutationObserver(function (mutations, observer) {{\n",
              "        var display = window.getComputedStyle(gd).display;\n",
              "        if (!display || display === 'none') {{\n",
              "            console.log([gd, 'removed!']);\n",
              "            Plotly.purge(gd);\n",
              "            observer.disconnect();\n",
              "        }}\n",
              "}});\n",
              "\n",
              "// Listen for the removal of the full notebook cells\n",
              "var notebookContainer = gd.closest('#notebook-container');\n",
              "if (notebookContainer) {{\n",
              "    x.observe(notebookContainer, {childList: true});\n",
              "}}\n",
              "\n",
              "// Listen for the clearing of the current output cell\n",
              "var outputEl = gd.closest('.output');\n",
              "if (outputEl) {{\n",
              "    x.observe(outputEl, {childList: true});\n",
              "}}\n",
              "\n",
              "                        })                };                            </script>        </div>\n",
              "</body>\n",
              "</html>"
            ]
          },
          "metadata": {}
        },
        {
          "output_type": "display_data",
          "data": {
            "text/html": [
              "<html>\n",
              "<head><meta charset=\"utf-8\" /></head>\n",
              "<body>\n",
              "    <div>            <script src=\"https://cdnjs.cloudflare.com/ajax/libs/mathjax/2.7.5/MathJax.js?config=TeX-AMS-MML_SVG\"></script><script type=\"text/javascript\">if (window.MathJax && window.MathJax.Hub && window.MathJax.Hub.Config) {window.MathJax.Hub.Config({SVG: {font: \"STIX-Web\"}});}</script>                <script type=\"text/javascript\">window.PlotlyConfig = {MathJaxConfig: 'local'};</script>\n",
              "        <script src=\"https://cdn.plot.ly/plotly-2.18.2.min.js\"></script>                <div id=\"4a47b3e4-bd3c-49cb-b4a1-6f8bbc793b80\" class=\"plotly-graph-div\" style=\"height:525px; width:100%;\"></div>            <script type=\"text/javascript\">                                    window.PLOTLYENV=window.PLOTLYENV || {};                                    if (document.getElementById(\"4a47b3e4-bd3c-49cb-b4a1-6f8bbc793b80\")) {                    Plotly.newPlot(                        \"4a47b3e4-bd3c-49cb-b4a1-6f8bbc793b80\",                        [{\"hovertemplate\":\"variable=Cardano<br>index=%{x}<br>value=%{y}<extra></extra>\",\"legendgroup\":\"Cardano\",\"line\":{\"color\":\"#636efa\",\"dash\":\"solid\"},\"marker\":{\"symbol\":\"circle\"},\"mode\":\"lines\",\"name\":\"Cardano\",\"showlegend\":true,\"x\":[0,1,2,3,4,5,6,7,8,9,10,11,12,13,14,15,16,17,18,19,20,21,22,23,24,25,26,27,28,29,30,31,32,33,34,35,36,37,38,39,40,41,42,43,44,45,46,47,48,49,50,51,52,53,54,55,56,57,58,59,60,61,62,63,64,65,66,67,68,69,70,71,72,73,74,75,76,77,78,79,80,81,82,83,84,85,86,87,88,89,90,91,92,93,94,95,96,97,98,99,100,101,102,103,104,105,106,107,108,109,110,111,112,113,114,115,116,117,118,119,120,121,122,123,124,125,126,127,128,129,130,131,132,133,134,135,136,137,138,139,140,141,142,143,144,145,146,147,148,149,150,151,152,153,154,155,156,157,158,159,160,161,162,163,164,165,166,167,168,169,170,171,172,173,174,175,176,177,178,179,180,181,182,183,184,185,186,187,188,189,190,191,192,193,194,195,196,197,198,199,200,201,202,203,204,205,206,207,208,209,210,211,212,213,214,215,216,217,218,219,220,221,222,223,224,225,226,227,228,229,230,231,232,233,234,235,236,237,238,239,240,241,242,243,244,245,246,247,248,249,250,251,252,253,254,255,256,257,258,259,260,261,262,263,264,265,266,267,268,269,270,271,272,273,274,275,276,277,278,279,280,281,282,283,284,285,286,287,288,289,290,291,292,293,294,295,296,297,298,299,300,301,302,303,304,305,306,307,308,309,310,311,312,313,314,315,316,317,318,319,320,321,322,323,324,325,326,327,328,329,330,331,332,333,334,335,336,337,338,339,340,341,342,343,344,345,346,347,348,349,350,351,352,353,354,355,356,357,358,359,360,361,362,363,364,365,366,367,368,369,370,371,372,373,374,375,376,377,378,379,380,381,382,383,384,385,386,387,388,389,390,391,392,393,394,395,396,397,398,399,400,401,402,403,404,405,406,407,408,409,410,411,412,413,414,415,416,417,418,419,420,421,422,423,424,425,426,427,428,429,430,431,432,433,434,435,436,437,438,439,440,441,442,443,444,445,446,447,448,449,450,451,452,453,454,455,456,457,458,459,460,461,462,463,464,465,466,467,468,469,470,471,472,473,474,475,476,477,478,479,480,481,482,483,484,485,486,487,488,489,490,491,492,493,494,495,496,497,498,499,500,501,502,503,504,505,506,507,508,509,510,511,512,513,514,515,516,517,518,519,520,521,522,523,524,525,526,527,528,529,530,531,532,533,534,535,536,537,538,539,540,541,542,543,544,545,546,547,548,549,550,551,552,553,554,555,556,557,558,559,560,561,562,563,564,565,566,567,568,569,570,571,572,573,574,575,576,577,578,579,580,581,582,583,584,585,586,587,588,589,590,591,592,593,594,595,596,597,598,599,600,601,602,603,604,605,606,607,608,609,610,611,612,613,614,615,616,617,618,619,620,621,622,623,624,625,626,627,628,629,630,631,632,633,634,635,636,637,638,639,640,641,642,643,644,645,646,647,648,649,650,651,652,653,654,655,656,657,658,659,660,661,662,663,664,665,666,667,668,669,670,671,672,673,674,675,676,677,678,679,680,681,682,683,684,685,686,687,688,689,690,691,692,693,694,695,696,697,698,699,700,701,702,703,704,705,706,707,708,709,710,711,712,713,714,715,716,717,718,719,720,721,722,723,724,725,726,727,728,729,730,731,732,733,734,735,736,737,738,739,740,741,742,743,744,745,746,747,748,749,750,751,752,753,754,755,756,757,758,759,760,761,762,763,764,765,766,767,768,769,770,771,772,773,774,775,776,777,778,779,780,781,782,783,784,785,786,787,788,789,790,791,792,793,794,795,796,797,798,799,800,801,802,803,804,805,806,807,808,809,810,811,812,813,814,815,816,817,818,819,820,821,822,823,824,825,826,827,828,829,830,831,832,833,834,835,836,837,838,839,840,841,842,843,844,845,846,847,848,849,850,851,852,853,854,855,856,857,858,859,860,861,862,863,864,865,866,867,868,869,870,871,872,873,874,875,876,877,878,879,880,881,882,883,884,885,886,887,888,889,890,891,892,893,894,895,896,897,898,899,900,901,902,903,904,905,906,907,908,909,910,911,912,913,914,915,916,917,918,919,920,921,922,923,924,925,926,927,928,929,930,931,932,933,934,935,936,937,938,939,940,941,942,943,944,945,946,947,948,949,950,951,952,953,954,955,956,957,958,959,960,961,962,963,964,965,966,967,968,969,970,971,972,973,974,975,976,977,978,979,980,981,982,983,984,985,986,987,988,989,990,991,992,993,994,995,996,997,998,999,1000,1001,1002,1003,1004,1005,1006,1007,1008,1009,1010,1011,1012,1013,1014,1015,1016,1017,1018,1019,1020,1021,1022,1023,1024,1025,1026,1027,1028,1029,1030,1031,1032,1033,1034,1035,1036,1037,1038,1039,1040,1041,1042,1043,1044,1045,1046,1047,1048,1049,1050,1051,1052,1053,1054,1055,1056,1057,1058,1059,1060,1061,1062,1063,1064,1065,1066,1067,1068,1069,1070,1071,1072,1073,1074,1075,1076,1077,1078,1079,1080,1081,1082,1083,1084,1085,1086,1087,1088,1089,1090,1091,1092,1093,1094,1095],\"xaxis\":\"x\",\"y\":[0.00034810119531601897,-0.00039782993750402313,0.0006962023906320379,0.0001491862265640091,9.945748437600493e-05,0.0013426760390760752,-0.0001491862265640091,-0.00034810119531601897,-4.972874218800074e-05,0.00034810119531601897,-9.945748437600493e-05,0.000596744906256033,-0.0005470161640680323,0.0024367083672121362,0.0005470161640680288,-0.000596744906256033,0.0016907772343920941,-4.972874218800074e-05,-0.00144213352345208,0.0008951173593840478,0.0011437610703240652,-0.0001989149687520133,-0.0012432185547000666,0.0008951173593840478,-0.0009448461015720519,0.0007956598750080428,0.001591319750016089,0.002536165851588141,0.00024864371094001405,0.0013924047812640759,-0.0010940323281360576,0.0010940323281360576,-0.00019891496875200986,0.0006464736484440372,-0.0004972874218800281,0.00164104849220409,0.00039782993750402313,-9.945748437600493e-05,4.972874218800074e-05,0.0009448461015720519,-0.0007956598750080428,0.001541591007828085,0.002386979625024132,0.00024864371094001405,0.0009945748437600562,-0.003182639500032178,-0.001193489812512066,-0.0008453886171960471,0.0012432185547000736,-0.0026356233359641494,0.00039782993750402313,0.00019891496875200986,-0.00019891496875200986,0.0016907772343920941,-0.0012929472968880745,-0.0013924047812640759,-0.0034312832109721888,0.00029837245312801475,-0.0004475586796920239,-0.0008951173593840478,-0.0006962023906320414,0.0017405059765800983,-0.00024864371094001405,0.0001491862265640091,0.0009448461015720519,0.00039782993750402313,-0.00144213352345208,-0.0029837245312801684,-0.000596744906256033,-9.945748437600493e-05,-0.0008453886171960471,-0.008205242461020456,0.0025858945937761455,-0.0012929472968880727,0.000596744906256033,-0.0013924047812640776,0.0007956598750080445,0.0001491862265640091,0.0020886071718961155,-0.00039782993750402313,-4.9728742188002465e-05,-0.001193489812512066,0.0011437610703240635,0.0004475586796920256,-0.0003481011953160207,0.0006464736484440372,-0.0009945748437600562,0.0004475586796920256,-0.0007956598750080445,0.0007956598750080445,0.0003978299375040214,0.00019891496875201157,0.0004972874218800264,0.0001989149687520133,9.945748437600493e-05,-0.0002983724531280182,0.002038878429708113,-0.00034810119531601897,0.0005470161640680323,-0.0001491862265640091,-0.00144213352345208,9.945748437600493e-05,0.0,-0.0001989149687520133,0.0,-0.000596744906256033,0.0012929472968880745,-9.945748437600837e-05,0.001094032328136061,-0.0004972874218800281,-0.0007956598750080428,0.0002983724531280182,0.001044303585948057,0.0020886071718961173,0.0004475586796920239,0.00024864371094001405,0.0018399634609561032,0.00029837245312801475,0.0001491862265640091,0.002287522140648127,-0.0018896922031441039,0.00164104849220409,0.0,-0.0009448461015720519,0.00019891496875200986,4.9728742188004186e-05,-0.0002983724531280182,0.0011437610703240652,0.0003978299375040197,-0.00024864371094001405,-0.0019394209453321046,0.00019891496875200986,0.00124321855470007,0.0005470161640680288,-0.00024864371094001405,-0.00034810119531601897,0.00034810119531601897,0.0001491862265640091,0.0014918622656400842,0.00124321855470007,4.972874218800074e-05,-0.002386979625024132,0.001790234718768099,-0.00039782993750402313,-0.0017405059765800948,0.00124321855470007,-0.0001989149687520133,0.0007956598750080463,0.004923145476612273,-0.00014918622656401255,0.006066906546936339,-0.0013426760390760717,0.003331825726596184,-0.0010443035859480604,0.003331825726596191,0.00164104849220409,-0.0017902347187681025,0.0004972874218800281,0.00014918622656400567,-4.972874218799729e-05,-0.0017405059765800983,0.0003481011953160155,-0.004127485601604223,0.002088607171896114,-0.00024864371094001405,-0.0012929472968880745,0.0008951173593840547,0.0004972874218800281,0.002088607171896114,-0.0008453886171960504,-0.0009448461015720519,-0.00019891496875200986,-0.0005470161640680323,0.002585894593776142,-0.0003978299375040197,-0.00014918622656400567,-0.0003978299375040266,-0.0005470161640680253,-0.0015913197500160925,0.00144213352345208,0.0017902347187681025,-0.0004475586796920239,0.006912295164132382,-0.0019891496875201124,0.0018399634609561066,0.0016907772343920941,-0.0008453886171960504,0.0033815544687841883,0.006265821515688348,0.006066906546936332,-0.0029339957890921575,-0.0027848095625281517,0.0033815544687841883,0.0008453886171960504,-0.001243218554700077,0.003978299375040218,-0.0008951173593840478,-0.0022875221406481235,-0.0018896922031441039,0.00024864371094001405,0.0005967449062560295,-0.00308318201565617,0.002635623335964146,0.0003481011953160155,0.00019891496875201674,-0.0010940323281360645,0.01069167957042059,0.002337250882836135,-0.004724230507860266,0.005022602960988278,-0.004773959250048264,0.0006464736484440475,-0.0008453886171960504,0.0026853520781521434,-0.005221517929740281,0.0017405059765800844,0.0030334532734681797,-0.0005470161640680392,0.0010443035859480673,-0.0027350808203401543,0.003978299375040225,-0.0007956598750080532,-0.0006464736484440338,-0.0035307406953481936,-9.945748437600837e-05,0.0013426760390760786,-0.0005470161640680253,4.972874218799729e-05,0.00019891496875201674,0.0008453886171960504,-0.0017405059765800983,-0.0036799269219122133,0.002188064656272129,-0.005519890382868313,0.001193489812512066,-0.001939420945332108,0.0010940323281360645,-0.00556961912505631,0.0009945748437600562,-0.003580469437536198,0.0010443035859480534,0.0034810119531601966,0.0006464736484440338,0.00248643710940014,0.0009945748437600562,-0.004773959250048264,-0.009995477179788558,0.0034312832109721922,-0.0058182628359963245,0.0012929472968880745,0.0004972874218800281,-0.0012929472968880745,0.0011437610703240618,0.0018399634609561066,-4.9728742188004186e-05,0.0003978299375040197,-0.0013426760390760717,0.0007956598750080463,-0.0017405059765800983,-0.0008453886171960504,0.0013426760390760786,-0.0014918622656400842,0.00019891496875200986,-0.0010443035859480534,-0.004773959250048271,0.0008951173593840547,-0.0024367083672121362,0.0029339957890921644,0.007160938875072396,-0.0006962023906320379,0.00288426704690416,-0.0004475586796920239,0.0003481011953160155,9.945748437600837e-05,-0.00164104849220409,-0.002585894593776149,0.00024864371094001405,0.0017405059765800983,0.00034810119531602244,-0.0022875221406481305,0.0003978299375040266,0.0012432185547000634,0.0025361658515881446,0.0018399634609560997,0.0007459311328200421,0.0014918622656400842,-9.945748437600837e-05,-0.0010940323281360576,-0.00019891496875200986,-0.0012929472968880745,0.0009448461015720519,0.0006962023906320449,0.0006962023906320379,-0.003132910757844174,0.0018399634609560997,0.0024367083672121362,-0.0013426760390760717,-4.9728742188004186e-05,-0.0007956598750080463,-0.00164104849220409,-0.00024864371094001405,-0.0018896922031441039,-0.00164104849220409,-0.0010443035859480604,-0.00014918622656400567,0.0025361658515881446,-0.002884267046904167,0.0006464736484440406,0.0008951173593840478,0.0010443035859480604,0.005718805351620316,-0.003878841890664216,0.002635623335964146,-0.0006464736484440338,0.0003481011953160155,0.0,-0.0006962023906320379,0.0008453886171960504,-0.0010940323281360645,-0.0017405059765800983,0.0016410484922040967,0.0027848095625281517,-0.0014918622656400842,-0.0002983724531280182,0.0061663640313123465,0.007509040070388418,0.006066906546936332,0.004376129312544244,-0.0011437610703240618,-0.005867991578184329,-0.008304699945396458,0.0014918622656400703,0.011636525671992649,0.0007956598750080532,0.0027848095625281517,-0.00825497120320846,0.0014918622656400842,0.0026853520781521434,-0.008105784976644454,0.006017177804748334,-0.0005967449062560227,-0.002337250882836135,-0.006315550257876346,0.003331825726596177,-0.003132910757844174,-0.00124321855470007,0.0025361658515881515,0.004823687992236261,0.0020886071718961207,-0.002188064656272129,0.007160938875072396,-0.002386979625024132,0.0007956598750080532,-0.00034810119531602244,-0.0011437610703240618,-0.004624773023484258,0.0019891496875201124,-0.009995477179788544,0.008205242461020449,0.0022377933984601265,0.0003978299375040197,-0.0018399634609561066,0.010840865796984608,0.007260396359448405,-0.0034810119531601966,-0.0012929472968880675,-0.003182639500032185,0.0010940323281360645,0.014122962781392774,0.009995477179788558,0.016311027437664903,0.036749540476934024,-0.01730560228142496,0.0029837245312801684,0.013078659195444722,-0.013874319070452761,-0.012830015484504735,0.005818262835996345,0.011934898125120646,-0.0008453886171960367,-0.005022602960988278,0.024217897445557357,0.015316452593904848,-0.005122060445364273,-0.0015913197500160789,0.003829113148476205,-0.03371608720346589,0.020935800461149148,-0.0017405059765800983,0.0037296556641002107,-0.00497287421880028,0.00019891496875201674,-0.015664553789220884,0.015813740015784877,0.0018896922031441177,0.008056056234456445,-0.009249546046968517,0.031428565062817736,0.008652801140712494,0.008006327492268447,-0.0011934898125120729,0.04962928470362676,0.04734176256297866,0.014272149007956767,0.0073598538438244265,0.013924047812640786,0.11666362917305449,-0.005519890382868306,-0.0021880646562721013,-0.006812837679756346,-0.033815544687841856,0.0078571412657044,0.005221517929740268,0.010592222086044637,0.010990052023548559,0.006066906546936332,0.09453433889939328,-0.007857141265704344,-0.001442133523452142,-0.06628841333660768,0.04192132966448635,0.013227845422008713,0.08279835574302465,0.03729655664100205,-0.0044258580547322,-0.00775768378132846,-0.035605779406610034,-0.005072331703176275,-0.05067358828957476,0.022726035179917187,-0.01457052146108486,0.0012432185547000426,-0.006415007742252312,0.03913652010195817,-0.0318263950003218,-0.004575044281296192,-0.045849900297338576,0.034412289594097874,-0.022974678890857286,-0.012034355609496668,0.1087567591651621,0.06370251874283148,-0.07280287856323597,0.03212476745344978,-0.04744122004735471,-0.006812837679756291,-0.041125669789478285,0.006613922711004412,-0.02232820524241321,0.014272149007956767,0.0587296445240312,-0.018747735804876965,0.0063652790000643155,0.006514465226628417,0.004923145476612173,-0.010691679570420632,-0.004326400570356205,0.003729655664100128,-0.013426760390760703,0.009249546046968489,0.01476943642983685,0.019990954359577116,-0.03873869016445419,0.023123865117421278,-0.008354428687584427,0.007857141265704455,0.022477391468977204,0.025958403422137344,0.04823687992236278,0.019543395679885032,0.013377031648572705,-0.033716087203465805,-0.019841768133013124,-0.046695288914534644,-0.04028028117228222,0.03555605066442204,-0.03127937883625383,-0.028892399211229516,0.005271246671928264,-0.0271518932346495,-0.0063652790000643155,0.07180830371947593,0.0363517105394301,0.014620250203272749,-0.014868893914212845,0.022477391468977315,-0.00014918622656410227,-0.012332728062624651,0.017653703476741025,0.004823687992236179,0.09349003531344517,0.08438967549304068,0.002735080820340182,-0.01621156995328888,0.07419528334450012,-0.06380197622720758,0.060072320563107344,-0.0972196909775454,0.17996831797838195,0.038042487773822006,0.08264916951646077,0.06375224748501959,-0.1337205877435394,-0.012730558000128631,-0.2654520257995588,0.16485078035322911,-0.127156393774723,-0.04202078714886234,-0.07349908095386816,0.11551986810273039,0.002287522140648096,0.11238695734488624,-0.06608949836785569,-0.06613922711004368,-0.05514917508649506,0.08667719763368888,0.08170432341488848,-0.002337250882836093,0.008901444851652509,0.045452070359834486,-0.06728298818036772,-0.025361658515881486,0.008702529882900519,-0.05514917508649506,0.009896019695412565,0.02123417291427716,-0.046446645203594546,-0.04749094878954271,0.020388784297081207,0.04042946739884621,0.008603072398524524,-0.009547918500096583,-0.03635171053942999,-0.0016410484922040208,-0.03381554468784191,-0.013526217875136807,0.0205379705236452,-0.12491860037626298,-0.011785711898556681,0.04903253979737073,0.05291138168803496,-0.05087250325832685,-0.001491862265640029,0.04167268595354625,-0.005768534093808348,0.022477391468977204,0.006265821515688321,-0.025262201031505383,0.031080463867501726,0.012631100515752745,0.020239598070517104,-0.02844484053153765,0.006116635289124329,-0.006216092773500323,-0.03550632192223393,0.00850361491414842,-0.006912295164132286,0.006265821515688431,-0.016509942406416976,-0.02476491360962541,-0.0009448461015720589,-0.018946650773628955,-0.026704334554957524,-0.00014918622656399187,0.005470161640680254,-0.030384261476869654,-0.033716087203465916,0.05728751100057917,0.008056056234456445,0.009846290953224568,0.004823687992236289,0.006017177804748334,0.013426760390760814,0.012581371773564639,0.002735080820340182,-0.0013426760390761476,0.012730558000128631,0.003083182015656163,-0.0007459311328200697,-0.0028345383047161765,0.027947553109657568,0.0055198903828682505,0.00497287421880028,0.007558768812576471,0.03630198179724199,-0.023422237570549374,0.02436708367212143,0.10015368676663758,0.059823676852167364,0.01551536756265681,0.15326398342342454,0.02580921719557335,-0.010393307117292647,-0.04674501765672253,-0.07330016598511617,0.09169980059467715,0.16614372765011715,0.008105784976644331,-0.00959764724228447,0.13466543384511145,0.10418171488386568,-0.09562837122752928,0.007906870007892561,-0.1021925651963458,0.20707048247084345,-0.049380640992686936,0.0031329107578441603,-0.058381543328715216,0.01755424599236492,0.0500768433833189,0.04550179910202248,0.002088607171896107,-0.06718353069599173,0.04028028117228222,-0.03893760513320618,-0.162911359407897,-0.017305602281425043,0.022974678890857175,-0.06658678578973576,0.12531643031376707,-0.025809217195573574,-0.08916363474308896,-0.004724230507860074,0.053458397852102935,-0.04226943085980233,-0.03456147582066198,0.012084084351684775,-0.04435803803169844,-0.10656869450889,-0.04246834582855432,0.13670431227481966,0.034810119531602075,-0.02471518486743741,0.010194392148540659,-0.044805596711390526,-0.03893760513320618,-0.04699366136766263,0.014321877750144764,0.02531192977369338,0.0701175264850839,-0.0032820969844080416,0.0011934898125121557,-0.030384261476869765,0.02128390165646527,-0.011487339445428587,0.03287069858626963,-0.020736885492397186,0.01457052146108486,-0.03898733387539429,-0.008801987367276514,-0.027102164492461722,0.03510849198472984,-0.007558768812576471,0.021731460336157353,-0.020239598070517215,-0.009647375984472578,-0.014172691523580883,-0.00905063107821661,0.03883814764883019,-0.02566003096900947,0.009000902336028502,0.004724230507860294,-0.023024407633045283,0.012730558000128631,-0.0039285706328523375,-0.11248641482926212,0.037246827898814054,0.012879744226692844,-0.02914104292216961,0.005072331703176275,-0.008354428687584427,0.010244120890728545,0.04609854400827845,-0.039086791359770064,-0.0005470161640679701,0.011487339445428698,0.006812837679756401,0.052662737977094976,0.07046562768039999,-0.08309672819615263,-0.01014466340635255,-0.017305602281425043,0.0026356233359641876,-0.005320975414116262,-0.010940323281360728,-0.07076400013352786,0.0005967449062560778,-0.043612106898878476,0.03734628538319005,0.028544298015913645,-0.04062838236759831,-0.030533447703433757,-0.012631100515752745,-0.041971058406674235,0.004823687992236289,-0.07210667617260401,0.005271246671928375,0.025013557320565396,0.0036799269219121304,-0.023720610023677355,-0.003033453273468166,0.0856826227899287,-0.08185350964145259,-0.0656916684303516,-0.02252712021116531,0.02198010404709723,-0.021333630398653155,0.00795659875008045,-0.0521654505552149,-0.03973326500821414,0.06981915403195581,-0.002635623335964077,-0.0611663528912434,0.021582274109593142,0.022427662726789317,-0.03530740695348194,-0.010741408312608629,0.011934898125120674,0.0010940323281360507,-0.004127485601604216,0.021830917820533237,0.023123865117421278,0.0726039635944841,-0.0407775685941623,0.030632905187809752,0.0007459311328199593,0.029638330344049696,-0.05768534093808315,-0.03451174707847387,0.014023505297016781,-0.02436708367212143,0.03485984827378996,-0.000447558679692086,-0.029240500406545605,-0.004575044281296192,-0.040131094945718225,0.02566003096900936,-0.036650082992557974,-0.013973776554828784,-0.005967449062560337,-0.0225271202111652,0.03103073512531373,0.059425846914663384,-0.03834086022695021,0.03028480399249366,-0.00024864371093998646,0.05907774571934729,0.0947829826103332,-0.07131101629759595,-0.06037069301623533,-0.03709764167225006,-0.06882457918819575,-0.02451626989868542,0.026505419586205534,-0.029240500406545605,-0.012084084351684666,0.016907772343920956,-0.016708857375168966,0.0032323682422201547,0.005370704156304369,-0.011437610703240701,0.007658226296952466,0.021532545367405145,-0.033915002172217906,0.01611211246891289,0.03918624884414617,-0.006564193968816304,0.008901444851652509,0.02809673933622156,-0.011785711898556681,0.009100359820404497,-0.021333630398653155,-0.035406864437857934,-0.01089059453917262,-0.007608497554764468,0.0037793844062882355,0.028146468078409558,-0.012084084351684666,-0.030533447703433757,-0.012631100515752692,0.00044755867969203077,-0.03376581594565386,-0.03575496563317403,0.014868893914212845,-0.011835440640744679,-0.0055696191250563035,0.02247739146897726,-0.006166364031312326,-0.01452079271889681,0.05316002539897495,0.00024864371094004164,-0.012631100515752692,-0.017852618445493015,-0.02849456927372559,0.009647375984472522,-0.020886071718961122,-0.014073234039204779,0.003928570632852172,0.02317359385960933,-0.02068715675020919,-0.008851716109464456,0.0004475586796919756,-0.0009945748437600562,0.007608497554764468,-0.0020388784297081094,0.019742310648637077,-0.001442133523452087,0.008056056234456445,0.025461116000257425,-0.012133813093872663,0.019543395679885087,0.028295654304973546,0.06544302471941166,0.01218354183606066,-0.017056958570484948,0.028295654304973546,0.015614825047032804,-0.008553343656336417,0.011487339445428587,-0.000348101195315981,-0.023770338765865352,0.011984626867308671,-0.005221517929740268,0.015167266367340828,0.013426760390760703,-0.020786614234585075,-0.058978288234971296,0.018896922031441065,-0.03217449619563778,0.010045205921976556,-0.009498189757908476,-0.05296111043022296,0.016907772343920956,0.009896019695412565,-0.02038878429708115,0.011238695734488657,-0.002436708367212143,-0.018001804672057004,0.01133815321886465,0.0078571412657044,-0.007608497554764413,-0.013377031648572705,-0.0019891496875201124,-0.00979656221103657,-0.00014918622656399187,0.005718805351620295,-0.03540686443785799,0.006962023906320393,0.0015415910078280814,-0.019245023226757103,-0.023969253734617342,0.016261298695476933,-0.004276671828168209,-0.00497287421880028,0.06370251874283153,-0.05485080263336708,-0.002735080820340127,-0.011437610703240645,-0.00994574843760056,-0.06872512170381986,0.013178116679820715,-0.056243207414631166,-0.021482816625217175,0.02834538304716157,0.004177214343792214,0.029886974054989683,-0.02063742800802114,0.010592222086044581,-0.03645116802380604,0.014272149007956822,-0.008354428687584483,0.006116635289124329,0.00656419396881636,-0.014471063976708757,0.00452531553910825,-0.003679926921912241,-0.01765370347674097,-0.011835440640744679,0.00452531553910825,0.008652801140712466,0.043512649414502426,0.027649180656529528,-0.03684899796131002,0.018101262156433,-0.013874319070452733,0.003083182015656163,0.0005967449062560227,0.020935800461149175,0.0022377933984600988,0.01337703164857276,-0.004326400570356261,-0.02874321298466558,-0.010343578375104596,-0.031229650094065718,-0.013476489132948756,0.009896019695412565,0.02556057348463342,-0.029339957890921656,0.005470161640680309,-0.015863468757972874,0.0146699789454608,0.0033815544687842017,-0.005022602960988278,-0.01108950950792461,0.010343578375104568,0.0090506310782165,0.00019891496875201674,-0.0042766718281682355,-0.0023869796250241457,-0.007608497554764413,-0.0018896922031441177,-0.003331825726596177,-0.0052215179297402945,0.0034810119531601966,9.945748437602218e-05,0.006663651453192354,-0.00576853409380832,0.0022875221406481235,0.0077079550391404355,-0.005718805351620323,0.005818262835996318,-0.007906870007892424,-0.01357594661732475,-0.00875225862508846,0.010791137054796599,0.0012929472968880675,0.00014918622656399187,0.007906870007892452,-0.005122060445364273,0.02183091782053321,0.011984626867308643,-0.01233272806262468,0.00437612931254423,-0.008503614914148475,0.01730560228142496,-0.0023869796250241457,-0.01859854957831303,-0.0033815544687841744,0.021283901656465185,0.0010443035859480534,0.003978299375040225,0.0019891496875201124,-0.004276671828168209,-0.002088607171896162,-0.007906870007892424,0.0019394209453320874,-0.0005470161640679978,0.009050631078216471,-0.003083182015656163,0.008006327492268447,0.004873416734424286,-0.012034355609496668,0.012084084351684666,-0.0035307406953481936,0.00497287421880028,0.00949818975790853,0.005072331703176275,-0.009746833468848517,0.003580469437536191,-0.009398732273532537,-0.013078659195444722,-0.030682633929997722,0.0003978299375040059,0.005917720320372339,-0.0003978299375040335,0.001442133523452087,-0.0034810119531601966,0.0033318257265962047,-0.016559671148604918,0.009000902336028502,-0.01029384963291657,0.010691679570420604,0.0010940323281360507,-0.00328209698440818,0.0055696191250563035,-0.0014918622656400842,0.012879744226692733,0.011537068187616612,-0.002386979625024118,-0.018001804672057004,0.008056056234456445,0.00019891496875198915,0.011686254414180633,0.0047739592500482915,-0.001143761070324048,-0.004276671828168263,-0.018797464547065046,0.008752258625088489,-0.007409582586012424,0.0041772143437922415,0.005669076609432298,-0.019195294484569077,0.00263562333596416,-0.0052215179297402945,-0.0012929472968880675,0.009299274789156514,0.0019891496875201124,-0.005470161640680309,-0.002436708367212143,0.0005470161640680253,-0.0029837245312801406,-0.0025858945937761624,0.0010443035859480534,-0.0017405059765800983,-0.002337250882836121,-0.005320975414116289,0.004077756859416219,0.003978299375040225,-0.002337250882836121,-0.0010940323281360507,-0.0023869796250241457,-0.0009945748437600562,0.0004972874218800281,-0.010840865796984596,-0.0051220604453643005,-0.004724230507860266,-0.0021383359140841043,-0.00497287421880028,-0.0013924047812640897,0.003132910757844188,0.0009945748437600562,-0.00497287421880028,-0.006216092773500351,-0.004773959250048264,0.00437612931254423,0.0011437610703240756,0.005370704156304287,-0.0024367083672121154,0.021283901656465185,0.0015415910078280814,-0.007409582586012424,0.008105784976644468,0.007956598750080422,-0.007359853843824399,4.972874218799729e-05,-0.0022875221406481235,-0.007658226296952438,0.0017405059765800983,0.016012654984536894,0.00248643710940014,-0.011984626867308671,0.0007956598750080394,-0.015664553789220857,-0.027649180656529528,0.025809217195573435,-0.0064150077422523676,-0.00810578497664444,-0.004873416734424286,0.0011934898125120729,0.00248643710940014,-0.0042766718281682355,-0.0015913197500160789,-0.0010443035859480534,0.0015913197500161064,-0.007857141265704455,-0.0037793844062882077,0.00387884189066423,0.0031329107578441603,-0.0011934898125120453,-0.0008951173593840615,-0.0004972874218800281,-0.00044755867969203077,-0.0029837245312801684,0.0012929472968880675,0.004773959250048264,-0.002088607171896107,0.002386979625024118,0.00019891496875201674,0.001442133523452087,-0.001442133523452087,-0.0005470161640680253,-0.003978299375040225,0.0020886071718961346,-0.001292947296888095,0.0003978299375040059,-0.002585894593776135,-0.00024864371094001405,0.0035307406953481936,-0.003083182015656163,-0.003829113148476205,-0.018300177125185016,0.0017405059765800983,-0.0004972874218800281,-0.0065144652266283624,0.0029339957890921436,-0.002635623335964132,0.0015913197500160789,0.0013426760390760923,-9.945748437602218e-05,0.0,0.003033453273468166,-0.002436708367212143,-0.00601717780474832,-0.0021383359140841177,0.0008951173593840478,-4.972874218799729e-05],\"yaxis\":\"y\",\"type\":\"scattergl\"}],                        {\"template\":{\"data\":{\"histogram2dcontour\":[{\"type\":\"histogram2dcontour\",\"colorbar\":{\"outlinewidth\":0,\"ticks\":\"\"},\"colorscale\":[[0.0,\"#0d0887\"],[0.1111111111111111,\"#46039f\"],[0.2222222222222222,\"#7201a8\"],[0.3333333333333333,\"#9c179e\"],[0.4444444444444444,\"#bd3786\"],[0.5555555555555556,\"#d8576b\"],[0.6666666666666666,\"#ed7953\"],[0.7777777777777778,\"#fb9f3a\"],[0.8888888888888888,\"#fdca26\"],[1.0,\"#f0f921\"]]}],\"choropleth\":[{\"type\":\"choropleth\",\"colorbar\":{\"outlinewidth\":0,\"ticks\":\"\"}}],\"histogram2d\":[{\"type\":\"histogram2d\",\"colorbar\":{\"outlinewidth\":0,\"ticks\":\"\"},\"colorscale\":[[0.0,\"#0d0887\"],[0.1111111111111111,\"#46039f\"],[0.2222222222222222,\"#7201a8\"],[0.3333333333333333,\"#9c179e\"],[0.4444444444444444,\"#bd3786\"],[0.5555555555555556,\"#d8576b\"],[0.6666666666666666,\"#ed7953\"],[0.7777777777777778,\"#fb9f3a\"],[0.8888888888888888,\"#fdca26\"],[1.0,\"#f0f921\"]]}],\"heatmap\":[{\"type\":\"heatmap\",\"colorbar\":{\"outlinewidth\":0,\"ticks\":\"\"},\"colorscale\":[[0.0,\"#0d0887\"],[0.1111111111111111,\"#46039f\"],[0.2222222222222222,\"#7201a8\"],[0.3333333333333333,\"#9c179e\"],[0.4444444444444444,\"#bd3786\"],[0.5555555555555556,\"#d8576b\"],[0.6666666666666666,\"#ed7953\"],[0.7777777777777778,\"#fb9f3a\"],[0.8888888888888888,\"#fdca26\"],[1.0,\"#f0f921\"]]}],\"heatmapgl\":[{\"type\":\"heatmapgl\",\"colorbar\":{\"outlinewidth\":0,\"ticks\":\"\"},\"colorscale\":[[0.0,\"#0d0887\"],[0.1111111111111111,\"#46039f\"],[0.2222222222222222,\"#7201a8\"],[0.3333333333333333,\"#9c179e\"],[0.4444444444444444,\"#bd3786\"],[0.5555555555555556,\"#d8576b\"],[0.6666666666666666,\"#ed7953\"],[0.7777777777777778,\"#fb9f3a\"],[0.8888888888888888,\"#fdca26\"],[1.0,\"#f0f921\"]]}],\"contourcarpet\":[{\"type\":\"contourcarpet\",\"colorbar\":{\"outlinewidth\":0,\"ticks\":\"\"}}],\"contour\":[{\"type\":\"contour\",\"colorbar\":{\"outlinewidth\":0,\"ticks\":\"\"},\"colorscale\":[[0.0,\"#0d0887\"],[0.1111111111111111,\"#46039f\"],[0.2222222222222222,\"#7201a8\"],[0.3333333333333333,\"#9c179e\"],[0.4444444444444444,\"#bd3786\"],[0.5555555555555556,\"#d8576b\"],[0.6666666666666666,\"#ed7953\"],[0.7777777777777778,\"#fb9f3a\"],[0.8888888888888888,\"#fdca26\"],[1.0,\"#f0f921\"]]}],\"surface\":[{\"type\":\"surface\",\"colorbar\":{\"outlinewidth\":0,\"ticks\":\"\"},\"colorscale\":[[0.0,\"#0d0887\"],[0.1111111111111111,\"#46039f\"],[0.2222222222222222,\"#7201a8\"],[0.3333333333333333,\"#9c179e\"],[0.4444444444444444,\"#bd3786\"],[0.5555555555555556,\"#d8576b\"],[0.6666666666666666,\"#ed7953\"],[0.7777777777777778,\"#fb9f3a\"],[0.8888888888888888,\"#fdca26\"],[1.0,\"#f0f921\"]]}],\"mesh3d\":[{\"type\":\"mesh3d\",\"colorbar\":{\"outlinewidth\":0,\"ticks\":\"\"}}],\"scatter\":[{\"fillpattern\":{\"fillmode\":\"overlay\",\"size\":10,\"solidity\":0.2},\"type\":\"scatter\"}],\"parcoords\":[{\"type\":\"parcoords\",\"line\":{\"colorbar\":{\"outlinewidth\":0,\"ticks\":\"\"}}}],\"scatterpolargl\":[{\"type\":\"scatterpolargl\",\"marker\":{\"colorbar\":{\"outlinewidth\":0,\"ticks\":\"\"}}}],\"bar\":[{\"error_x\":{\"color\":\"#2a3f5f\"},\"error_y\":{\"color\":\"#2a3f5f\"},\"marker\":{\"line\":{\"color\":\"#E5ECF6\",\"width\":0.5},\"pattern\":{\"fillmode\":\"overlay\",\"size\":10,\"solidity\":0.2}},\"type\":\"bar\"}],\"scattergeo\":[{\"type\":\"scattergeo\",\"marker\":{\"colorbar\":{\"outlinewidth\":0,\"ticks\":\"\"}}}],\"scatterpolar\":[{\"type\":\"scatterpolar\",\"marker\":{\"colorbar\":{\"outlinewidth\":0,\"ticks\":\"\"}}}],\"histogram\":[{\"marker\":{\"pattern\":{\"fillmode\":\"overlay\",\"size\":10,\"solidity\":0.2}},\"type\":\"histogram\"}],\"scattergl\":[{\"type\":\"scattergl\",\"marker\":{\"colorbar\":{\"outlinewidth\":0,\"ticks\":\"\"}}}],\"scatter3d\":[{\"type\":\"scatter3d\",\"line\":{\"colorbar\":{\"outlinewidth\":0,\"ticks\":\"\"}},\"marker\":{\"colorbar\":{\"outlinewidth\":0,\"ticks\":\"\"}}}],\"scattermapbox\":[{\"type\":\"scattermapbox\",\"marker\":{\"colorbar\":{\"outlinewidth\":0,\"ticks\":\"\"}}}],\"scatterternary\":[{\"type\":\"scatterternary\",\"marker\":{\"colorbar\":{\"outlinewidth\":0,\"ticks\":\"\"}}}],\"scattercarpet\":[{\"type\":\"scattercarpet\",\"marker\":{\"colorbar\":{\"outlinewidth\":0,\"ticks\":\"\"}}}],\"carpet\":[{\"aaxis\":{\"endlinecolor\":\"#2a3f5f\",\"gridcolor\":\"white\",\"linecolor\":\"white\",\"minorgridcolor\":\"white\",\"startlinecolor\":\"#2a3f5f\"},\"baxis\":{\"endlinecolor\":\"#2a3f5f\",\"gridcolor\":\"white\",\"linecolor\":\"white\",\"minorgridcolor\":\"white\",\"startlinecolor\":\"#2a3f5f\"},\"type\":\"carpet\"}],\"table\":[{\"cells\":{\"fill\":{\"color\":\"#EBF0F8\"},\"line\":{\"color\":\"white\"}},\"header\":{\"fill\":{\"color\":\"#C8D4E3\"},\"line\":{\"color\":\"white\"}},\"type\":\"table\"}],\"barpolar\":[{\"marker\":{\"line\":{\"color\":\"#E5ECF6\",\"width\":0.5},\"pattern\":{\"fillmode\":\"overlay\",\"size\":10,\"solidity\":0.2}},\"type\":\"barpolar\"}],\"pie\":[{\"automargin\":true,\"type\":\"pie\"}]},\"layout\":{\"autotypenumbers\":\"strict\",\"colorway\":[\"#636efa\",\"#EF553B\",\"#00cc96\",\"#ab63fa\",\"#FFA15A\",\"#19d3f3\",\"#FF6692\",\"#B6E880\",\"#FF97FF\",\"#FECB52\"],\"font\":{\"color\":\"#2a3f5f\"},\"hovermode\":\"closest\",\"hoverlabel\":{\"align\":\"left\"},\"paper_bgcolor\":\"white\",\"plot_bgcolor\":\"#E5ECF6\",\"polar\":{\"bgcolor\":\"#E5ECF6\",\"angularaxis\":{\"gridcolor\":\"white\",\"linecolor\":\"white\",\"ticks\":\"\"},\"radialaxis\":{\"gridcolor\":\"white\",\"linecolor\":\"white\",\"ticks\":\"\"}},\"ternary\":{\"bgcolor\":\"#E5ECF6\",\"aaxis\":{\"gridcolor\":\"white\",\"linecolor\":\"white\",\"ticks\":\"\"},\"baxis\":{\"gridcolor\":\"white\",\"linecolor\":\"white\",\"ticks\":\"\"},\"caxis\":{\"gridcolor\":\"white\",\"linecolor\":\"white\",\"ticks\":\"\"}},\"coloraxis\":{\"colorbar\":{\"outlinewidth\":0,\"ticks\":\"\"}},\"colorscale\":{\"sequential\":[[0.0,\"#0d0887\"],[0.1111111111111111,\"#46039f\"],[0.2222222222222222,\"#7201a8\"],[0.3333333333333333,\"#9c179e\"],[0.4444444444444444,\"#bd3786\"],[0.5555555555555556,\"#d8576b\"],[0.6666666666666666,\"#ed7953\"],[0.7777777777777778,\"#fb9f3a\"],[0.8888888888888888,\"#fdca26\"],[1.0,\"#f0f921\"]],\"sequentialminus\":[[0.0,\"#0d0887\"],[0.1111111111111111,\"#46039f\"],[0.2222222222222222,\"#7201a8\"],[0.3333333333333333,\"#9c179e\"],[0.4444444444444444,\"#bd3786\"],[0.5555555555555556,\"#d8576b\"],[0.6666666666666666,\"#ed7953\"],[0.7777777777777778,\"#fb9f3a\"],[0.8888888888888888,\"#fdca26\"],[1.0,\"#f0f921\"]],\"diverging\":[[0,\"#8e0152\"],[0.1,\"#c51b7d\"],[0.2,\"#de77ae\"],[0.3,\"#f1b6da\"],[0.4,\"#fde0ef\"],[0.5,\"#f7f7f7\"],[0.6,\"#e6f5d0\"],[0.7,\"#b8e186\"],[0.8,\"#7fbc41\"],[0.9,\"#4d9221\"],[1,\"#276419\"]]},\"xaxis\":{\"gridcolor\":\"white\",\"linecolor\":\"white\",\"ticks\":\"\",\"title\":{\"standoff\":15},\"zerolinecolor\":\"white\",\"automargin\":true,\"zerolinewidth\":2},\"yaxis\":{\"gridcolor\":\"white\",\"linecolor\":\"white\",\"ticks\":\"\",\"title\":{\"standoff\":15},\"zerolinecolor\":\"white\",\"automargin\":true,\"zerolinewidth\":2},\"scene\":{\"xaxis\":{\"backgroundcolor\":\"#E5ECF6\",\"gridcolor\":\"white\",\"linecolor\":\"white\",\"showbackground\":true,\"ticks\":\"\",\"zerolinecolor\":\"white\",\"gridwidth\":2},\"yaxis\":{\"backgroundcolor\":\"#E5ECF6\",\"gridcolor\":\"white\",\"linecolor\":\"white\",\"showbackground\":true,\"ticks\":\"\",\"zerolinecolor\":\"white\",\"gridwidth\":2},\"zaxis\":{\"backgroundcolor\":\"#E5ECF6\",\"gridcolor\":\"white\",\"linecolor\":\"white\",\"showbackground\":true,\"ticks\":\"\",\"zerolinecolor\":\"white\",\"gridwidth\":2}},\"shapedefaults\":{\"line\":{\"color\":\"#2a3f5f\"}},\"annotationdefaults\":{\"arrowcolor\":\"#2a3f5f\",\"arrowhead\":0,\"arrowwidth\":1},\"geo\":{\"bgcolor\":\"white\",\"landcolor\":\"#E5ECF6\",\"subunitcolor\":\"white\",\"showland\":true,\"showlakes\":true,\"lakecolor\":\"white\"},\"title\":{\"x\":0.05},\"mapbox\":{\"style\":\"light\"}}},\"xaxis\":{\"anchor\":\"y\",\"domain\":[0.0,1.0],\"title\":{\"text\":\"index\"}},\"yaxis\":{\"anchor\":\"x\",\"domain\":[0.0,1.0],\"title\":{\"text\":\"value\"}},\"legend\":{\"title\":{\"text\":\"variable\"},\"tracegroupgap\":0},\"margin\":{\"t\":60}},                        {\"responsive\": true}                    ).then(function(){\n",
              "                            \n",
              "var gd = document.getElementById('4a47b3e4-bd3c-49cb-b4a1-6f8bbc793b80');\n",
              "var x = new MutationObserver(function (mutations, observer) {{\n",
              "        var display = window.getComputedStyle(gd).display;\n",
              "        if (!display || display === 'none') {{\n",
              "            console.log([gd, 'removed!']);\n",
              "            Plotly.purge(gd);\n",
              "            observer.disconnect();\n",
              "        }}\n",
              "}});\n",
              "\n",
              "// Listen for the removal of the full notebook cells\n",
              "var notebookContainer = gd.closest('#notebook-container');\n",
              "if (notebookContainer) {{\n",
              "    x.observe(notebookContainer, {childList: true});\n",
              "}}\n",
              "\n",
              "// Listen for the clearing of the current output cell\n",
              "var outputEl = gd.closest('.output');\n",
              "if (outputEl) {{\n",
              "    x.observe(outputEl, {childList: true});\n",
              "}}\n",
              "\n",
              "                        })                };                            </script>        </div>\n",
              "</body>\n",
              "</html>"
            ]
          },
          "metadata": {}
        },
        {
          "output_type": "display_data",
          "data": {
            "text/html": [
              "<html>\n",
              "<head><meta charset=\"utf-8\" /></head>\n",
              "<body>\n",
              "    <div>            <script src=\"https://cdnjs.cloudflare.com/ajax/libs/mathjax/2.7.5/MathJax.js?config=TeX-AMS-MML_SVG\"></script><script type=\"text/javascript\">if (window.MathJax && window.MathJax.Hub && window.MathJax.Hub.Config) {window.MathJax.Hub.Config({SVG: {font: \"STIX-Web\"}});}</script>                <script type=\"text/javascript\">window.PlotlyConfig = {MathJaxConfig: 'local'};</script>\n",
              "        <script src=\"https://cdn.plot.ly/plotly-2.18.2.min.js\"></script>                <div id=\"7bad5a0e-a793-4e0b-80db-5e0129d78297\" class=\"plotly-graph-div\" style=\"height:525px; width:100%;\"></div>            <script type=\"text/javascript\">                                    window.PLOTLYENV=window.PLOTLYENV || {};                                    if (document.getElementById(\"7bad5a0e-a793-4e0b-80db-5e0129d78297\")) {                    Plotly.newPlot(                        \"7bad5a0e-a793-4e0b-80db-5e0129d78297\",                        [{\"hovertemplate\":\"variable=Dogecoin<br>index=%{x}<br>value=%{y}<extra></extra>\",\"legendgroup\":\"Dogecoin\",\"line\":{\"color\":\"#636efa\",\"dash\":\"solid\"},\"marker\":{\"symbol\":\"circle\"},\"mode\":\"lines\",\"name\":\"Dogecoin\",\"showlegend\":true,\"x\":[0,1,2,3,4,5,6,7,8,9,10,11,12,13,14,15,16,17,18,19,20,21,22,23,24,25,26,27,28,29,30,31,32,33,34,35,36,37,38,39,40,41,42,43,44,45,46,47,48,49,50,51,52,53,54,55,56,57,58,59,60,61,62,63,64,65,66,67,68,69,70,71,72,73,74,75,76,77,78,79,80,81,82,83,84,85,86,87,88,89,90,91,92,93,94,95,96,97,98,99,100,101,102,103,104,105,106,107,108,109,110,111,112,113,114,115,116,117,118,119,120,121,122,123,124,125,126,127,128,129,130,131,132,133,134,135,136,137,138,139,140,141,142,143,144,145,146,147,148,149,150,151,152,153,154,155,156,157,158,159,160,161,162,163,164,165,166,167,168,169,170,171,172,173,174,175,176,177,178,179,180,181,182,183,184,185,186,187,188,189,190,191,192,193,194,195,196,197,198,199,200,201,202,203,204,205,206,207,208,209,210,211,212,213,214,215,216,217,218,219,220,221,222,223,224,225,226,227,228,229,230,231,232,233,234,235,236,237,238,239,240,241,242,243,244,245,246,247,248,249,250,251,252,253,254,255,256,257,258,259,260,261,262,263,264,265,266,267,268,269,270,271,272,273,274,275,276,277,278,279,280,281,282,283,284,285,286,287,288,289,290,291,292,293,294,295,296,297,298,299,300,301,302,303,304,305,306,307,308,309,310,311,312,313,314,315,316,317,318,319,320,321,322,323,324,325,326,327,328,329,330,331,332,333,334,335,336,337,338,339,340,341,342,343,344,345,346,347,348,349,350,351,352,353,354,355,356,357,358,359,360,361,362,363,364,365,366,367,368,369,370,371,372,373,374,375,376,377,378,379,380,381,382,383,384,385,386,387,388,389,390,391,392,393,394,395,396,397,398,399,400,401,402,403,404,405,406,407,408,409,410,411,412,413,414,415,416,417,418,419,420,421,422,423,424,425,426,427,428,429,430,431,432,433,434,435,436,437,438,439,440,441,442,443,444,445,446,447,448,449,450,451,452,453,454,455,456,457,458,459,460,461,462,463,464,465,466,467,468,469,470,471,472,473,474,475,476,477,478,479,480,481,482,483,484,485,486,487,488,489,490,491,492,493,494,495,496,497,498,499,500,501,502,503,504,505,506,507,508,509,510,511,512,513,514,515,516,517,518,519,520,521,522,523,524,525,526,527,528,529,530,531,532,533,534,535,536,537,538,539,540,541,542,543,544,545,546,547,548,549,550,551,552,553,554,555,556,557,558,559,560,561,562,563,564,565,566,567,568,569,570,571,572,573,574,575,576,577,578,579,580,581,582,583,584,585,586,587,588,589,590,591,592,593,594,595,596,597,598,599,600,601,602,603,604,605,606,607,608,609,610,611,612,613,614,615,616,617,618,619,620,621,622,623,624,625,626,627,628,629,630,631,632,633,634,635,636,637,638,639,640,641,642,643,644,645,646,647,648,649,650,651,652,653,654,655,656,657,658,659,660,661,662,663,664,665,666,667,668,669,670,671,672,673,674,675,676,677,678,679,680,681,682,683,684,685,686,687,688,689,690,691,692,693,694,695,696,697,698,699,700,701,702,703,704,705,706,707,708,709,710,711,712,713,714,715,716,717,718,719,720,721,722,723,724,725,726,727,728,729,730,731,732,733,734,735,736,737,738,739,740,741,742,743,744,745,746,747,748,749,750,751,752,753,754,755,756,757,758,759,760,761,762,763,764,765,766,767,768,769,770,771,772,773,774,775,776,777,778,779,780,781,782,783,784,785,786,787,788,789,790,791,792,793,794,795,796,797,798,799,800,801,802,803,804,805,806,807,808,809,810,811,812,813,814,815,816,817,818,819,820,821,822,823,824,825,826,827,828,829,830,831,832,833,834,835,836,837,838,839,840,841,842,843,844,845,846,847,848,849,850,851,852,853,854,855,856,857,858,859,860,861,862,863,864,865,866,867,868,869,870,871,872,873,874,875,876,877,878,879,880,881,882,883,884,885,886,887,888,889,890,891,892,893,894,895,896,897,898,899,900,901,902,903,904,905,906,907,908,909,910,911,912,913,914,915,916,917,918,919,920,921,922,923,924,925,926,927,928,929,930,931,932,933,934,935,936,937,938,939,940,941,942,943,944,945,946,947,948,949,950,951,952,953,954,955,956,957,958,959,960,961,962,963,964,965,966,967,968,969,970,971,972,973,974,975,976,977,978,979,980,981,982,983,984,985,986,987,988,989,990,991,992,993,994,995,996,997,998,999,1000,1001,1002,1003,1004,1005,1006,1007,1008,1009,1010,1011,1012,1013,1014,1015,1016,1017,1018,1019,1020,1021,1022,1023,1024,1025,1026,1027,1028,1029,1030,1031,1032,1033,1034,1035,1036,1037,1038,1039,1040,1041,1042,1043,1044,1045,1046,1047,1048,1049,1050,1051,1052,1053,1054,1055,1056,1057,1058,1059,1060,1061,1062,1063,1064,1065,1066,1067,1068,1069,1070,1071,1072,1073,1074,1075,1076,1077,1078,1079,1080,1081,1082,1083,1084,1085,1086,1087,1088,1089,1090,1091,1092,1093,1094,1095],\"xaxis\":\"x\",\"y\":[4.430861209843253e-05,-7.266612384142896e-05,7.621081280930321e-05,0.0004696712882433796,-0.0004023221978537632,0.0001293811473274218,5.139799003418106e-05,-7.798315729323996e-05,0.0,0.00012406411387560926,-4.962564555024431e-05,4.608095658236928e-05,-7.798315729323996e-05,0.00034560717436776957,0.2585354345608991,-0.25859392192886904,0.0002764857394942157,4.4308612098431765e-05,-0.00014178755871498288,7.798315729324073e-05,-0.00013824286974710784,-2.304047829118464e-05,-0.0001577386590704182,-8.861722419686045e-06,-6.0259712453867874e-05,8.507253522898926e-05,0.00010456832455229963,0.00010634066903623715,3.5446889678742642e-06,2.4812822775122155e-05,-8.861722419686429e-05,9.038956868080181e-05,1.2406411387561077e-05,-4.07639231305575e-05,0.00017014507045797853,0.00015242162561860642,0.00010988535800411142,0.0002233154049760971,0.0006823526263158539,0.00010102363558442461,-0.0004342243985646339,0.00015419397010254317,-3.0129856226933168e-05,-9.038956868080181e-05,0.00017546210390979107,-0.0003509242078195814,-0.0002623069836227171,-0.00010988535800411142,0.0002569899501709053,-0.00040586688682163745,7.089377935749144e-05,-1.0634066903623561e-05,-8.330019074505252e-05,0.0001417875587149821,-0.00017191741494191603,-0.00018786851529735215,-0.00023394947187972066,-3.190220071087069e-05,-6.734909038961717e-05,-0.00013115349181135855,0.00010634066903623638,0.0001311534918113593,0.0002658516725905921,-0.0001346981807792336,9.747894661655034e-05,1.0634066903623561e-05,-0.00013647052526317033,-0.00040763923130557496,7.621081280930321e-05,-3.0129856226933937e-05,-5.139799003418106e-05,-0.0010474555900069332,0.0003066155957211496,-0.00011697473593986071,1.417875587149821e-05,-0.00010279598006836213,0.00011697473593986071,-5.494267900205571e-05,0.0001612833480382925,1.772344483937286e-05,1.417875587149821e-05,-9.925129110048747e-05,0.00015951100355435496,4.962564555024393e-05,-2.304047829118464e-05,-1.0634066903623561e-05,-7.798315729324035e-05,-1.2406411387561077e-05,-9.39342576486757e-05,0.0001488769366507314,-8.86172241968643e-06,0.00011165770248804894,3.190220071087107e-05,-6.380440142174213e-05,5.494267900205571e-05,-3.899157864661998e-05,0.0002374941608475957,2.835751174299642e-05,7.0893779357492976e-06,2.835751174299642e-05,-0.00010279598006836213,9.39342576486753e-05,-9.570660213261282e-05,1.0634066903623561e-05,3.190220071087069e-05,1.4178755871498595e-05,1.9495789323310376e-05,5.317033451811781e-06,8.1527846261115e-05,-8.861722419686814e-06,-0.00011165770248804894,-4.962564555024431e-05,8.507253522899004e-05,9.925129110048709e-05,4.78533010663068e-05,7.44384683253657e-05,0.0004944841110185018,-0.00010456832455229963,-1.5951100355435344e-05,0.00032788372952839674,-7.975550177717748e-05,2.304047829118464e-05,0.00012051942490773498,-6.380440142174213e-05,-7.266612384142819e-05,2.1268133807247123e-05,5.317033451811781e-06,0.00032256669607658574,-8.1527846261115e-05,-1.9495789323310376e-05,-0.0002676240170745296,-7.621081280930321e-05,8.861722419686429e-05,0.00010456832455229963,9.747894661655034e-05,-0.00014710459216679466,3.544688967874572e-05,3.190220071087145e-05,1.2406411387561077e-05,1.0634066903623561e-05,-4.608095658236928e-05,-3.0129856226933937e-05,6.73490903896164e-05,0.0,-0.00010988535800411142,0.00010811301352017467,-5.4942679002056095e-05,8.861722419686814e-06,3.7219234162682467e-05,-7.0893779357492976e-06,0.0001648280370061675,-7.621081280930245e-05,0.00013292583629529605,-0.00012760880284348427,3.36745451948082e-05,6.73490903896164e-05,-7.621081280930245e-05,-1.7723444839375165e-06,3.544688967874572e-05,-3.899157864661998e-05,-4.07639231305575e-05,4.07639231305575e-05,-0.0002304047829118464,0.00011874708042379823,1.5951100355435344e-05,-8.861722419686429e-05,-8.861722419686045e-06,1.4178755871497826e-05,-7.0893779357485285e-06,-4.78533010663068e-05,-1.7723444839375165e-06,8.861722419686814e-06,-1.595110035543611e-05,4.07639231305575e-05,1.7723444839375165e-06,-8.507253522898926e-05,-3.0129856226933937e-05,-8.861722419686429e-05,-6.02597124538671e-05,-1.595110035543611e-05,-1.772344483937209e-05,1.5951100355435344e-05,2.304047829118464e-05,-8.861722419686814e-06,0.0,-2.835751174299642e-05,-8.861722419686045e-06,0.0005618332014081181,0.0008914892754204524,0.002899555575721392,-0.0007302059273821599,-0.0014285096540534485,0.0005033458334381886,-0.00030484325123721285,-0.0008418636298702089,0.00023217712739578391,-0.0003544688967874564,-0.00020027492668491247,0.00013115349181135855,0.0007089377935749128,-0.0001311534918113593,-0.0002747133950102782,0.00013115349181135855,-1.9495789323310376e-05,1.595110035543611e-05,-0.00014710459216679466,6.557674590567965e-05,-2.6585167259059674e-05,-0.00012406411387560926,3.0129856226933937e-05,-4.7853301066306025e-05,9.925129110048709e-05,-5.317033451811781e-06,0.0008666764526453311,-0.0006734909038961671,6.912143487355392e-05,0.0003137049736568989,-8.507253522898926e-05,0.00010279598006836213,-4.962564555024431e-05,-3.0129856226933168e-05,-8.1527846261115e-05,4.7853301066306025e-05,-0.0001843238263294771,0.00012583645835954676,3.721923416268323e-05,0.00015419397010254317,-6.203205693780463e-05,0.0,9.57066021326136e-05,-0.00019850258220097572,-0.00010634066903623715,3.899157864661998e-05,-0.0001152023914559232,0.0001081130135201739,-7.089377935749144e-05,2.1268133807247892e-05,-0.00022863243842790966,1.9495789323309607e-05,-0.00014710459216679466,0.00010279598006836213,2.304047829118464e-05,3.899157864662075e-05,-0.00015419397010254317,5.671502348599284e-05,-0.00021977071600822284,-0.0005990524355708014,0.00020027492668491247,-0.00020736430462066176,4.07639231305575e-05,5.671502348599284e-05,-0.00012229176939167172,6.380440142174213e-05,4.430861209843253e-05,-1.595110035543611e-05,3.36745451948082e-05,-5.671502348599284e-05,1.2406411387561077e-05,6.912143487355392e-05,-6.380440142174213e-05,2.4812822775122155e-05,-3.544688967874572e-05,7.0893779357492976e-06,-3.190220071087145e-05,-0.0002977538733014636,7.621081280930321e-05,-0.00016660038149010425,0.0001417875587149821,0.00014533224768285713,-2.835751174299642e-05,0.0,-8.507253522899004e-05,4.4308612098431765e-05,-6.912143487355392e-05,-1.5951100355435344e-05,-6.203205693780539e-05,1.2406411387561077e-05,6.912143487355392e-05,-3.0129856226933937e-05,-3.544688967874572e-05,-7.0893779357492976e-06,2.6585167259059674e-05,9.216191316473856e-05,1.5951100355435344e-05,2.6585167259058905e-05,-2.481282277512139e-05,-5.671502348599284e-05,1.7723444839375165e-06,-6.734909038961717e-05,5.317033451811781e-06,-3.36745451948082e-05,1.4178755871497826e-05,0.0,5.317033451811781e-06,5.139799003418106e-05,4.07639231305575e-05,-5.317033451811781e-06,-1.772344483937286e-05,3.190220071087069e-05,2.481282277512139e-05,1.4178755871498595e-05,-0.00016128334803829325,-1.240641138756031e-05,1.240641138756031e-05,-2.6585167259058905e-05,1.2406411387561077e-05,-0.00010988535800411142,7.0893779357492976e-06,5.139799003418106e-05,0.00016482803700616674,0.00020913664910459927,-0.00015419397010254317,6.557674590567965e-05,-6.0259712453867874e-05,0.00015773865907041745,-5.317033451811781e-06,2.835751174299642e-05,6.557674590567965e-05,-7.44384683253657e-05,1.2406411387561077e-05,0.00018786851529735215,9.925129110048786e-05,-5.4942679002056095e-05,-5.317033451811781e-06,0.0001417875587149821,0.0009269361650991982,-0.00030129856226933783,0.0006096865024744249,0.0009889682220370027,-0.0009145297537116363,-0.0008347742519344596,3.36745451948082e-05,0.00021622602704034858,8.330019074505174e-05,0.0001967302377170382,-0.00042359033166101034,7.44384683253657e-05,0.00011343004697198568,-0.00026762401707452885,0.0001878685152973514,-5.317033451811781e-06,-9.393425764867607e-05,-0.0002782580839781532,-3.190220071087069e-05,-8.684487971292754e-05,-6.02597124538671e-05,0.0001559663145864807,0.00016837272597404178,-6.203205693780539e-05,-3.899157864662075e-05,0.00038991578646620136,0.0005387927231169335,0.00024812822775121927,0.00011165770248804817,0.0012796327174027177,0.0002268600939439729,-0.00046612659927550533,-0.0013257136739850863,0.0014338266875052602,-1.772344483937209e-05,-8.861722419686506e-05,6.557674590567888e-05,7.975550177717748e-05,-0.00018786851529735215,0.0002463558832672825,7.089377935749144e-05,0.0017634827615175953,0.00854624510154557,-0.001139617503171674,-0.00011520239145592166,0.0003083879402050879,0.0008560423857417052,-0.0012743156839509038,4.430861209843023e-05,0.0007177995159946004,-0.0005813289907314285,-0.0017741168284212158,-0.0013434371188244592,0.0010651790348463045,0.001290266784306343,-4.43086120984333e-05,-0.00023926650533153245,-0.00024990057223515754,0.00013824286974710784,-0.0002126813380724743,8.861722419686045e-06,-0.0015649801793166196,0.0006185482248941087,9.747894661655264e-05,0.0002534452612030295,-0.0006398163587013588,-0.00019318554874916315,-0.0014231926206016367,0.051132138361590564,0.0186308852151487,-0.03130314827530026,0.015316601030185985,-0.00375914265043097,-0.006181937559973246,0.010719139438852686,0.027655663327357336,-0.010899918576214284,0.01892332205499835,0.03722277885165077,0.001518899222734244,-0.015543461124129956,0.0045531529792348785,-0.005262090772809787,1.949578932332959e-05,-0.006320180429720344,-0.006389301864593894,-0.010983218766959334,-0.0051646118261932375,-0.007170905782010241,0.017129709437253823,-0.007232937838948047,-0.001611061135898989,0.002986400455434317,-0.00461872972514055,-0.010393028053808219,0.015933376910596167,-0.011729375794696925,0.0009818788441012518,-0.0006912143487355299,-0.003450754710225894,0.0043280652297748405,-0.0005370203786330044,0.00023217712739578237,-0.0009606107102940078,-0.0006043694690226024,0.0025025504113194473,0.0016961336711279773,0.01942489554395261,-0.008636634670226375,-0.0035446889678745655,2.8357511742987964e-05,-0.00112543874730018,0.013214600472236365,-0.007523602334313756,-0.00259471232448418,0.002911961987108963,-0.0012867220953384616,-0.0010350491786193744,0.0017368975942585387,0.0009996022889406178,-0.0024068438091868244,-0.004512389056104318,-0.002615980458291424,-0.0034046737536435156,-0.0004218179871770644,0.004827866374245149,0.0007975550177717749,-0.0014161032426658897,0.0008170508070950798,-0.00016837272597405024,-0.0004998011444703089,0.014836295675038988,-0.008016314100848321,-0.003567729446165749,0.003294788395639405,0.004528340156459756,0.007730966638934429,-0.009841828919303727,0.005364886752878154,-0.00030484325123722206,0.003691793560041347,0.018556446746823323,-0.006178392871005343,0.04085962973269009,0.04802876317021638,0.10901513686249825,0.3242025700352593,-0.14795531751908422,0.0696779510415103,0.15089386467345223,-0.15907677915579074,-0.02178034136310524,-0.07959244608465543,-0.02139042557663899,0.03762155636053666,-0.03337147428805504,0.0329886478795246,0.0009747894661654957,0.09373221037750704,-0.03606898259260762,0.05921225686386067,0.09568001696535414,-0.03240200185534131,0.1165795031199426,0.21384399605393659,0.16985086127364538,-0.130554439375788,0.1897489727948094,-0.09308353229638602,-0.1181232151654518,-0.2103985583771625,0.07669820754238577,-0.18444257340990108,0.1730747558899273,0.12866866484487874,-0.09242067545939352,0.009264044617540136,-0.047314508343189655,-0.02078960079658424,-0.2558662837680895,0.1193390434814329,-0.06970630855325323,-0.029940215367152478,-0.06296253779187197,0.10360771384200561,-0.03352744060264158,0.008746520028230424,-0.03264304070515683,-0.037848416454480664,-0.01526697538463576,-0.0016394186476420014,0.04108117279318225,0.07994691498144285,0.09581825983510128,-0.0423395373767777,-0.04148349499103597,-0.008622455914354888,-0.0030874240910187816,-0.07045246558099083,-0.007658300515092928,0.029261407429804556,-0.031210986362135547,-0.014522590701382045,-0.012826457030254092,0.021034184335367634,0.007986184244621407,-0.013918221232359468,-0.024484939045593578,-0.0032363010276694653,-0.019990273434328663,-0.0177766151738909,-0.0038069959514972504,-0.17683567088484223,0.01993001372187469,0.07901820647185977,0.049377517322492646,-0.04482259199877386,0.012647450237376444,0.03214501190517045,-0.01623113078389762,0.01215473847084193,-0.015626761314874945,-0.016977287811635176,0.002575216535160887,0.003948783510212276,-0.010256557528545072,-0.018345537753234796,0.004359967430485744,-0.01932387190836822,-0.02627855166333808,0.021002282134656783,-0.01039302805380823,0.002311137207054214,-0.013962529844457896,-0.013592109847315025,-0.0036581190148465667,-0.022544221835682235,-0.023354183264841594,0.026136764104623105,-0.012360330430978613,-0.01211574689219522,-0.004264260828353132,0.03581022029795277,0.0009304808540670686,0.006111043780615758,-0.0003668753081749906,0.014724637972550901,0.01049405168939266,0.002413933187122581,0.0002764857394942464,-0.00535425268597452,0.010373532264484902,-0.002431656631961922,-0.005637827803404473,-0.0016146058248668546,-0.012764424973316275,0.008610049502967315,-0.0008631317636774829,0.006265237750718258,0.10255848590751472,-0.03880193778683889,0.02450266249043292,-0.017672046849338645,0.034137127105115975,-0.016846134319823833,0.053173879207086265,0.015139366581792246,0.08252922089453954,-0.05737433563401769,-0.021594245192291785,0.007374725397663073,0.03262531726031754,-0.003806995951497349,-0.027336641320248614,0.017321122641519106,0.008143922903691835,-0.05014139779506964,0.004133107336541741,-0.04156856752626495,0.04675799217523338,-0.03228502711940153,-0.00846471725528446,0.008780194573425316,0.011128551014642152,0.028548924947261745,0.00106340669036235,0.0022101135714697865,0.005614787325113314,0.026890010510296367,-0.009611424136391798,-0.09694547092688544,0.0036191274361999076,-0.007528919367765623,-0.022960722789407518,0.002422794909542227,0.017014507045797895,-0.02583369319786977,0.007993273622557114,0.012220315216747575,-0.009398742798319407,-0.003831808774272397,0.0026461103145184,-0.014944408688559147,-0.04502109458097478,-0.014278007162598751,0.04215875823941606,0.00039523281991801545,-0.027510331079674495,-0.0013469818077923035,-0.006247514305878917,-0.009324304329994015,-0.0051628394817093476,0.0034986080112921992,0.009850690641723421,0.03290003065532775,-0.007465114966343817,0.005683908759986888,0.0346847815506526,0.018728364161765237,0.004083481690991448,-0.020185231327561715,0.0011431621921395583,0.00541096770946052,-0.030950451722996753,0.00448403154436133,-0.009370385286576431,0.011527328523528094,-3.721923416272013e-05,0.0026709231372934977,0.0053063993849082145,0.0006912143487355423,0.01681423211911298,-0.003096285813438477,0.016420771643678854,-0.02206568882501918,0.00374850858352736,0.011630124503596462,0.04354650397033897,-0.01921221420588016,-0.016151375282120413,-0.03242326998914858,0.10935542700341415,-0.02058223649196362,-0.03470073265100805,0.02022599525069231,-0.014600573858675364,0.0026797848597131927,-0.008051760990527103,-0.009425327965578443,-0.004762289628339466,0.0013824286974709861,0.007911745776296065,0.028297252030542695,-0.015341413852961101,-0.03153709774717994,0.009147069881600257,-0.0020275620896242114,0.003230983994217599,0.0025291355785785207,-0.010701415994013282,-0.03502329934708462,0.0011892431487219245,-0.02857905480348866,0.020557423669188522,1.417875587151243e-05,-0.012606686314245896,-0.011192355416063908,0.012624409759085237,-0.01664054235968715,0.0066728769820238966,-0.03523243599618918,0.00682175391867458,0.004331609918742669,0.013349298653015622,-0.0009411149209707029,-0.009049590934983757,0.00027471339501025817,-0.016950702644376137,-0.03709694239329124,-0.013482224489310904,0.012275257895749637,-0.002807393662556657,0.004558470012686721,-0.01770217670556556,-0.00913998050366455,0.008358376586248264,0.0015968823800275134,-0.021808698874848216,0.05958622154997142,-0.017765981106987315,-0.013531850134861148,-0.007805405107259771,0.006780989995544031,-0.005214237471743482,-0.004149058436897143,0.006562991624019773,0.003675842459685908,0.020892396776652708,0.0024103884981547027,0.007608674869542733,-0.0014621841992482436,-0.003592542268940871,-0.024779148229927165,-0.010572034846685879,0.00560238091372579,-0.001325713673985084,0.004994466755735236,0.0023572181636365803,-0.007601585491606977,-0.0031583178703761964,-0.017076539102735714,0.0020187003672045654,-0.009251638206152563,-0.007124824825427863,-0.0006646291814764565,-0.013053317124198095,0.018634429904116567,0.016069847435859316,0.0157065168166522,0.020160418504786566,0.0027559956725224737,-0.014274462473630872,-0.010079323080151314,-0.01029909379615951,-0.006247514305878917,-0.010960178288668139,-0.02346406862284567,-0.015534599401710262,0.01499580667859333,-0.007810722140711588,0.009441279065933894,0.000533475689665114,-0.0031547731814083675,0.00029066449536570965,0.0026266145251950214,-0.006398163587013589,0.004223496905222534,0.0012760880284348889,-0.009342027774833405,0.0014196479316338046,0.017514308190268217,-0.0015738419017363055,0.012557060668695602,0.019821900708354552,-0.012663401337731847,0.002194162471114384,-0.014065325824526262,-0.011725831105729072,-0.0008879445864525805,0.006830615641094276,-0.00395941757711591,0.010364670542065257,-0.005049409434737297,-0.018326041963911466,0.00037928171956261314,0.0040923434134111925,-0.007617536591962428,-0.01513227720385649,0.005728217372085266,-0.00728610817346617,-0.005731762061053169,0.006461967988435321,-0.000111657702488062,-0.008216589027533213,0.0186167064592772,0.0008524976967737994,-0.001625239891770489,-0.005926719954286293,-0.012748473872960873,0.0010634066903623745,0.001169747359398595,-0.01209802344735588,-0.003191992415571063,0.007803632762775857,-0.008159874004047237,-0.0026035740469038627,-0.00125659223911151,-0.005524397756432496,0.0041774159486401684,-0.0024529247657692154,0.007808949796227674,-0.001155568603527107,0.0050759946019963585,0.007704381471675368,-0.00794896501045871,0.00021090899358855062,0.005623649047532985,0.013083446980424985,0.012349696364074979,-0.010603937047396733,0.009372157631060321,0.015538144090678139,-0.00465772130378716,0.004122473269638107,-0.0025521760568696793,-0.00898755887804594,0.005820379285249999,-0.0047835577621467345,0.01348931386724666,0.0038761173863708243,0.04252031651413929,-0.052376324189314524,0.00473393211659649,-0.0061943439713607945,0.0028127106960084743,0.006837705019030031,-0.02479332698579863,0.006922777554259007,0.0034330312653865036,0.007160271715106644,0.0033869503088041373,-0.004253626761449498,-0.007711470849611149,0.0018893192198771128,0.0042713502062888395,-0.00347733987748498,-0.00786389247522971,0.00028711980639783155,-0.004537201878879452,-0.0036598913593305056,0.04627768682008639,-0.035742871207563136,0.004044490112344887,-0.004375918530841146,-0.004570876424074245,-0.013225234539139987,0.009457230166289346,-0.0034720228440331138,-0.002456469454737069,0.011502515700752948,-0.013852644486453772,-0.0005777843017635413,-0.0006150035359262613,-0.005912541198414781,-0.04028716246437834,0.01169215656053423,-0.04116447298392729,-0.004120700925154167,0.01000133992285807,0.002309364862570275,0.006754404828284995,-0.009285312751347405,0.004062213557184253,-0.012230949283651186,0.005839875074573353,-0.004934207043281381,0.0009482042989064591,0.0025628101237733136,-0.0046843064710462455,0.0006025971245386634,-0.0012406411387561077,-0.009033639834628305,0.006100409713712098,0.0008259125295147628,0.001593337691059635,0.009214418971989942,-0.0037485085835273356,-0.008615366536419132,0.003153000836924404,-0.004398959009132329,0.002768402083910047,-0.0012760880284348396,0.002571671846193009,-0.003769776717334604,-0.0019034979757486497,0.000111657702488062,-0.007053931046070374,-0.009856007675175214,-0.011195900105031811,-0.01663522532623533,0.002461786488188886,0.01263858851495675,-0.013498175589666343,0.0029155066760768286,-0.0070645651129739966,0.013443232910664281,-0.0007691975060287868,0.010150216859508803,-0.007305603962789487,0.004024994323021569,0.0052355056055507256,0.002828661796363901,0.0078532584083261,-0.0016979060156119164,-0.010557856090814392,0.006121677847519367,-0.005623649047532985,0.00019495789323309914,0.0003668753081750152,0.001003146977908496,0.003739646861107665,-0.0038388981522081535,0.002304047829118458,0.0037680043728506403,-0.0026939636155846806,0.0006788079373479689,-0.003947011165728312,-0.009726626527847787,-0.0034808845664528213,0.003831808774272397,0.000843635974354141,0.0008985786533562148,0.0025344526120303136,-0.0023678522305402147,0.008236084816856544,0.0024121608426386416,0.001836148885359015,-0.00011343004697197646,-0.00467721709311049,0.0011981048711416197,-0.0008507253522899096,-0.009866641742078837,0.0011413898476555946,0.008220133716501116,0.003408218442611406,-0.0007497017167054572,0.0016039717579632202,-0.002651427347970168,0.0007053931046070301,-0.0034773398774849552,-0.000641588703185298,0.0018432382632947713,0.004397186664648389,-0.0019159043871361985,0.0004590372213397476,0.001800701995680283,-0.002029334434108175,0.003789272506657909,-0.0006823526263158716,0.0025362249565142525,0.0010492279344908868,0.014460558644444278,-0.008305206251730092,0.017156294604512897,-0.010825480107888918,-0.009349117152769162,-0.011906610243090658,0.0025752165351608626,-0.0003154773181408318,-0.0019194490761040768,0.0007479293722215182,-0.001400152142310475,0.0018237424739714662,-0.009675228537813628,6.380440142175674e-05,-0.0030697006461793542,0.0038335811187563485,-0.0040976604468629845,-0.0003225666960765757,0.0017280358718388435,-0.0011183493693644238,0.0017812062063569535,0.0010013746334245814,-0.0008808552085168242,-0.006835932674546093,0.0037449638945594695,-8.86172241968297e-06,0.00517524589309686,0.0014072415202462066,-0.0017741168284211974,0.00044840315443611325,-0.00765830051509299,0.0026514273479701805,-0.00443972293226289,0.003282381984251844,0.003076790024115123,-0.008455855532864777,0.0019176767316201376,-0.00021090899358852604,-0.002160487925919554,0.0042341309721261565,0.006717185594122287,-0.00046789894375944284,-0.0034135354760631985,-8.86172241968543e-05,-0.0011201217138483506,4.25362676144881e-05,0.0005671502348599315,0.0014940863999591343,-0.0019424895543952599,-0.0023838033308956415,0.001946034243363138,0.009715992460944189,-0.001880457497457442,-0.0023536734746687268,-0.0018910915643610764,-0.0012814050618866445,0.000856042385741702,-0.004872174986343588,0.001538395012057549,-0.0007727421949966526,-0.00028357511742996576,-0.0017493040056460996,-0.00016837272597403793,0.0005777843017635535,0.0018485552967465882,-0.0003349731074641491,-0.0018840021864253325,0.001325713673985084,-0.00020736430462066021,0.000661084492508603,0.0012034219045934122,-0.001635873958674111,0.006201433349296539,0.01747708895610552,0.007162044059590534,0.012243355695038734,0.06756886110562489,-0.007562593912960392,0.016344560830869596,0.02731005615298958,-0.025553662769407747,-0.009485587678032297,0.006623251336473628,-0.0028800597863981093,-0.017223643694902507,-0.006300684640397039,-0.040584916337679806,-0.025071585069776765,0.02746956715654392,-0.008195320893725969,0.005322350485263641,-0.005481861488818008,0.0015738419017363055,0.0020399685010118094,-0.003805223607013336,-0.00017191741494191603,-0.0013133072625975352,0.0007231165494464206,-0.013216372816720315,-0.004281984273192474,0.007131914203363619,0.005760119572796145,-0.0009163020981955561,0.013985570322749078,-0.0008028720512236043,0.017037547524089078,-0.006027743589870696,0.011245525750582056,0.009384564042447894,-0.008980469500110184,0.0008489530078059458,-0.004613412691688733,0.007975550177717748,-0.004698485226917733,-0.0023146818960220923,-0.007904656398360283,0.004912938909474138,-0.0032327563387015874,-0.0005441097565687484,-0.006481463777758626,-0.004211090493834986,0.001306217884661779,-0.005010417856090688,-0.006079141579904879,-0.015963506766823093,0.006011792489515269,-0.0013735669750513893,-0.01254288191282414,0.006181937559973246,-0.001990342855461565,0.005572251057498826,0.0006008247800547243,0.0005724672683117487,-0.0026868742376489245,-0.0005848736796992975,-0.0034879739443885653,-0.005887728375639658,0.0010208704227478865,-0.004498210300232818,0.003105147535858123],\"yaxis\":\"y\",\"type\":\"scattergl\"}],                        {\"template\":{\"data\":{\"histogram2dcontour\":[{\"type\":\"histogram2dcontour\",\"colorbar\":{\"outlinewidth\":0,\"ticks\":\"\"},\"colorscale\":[[0.0,\"#0d0887\"],[0.1111111111111111,\"#46039f\"],[0.2222222222222222,\"#7201a8\"],[0.3333333333333333,\"#9c179e\"],[0.4444444444444444,\"#bd3786\"],[0.5555555555555556,\"#d8576b\"],[0.6666666666666666,\"#ed7953\"],[0.7777777777777778,\"#fb9f3a\"],[0.8888888888888888,\"#fdca26\"],[1.0,\"#f0f921\"]]}],\"choropleth\":[{\"type\":\"choropleth\",\"colorbar\":{\"outlinewidth\":0,\"ticks\":\"\"}}],\"histogram2d\":[{\"type\":\"histogram2d\",\"colorbar\":{\"outlinewidth\":0,\"ticks\":\"\"},\"colorscale\":[[0.0,\"#0d0887\"],[0.1111111111111111,\"#46039f\"],[0.2222222222222222,\"#7201a8\"],[0.3333333333333333,\"#9c179e\"],[0.4444444444444444,\"#bd3786\"],[0.5555555555555556,\"#d8576b\"],[0.6666666666666666,\"#ed7953\"],[0.7777777777777778,\"#fb9f3a\"],[0.8888888888888888,\"#fdca26\"],[1.0,\"#f0f921\"]]}],\"heatmap\":[{\"type\":\"heatmap\",\"colorbar\":{\"outlinewidth\":0,\"ticks\":\"\"},\"colorscale\":[[0.0,\"#0d0887\"],[0.1111111111111111,\"#46039f\"],[0.2222222222222222,\"#7201a8\"],[0.3333333333333333,\"#9c179e\"],[0.4444444444444444,\"#bd3786\"],[0.5555555555555556,\"#d8576b\"],[0.6666666666666666,\"#ed7953\"],[0.7777777777777778,\"#fb9f3a\"],[0.8888888888888888,\"#fdca26\"],[1.0,\"#f0f921\"]]}],\"heatmapgl\":[{\"type\":\"heatmapgl\",\"colorbar\":{\"outlinewidth\":0,\"ticks\":\"\"},\"colorscale\":[[0.0,\"#0d0887\"],[0.1111111111111111,\"#46039f\"],[0.2222222222222222,\"#7201a8\"],[0.3333333333333333,\"#9c179e\"],[0.4444444444444444,\"#bd3786\"],[0.5555555555555556,\"#d8576b\"],[0.6666666666666666,\"#ed7953\"],[0.7777777777777778,\"#fb9f3a\"],[0.8888888888888888,\"#fdca26\"],[1.0,\"#f0f921\"]]}],\"contourcarpet\":[{\"type\":\"contourcarpet\",\"colorbar\":{\"outlinewidth\":0,\"ticks\":\"\"}}],\"contour\":[{\"type\":\"contour\",\"colorbar\":{\"outlinewidth\":0,\"ticks\":\"\"},\"colorscale\":[[0.0,\"#0d0887\"],[0.1111111111111111,\"#46039f\"],[0.2222222222222222,\"#7201a8\"],[0.3333333333333333,\"#9c179e\"],[0.4444444444444444,\"#bd3786\"],[0.5555555555555556,\"#d8576b\"],[0.6666666666666666,\"#ed7953\"],[0.7777777777777778,\"#fb9f3a\"],[0.8888888888888888,\"#fdca26\"],[1.0,\"#f0f921\"]]}],\"surface\":[{\"type\":\"surface\",\"colorbar\":{\"outlinewidth\":0,\"ticks\":\"\"},\"colorscale\":[[0.0,\"#0d0887\"],[0.1111111111111111,\"#46039f\"],[0.2222222222222222,\"#7201a8\"],[0.3333333333333333,\"#9c179e\"],[0.4444444444444444,\"#bd3786\"],[0.5555555555555556,\"#d8576b\"],[0.6666666666666666,\"#ed7953\"],[0.7777777777777778,\"#fb9f3a\"],[0.8888888888888888,\"#fdca26\"],[1.0,\"#f0f921\"]]}],\"mesh3d\":[{\"type\":\"mesh3d\",\"colorbar\":{\"outlinewidth\":0,\"ticks\":\"\"}}],\"scatter\":[{\"fillpattern\":{\"fillmode\":\"overlay\",\"size\":10,\"solidity\":0.2},\"type\":\"scatter\"}],\"parcoords\":[{\"type\":\"parcoords\",\"line\":{\"colorbar\":{\"outlinewidth\":0,\"ticks\":\"\"}}}],\"scatterpolargl\":[{\"type\":\"scatterpolargl\",\"marker\":{\"colorbar\":{\"outlinewidth\":0,\"ticks\":\"\"}}}],\"bar\":[{\"error_x\":{\"color\":\"#2a3f5f\"},\"error_y\":{\"color\":\"#2a3f5f\"},\"marker\":{\"line\":{\"color\":\"#E5ECF6\",\"width\":0.5},\"pattern\":{\"fillmode\":\"overlay\",\"size\":10,\"solidity\":0.2}},\"type\":\"bar\"}],\"scattergeo\":[{\"type\":\"scattergeo\",\"marker\":{\"colorbar\":{\"outlinewidth\":0,\"ticks\":\"\"}}}],\"scatterpolar\":[{\"type\":\"scatterpolar\",\"marker\":{\"colorbar\":{\"outlinewidth\":0,\"ticks\":\"\"}}}],\"histogram\":[{\"marker\":{\"pattern\":{\"fillmode\":\"overlay\",\"size\":10,\"solidity\":0.2}},\"type\":\"histogram\"}],\"scattergl\":[{\"type\":\"scattergl\",\"marker\":{\"colorbar\":{\"outlinewidth\":0,\"ticks\":\"\"}}}],\"scatter3d\":[{\"type\":\"scatter3d\",\"line\":{\"colorbar\":{\"outlinewidth\":0,\"ticks\":\"\"}},\"marker\":{\"colorbar\":{\"outlinewidth\":0,\"ticks\":\"\"}}}],\"scattermapbox\":[{\"type\":\"scattermapbox\",\"marker\":{\"colorbar\":{\"outlinewidth\":0,\"ticks\":\"\"}}}],\"scatterternary\":[{\"type\":\"scatterternary\",\"marker\":{\"colorbar\":{\"outlinewidth\":0,\"ticks\":\"\"}}}],\"scattercarpet\":[{\"type\":\"scattercarpet\",\"marker\":{\"colorbar\":{\"outlinewidth\":0,\"ticks\":\"\"}}}],\"carpet\":[{\"aaxis\":{\"endlinecolor\":\"#2a3f5f\",\"gridcolor\":\"white\",\"linecolor\":\"white\",\"minorgridcolor\":\"white\",\"startlinecolor\":\"#2a3f5f\"},\"baxis\":{\"endlinecolor\":\"#2a3f5f\",\"gridcolor\":\"white\",\"linecolor\":\"white\",\"minorgridcolor\":\"white\",\"startlinecolor\":\"#2a3f5f\"},\"type\":\"carpet\"}],\"table\":[{\"cells\":{\"fill\":{\"color\":\"#EBF0F8\"},\"line\":{\"color\":\"white\"}},\"header\":{\"fill\":{\"color\":\"#C8D4E3\"},\"line\":{\"color\":\"white\"}},\"type\":\"table\"}],\"barpolar\":[{\"marker\":{\"line\":{\"color\":\"#E5ECF6\",\"width\":0.5},\"pattern\":{\"fillmode\":\"overlay\",\"size\":10,\"solidity\":0.2}},\"type\":\"barpolar\"}],\"pie\":[{\"automargin\":true,\"type\":\"pie\"}]},\"layout\":{\"autotypenumbers\":\"strict\",\"colorway\":[\"#636efa\",\"#EF553B\",\"#00cc96\",\"#ab63fa\",\"#FFA15A\",\"#19d3f3\",\"#FF6692\",\"#B6E880\",\"#FF97FF\",\"#FECB52\"],\"font\":{\"color\":\"#2a3f5f\"},\"hovermode\":\"closest\",\"hoverlabel\":{\"align\":\"left\"},\"paper_bgcolor\":\"white\",\"plot_bgcolor\":\"#E5ECF6\",\"polar\":{\"bgcolor\":\"#E5ECF6\",\"angularaxis\":{\"gridcolor\":\"white\",\"linecolor\":\"white\",\"ticks\":\"\"},\"radialaxis\":{\"gridcolor\":\"white\",\"linecolor\":\"white\",\"ticks\":\"\"}},\"ternary\":{\"bgcolor\":\"#E5ECF6\",\"aaxis\":{\"gridcolor\":\"white\",\"linecolor\":\"white\",\"ticks\":\"\"},\"baxis\":{\"gridcolor\":\"white\",\"linecolor\":\"white\",\"ticks\":\"\"},\"caxis\":{\"gridcolor\":\"white\",\"linecolor\":\"white\",\"ticks\":\"\"}},\"coloraxis\":{\"colorbar\":{\"outlinewidth\":0,\"ticks\":\"\"}},\"colorscale\":{\"sequential\":[[0.0,\"#0d0887\"],[0.1111111111111111,\"#46039f\"],[0.2222222222222222,\"#7201a8\"],[0.3333333333333333,\"#9c179e\"],[0.4444444444444444,\"#bd3786\"],[0.5555555555555556,\"#d8576b\"],[0.6666666666666666,\"#ed7953\"],[0.7777777777777778,\"#fb9f3a\"],[0.8888888888888888,\"#fdca26\"],[1.0,\"#f0f921\"]],\"sequentialminus\":[[0.0,\"#0d0887\"],[0.1111111111111111,\"#46039f\"],[0.2222222222222222,\"#7201a8\"],[0.3333333333333333,\"#9c179e\"],[0.4444444444444444,\"#bd3786\"],[0.5555555555555556,\"#d8576b\"],[0.6666666666666666,\"#ed7953\"],[0.7777777777777778,\"#fb9f3a\"],[0.8888888888888888,\"#fdca26\"],[1.0,\"#f0f921\"]],\"diverging\":[[0,\"#8e0152\"],[0.1,\"#c51b7d\"],[0.2,\"#de77ae\"],[0.3,\"#f1b6da\"],[0.4,\"#fde0ef\"],[0.5,\"#f7f7f7\"],[0.6,\"#e6f5d0\"],[0.7,\"#b8e186\"],[0.8,\"#7fbc41\"],[0.9,\"#4d9221\"],[1,\"#276419\"]]},\"xaxis\":{\"gridcolor\":\"white\",\"linecolor\":\"white\",\"ticks\":\"\",\"title\":{\"standoff\":15},\"zerolinecolor\":\"white\",\"automargin\":true,\"zerolinewidth\":2},\"yaxis\":{\"gridcolor\":\"white\",\"linecolor\":\"white\",\"ticks\":\"\",\"title\":{\"standoff\":15},\"zerolinecolor\":\"white\",\"automargin\":true,\"zerolinewidth\":2},\"scene\":{\"xaxis\":{\"backgroundcolor\":\"#E5ECF6\",\"gridcolor\":\"white\",\"linecolor\":\"white\",\"showbackground\":true,\"ticks\":\"\",\"zerolinecolor\":\"white\",\"gridwidth\":2},\"yaxis\":{\"backgroundcolor\":\"#E5ECF6\",\"gridcolor\":\"white\",\"linecolor\":\"white\",\"showbackground\":true,\"ticks\":\"\",\"zerolinecolor\":\"white\",\"gridwidth\":2},\"zaxis\":{\"backgroundcolor\":\"#E5ECF6\",\"gridcolor\":\"white\",\"linecolor\":\"white\",\"showbackground\":true,\"ticks\":\"\",\"zerolinecolor\":\"white\",\"gridwidth\":2}},\"shapedefaults\":{\"line\":{\"color\":\"#2a3f5f\"}},\"annotationdefaults\":{\"arrowcolor\":\"#2a3f5f\",\"arrowhead\":0,\"arrowwidth\":1},\"geo\":{\"bgcolor\":\"white\",\"landcolor\":\"#E5ECF6\",\"subunitcolor\":\"white\",\"showland\":true,\"showlakes\":true,\"lakecolor\":\"white\"},\"title\":{\"x\":0.05},\"mapbox\":{\"style\":\"light\"}}},\"xaxis\":{\"anchor\":\"y\",\"domain\":[0.0,1.0],\"title\":{\"text\":\"index\"}},\"yaxis\":{\"anchor\":\"x\",\"domain\":[0.0,1.0],\"title\":{\"text\":\"value\"}},\"legend\":{\"title\":{\"text\":\"variable\"},\"tracegroupgap\":0},\"margin\":{\"t\":60}},                        {\"responsive\": true}                    ).then(function(){\n",
              "                            \n",
              "var gd = document.getElementById('7bad5a0e-a793-4e0b-80db-5e0129d78297');\n",
              "var x = new MutationObserver(function (mutations, observer) {{\n",
              "        var display = window.getComputedStyle(gd).display;\n",
              "        if (!display || display === 'none') {{\n",
              "            console.log([gd, 'removed!']);\n",
              "            Plotly.purge(gd);\n",
              "            observer.disconnect();\n",
              "        }}\n",
              "}});\n",
              "\n",
              "// Listen for the removal of the full notebook cells\n",
              "var notebookContainer = gd.closest('#notebook-container');\n",
              "if (notebookContainer) {{\n",
              "    x.observe(notebookContainer, {childList: true});\n",
              "}}\n",
              "\n",
              "// Listen for the clearing of the current output cell\n",
              "var outputEl = gd.closest('.output');\n",
              "if (outputEl) {{\n",
              "    x.observe(outputEl, {childList: true});\n",
              "}}\n",
              "\n",
              "                        })                };                            </script>        </div>\n",
              "</body>\n",
              "</html>"
            ]
          },
          "metadata": {}
        },
        {
          "output_type": "display_data",
          "data": {
            "text/html": [
              "<html>\n",
              "<head><meta charset=\"utf-8\" /></head>\n",
              "<body>\n",
              "    <div>            <script src=\"https://cdnjs.cloudflare.com/ajax/libs/mathjax/2.7.5/MathJax.js?config=TeX-AMS-MML_SVG\"></script><script type=\"text/javascript\">if (window.MathJax && window.MathJax.Hub && window.MathJax.Hub.Config) {window.MathJax.Hub.Config({SVG: {font: \"STIX-Web\"}});}</script>                <script type=\"text/javascript\">window.PlotlyConfig = {MathJaxConfig: 'local'};</script>\n",
              "        <script src=\"https://cdn.plot.ly/plotly-2.18.2.min.js\"></script>                <div id=\"56e605b3-768f-4a87-adc9-dcd4c2b7d833\" class=\"plotly-graph-div\" style=\"height:525px; width:100%;\"></div>            <script type=\"text/javascript\">                                    window.PLOTLYENV=window.PLOTLYENV || {};                                    if (document.getElementById(\"56e605b3-768f-4a87-adc9-dcd4c2b7d833\")) {                    Plotly.newPlot(                        \"56e605b3-768f-4a87-adc9-dcd4c2b7d833\",                        [{\"hovertemplate\":\"variable=Ethereum<br>index=%{x}<br>value=%{y}<extra></extra>\",\"legendgroup\":\"Ethereum\",\"line\":{\"color\":\"#636efa\",\"dash\":\"solid\"},\"marker\":{\"symbol\":\"circle\"},\"mode\":\"lines\",\"name\":\"Ethereum\",\"showlegend\":true,\"x\":[0,1,2,3,4,5,6,7,8,9,10,11,12,13,14,15,16,17,18,19,20,21,22,23,24,25,26,27,28,29,30,31,32,33,34,35,36,37,38,39,40,41,42,43,44,45,46,47,48,49,50,51,52,53,54,55,56,57,58,59,60,61,62,63,64,65,66,67,68,69,70,71,72,73,74,75,76,77,78,79,80,81,82,83,84,85,86,87,88,89,90,91,92,93,94,95,96,97,98,99,100,101,102,103,104,105,106,107,108,109,110,111,112,113,114,115,116,117,118,119,120,121,122,123,124,125,126,127,128,129,130,131,132,133,134,135,136,137,138,139,140,141,142,143,144,145,146,147,148,149,150,151,152,153,154,155,156,157,158,159,160,161,162,163,164,165,166,167,168,169,170,171,172,173,174,175,176,177,178,179,180,181,182,183,184,185,186,187,188,189,190,191,192,193,194,195,196,197,198,199,200,201,202,203,204,205,206,207,208,209,210,211,212,213,214,215,216,217,218,219,220,221,222,223,224,225,226,227,228,229,230,231,232,233,234,235,236,237,238,239,240,241,242,243,244,245,246,247,248,249,250,251,252,253,254,255,256,257,258,259,260,261,262,263,264,265,266,267,268,269,270,271,272,273,274,275,276,277,278,279,280,281,282,283,284,285,286,287,288,289,290,291,292,293,294,295,296,297,298,299,300,301,302,303,304,305,306,307,308,309,310,311,312,313,314,315,316,317,318,319,320,321,322,323,324,325,326,327,328,329,330,331,332,333,334,335,336,337,338,339,340,341,342,343,344,345,346,347,348,349,350,351,352,353,354,355,356,357,358,359,360,361,362,363,364,365,366,367,368,369,370,371,372,373,374,375,376,377,378,379,380,381,382,383,384,385,386,387,388,389,390,391,392,393,394,395,396,397,398,399,400,401,402,403,404,405,406,407,408,409,410,411,412,413,414,415,416,417,418,419,420,421,422,423,424,425,426,427,428,429,430,431,432,433,434,435,436,437,438,439,440,441,442,443,444,445,446,447,448,449,450,451,452,453,454,455,456,457,458,459,460,461,462,463,464,465,466,467,468,469,470,471,472,473,474,475,476,477,478,479,480,481,482,483,484,485,486,487,488,489,490,491,492,493,494,495,496,497,498,499,500,501,502,503,504,505,506,507,508,509,510,511,512,513,514,515,516,517,518,519,520,521,522,523,524,525,526,527,528,529,530,531,532,533,534,535,536,537,538,539,540,541,542,543,544,545,546,547,548,549,550,551,552,553,554,555,556,557,558,559,560,561,562,563,564,565,566,567,568,569,570,571,572,573,574,575,576,577,578,579,580,581,582,583,584,585,586,587,588,589,590,591,592,593,594,595,596,597,598,599,600,601,602,603,604,605,606,607,608,609,610,611,612,613,614,615,616,617,618,619,620,621,622,623,624,625,626,627,628,629,630,631,632,633,634,635,636,637,638,639,640,641,642,643,644,645,646,647,648,649,650,651,652,653,654,655,656,657,658,659,660,661,662,663,664,665,666,667,668,669,670,671,672,673,674,675,676,677,678,679,680,681,682,683,684,685,686,687,688,689,690,691,692,693,694,695,696,697,698,699,700,701,702,703,704,705,706,707,708,709,710,711,712,713,714,715,716,717,718,719,720,721,722,723,724,725,726,727,728,729,730,731,732,733,734,735,736,737,738,739,740,741,742,743,744,745,746,747,748,749,750,751,752,753,754,755,756,757,758,759,760,761,762,763,764,765,766,767,768,769,770,771,772,773,774,775,776,777,778,779,780,781,782,783,784,785,786,787,788,789,790,791,792,793,794,795,796,797,798,799,800,801,802,803,804,805,806,807,808,809,810,811,812,813,814,815,816,817,818,819,820,821,822,823,824,825,826,827,828,829,830,831,832,833,834,835,836,837,838,839,840,841,842,843,844,845,846,847,848,849,850,851,852,853,854,855,856,857,858,859,860,861,862,863,864,865,866,867,868,869,870,871,872,873,874,875,876,877,878,879,880,881,882,883,884,885,886,887,888,889,890,891,892,893,894,895,896,897,898,899,900,901,902,903,904,905,906,907,908,909,910,911,912,913,914,915,916,917,918,919,920,921,922,923,924,925,926,927,928,929,930,931,932,933,934,935,936,937,938,939,940,941,942,943,944,945,946,947,948,949,950,951,952,953,954,955,956,957,958,959,960,961,962,963,964,965,966,967,968,969,970,971,972,973,974,975,976,977,978,979,980,981,982,983,984,985,986,987,988,989,990,991,992,993,994,995,996,997,998,999,1000,1001,1002,1003,1004,1005,1006,1007,1008,1009,1010,1011,1012,1013,1014,1015,1016,1017,1018,1019,1020,1021,1022,1023,1024,1025,1026,1027,1028,1029,1030,1031,1032,1033,1034,1035,1036,1037,1038,1039,1040,1041,1042,1043,1044,1045,1046,1047,1048,1049,1050,1051,1052,1053,1054,1055,1056,1057,1058,1059,1060,1061,1062,1063,1064,1065,1066,1067,1068,1069,1070,1071,1072,1073,1074,1075,1076,1077,1078,1079,1080,1081,1082,1083,1084,1085,1086,1087,1088,1089,1090,1091,1092,1093,1094,1095],\"xaxis\":\"x\",\"y\":[0.00045625724348316566,-0.0010547245368831683,0.0020975982362732696,8.888128119802311e-06,0.0003762640904049533,0.0025153402579039612,-0.00031108448419307246,-0.0006517960621188081,-0.0008532602995009966,0.002038344048807918,-0.0006340198058792119,0.0011287922712148513,-0.0008591857182475258,0.006660170671104943,0.00011258295618415699,-0.0006162435496395989,0.001727259564614854,0.0011880464586801946,-0.0021479642956188103,-1.4813546866331572e-05,0.0007525281808098981,-0.0003792267997782179,-0.0015850495146980171,-7.406773433168312e-05,-0.0006280943871326742,0.0022220320299504936,0.0006991994120910927,0.0016206020271772262,-0.0005688401996673226,0.0031789871575158366,-0.0013895106960623747,0.0011139787243485114,0.0014576530116475201,0.0003881149278980202,-0.0002577557154742586,0.004411474256795051,0.0027612451358851446,0.003069366910704944,-7.110502495841849e-05,0.0015880122240712901,-0.0016768935052693132,0.0040944643538554405,0.008541491123129692,0.000936216161952482,0.0049003213033841616,-0.006014300027732672,-0.0014458021741544532,0.002284248926789101,0.004310742138103961,-0.006876448455353455,-0.0004977351747089126,0.002307950601775252,-0.0010369482806435637,0.003872261150860408,-0.002687177401553478,-0.0055313783998900915,-0.006716462149197021,0.0009569551275653428,-0.00019850152800890704,-0.0027908722296178163,0.00014221004991683698,0.004121128738214848,-0.0023583166611207927,0.0001303592124237616,0.0012117481336663283,0.004870694209651481,-0.0022368455768168333,-0.011299773549641581,0.0010784262118693022,-0.0006873485745980173,-0.0017865137520801972,-0.0256778021381079,0.007738596882974254,-0.0033567497199118827,0.0004977351747089084,-0.003949291594565344,0.0014813546866336623,0.0005392131059346511,0.005235107462563364,-0.0006251316777594096,-0.00021924049362177632,-0.0030160381419861385,0.0040174339101504974,0.0007762298557960404,-0.0007466027620633689,0.0006814231558514796,-0.0019672390238494996,-0.0002103523655019824,-0.0017124460177485182,0.0020472321769277246,0.0002103523655019824,0.0008236332057683166,0.0016739307958960402,-4.4440640599011555e-05,0.0008532602995009881,-0.0004295928591237587,0.008437796295065338,-0.0018842831613980141,0.00245608607043861,-0.0009865822212980144,-0.003498959769828703,9.776940931782542e-05,0.0001629490155296978,-0.0007051248308376219,0.0006192062590128634,-0.0016383782834168308,0.005750618893511876,-0.0005006978840821772,0.004983277165835638,-0.0021746286799782175,-0.0028797535108158394,0.00012443379367722392,0.0035345122823079206,0.0008117823682752496,0.0006221689683861449,0.0019079848363841565,0.0009895449306712874,-0.00035848783416534866,0.00012443379367723235,0.005584707168608906,-0.0027256926234059354,0.0017094833083752493,0.000580691037160398,-0.0012235989711594038,-0.0009599178369386075,-0.0003644132529118779,-0.0018724323239049556,0.003836708638381182,-0.00016294901552970623,-0.0003703386716584156,-0.006639431705492074,-0.0005362503965613864,0.0011910091680534677,0.0028916043483089146,0.0011021278868554444,-0.0025005267110376215,0.0016768935052693047,0.0019227983832504965,0.002331652276761386,-0.00010962024681089236,-0.0013421073460900984,-0.00333304804492574,0.0025479300610098976,-0.00021627778424851166,-0.001979089861342575,0.0012265616805326683,-0.0009273280338326713,0.002130188039379206,0.0035493258291742604,0.00015406088740990391,0.006805343430395044,-0.0035019224792019756,0.0047907010565732605,-0.002983448338880194,0.0019613136051029705,-0.00034367428729900867,-0.0009302907432059443,0.0005125487215752441,0.0007584535995564358,0.00047995891846930793,-0.0007021621214643573,0.0011732329118138629,-0.0050603076095405855,0.0020205677925683135,0.00019850152800890704,-0.0018398425207990026,-0.0003140471935663371,0.0013154429617306999,-0.00044144369661683406,-0.0007436400526900958,-0.0006606841902386104,-7.406773433168312e-05,-0.00021924049362178472,0.004485541991126726,-1.1850837493075361e-05,-0.002503489420410886,-0.0006488333527455434,-0.0008591857182475258,-0.0025657063172495023,0.0011910091680534677,0.0008236332057683166,-0.0006666096089851481,0.001582086805324744,-0.0013450700554633716,-0.00038515221852474717,0.0012028600055465344,-0.0003288607404326771,0.004032247457016833,-0.0006843858652247527,0.0022901743455356473,-0.0014546903022742553,-0.00022220320299504935,-0.000595504584026738,0.0010517618275099037,-0.000921402615086142,0.00022220320299504935,-0.0005540266528009911,-0.0014724665585138601,-0.00026664384359406093,0.0008828873932336598,0.0009747313838049475,-0.0008680738463673281,0.002793834938991089,0.005255846428176229,0.003570064794787113,0.0011850837493069298,0.00770008166112178,0.0017213341458683163,0.0031641736106495046,-0.0014398767554079238,0.0002577557154742586,0.0050603076095405855,0.0034574818386029727,0.012046376311704934,-0.0044648030255138565,0.004011508491403964,0.0011139787243485114,0.0033093463699396066,-0.001768737495840601,-0.004512206375486141,0.0050928974126465305,-0.0019405746394900842,0.0015731986772049332,-0.0048914331752643505,0.002396831882973275,0.011009428031061386,0.004073725388242571,-0.0017361476927346563,0.0004177420216306834,-0.0009065890682198021,-0.002509414839157415,-0.004343331941209906,0.0025657063172495106,-0.008313362501388115,0.0022220320299504936,-0.001499130942873267,0.0050040161314485075,-0.007240861708265341,0.0008295586245148374,-0.0008443721713811774,0.0035404377010544497,0.0010310228618970344,0.008905904376041579,0.0015080190709930608,0.012416714983363365,-0.010855367143651491,-0.016937809486969282,0.0011761956211871192,-0.01511870593178315,0.005504714015530684,-0.00042366744037722944,-0.004325555684970301,0.0040411355851366435,0.004983277165835638,0.0017272595646148625,0.004218898147532673,-0.006621655449252478,0.003202688832501979,-0.0037596781946762346,0.0002873828092069217,0.007175682102053468,-0.0015317207459792116,0.00029627093732673246,-0.004210010019412862,-0.00882591122296335,0.0008028942401554389,-0.007113465205214844,0.008651111369940585,0.0007406773433168312,0.0007791925651693051,0.0008799246838604036,-0.0009895449306712959,0.0017450358208544502,-0.00011258295618415699,-0.0019050221270108917,-0.0021864795174712844,-5.332876871879703e-05,0.002112411783139601,0.00017479985302276476,-0.0038278205102613714,0.0002636811342208047,0.002716804495286125,0.00431666755685049,0.0014546903022742638,0.0011584193649475313,0.003641169819745548,-0.0016028257709376132,-0.0005866164559069357,-0.0004473691153633633,-0.0036826477509712867,0.0010517618275099037,0.0027256926234059354,0.0003970030560178141,-0.003164173610649488,0.00671646214919703,0.0067134994398237655,-0.0016591172490297086,0.0009865822212980313,-0.001881320452024758,-0.0036559833666118713,0.0027316180421524646,-0.004435175931781193,-0.00044144369661683406,-0.0014072869523019792,0.0010695380837495083,0.0029419704076544557,-0.0038278205102613883,0.0012680396117584238,0.004135942285081179,0.004186308344426728,0.011593081777595058,-0.006038001702718806,0.0057150663810326754,-0.003027888979479214,0.0017302222739881271,0.0038722611508603916,-0.00022812862174157863,0.004052986422629703,-0.004645528297283167,-0.0037093121353306852,0.003629318982252473,0.006393526827510882,-0.0010458364087633744,-0.0021746286799782257,0.011468647983917824,0.012434491239602953,0.0022220320299504936,0.01476910622573762,-0.0012354498086524959,-0.010470214925126736,-0.014923167113147517,-0.0004681080809762494,0.005640998646700975,0.011127936405992089,0.012019711927345517,-0.009219951569607915,0.0036619087853583835,0.005445459828065342,-0.014345438785360407,0.00854445383250294,0.0015020936522465147,-0.003096031295064334,-0.01065982832501584,0.005409907315586132,-0.00448850470049999,-0.004141867703827726,0.006997919539657422,0.006820156977261376,-0.0013243310898504686,0.0007969688214088928,0.014389879425959411,0.0017420731114811856,0.003131583807543577,0.0012117481336663116,-0.005786171405991077,-0.009015524622852454,0.008772582454244553,-0.015213512631727686,0.007960800085969303,0.004310742138103944,0.002841238288963374,0.014031391591794054,0.013714381688854435,0.0004444064059900987,0.005854313721576231,-0.004734409578481156,-0.001999828826955444,0.013480327648366328,0.05938158396839701,0.01915095338880002,0.01689929426511681,0.03199726123128711,0.0046336774597900586,-0.0025479300610098724,0.017675524120912816,-0.005875052687189084,-0.04869805396839499,-0.010893882365503947,0.02318616355519008,0.028847901167503975,-0.018268065995566282,0.016635613130896055,0.0012769277398782682,0.007149017717694019,0.03374525976151486,0.0016383782834168226,-0.07711932498614851,0.03453630316417718,-0.0002784946810870773,0.04647602193844449,-0.021565561528012846,0.014398767554079171,-0.0351140314919644,0.02393869173599997,0.014855024797562328,-0.0008354840432613668,-0.019056146688855413,0.01798660860510594,0.0409002028979554,0.04514576542984746,-0.02079525709096337,0.0371197857376663,-0.012585589417639534,-0.018851719742099954,0.04064837260122771,0.006055777958958428,-0.008508901320023765,0.013107026267334647,0.01608158647809503,-0.007528244517472297,-0.00404706100388319,-0.0064527810149762254,0.0009065890682197853,0.019704980041600973,0.024948975632284154,0.006346123477538564,-0.012342647249031632,0.006067628796451487,-0.04628937124792869,-0.058999394459245534,0.01346255139212674,-0.04373255305879895,-0.009282168466446507,0.003922627210205941,-0.011874539168055417,0.044772464048815776,-0.024110528879649522,0.024368284595123746,-0.008659999498060395,-0.0027967976483643706,0.03524142799501484,0.022860265524130636,0.030906984181924713,0.011119048277872261,-0.0222736490682237,0.009335497235165337,-0.017936242545760372,0.045649426023302984,-0.02139964980310989,-0.01653191830283166,0.0037833798696623685,0.005566930912369292,-0.014114347454245564,0.010005069553523817,-0.0013302565085970316,-0.006186137171382139,-0.029985581566838605,-0.004029284747643535,-0.02549115144759205,0.0012769277398782008,0.03325345000555246,0.004245562531892055,-0.007729708754854493,0.038458930374383124,0.007137166880200961,0.022806936755411872,0.014558753860235663,0.04930837209928817,-0.037350877068781145,0.02018197625069705,0.008968121272880186,0.0008058569495287878,-0.044722097989470216,0.034805909717144534,-0.003931515338325735,0.019710905460347435,0.0051936295313376795,-0.003845596766500993,0.04810847480311472,0.03919960771769996,0.024092752623409798,-0.02707027554354365,-0.031342502459795016,-0.023912027351640587,-0.02235956764004844,0.05068603195785737,0.00858296905435538,0.012081928824184076,-0.009374012457017777,-0.04486134533001385,0.029404890529678197,0.06295461147255732,0.039750671661127585,0.023912027351640587,0.0032145396699950206,0.004669229972269369,0.05107414688575537,0.001567273258458404,0.1420026602607028,-0.04229860172213759,0.07064580500555943,-0.009842120537993994,-0.002847163707709937,0.12613438885748315,0.004900321303384144,0.007234936289518828,0.06491888778703359,-0.10720267596230479,-0.026036289972273283,0.10544875201333065,-0.12826161418748905,-0.018235476192460437,-0.08962492125070991,0.02875309446755944,-0.2786517046839116,0.10101653879092272,-0.09888635075154349,-0.04191937492235945,-0.0566884811480969,0.16161283360235923,0.01713038559623172,0.05302360965336525,-0.04418584759290884,-0.0972064945369009,-0.04017730181087809,0.03233204739046635,0.09526295718803755,-0.022004042515256415,0.0214381650249624,0.04393698000555434,-0.050404574567397026,-0.017708113924018793,0.025251171988357413,-0.03581619361342865,-0.024137193264008837,0.02914417210483064,-0.04073132846367918,-0.03513477045757725,0.005042531353300982,0.04135646014143863,0.021624815715478272,-0.011136824534111916,-0.05246069487244443,0.0011376803993345611,-0.042239347534672164,-0.01855248609540009,0.022978773899061354,-0.10460437984194941,-0.004233711694398996,0.026993245099838633,0.00603800170271884,-0.053091751968950475,0.005952083130894031,0.044280654292853446,0.030175194966727742,0.02228846261509009,0.03422521867998413,-0.049000250324468246,0.01368771730449512,0.020789331672216704,0.02918861274542968,-0.03746049731559207,0.0374693854437118,-0.0018279916833058261,-0.05806614100666637,0.007655641020522676,-0.010378370934555499,0.008428908166945486,-0.030915872310044574,-0.02795908835552371,0.016046033965615856,-0.022966923061568296,-0.01155752926511583,0.006215764265114852,-0.0016561545396564102,-0.021734435962289134,-0.009480669994455439,0.06171619895453163,0.00887923999168218,0.029360449889079227,0.008251145604549473,0.006757940080422751,0.01178862059623081,0.020733040194124745,-0.0003258980310593788,0.024137193264008837,0.023808332523576125,0.021067826353303985,0.007492692004993053,0.015397200612870227,-0.03003002220743764,0.06482111837771579,0.030198896641713793,0.018428052301722706,0.07952504499724156,-0.043323699165288096,0.04475172508320286,-0.006547587714920761,0.006754977371049419,-0.03453334045480392,0.08272773382974351,-0.017053355152526706,0.0131277652329475,-0.047495193962848466,-0.03943069904881487,0.0012710023211316716,0.04974389037715841,0.029443405751530705,-0.018119930526902917,0.0043048167193573475,0.024021647598451448,-0.044245101780374135,0.01660006061841688,-0.03984547836107232,0.053269514531346415,-0.0088525756073228,-0.006458706433722822,0.0009599178369386833,0.05999782751803652,0.1194208894176593,-0.01206118985857129,0.04457099981143365,-0.015844569728233657,0.01932279053244943,-0.006811268849141515,-0.14923759655022176,0.02096116881586632,-0.022341791383808852,-0.06417228502497023,0.017171863527457424,0.04175938861620302,-0.036633901400450496,0.0427281945812613,0.053785025962295,-0.012680396117584205,-0.05074232343594946,0.011086458474766216,-0.03164173610649508,-0.10441772915143348,-0.06375158029396624,0.09275354234888018,0.02225587281198411,-0.0664683847892524,-0.0017894764614534533,0.04178605300056247,-0.04018026452025156,-0.03518513651692268,0.013139616070440558,0.04430139325846637,0.09162771278703855,0.02365130892679303,0.008446684423185207,-0.010179869406546565,0.03968252934554256,0.017794032495843538,0.003131583807543611,-0.008144488067111811,0.0042188981475326055,-0.047252251794240495,0.03855373707432773,-0.015284617656686037,0.03442668291736639,0.0542323950776583,0.022682502961734623,-0.012295243899059397,0.005309175196894933,-0.02993521550749304,0.038906299489746554,0.0838831904853178,-0.03150841418469811,-0.024575674251252407,0.05863498120633372,-0.025479300610098992,0.04066022343872083,-0.02678585544370984,-0.061662870185813,0.10765300778704141,0.0381596967276832,-0.02756801071825251,-0.010203571081532548,0.009907300144206085,0.07857401528842273,0.00451813179423267,-0.019796824032172446,-0.01776440540211089,0.012550036905160291,0.02808352214920096,0.058166873125357364,-0.022667689414868367,-0.02897529767055449,0.02574298174431988,-0.01575865115640878,-0.006266130324460554,-0.005572856331115687,-0.018585075898506068,-0.10511989127289807,0.02446901671381488,-0.08545638916252286,0.08862648819191885,0.03365045306157025,-0.041756425906829826,-0.05366059216861775,0.07510468261232654,-0.01975830881031967,0.07394033782863281,-0.14391953322520684,0.0171066839212456,0.05979340057128106,0.04332666187466156,0.0550115876428275,-0.013462551392126874,-0.020851548569055463,-0.08698514719912849,-0.028394606633394083,0.022673614833614762,0.04691746563506153,-0.013118877104827639,0.038118218796457354,-0.09719168099003464,-0.06035631535220188,0.05100007915142369,0.01588308495008603,-0.10355558072381287,0.023532800551862448,0.04702708588187211,-0.01865025550471789,-0.0233550379894663,0.024184596613981205,-0.010239123594011858,0.003952254303938654,0.021497419212427694,-0.01087610610926436,0.038684096286751506,-0.01979386132279898,0.014677262235166315,-0.009513259797561418,-0.007637864764283222,-0.07263674570439502,-0.048890630077657385,0.023772780011097085,-0.009341422653911934,0.026065917066005927,0.019257610926237612,-0.01969016649473465,0.0073771463394356656,-0.07365591772879887,-0.03803526293400595,-0.06278277432890783,-0.034995523117033606,0.020860436697175324,-0.019210207576265376,0.04540352114532175,0.03930626525513762,-0.03935663131448305,0.019539068316698088,0.005895791652801868,0.005952083130894099,-0.040672074276213895,-0.014600231791461301,-0.022664726705495034,-0.023630569961180247,-0.12707653043818212,-0.04685524873822277,0.0380085985496465,-0.02956783954520782,0.00505438219079404,0.0009895449306711948,-0.011136824534111916,0.03593470198835937,0.016019369581256472,0.000785117983915868,0.024919348538551506,0.029727825851364246,-0.03145212270660588,0.0035967291791466293,0.08953011455076516,0.005649886774820837,0.012576701289519739,0.02485416893233955,-0.007042360180256425,0.03783676140599702,-0.05092897412646534,-0.042713381034395044,-0.0031226956794237495,-0.013898069669996977,0.017257782099282165,0.07495062172491679,-0.018789502845261395,-0.06763865499169294,-0.033840066461459456,-0.004630714750416861,-0.042855591084311744,-0.014650597850807,0.01983237654465149,-0.01754812761786237,0.005326951453134656,0.050665292992244586,0.0027790213921247827,-0.048354379681096016,0.09070631017195237,0.01581197992512768,-0.008491125063784244,-0.03321789749307335,-0.06299608940378316,0.012819643458127708,-0.0343733541486475,-0.016848928205771243,0.02508822297282766,0.044360647445931656,-0.035682871691631673,-0.014677262235166315,0.003804118835275288,-0.015717173225183213,0.021494456503054496,0.008262996442042531,0.04636936440100697,0.011403468377705868,0.03776565638103866,0.0030101127232395586,-0.02617257460344359,0.008879239991682247,0.023177275427070286,0.019696091913481182,0.02164851739046439,-0.002159815133111869,0.012615216511372382,0.044763575920696054,0.009969517041044575,0.02139668709373656,-0.004805514603439676,-0.03058997427898513,0.051506702454252415,-0.0041003897726018855,0.02333429902385338,-0.00022220320299504935,-0.03364749035219692,-0.07029027988076728,0.01755701574598223,-0.01033985571270299,0.019497590385472247,-0.0171096466306188,-0.06627580867999,0.014458021741544598,0.026451069284530733,-0.028228694908491128,0.005949120421520901,0.005021792387688062,-0.020712301228511823,0.019728681716587024,0.01367290375762873,-0.007528244517472229,-0.027289516037165364,-0.006195025299501933,-0.009214026150861353,-0.002924194151414817,0.024889721444818724,-0.05795652075985538,0.023278007545761283,0.014221004991683158,-0.03565620730727236,-0.026652533521912863,0.02921231442041593,0.008994785657239636,-0.02208403566833476,0.04717522135053562,-0.05725139592901772,-0.01621194569051874,-0.016854853624517774,-0.03438224227676736,-0.08617929024959997,0.03336307025236338,-0.07746892469219402,-0.039051472249036656,0.015980854359403964,0.01385066632002481,0.02652513701886242,-0.036420586325575245,0.020187901669443512,-0.05301175881587233,0.03121214324737124,-0.017631083480313847,0.004541833469218787,0.02016716270383073,-0.02081599605657622,0.0018783577426514596,-0.010810926503052471,-0.04428361700222671,-0.02041010487243863,0.020149386447591074,0.006313533674432653,0.05478049631171286,-0.01678967401830595,-0.036660565784809876,0.004935873815863388,-0.01758960554908814,0.008618521566834623,0.0006251316777594432,0.01596307810316438,-0.013708456270107906,-0.005940232293400973,-0.0014072869523019792,-0.037072382387694065,-0.03899518077094449,-0.028453860820859374,-0.06747866868553659,0.0012354498086524287,0.008621484276207956,-0.0501971849112683,0.005326951453134656,-0.026919177365506915,0.039374407570722775,-2.0738965612919776e-05,-0.0006903112839712651,-0.022795085917918814,0.02819610510538515,0.023909064642267323,0.0049773517470890925,-0.012967778926791075,-0.002130188039379223,-0.013939547601222749,-0.013166280454800007,-0.009024412750972282,-0.00301900085135942,0.002236845576816817,0.0022161066112039644,0.022848414686637643,-0.005122524506379194,0.015577925884639639,0.015308319331672288,-0.006449818305602961,0.00020146423738219696,-0.014692075782032707,-0.02101153487521182,-0.017139273724351513,0.022881004489743555,0.022798048627292077,0.011317549805881195,0.03704868071270788,-0.005377317512480221,0.07313448087910389,-0.012096742371050465,-0.006757940080422751,0.016300826971716816,-0.012096742371050533,0.004372959034942569,0.01439284213533271,-0.047305580562959394,0.003537474991681202,0.055213051880209835,0.026670309778152452,-0.0015406088740990223,-0.007356407373822746,-0.004737372287854455,-0.014777994353857448,0.00041774202163071705,-0.003964105141431713,-0.0032974955324464976,0.03872557421797721,-0.014040279719913881,0.0029627093732673246,0.023156536461457433,-0.022324015127569333,0.04463617941764554,0.007934135701609888,0.022910631583476268,0.007667491858015869,-0.014345438785360407,-0.0103250421658366,-0.00692681451469897,-0.012594477545759394,0.0036500579478653252,-0.07022806298392865,-0.009898412016086156,0.012632992767611902,0.0025301538047702845,0.01131458709650793,-0.0025657063172494603,0.011474573402664287,-0.055491546561297046,-0.005181778693844554,-0.01914799067942675,0.03743383293123262,-0.008657036788687131,0.009400676841377159,0.009157734672769325,-0.003024926270105949,-0.0052617718469227664,0.006381675990017874,0.011308661677761333,-0.017642934317806974,0.021230775368833672,0.0015465342928454842,0.024732697848035633,0.016454887859126778,-0.0022072184830841703,-0.014982421300612843,-0.04206454768164948,0.018816167229620775,-0.04895877239324254,-0.011441983599558444,0.010304303200223748,-0.03962623786745047,0.012200437199114861,-0.015592739431505962,-0.02239808286190095,0.023346149861346505,0.0005451385246812309,-0.0032323159262346757,-0.006740163824183164,0.012686321536330666,-0.0026190350859682907,0.0027079163671662972,-0.0003733013810316802,-0.0021687032612316627,-0.0050158669689416,-0.010683530000001957,0.01374400878258715,0.011290885421521813,-0.0027967976483643706,5.9254187465359966e-05,-0.006275018452580212,-0.0047462604159742485,0.002467936907931727,-0.00981545615363468,-0.0029715975013871188,0.004325555684970267,-0.0021390761674990166,0.002787909520244577,-0.006568326680533681,0.009190324475875237,0.007457139492513811,-0.006100218599557465,-0.007551946192458413,-0.0007288265058237726,0.005004016131448541,0.004112240610095079,0.0148965027287881,-0.00601726273710592,0.03428447286744942,0.03157063108153666,-0.015403126031616823,0.0119486069023871,0.0193227905324495,-0.008651111369940602,-0.005208443078203936,0.001999828826955444,-0.017939205255133636,0.0035819156322801715,0.033760073308381176,-0.005321026034388126,-0.01659117249029702,-0.0009302907432059696,-0.06882077603162667,-0.06945183312813265,0.05874756416251784,-0.003134546516916808,-0.009605103788132688,-0.010316154037716806,0.006272055743206948,0.003202688832501962,-0.014010652626181168,-0.00029330822795346783,9.480669994453553e-05,0.00258644528286238,-0.02215217798391978,-0.010493916600112885,0.009563625856906916,0.013643276663896017,0.005353615837494037,-0.0016739307958960653,0.0020827846894069884,-0.003493034351082165,-0.007599349542430715,0.014463947160291061,0.023070617889632692,-0.005436571699945581,0.005818761209097055,-0.01636304386855544,0.011637522418194043,-0.00582172391847032,0.0034663699667227834,-0.01191009168053466,0.014591343663341574,-0.005164002437604966,0.0011080533056019148,-0.0008710365557405423,0.0034367428729900696,0.013412185332781174,-0.00398780681641783,-0.012138220302276237,-0.029514510776489058,0.006067628796451487,-0.0013302565085970316,-0.0044144369661683405,0.014635784303940611,-0.0009895449306713295,0.0010606499556296807,0.0007229010870772434,0.0001273965030505138,-0.0005243995590683111,0.0026545875984475336,-0.0049240229783703285,-0.006405377665003924,0.0032145396699950206,-0.00030812177481979097,-0.0012828531586247301],\"yaxis\":\"y\",\"type\":\"scattergl\"}],                        {\"template\":{\"data\":{\"histogram2dcontour\":[{\"type\":\"histogram2dcontour\",\"colorbar\":{\"outlinewidth\":0,\"ticks\":\"\"},\"colorscale\":[[0.0,\"#0d0887\"],[0.1111111111111111,\"#46039f\"],[0.2222222222222222,\"#7201a8\"],[0.3333333333333333,\"#9c179e\"],[0.4444444444444444,\"#bd3786\"],[0.5555555555555556,\"#d8576b\"],[0.6666666666666666,\"#ed7953\"],[0.7777777777777778,\"#fb9f3a\"],[0.8888888888888888,\"#fdca26\"],[1.0,\"#f0f921\"]]}],\"choropleth\":[{\"type\":\"choropleth\",\"colorbar\":{\"outlinewidth\":0,\"ticks\":\"\"}}],\"histogram2d\":[{\"type\":\"histogram2d\",\"colorbar\":{\"outlinewidth\":0,\"ticks\":\"\"},\"colorscale\":[[0.0,\"#0d0887\"],[0.1111111111111111,\"#46039f\"],[0.2222222222222222,\"#7201a8\"],[0.3333333333333333,\"#9c179e\"],[0.4444444444444444,\"#bd3786\"],[0.5555555555555556,\"#d8576b\"],[0.6666666666666666,\"#ed7953\"],[0.7777777777777778,\"#fb9f3a\"],[0.8888888888888888,\"#fdca26\"],[1.0,\"#f0f921\"]]}],\"heatmap\":[{\"type\":\"heatmap\",\"colorbar\":{\"outlinewidth\":0,\"ticks\":\"\"},\"colorscale\":[[0.0,\"#0d0887\"],[0.1111111111111111,\"#46039f\"],[0.2222222222222222,\"#7201a8\"],[0.3333333333333333,\"#9c179e\"],[0.4444444444444444,\"#bd3786\"],[0.5555555555555556,\"#d8576b\"],[0.6666666666666666,\"#ed7953\"],[0.7777777777777778,\"#fb9f3a\"],[0.8888888888888888,\"#fdca26\"],[1.0,\"#f0f921\"]]}],\"heatmapgl\":[{\"type\":\"heatmapgl\",\"colorbar\":{\"outlinewidth\":0,\"ticks\":\"\"},\"colorscale\":[[0.0,\"#0d0887\"],[0.1111111111111111,\"#46039f\"],[0.2222222222222222,\"#7201a8\"],[0.3333333333333333,\"#9c179e\"],[0.4444444444444444,\"#bd3786\"],[0.5555555555555556,\"#d8576b\"],[0.6666666666666666,\"#ed7953\"],[0.7777777777777778,\"#fb9f3a\"],[0.8888888888888888,\"#fdca26\"],[1.0,\"#f0f921\"]]}],\"contourcarpet\":[{\"type\":\"contourcarpet\",\"colorbar\":{\"outlinewidth\":0,\"ticks\":\"\"}}],\"contour\":[{\"type\":\"contour\",\"colorbar\":{\"outlinewidth\":0,\"ticks\":\"\"},\"colorscale\":[[0.0,\"#0d0887\"],[0.1111111111111111,\"#46039f\"],[0.2222222222222222,\"#7201a8\"],[0.3333333333333333,\"#9c179e\"],[0.4444444444444444,\"#bd3786\"],[0.5555555555555556,\"#d8576b\"],[0.6666666666666666,\"#ed7953\"],[0.7777777777777778,\"#fb9f3a\"],[0.8888888888888888,\"#fdca26\"],[1.0,\"#f0f921\"]]}],\"surface\":[{\"type\":\"surface\",\"colorbar\":{\"outlinewidth\":0,\"ticks\":\"\"},\"colorscale\":[[0.0,\"#0d0887\"],[0.1111111111111111,\"#46039f\"],[0.2222222222222222,\"#7201a8\"],[0.3333333333333333,\"#9c179e\"],[0.4444444444444444,\"#bd3786\"],[0.5555555555555556,\"#d8576b\"],[0.6666666666666666,\"#ed7953\"],[0.7777777777777778,\"#fb9f3a\"],[0.8888888888888888,\"#fdca26\"],[1.0,\"#f0f921\"]]}],\"mesh3d\":[{\"type\":\"mesh3d\",\"colorbar\":{\"outlinewidth\":0,\"ticks\":\"\"}}],\"scatter\":[{\"fillpattern\":{\"fillmode\":\"overlay\",\"size\":10,\"solidity\":0.2},\"type\":\"scatter\"}],\"parcoords\":[{\"type\":\"parcoords\",\"line\":{\"colorbar\":{\"outlinewidth\":0,\"ticks\":\"\"}}}],\"scatterpolargl\":[{\"type\":\"scatterpolargl\",\"marker\":{\"colorbar\":{\"outlinewidth\":0,\"ticks\":\"\"}}}],\"bar\":[{\"error_x\":{\"color\":\"#2a3f5f\"},\"error_y\":{\"color\":\"#2a3f5f\"},\"marker\":{\"line\":{\"color\":\"#E5ECF6\",\"width\":0.5},\"pattern\":{\"fillmode\":\"overlay\",\"size\":10,\"solidity\":0.2}},\"type\":\"bar\"}],\"scattergeo\":[{\"type\":\"scattergeo\",\"marker\":{\"colorbar\":{\"outlinewidth\":0,\"ticks\":\"\"}}}],\"scatterpolar\":[{\"type\":\"scatterpolar\",\"marker\":{\"colorbar\":{\"outlinewidth\":0,\"ticks\":\"\"}}}],\"histogram\":[{\"marker\":{\"pattern\":{\"fillmode\":\"overlay\",\"size\":10,\"solidity\":0.2}},\"type\":\"histogram\"}],\"scattergl\":[{\"type\":\"scattergl\",\"marker\":{\"colorbar\":{\"outlinewidth\":0,\"ticks\":\"\"}}}],\"scatter3d\":[{\"type\":\"scatter3d\",\"line\":{\"colorbar\":{\"outlinewidth\":0,\"ticks\":\"\"}},\"marker\":{\"colorbar\":{\"outlinewidth\":0,\"ticks\":\"\"}}}],\"scattermapbox\":[{\"type\":\"scattermapbox\",\"marker\":{\"colorbar\":{\"outlinewidth\":0,\"ticks\":\"\"}}}],\"scatterternary\":[{\"type\":\"scatterternary\",\"marker\":{\"colorbar\":{\"outlinewidth\":0,\"ticks\":\"\"}}}],\"scattercarpet\":[{\"type\":\"scattercarpet\",\"marker\":{\"colorbar\":{\"outlinewidth\":0,\"ticks\":\"\"}}}],\"carpet\":[{\"aaxis\":{\"endlinecolor\":\"#2a3f5f\",\"gridcolor\":\"white\",\"linecolor\":\"white\",\"minorgridcolor\":\"white\",\"startlinecolor\":\"#2a3f5f\"},\"baxis\":{\"endlinecolor\":\"#2a3f5f\",\"gridcolor\":\"white\",\"linecolor\":\"white\",\"minorgridcolor\":\"white\",\"startlinecolor\":\"#2a3f5f\"},\"type\":\"carpet\"}],\"table\":[{\"cells\":{\"fill\":{\"color\":\"#EBF0F8\"},\"line\":{\"color\":\"white\"}},\"header\":{\"fill\":{\"color\":\"#C8D4E3\"},\"line\":{\"color\":\"white\"}},\"type\":\"table\"}],\"barpolar\":[{\"marker\":{\"line\":{\"color\":\"#E5ECF6\",\"width\":0.5},\"pattern\":{\"fillmode\":\"overlay\",\"size\":10,\"solidity\":0.2}},\"type\":\"barpolar\"}],\"pie\":[{\"automargin\":true,\"type\":\"pie\"}]},\"layout\":{\"autotypenumbers\":\"strict\",\"colorway\":[\"#636efa\",\"#EF553B\",\"#00cc96\",\"#ab63fa\",\"#FFA15A\",\"#19d3f3\",\"#FF6692\",\"#B6E880\",\"#FF97FF\",\"#FECB52\"],\"font\":{\"color\":\"#2a3f5f\"},\"hovermode\":\"closest\",\"hoverlabel\":{\"align\":\"left\"},\"paper_bgcolor\":\"white\",\"plot_bgcolor\":\"#E5ECF6\",\"polar\":{\"bgcolor\":\"#E5ECF6\",\"angularaxis\":{\"gridcolor\":\"white\",\"linecolor\":\"white\",\"ticks\":\"\"},\"radialaxis\":{\"gridcolor\":\"white\",\"linecolor\":\"white\",\"ticks\":\"\"}},\"ternary\":{\"bgcolor\":\"#E5ECF6\",\"aaxis\":{\"gridcolor\":\"white\",\"linecolor\":\"white\",\"ticks\":\"\"},\"baxis\":{\"gridcolor\":\"white\",\"linecolor\":\"white\",\"ticks\":\"\"},\"caxis\":{\"gridcolor\":\"white\",\"linecolor\":\"white\",\"ticks\":\"\"}},\"coloraxis\":{\"colorbar\":{\"outlinewidth\":0,\"ticks\":\"\"}},\"colorscale\":{\"sequential\":[[0.0,\"#0d0887\"],[0.1111111111111111,\"#46039f\"],[0.2222222222222222,\"#7201a8\"],[0.3333333333333333,\"#9c179e\"],[0.4444444444444444,\"#bd3786\"],[0.5555555555555556,\"#d8576b\"],[0.6666666666666666,\"#ed7953\"],[0.7777777777777778,\"#fb9f3a\"],[0.8888888888888888,\"#fdca26\"],[1.0,\"#f0f921\"]],\"sequentialminus\":[[0.0,\"#0d0887\"],[0.1111111111111111,\"#46039f\"],[0.2222222222222222,\"#7201a8\"],[0.3333333333333333,\"#9c179e\"],[0.4444444444444444,\"#bd3786\"],[0.5555555555555556,\"#d8576b\"],[0.6666666666666666,\"#ed7953\"],[0.7777777777777778,\"#fb9f3a\"],[0.8888888888888888,\"#fdca26\"],[1.0,\"#f0f921\"]],\"diverging\":[[0,\"#8e0152\"],[0.1,\"#c51b7d\"],[0.2,\"#de77ae\"],[0.3,\"#f1b6da\"],[0.4,\"#fde0ef\"],[0.5,\"#f7f7f7\"],[0.6,\"#e6f5d0\"],[0.7,\"#b8e186\"],[0.8,\"#7fbc41\"],[0.9,\"#4d9221\"],[1,\"#276419\"]]},\"xaxis\":{\"gridcolor\":\"white\",\"linecolor\":\"white\",\"ticks\":\"\",\"title\":{\"standoff\":15},\"zerolinecolor\":\"white\",\"automargin\":true,\"zerolinewidth\":2},\"yaxis\":{\"gridcolor\":\"white\",\"linecolor\":\"white\",\"ticks\":\"\",\"title\":{\"standoff\":15},\"zerolinecolor\":\"white\",\"automargin\":true,\"zerolinewidth\":2},\"scene\":{\"xaxis\":{\"backgroundcolor\":\"#E5ECF6\",\"gridcolor\":\"white\",\"linecolor\":\"white\",\"showbackground\":true,\"ticks\":\"\",\"zerolinecolor\":\"white\",\"gridwidth\":2},\"yaxis\":{\"backgroundcolor\":\"#E5ECF6\",\"gridcolor\":\"white\",\"linecolor\":\"white\",\"showbackground\":true,\"ticks\":\"\",\"zerolinecolor\":\"white\",\"gridwidth\":2},\"zaxis\":{\"backgroundcolor\":\"#E5ECF6\",\"gridcolor\":\"white\",\"linecolor\":\"white\",\"showbackground\":true,\"ticks\":\"\",\"zerolinecolor\":\"white\",\"gridwidth\":2}},\"shapedefaults\":{\"line\":{\"color\":\"#2a3f5f\"}},\"annotationdefaults\":{\"arrowcolor\":\"#2a3f5f\",\"arrowhead\":0,\"arrowwidth\":1},\"geo\":{\"bgcolor\":\"white\",\"landcolor\":\"#E5ECF6\",\"subunitcolor\":\"white\",\"showland\":true,\"showlakes\":true,\"lakecolor\":\"white\"},\"title\":{\"x\":0.05},\"mapbox\":{\"style\":\"light\"}}},\"xaxis\":{\"anchor\":\"y\",\"domain\":[0.0,1.0],\"title\":{\"text\":\"index\"}},\"yaxis\":{\"anchor\":\"x\",\"domain\":[0.0,1.0],\"title\":{\"text\":\"value\"}},\"legend\":{\"title\":{\"text\":\"variable\"},\"tracegroupgap\":0},\"margin\":{\"t\":60}},                        {\"responsive\": true}                    ).then(function(){\n",
              "                            \n",
              "var gd = document.getElementById('56e605b3-768f-4a87-adc9-dcd4c2b7d833');\n",
              "var x = new MutationObserver(function (mutations, observer) {{\n",
              "        var display = window.getComputedStyle(gd).display;\n",
              "        if (!display || display === 'none') {{\n",
              "            console.log([gd, 'removed!']);\n",
              "            Plotly.purge(gd);\n",
              "            observer.disconnect();\n",
              "        }}\n",
              "}});\n",
              "\n",
              "// Listen for the removal of the full notebook cells\n",
              "var notebookContainer = gd.closest('#notebook-container');\n",
              "if (notebookContainer) {{\n",
              "    x.observe(notebookContainer, {childList: true});\n",
              "}}\n",
              "\n",
              "// Listen for the clearing of the current output cell\n",
              "var outputEl = gd.closest('.output');\n",
              "if (outputEl) {{\n",
              "    x.observe(outputEl, {childList: true});\n",
              "}}\n",
              "\n",
              "                        })                };                            </script>        </div>\n",
              "</body>\n",
              "</html>"
            ]
          },
          "metadata": {}
        },
        {
          "output_type": "display_data",
          "data": {
            "text/html": [
              "<html>\n",
              "<head><meta charset=\"utf-8\" /></head>\n",
              "<body>\n",
              "    <div>            <script src=\"https://cdnjs.cloudflare.com/ajax/libs/mathjax/2.7.5/MathJax.js?config=TeX-AMS-MML_SVG\"></script><script type=\"text/javascript\">if (window.MathJax && window.MathJax.Hub && window.MathJax.Hub.Config) {window.MathJax.Hub.Config({SVG: {font: \"STIX-Web\"}});}</script>                <script type=\"text/javascript\">window.PlotlyConfig = {MathJaxConfig: 'local'};</script>\n",
              "        <script src=\"https://cdn.plot.ly/plotly-2.18.2.min.js\"></script>                <div id=\"384311f8-a46f-4cee-9a53-bc70f4d7676c\" class=\"plotly-graph-div\" style=\"height:525px; width:100%;\"></div>            <script type=\"text/javascript\">                                    window.PLOTLYENV=window.PLOTLYENV || {};                                    if (document.getElementById(\"384311f8-a46f-4cee-9a53-bc70f4d7676c\")) {                    Plotly.newPlot(                        \"384311f8-a46f-4cee-9a53-bc70f4d7676c\",                        [{\"hovertemplate\":\"variable=Polygon<br>index=%{x}<br>value=%{y}<extra></extra>\",\"legendgroup\":\"Polygon\",\"line\":{\"color\":\"#636efa\",\"dash\":\"solid\"},\"marker\":{\"symbol\":\"circle\"},\"mode\":\"lines\",\"name\":\"Polygon\",\"showlegend\":true,\"x\":[0,1,2,3,4,5,6,7,8,9,10,11,12,13,14,15,16,17,18,19,20,21,22,23,24,25,26,27,28,29,30,31,32,33,34,35,36,37,38,39,40,41,42,43,44,45,46,47,48,49,50,51,52,53,54,55,56,57,58,59,60,61,62,63,64,65,66,67,68,69,70,71,72,73,74,75,76,77,78,79,80,81,82,83,84,85,86,87,88,89,90,91,92,93,94,95,96,97,98,99,100,101,102,103,104,105,106,107,108,109,110,111,112,113,114,115,116,117,118,119,120,121,122,123,124,125,126,127,128,129,130,131,132,133,134,135,136,137,138,139,140,141,142,143,144,145,146,147,148,149,150,151,152,153,154,155,156,157,158,159,160,161,162,163,164,165,166,167,168,169,170,171,172,173,174,175,176,177,178,179,180,181,182,183,184,185,186,187,188,189,190,191,192,193,194,195,196,197,198,199,200,201,202,203,204,205,206,207,208,209,210,211,212,213,214,215,216,217,218,219,220,221,222,223,224,225,226,227,228,229,230,231,232,233,234,235,236,237,238,239,240,241,242,243,244,245,246,247,248,249,250,251,252,253,254,255,256,257,258,259,260,261,262,263,264,265,266,267,268,269,270,271,272,273,274,275,276,277,278,279,280,281,282,283,284,285,286,287,288,289,290,291,292,293,294,295,296,297,298,299,300,301,302,303,304,305,306,307,308,309,310,311,312,313,314,315,316,317,318,319,320,321,322,323,324,325,326,327,328,329,330,331,332,333,334,335,336,337,338,339,340,341,342,343,344,345,346,347,348,349,350,351,352,353,354,355,356,357,358,359,360,361,362,363,364,365,366,367,368,369,370,371,372,373,374,375,376,377,378,379,380,381,382,383,384,385,386,387,388,389,390,391,392,393,394,395,396,397,398,399,400,401,402,403,404,405,406,407,408,409,410,411,412,413,414,415,416,417,418,419,420,421,422,423,424,425,426,427,428,429,430,431,432,433,434,435,436,437,438,439,440,441,442,443,444,445,446,447,448,449,450,451,452,453,454,455,456,457,458,459,460,461,462,463,464,465,466,467,468,469,470,471,472,473,474,475,476,477,478,479,480,481,482,483,484,485,486,487,488,489,490,491,492,493,494,495,496,497,498,499,500,501,502,503,504,505,506,507,508,509,510,511,512,513,514,515,516,517,518,519,520,521,522,523,524,525,526,527,528,529,530,531,532,533,534,535,536,537,538,539,540,541,542,543,544,545,546,547,548,549,550,551,552,553,554,555,556,557,558,559,560,561,562,563,564,565,566,567,568,569,570,571,572,573,574,575,576,577,578,579,580,581,582,583,584,585,586,587,588,589,590,591,592,593,594,595,596,597,598,599,600,601,602,603,604,605,606,607,608,609,610,611,612,613,614,615,616,617,618,619,620,621,622,623,624,625,626,627,628,629,630,631,632,633,634,635,636,637,638,639,640,641,642,643,644,645,646,647,648,649,650,651,652,653,654,655,656,657,658,659,660,661,662,663,664,665,666,667,668,669,670,671,672,673,674,675,676,677,678,679,680,681,682,683,684,685,686,687,688,689,690,691,692,693,694,695,696,697,698,699,700,701,702,703,704,705,706,707,708,709,710,711,712,713,714,715,716,717,718,719,720,721,722,723,724,725,726,727,728,729,730,731,732,733,734,735,736,737,738,739,740,741,742,743,744,745,746,747,748,749,750,751,752,753,754,755,756,757,758,759,760,761,762,763,764,765,766,767,768,769,770,771,772,773,774,775,776,777,778,779,780,781,782,783,784,785,786,787,788,789,790,791,792,793,794,795,796,797,798,799,800,801,802,803,804,805,806,807,808,809,810,811,812,813,814,815,816,817,818,819,820,821,822,823,824,825,826,827,828,829,830,831,832,833,834,835,836,837,838,839,840,841,842,843,844,845,846,847,848,849,850,851,852,853,854,855,856,857,858,859,860,861,862,863,864,865,866,867,868,869,870,871,872,873,874,875,876,877,878,879,880,881,882,883,884,885,886,887,888,889,890,891,892,893,894,895,896,897,898,899,900,901,902,903,904,905,906,907,908,909,910,911,912,913,914,915,916,917,918,919,920,921,922,923,924,925,926,927,928,929,930,931,932,933,934,935,936,937,938,939,940,941,942,943,944,945,946,947,948,949,950,951,952,953,954,955,956,957,958,959,960,961,962,963,964,965,966,967,968,969,970,971,972,973,974,975,976,977,978,979,980,981,982,983,984,985,986,987,988,989,990,991,992,993,994,995,996,997,998,999,1000,1001,1002,1003,1004,1005,1006,1007,1008,1009,1010,1011,1012,1013,1014,1015,1016,1017,1018,1019,1020,1021,1022,1023,1024,1025,1026,1027,1028,1029,1030,1031,1032,1033,1034,1035,1036,1037,1038,1039,1040,1041,1042,1043,1044,1045,1046,1047,1048,1049,1050,1051,1052,1053,1054,1055,1056,1057,1058,1059,1060,1061,1062,1063,1064,1065,1066,1067,1068,1069,1070,1071,1072,1073,1074,1075,1076,1077,1078,1079,1080,1081,1082,1083,1084,1085,1086,1087,1088,1089,1090,1091,1092,1093,1094,1095],\"xaxis\":\"x\",\"y\":[0.000385359316016399,0.0,0.0,0.0,0.0,0.0003853593160163997,-0.0003853593160163997,0.0,0.0,0.0,0.0,0.0,0.0,0.0003853593160163997,0.0,0.0,0.0011560779480491977,-0.000770718632032798,-0.0003853593160163997,0.0003853593160163997,0.0,0.0,-0.0003853593160163997,0.0,0.0,0.0,0.0003853593160163997,0.0,0.0,0.000770718632032798,-0.0003853593160163997,0.0,0.0003853593160163997,0.0011560779480491977,-0.0003853593160163984,0.0003853593160163984,0.0011560779480491992,-0.0003853593160163997,-0.000770718632032798,0.0003853593160163984,0.0,0.0003853593160163997,0.0,-0.0003853593160163997,0.0003853593160163997,-0.000770718632032798,-0.0003853593160163997,0.0,0.000770718632032798,-0.000770718632032798,0.0003853593160163997,0.0,0.0,0.0003853593160163984,-0.0003853593160163984,-0.0007707186320327993,-0.0003853593160163997,0.0007707186320327993,0.0,0.0,-0.0003853593160163997,0.0007707186320327993,0.000770718632032798,0.0007707186320327993,0.0003853593160163984,-0.0003853593160163984,0.000770718632032798,-0.0023121558960983953,0.0,0.0,-0.0007707186320327993,-0.003853593160163994,0.0007707186320327987,-0.000385359316016399,0.0,-0.0007707186320327987,0.000385359316016399,0.0,0.0007707186320327987,0.0,0.0,-0.000385359316016399,0.000385359316016399,0.0,0.0,0.0003853593160163997,-0.0003853593160163997,0.0,-0.000385359316016399,0.000385359316016399,0.0,0.0,0.0003853593160163997,0.0,0.0,-0.0003853593160163997,0.0011560779480491983,-0.0003853593160163997,0.0003853593160163997,0.0,-0.0007707186320327987,0.0,0.0,0.0,0.0,0.0,0.000385359316016399,0.0,0.0,0.0,-0.000385359316016399,0.0,0.000385359316016399,0.0003853593160163997,0.000385359316016399,0.0,0.0003853593160163997,-0.0003853593160163997,0.0003853593160163997,0.0,-0.0003853593160163997,0.0003853593160163997,0.0003853593160163997,0.0,0.0,0.0,0.0,0.0,0.0003853593160163984,-0.0003853593160163984,-0.0007707186320327993,0.0,0.0007707186320327993,0.0011560779480491977,0.0,-0.0003853593160163997,0.0003853593160163997,0.0,0.0003853593160163997,0.0003853593160163984,-0.0003853593160163984,-0.0007707186320327993,0.0003853593160163997,0.0,-0.0003853593160163997,0.0007707186320327993,0.0019267965800819958,-0.000770718632032798,0.0003853593160163997,0.0003853593160163984,-0.000770718632032798,-0.0011560779480491977,0.0003853593160163984,-0.0003853593160163984,0.0003853593160163984,0.0,-0.0003853593160163984,0.0,-0.0003853593160163997,0.0,0.0,0.0003853593160163997,-0.0003853593160163997,0.0,0.0003853593160163997,0.0,-0.0003853593160163997,0.0003853593160163997,0.0,-0.0003853593160163997,0.0,0.0011560779480491977,-0.000770718632032798,0.0003853593160163984,0.0003853593160163997,-0.0003853593160163997,0.0,-0.0003853593160163984,-0.0007707186320327993,0.0003853593160163997,0.0,-0.0003853593160163997,0.0,0.0,0.0,0.0003853593160163997,-0.0003853593160163997,0.0003853593160163997,0.0,0.000770718632032798,-0.0003853593160163984,0.0,0.0,0.0,0.0003853593160163984,0.0,0.0,-0.0003853593160163984,0.0,0.0,0.0,0.0003853593160163984,-0.0003853593160163984,0.0,0.0,0.0,0.0,0.0,-0.0003853593160163997,-0.0003853593160163997,0.0,0.0,0.0,0.0003853593160163997,-0.0003853593160163997,0.0,0.0003853593160163997,0.0,0.0003853593160163984,-0.0003853593160163984,0.000770718632032798,0.0,0.0003853593160163997,-0.0003853593160163997,0.0007707186320327993,0.000770718632032798,0.0003853593160163997,0.000770718632032798,0.0,-0.0003853593160163984,-0.0007707186320327993,-0.000770718632032798,0.000770718632032798,-0.000770718632032798,0.0003853593160163984,-0.0003853593160163984,0.0011560779480491977,-0.0007707186320327993,0.0003853593160163997,-0.0003853593160163997,0.0003853593160163997,0.0003853593160163997,-0.0003853593160163997,0.0,-0.000770718632032798,-0.0007707186320327993,-0.0015414372640655974,0.0,-0.0003853593160163997,0.0003853593160163997,0.0,-0.0003853593160163997,0.0007707186320327993,0.0,0.0003853593160163997,0.0,-0.0003853593160163997,0.0,0.0,0.0,0.0,0.0003853593160163997,0.0,0.0003853593160163984,-0.0011560779480491977,0.0003853593160163997,-0.0007707186320327993,0.0003853593160163997,0.0,0.0,0.0,0.0,0.0003853593160163997,0.0,-0.0003853593160163997,-0.0003853593160163997,0.0,0.0003853593160163997,0.0,-0.000770718632032798,0.0,0.0,0.0,0.0,0.0003853593160163984,0.0,0.0,-0.0003853593160163984,0.0,-0.0003853593160163997,0.0003853593160163997,0.0,-0.0003853593160163997,0.0,0.0,0.0003853593160163997,0.0,0.0003853593160163984,-0.0003853593160163984,0.0,-0.0003853593160163997,-0.0003853593160163997,-0.000385359316016399,0.0,0.0,0.0,0.0,-0.0003853593160163997,-0.000385359316016399,0.000385359316016399,0.0007707186320327987,-0.000385359316016399,0.0007707186320327987,0.0,0.0003853593160163997,0.0,-0.0003853593160163997,0.0003853593160163997,0.0,-0.0003853593160163997,0.0003853593160163997,0.0003853593160163984,-0.0003853593160163984,0.0,0.0003853593160163984,0.0007707186320327993,-0.0003853593160163997,0.0007707186320327993,0.0003853593160163984,-0.0003853593160163984,-0.0011560779480491992,0.0,0.0003853593160163997,0.0,0.0003853593160163997,-0.0003853593160163997,0.0,0.0007707186320327993,-0.0007707186320327993,0.0003853593160163997,0.0,-0.0003853593160163997,-0.0003853593160163997,0.0,0.0,-0.0003853593160163984,0.0003853593160163984,0.0,0.0,0.0003853593160163997,0.0,0.0,0.0007707186320327993,-0.0003853593160163997,-0.0003853593160163997,-0.0003853593160163997,0.0003853593160163997,-0.0015414372640655974,0.0003853593160163997,0.0003853593160163997,0.000770718632032798,-0.0003853593160163997,0.0003853593160163997,-0.0003853593160163997,0.0,0.0,0.0,0.0003853593160163997,0.0003853593160163997,0.0019267965800819971,-0.0003853593160163997,0.004238952476180394,-0.0007707186320327993,-0.0003853593160163997,0.0003853593160163997,-0.0011560779480491992,-0.0015414372640655974,0.0,0.0015414372640655974,0.0011560779480491992,0.0003853593160163997,-0.0003853593160163997,0.0003853593160163997,0.0007707186320327967,-0.001541437264065596,0.0007707186320327993,-0.0019267965800819971,0.000770718632032798,0.0011560779480491992,-0.0003853593160163997,0.0,0.0038535931601639917,-0.000385359316016397,-0.0011560779480491992,0.0003853593160163997,0.0,-0.0007707186320327993,0.0011560779480491992,0.0,0.0011560779480491964,0.0011560779480491992,0.003082874528131195,-0.0011560779480491992,0.0057803897402459925,0.0015414372640655935,0.010790060848459185,0.006551108372278789,0.0026975152121147925,-0.0007707186320327993,-0.003468233844147592,-0.004624311792196791,0.0026975152121147925,0.0007707186320327993,0.0011560779480491992,0.0038535931601639917,0.01233149811252478,-0.003468233844147597,0.0065511083722787945,-0.003853593160163997,-0.005780389740245985,0.008863264268377182,0.006165749056262384,0.005780389740245995,0.0023121558960983984,0.01271685742854118,0.006936467688295184,-0.005780389740245985,-0.003853593160163997,-0.009248623584393581,0.005395030424229585,0.0,-0.0003853593160163997,0.0019267965800819984,0.03159946391334474,-0.004238952476180397,0.047013836554000724,0.0019267965800819984,0.004238952476180397,-0.016955809904721564,0.004624311792196797,-0.007321827004311594,0.01079006084845919,-0.004624311792196797,0.008092545636344373,-0.010404701532442771,-0.0011560779480491992,-0.013102216744557589,-0.006165749056262374,-0.0030828745281311974,-0.008092545636344393,0.01348757606057399,-0.0015414372640655987,0.005009671108213175,0.014643654008623188,-0.005395030424229595,-0.004238952476180397,0.0011560779480491992,0.007707186320327994,-0.01156077948049199,0.003468233844147597,0.003468233844147597,0.0015414372640655987,-0.014258294692606767,0.007321827004311573,0.004238952476180397,-0.003468233844147597,0.004624311792196797,-0.004624311792196797,0.02466299622504956,-0.003468233844147597,0.010404701532442792,-0.0019267965800819984,-0.013102216744557568,-0.014643654008623188,-0.014643654008623167,0.0065511083722787945,0.0053950304242295745,-0.0023121558960983984,0.01233149811252479,-0.010404701532442792,0.011175420164475591,0.058189256718476315,0.11753459138500177,-0.02427763690903314,0.04354560270985312,-0.02697515212114798,-0.013102216744557547,0.014258294692606746,-0.010790060848459149,-0.032370182545377574,0.03737985365359077,-0.017726528536754386,-0.004238952476180397,0.03737985365359073,0.04624311792196792,-0.03583841638952513,0.07398898867514869,-0.02389227759301678,0.001156077948049242,0.16069483477883856,0.05317958561026307,0.04431632134188592,0.006165749056262395,0.27861478547985674,-0.31869215434556236,0.0782279411513291,-0.13140752676159217,-0.11329563890882142,-0.04393096202586957,0.2485567588305776,0.08477904952360785,0.10443237464044428,-0.06859395825091906,-0.07976937841539469,-0.04971135176611552,0.0658964430388043,0.006936467688295109,-0.022350840328951096,-0.008863264268377236,0.009248623584393593,-0.0736036293591323,-0.04007736886570548,0.020038684432852786,-0.03660913502155793,-0.001156077948049242,0.00346823384414764,-0.04971135176611552,-0.04316024339383676,0.034682338441475974,0.04894063313408272,0.03159946391334469,0.030443385965295534,-0.057033178770427066,0.008477904952360794,-0.04894063313408272,-0.005780389740245953,0.013872935376590304,-0.11291027959280499,-0.01156077948049199,0.03969200954968913,0.010404701532442835,-0.06242820919465675,0.012716857428541234,0.013872935376590389,0.0026975152121148406,0.018111887852770743,-0.0019267965800819557,-0.03622377570554157,0.01156077948049199,0.01156077948049199,0.005780389740245953,-0.018111887852770743,0.01156077948049199,-0.001156077948049242,-0.03314090117741029,0.003853593160163997,-0.008477904952360794,0.004624311792196797,-0.017341169220737987,-0.018497247168787187,-0.006551108372278752,-0.019267965800819985,-0.025819074173098738,-0.004238952476180397,-0.0026975152121147977,-0.02389227759301678,-0.016570450588705186,0.07630114457124709,-0.0026975152121147977,0.026204433489115136,-0.011560779480491949,0.0011560779480491563,0.02967266733326278,0.009633982900409949,-0.009633982900410036,0.003853593160163997,0.014643654008623188,0.004624311792196797,-0.011175420164475548,-0.0015414372640655987,-0.009248623584393593,0.011946138796508347,0.004624311792196797,0.0057803897402460384,0.03352626049342673,-0.03314090117741037,0.017341169220737942,0.011946138796508434,0.0828522529435259,-0.01965332511683643,0.07398898867514865,-0.026589792805131535,0.009633982900409949,-0.017726528536754386,-0.026589792805131535,-0.006165749056262395,0.05163814834619756,0.030828745281311975,0.013487576060574033,0.01579973195667243,0.0,-0.057803897402459954,0.02042404374886914,-0.059345334666525466,0.05549174150636147,-0.023121558960983897,-0.014643654008623188,-0.03930665023367277,0.007707186320327994,0.05009671108213196,-0.008477904952360794,0.004238952476180354,0.10944204574865743,-0.02312155896098398,-0.013487576060573946,-0.11098348301272302,-0.009633982900409949,0.012716857428541234,-0.02466299622504958,0.004624311792196797,0.005395030424229595,-0.031214104597328332,0.026589792805131535,0.03737985365359073,-0.011946138796508434,0.01425829469260683,-0.02119476238090194,-0.019267965800819985,-0.0697500361989683,-0.033911619809443086,0.07090611414701746,-0.0019267965800819557,-0.03776521296960717,-0.0015414372640655133,0.0003853593160163569,-0.014643654008623188,-0.012716857428541234,0.01811188785277083,0.011946138796508347,0.052408866978230356,0.01156077948049199,0.011946138796508347,-0.01888260648480354,0.015414372640655987,-0.02312155896098398,0.0073218270043115515,0.02581907417309882,0.0023121558960983984,-0.04084808749773837,0.0,-0.008092545636344437,0.007321827004311637,0.009248623584393507,0.12639785565337902,-0.03429697912545953,-0.0200386844328527,0.009633982900409949,-0.0034682338441475546,0.02389227759301678,-0.01156077948049199,0.005009671108213153,0.04778455518603356,-0.02697515212114798,0.03930665023367277,0.02312155896098398,0.009248623584393507,0.14450974350614984,-0.04393096202586965,-0.05895997535050902,0.026204433489115095,-0.01156077948049199,0.01233149811252479,0.03776521296960717,-0.04508703997391881,-0.008477904952360794,-0.004624311792196797,0.0003853593160163569,0.0030828745281311974,-0.04508703997391872,-0.029287308017246293,0.021580121696918298,-0.015029013324639545,0.013487576060573946,-0.008477904952360707,-0.01425829469260683,-0.05048207039814832,0.029287308017246376,-0.05317958561026307,0.04547239928993508,0.017726528536754386,-0.02427763690903314,-0.01579973195667243,0.07398898867514865,-0.02427763690903314,0.09287159515995229,-0.11213956096077227,-0.00809254563634435,0.015029013324639545,0.06319892782668947,-0.01233149811252479,0.0851644088396242,0.04662847723798432,0.05626246013839427,-0.11021276438069023,0.026204433489115178,0.08709120541970625,0.026204433489115178,0.02736051143716425,-0.12755393360142817,0.0019267965800821268,0.015799731956672346,-0.017341169220737942,-0.10250557806036223,0.04778455518603356,0.07167683277905017,-0.022350840328951096,0.02312155896098398,0.039306650233672684,-0.0034682338441475546,-0.03660913502155801,0.09364231379198516,0.04894063313408263,0.0697500361989683,-0.08246689362750945,0.06666716167083711,0.09017407994783744,-0.057033178770427156,-0.09133015789588668,-0.006551108372278752,0.03198482322936122,-0.01117542016447572,0.01811188785277083,-0.00809254563634435,-0.04624311792196796,-0.02581907417309882,-0.07321827004311586,0.02890194870122985,-0.07784258183531265,-0.02427763690903314,0.049711351766115436,-0.015414372640655987,0.10982740506467387,0.014643654008623103,-0.05202350766221383,0.027745870753180777,0.004624311792196797,-0.006551108372278752,-0.04277488407782041,-0.0369944943375742,-0.03506769775749242,-0.025048355541065853,-0.10057878148028028,-0.0635842871427059,0.030443385965295534,-0.042389524761803965,0.019267965800819985,0.01156077948049199,0.0,0.032370182545377574,0.00809254563634435,-0.03429697912545953,0.014258294692606746,0.0019267965800820414,-0.04123344681375472,0.005395030424229595,0.053564944926279515,0.007321827004311637,0.010404701532442835,0.10674453053654259,-0.029287308017246376,0.03622377570554157,-0.0543356635583124,-0.06975003619896822,-0.005780389740245953,-0.016185091272688787,-0.0003853593160164425,0.08131081567946029,-0.012716857428541147,-0.06628180235482074,-0.026589792805131535,0.015414372640655987,-0.04816991450204992,-0.03892129091765632,0.021965481012934825,-0.01079006084845919,0.0030828745281311974,0.041618806129771084,-0.013487576060573946,-0.02389227759301678,0.06396964645872234,0.0011560779480491563,0.005780389740245953,-0.019267965800819898,-0.042389524761803965,0.011946138796508347,-0.028131230069197134,-0.00886326426837715,0.013872935376590389,0.02196548101293474,-0.025819074173098738,-0.01233149811252479,-0.0030828745281311974,-0.013487576060573946,0.006551108372278752,-0.0003853593160163569,0.034682338441475974,-0.008092545636344437,0.020038684432852786,0.011946138796508347,-0.024662996225049496,0.0,0.015799731956672346,0.01888260648480354,0.028516589385213578,-0.019267965800819985,0.012716857428541234,0.03198482322936113,-0.01579973195667243,0.008092545636344437,0.0019267965800819557,-0.02427763690903314,0.029672667333262733,-0.01657045058870523,0.013102216744557589,-0.015414372640655987,-0.02119476238090194,-0.05240886697823027,0.021580121696918298,-0.030443385965295534,0.011175420164475635,-0.01425829469260683,-0.03545305707350869,0.021580121696918298,0.010019342216426393,-0.0177265285367543,0.009248623584393507,-0.003853593160163997,-0.019267965800819898,0.031214104597328332,0.003853593160163997,-0.003853593160163997,-0.01502901332463963,0.007707186320327994,-0.013872935376590304,-0.006936467688295194,0.00346823384414764,-0.04123344681375472,0.004238952476180354,-0.007707186320327909,-0.036994494337574374,-0.04123344681375472,0.02543371485708238,-0.008863264268377236,0.0,0.03660913502155793,-0.041618806129771084,-0.008092545636344437,-0.00886326426837715,-0.016570450588705186,-0.06474036509075506,0.031214104597328332,-0.08400833089157504,-0.027745870753180777,0.02581907417309878,0.0065511083722787945,0.02273619964496754,-0.02543371485708234,0.019267965800819943,-0.03853593160163993,0.01194613879650839,-0.008863264268377193,0.005780389740245995,0.010019342216426393,-0.013872935376590389,0.008477904952360794,-0.0065511083722787945,-0.018497247168787187,-0.009248623584393593,0.0050096711082131965,0.0050096711082131965,0.022350840328951183,0.0015414372640655987,-0.02389227759301678,0.007707186320327994,-0.01194613879650839,0.0026975152121147977,0.0007707186320327993,0.013102216744557589,-0.006165749056262395,-0.003853593160163997,0.010404701532442792,-0.015414372640655987,-0.020809403064885542,-0.016570450588705186,-0.02581907417309876,-0.005780389740245995,0.008477904952360794,-0.02119476238090196,0.005780389740245995,-0.020424043748869185,0.015029013324639589,0.005780389740245995,0.007321827004311573,0.013872935376590389,0.041618806129771105,0.017341169220737987,-0.0030828745281311974,-0.015799731956672346,-0.01079006084845919,-0.007707186320327994,-0.005395030424229595,-0.0065511083722787945,-0.0069364676882951734,0.01156077948049197,-0.01194613879650837,0.01117542016447557,0.008863264268377193,0.004624311792196797,0.014258294692606746,0.016955809904721588,-0.0065511083722787945,-0.007321827004311594,-0.0030828745281311974,-0.010404701532442748,0.04007736886570552,0.026975152121147938,-0.0026975152121147977,0.010019342216426393,0.009248623584393593,0.08092545636344385,-0.014258294692606746,-0.03660913502155797,0.028901948701229977,-0.02158012169691838,0.008477904952360794,0.0030828745281311974,-0.042774884077820326,0.005395030424229595,0.043930962025869526,0.014258294692606789,0.0011560779480491992,-0.0026975152121147977,-0.0003853593160163997,-0.01348757606057399,-0.005780389740245995,0.004238952476180397,0.0011560779480491992,0.014258294692606789,-0.007707186320327994,-0.0003853593160163997,0.005780389740245995,-0.01194613879650839,0.018111887852770743,-0.006551108372278752,0.0050096711082131965,0.035067697757492286,-0.010019342216426393,-0.019267965800819985,-0.006551108372278752,-0.019267965800819985,-0.010404701532442792,-0.03314090117741033,0.005780389740245995,0.013102216744557547,-0.0038535931601639544,0.00847790495236075,-0.006936467688295194,0.0019267965800819984,-0.020809403064885542,0.015414372640655987,-0.009248623584393593,0.013487576060573946,-0.0011560779480491992,0.007321827004311594,0.019653325116836384,-0.004624311792196797,0.0065511083722787945,0.0023121558960983984,-0.0050096711082131965,-0.02581907417309878,0.009633982900409992,0.0019267965800819984,0.018111887852770785,0.005780389740245995,-0.0050096711082131965,0.014258294692606789,-0.032755541861393976,0.006936467688295194,-0.015029013324639589,-0.006936467688295152,0.00847790495236075,-0.028901948701229935,0.004624311792196797,-0.01233149811252479,-0.01194613879650839,0.019653325116836384,0.010404701532442792,-0.010019342216426393,-0.004624311792196797,0.005780389740245995,-0.0065511083722787945,0.0030828745281311974,0.006165749056262395,0.005780389740245995,-0.004238952476180397,-0.0015414372640655987,0.014643654008623188,0.013487576060573946,0.006165749056262395,-0.006936467688295194,-0.0011560779480491992,-0.0065511083722787945,0.004238952476180397,-0.0050096711082131965,-0.00886326426837715,-0.0030828745281311974,-0.0030828745281311974,0.007321827004311594,-0.0015414372640655987,0.003468233844147597,0.01888260648480354,0.006165749056262395,-0.007321827004311594,-0.012716857428541147,0.007707186320327951,0.0,0.02581907417309878,-0.0023121558960983984,0.009633982900409992,0.007321827004311594,-0.01233149811252479,0.015414372640655946,-0.004238952476180354,-0.010019342216426393,-0.0019267965800819984,-0.011175420164475591,0.0,0.029672667333262733,0.08362297157555865,0.006936467688295194,-0.018497247168787187,0.04662847723798432,-0.08208153431149309,-0.08863264268377184,0.11946138796508382,-0.02389227759301678,-0.04778455518603352,-0.019267965800819943,0.010404701532442792,0.009633982900409949,-0.019267965800819943,-0.004238952476180397,-0.0026975152121147977,0.004238952476180397,-0.026589792805131535,-0.004238952476180397,0.02158012169691834,0.004238952476180397,-0.0050096711082131965,-0.0023121558960983984,0.0011560779480491992,-0.0007707186320327993,-0.008477904952360794,0.006165749056262395,0.036994494337574374,-0.009633982900409992,0.015414372640655946,-0.017726528536754344,0.006936467688295194,-0.003468233844147597,0.0023121558960983984,-0.008092545636344393,0.01194613879650839,-0.006936467688295194,-0.0007707186320327993,-0.006165749056262395,0.006936467688295194,0.005395030424229595,-0.008477904952360794,-0.009248623584393593,-0.03198482322936113,0.00809254563634435,-0.0011560779480491992,-0.015029013324639545,0.01079006084845919,-0.0030828745281311974,0.0011560779480491992,0.0007707186320327993,-0.0011560779480491992,-0.0003853593160163997,0.007707186320327951,-0.0034682338441475546,-0.008863264268377193,-0.0023121558960983984,-0.006165749056262395,-0.0011560779480491992],\"yaxis\":\"y\",\"type\":\"scattergl\"}],                        {\"template\":{\"data\":{\"histogram2dcontour\":[{\"type\":\"histogram2dcontour\",\"colorbar\":{\"outlinewidth\":0,\"ticks\":\"\"},\"colorscale\":[[0.0,\"#0d0887\"],[0.1111111111111111,\"#46039f\"],[0.2222222222222222,\"#7201a8\"],[0.3333333333333333,\"#9c179e\"],[0.4444444444444444,\"#bd3786\"],[0.5555555555555556,\"#d8576b\"],[0.6666666666666666,\"#ed7953\"],[0.7777777777777778,\"#fb9f3a\"],[0.8888888888888888,\"#fdca26\"],[1.0,\"#f0f921\"]]}],\"choropleth\":[{\"type\":\"choropleth\",\"colorbar\":{\"outlinewidth\":0,\"ticks\":\"\"}}],\"histogram2d\":[{\"type\":\"histogram2d\",\"colorbar\":{\"outlinewidth\":0,\"ticks\":\"\"},\"colorscale\":[[0.0,\"#0d0887\"],[0.1111111111111111,\"#46039f\"],[0.2222222222222222,\"#7201a8\"],[0.3333333333333333,\"#9c179e\"],[0.4444444444444444,\"#bd3786\"],[0.5555555555555556,\"#d8576b\"],[0.6666666666666666,\"#ed7953\"],[0.7777777777777778,\"#fb9f3a\"],[0.8888888888888888,\"#fdca26\"],[1.0,\"#f0f921\"]]}],\"heatmap\":[{\"type\":\"heatmap\",\"colorbar\":{\"outlinewidth\":0,\"ticks\":\"\"},\"colorscale\":[[0.0,\"#0d0887\"],[0.1111111111111111,\"#46039f\"],[0.2222222222222222,\"#7201a8\"],[0.3333333333333333,\"#9c179e\"],[0.4444444444444444,\"#bd3786\"],[0.5555555555555556,\"#d8576b\"],[0.6666666666666666,\"#ed7953\"],[0.7777777777777778,\"#fb9f3a\"],[0.8888888888888888,\"#fdca26\"],[1.0,\"#f0f921\"]]}],\"heatmapgl\":[{\"type\":\"heatmapgl\",\"colorbar\":{\"outlinewidth\":0,\"ticks\":\"\"},\"colorscale\":[[0.0,\"#0d0887\"],[0.1111111111111111,\"#46039f\"],[0.2222222222222222,\"#7201a8\"],[0.3333333333333333,\"#9c179e\"],[0.4444444444444444,\"#bd3786\"],[0.5555555555555556,\"#d8576b\"],[0.6666666666666666,\"#ed7953\"],[0.7777777777777778,\"#fb9f3a\"],[0.8888888888888888,\"#fdca26\"],[1.0,\"#f0f921\"]]}],\"contourcarpet\":[{\"type\":\"contourcarpet\",\"colorbar\":{\"outlinewidth\":0,\"ticks\":\"\"}}],\"contour\":[{\"type\":\"contour\",\"colorbar\":{\"outlinewidth\":0,\"ticks\":\"\"},\"colorscale\":[[0.0,\"#0d0887\"],[0.1111111111111111,\"#46039f\"],[0.2222222222222222,\"#7201a8\"],[0.3333333333333333,\"#9c179e\"],[0.4444444444444444,\"#bd3786\"],[0.5555555555555556,\"#d8576b\"],[0.6666666666666666,\"#ed7953\"],[0.7777777777777778,\"#fb9f3a\"],[0.8888888888888888,\"#fdca26\"],[1.0,\"#f0f921\"]]}],\"surface\":[{\"type\":\"surface\",\"colorbar\":{\"outlinewidth\":0,\"ticks\":\"\"},\"colorscale\":[[0.0,\"#0d0887\"],[0.1111111111111111,\"#46039f\"],[0.2222222222222222,\"#7201a8\"],[0.3333333333333333,\"#9c179e\"],[0.4444444444444444,\"#bd3786\"],[0.5555555555555556,\"#d8576b\"],[0.6666666666666666,\"#ed7953\"],[0.7777777777777778,\"#fb9f3a\"],[0.8888888888888888,\"#fdca26\"],[1.0,\"#f0f921\"]]}],\"mesh3d\":[{\"type\":\"mesh3d\",\"colorbar\":{\"outlinewidth\":0,\"ticks\":\"\"}}],\"scatter\":[{\"fillpattern\":{\"fillmode\":\"overlay\",\"size\":10,\"solidity\":0.2},\"type\":\"scatter\"}],\"parcoords\":[{\"type\":\"parcoords\",\"line\":{\"colorbar\":{\"outlinewidth\":0,\"ticks\":\"\"}}}],\"scatterpolargl\":[{\"type\":\"scatterpolargl\",\"marker\":{\"colorbar\":{\"outlinewidth\":0,\"ticks\":\"\"}}}],\"bar\":[{\"error_x\":{\"color\":\"#2a3f5f\"},\"error_y\":{\"color\":\"#2a3f5f\"},\"marker\":{\"line\":{\"color\":\"#E5ECF6\",\"width\":0.5},\"pattern\":{\"fillmode\":\"overlay\",\"size\":10,\"solidity\":0.2}},\"type\":\"bar\"}],\"scattergeo\":[{\"type\":\"scattergeo\",\"marker\":{\"colorbar\":{\"outlinewidth\":0,\"ticks\":\"\"}}}],\"scatterpolar\":[{\"type\":\"scatterpolar\",\"marker\":{\"colorbar\":{\"outlinewidth\":0,\"ticks\":\"\"}}}],\"histogram\":[{\"marker\":{\"pattern\":{\"fillmode\":\"overlay\",\"size\":10,\"solidity\":0.2}},\"type\":\"histogram\"}],\"scattergl\":[{\"type\":\"scattergl\",\"marker\":{\"colorbar\":{\"outlinewidth\":0,\"ticks\":\"\"}}}],\"scatter3d\":[{\"type\":\"scatter3d\",\"line\":{\"colorbar\":{\"outlinewidth\":0,\"ticks\":\"\"}},\"marker\":{\"colorbar\":{\"outlinewidth\":0,\"ticks\":\"\"}}}],\"scattermapbox\":[{\"type\":\"scattermapbox\",\"marker\":{\"colorbar\":{\"outlinewidth\":0,\"ticks\":\"\"}}}],\"scatterternary\":[{\"type\":\"scatterternary\",\"marker\":{\"colorbar\":{\"outlinewidth\":0,\"ticks\":\"\"}}}],\"scattercarpet\":[{\"type\":\"scattercarpet\",\"marker\":{\"colorbar\":{\"outlinewidth\":0,\"ticks\":\"\"}}}],\"carpet\":[{\"aaxis\":{\"endlinecolor\":\"#2a3f5f\",\"gridcolor\":\"white\",\"linecolor\":\"white\",\"minorgridcolor\":\"white\",\"startlinecolor\":\"#2a3f5f\"},\"baxis\":{\"endlinecolor\":\"#2a3f5f\",\"gridcolor\":\"white\",\"linecolor\":\"white\",\"minorgridcolor\":\"white\",\"startlinecolor\":\"#2a3f5f\"},\"type\":\"carpet\"}],\"table\":[{\"cells\":{\"fill\":{\"color\":\"#EBF0F8\"},\"line\":{\"color\":\"white\"}},\"header\":{\"fill\":{\"color\":\"#C8D4E3\"},\"line\":{\"color\":\"white\"}},\"type\":\"table\"}],\"barpolar\":[{\"marker\":{\"line\":{\"color\":\"#E5ECF6\",\"width\":0.5},\"pattern\":{\"fillmode\":\"overlay\",\"size\":10,\"solidity\":0.2}},\"type\":\"barpolar\"}],\"pie\":[{\"automargin\":true,\"type\":\"pie\"}]},\"layout\":{\"autotypenumbers\":\"strict\",\"colorway\":[\"#636efa\",\"#EF553B\",\"#00cc96\",\"#ab63fa\",\"#FFA15A\",\"#19d3f3\",\"#FF6692\",\"#B6E880\",\"#FF97FF\",\"#FECB52\"],\"font\":{\"color\":\"#2a3f5f\"},\"hovermode\":\"closest\",\"hoverlabel\":{\"align\":\"left\"},\"paper_bgcolor\":\"white\",\"plot_bgcolor\":\"#E5ECF6\",\"polar\":{\"bgcolor\":\"#E5ECF6\",\"angularaxis\":{\"gridcolor\":\"white\",\"linecolor\":\"white\",\"ticks\":\"\"},\"radialaxis\":{\"gridcolor\":\"white\",\"linecolor\":\"white\",\"ticks\":\"\"}},\"ternary\":{\"bgcolor\":\"#E5ECF6\",\"aaxis\":{\"gridcolor\":\"white\",\"linecolor\":\"white\",\"ticks\":\"\"},\"baxis\":{\"gridcolor\":\"white\",\"linecolor\":\"white\",\"ticks\":\"\"},\"caxis\":{\"gridcolor\":\"white\",\"linecolor\":\"white\",\"ticks\":\"\"}},\"coloraxis\":{\"colorbar\":{\"outlinewidth\":0,\"ticks\":\"\"}},\"colorscale\":{\"sequential\":[[0.0,\"#0d0887\"],[0.1111111111111111,\"#46039f\"],[0.2222222222222222,\"#7201a8\"],[0.3333333333333333,\"#9c179e\"],[0.4444444444444444,\"#bd3786\"],[0.5555555555555556,\"#d8576b\"],[0.6666666666666666,\"#ed7953\"],[0.7777777777777778,\"#fb9f3a\"],[0.8888888888888888,\"#fdca26\"],[1.0,\"#f0f921\"]],\"sequentialminus\":[[0.0,\"#0d0887\"],[0.1111111111111111,\"#46039f\"],[0.2222222222222222,\"#7201a8\"],[0.3333333333333333,\"#9c179e\"],[0.4444444444444444,\"#bd3786\"],[0.5555555555555556,\"#d8576b\"],[0.6666666666666666,\"#ed7953\"],[0.7777777777777778,\"#fb9f3a\"],[0.8888888888888888,\"#fdca26\"],[1.0,\"#f0f921\"]],\"diverging\":[[0,\"#8e0152\"],[0.1,\"#c51b7d\"],[0.2,\"#de77ae\"],[0.3,\"#f1b6da\"],[0.4,\"#fde0ef\"],[0.5,\"#f7f7f7\"],[0.6,\"#e6f5d0\"],[0.7,\"#b8e186\"],[0.8,\"#7fbc41\"],[0.9,\"#4d9221\"],[1,\"#276419\"]]},\"xaxis\":{\"gridcolor\":\"white\",\"linecolor\":\"white\",\"ticks\":\"\",\"title\":{\"standoff\":15},\"zerolinecolor\":\"white\",\"automargin\":true,\"zerolinewidth\":2},\"yaxis\":{\"gridcolor\":\"white\",\"linecolor\":\"white\",\"ticks\":\"\",\"title\":{\"standoff\":15},\"zerolinecolor\":\"white\",\"automargin\":true,\"zerolinewidth\":2},\"scene\":{\"xaxis\":{\"backgroundcolor\":\"#E5ECF6\",\"gridcolor\":\"white\",\"linecolor\":\"white\",\"showbackground\":true,\"ticks\":\"\",\"zerolinecolor\":\"white\",\"gridwidth\":2},\"yaxis\":{\"backgroundcolor\":\"#E5ECF6\",\"gridcolor\":\"white\",\"linecolor\":\"white\",\"showbackground\":true,\"ticks\":\"\",\"zerolinecolor\":\"white\",\"gridwidth\":2},\"zaxis\":{\"backgroundcolor\":\"#E5ECF6\",\"gridcolor\":\"white\",\"linecolor\":\"white\",\"showbackground\":true,\"ticks\":\"\",\"zerolinecolor\":\"white\",\"gridwidth\":2}},\"shapedefaults\":{\"line\":{\"color\":\"#2a3f5f\"}},\"annotationdefaults\":{\"arrowcolor\":\"#2a3f5f\",\"arrowhead\":0,\"arrowwidth\":1},\"geo\":{\"bgcolor\":\"white\",\"landcolor\":\"#E5ECF6\",\"subunitcolor\":\"white\",\"showland\":true,\"showlakes\":true,\"lakecolor\":\"white\"},\"title\":{\"x\":0.05},\"mapbox\":{\"style\":\"light\"}}},\"xaxis\":{\"anchor\":\"y\",\"domain\":[0.0,1.0],\"title\":{\"text\":\"index\"}},\"yaxis\":{\"anchor\":\"x\",\"domain\":[0.0,1.0],\"title\":{\"text\":\"value\"}},\"legend\":{\"title\":{\"text\":\"variable\"},\"tracegroupgap\":0},\"margin\":{\"t\":60}},                        {\"responsive\": true}                    ).then(function(){\n",
              "                            \n",
              "var gd = document.getElementById('384311f8-a46f-4cee-9a53-bc70f4d7676c');\n",
              "var x = new MutationObserver(function (mutations, observer) {{\n",
              "        var display = window.getComputedStyle(gd).display;\n",
              "        if (!display || display === 'none') {{\n",
              "            console.log([gd, 'removed!']);\n",
              "            Plotly.purge(gd);\n",
              "            observer.disconnect();\n",
              "        }}\n",
              "}});\n",
              "\n",
              "// Listen for the removal of the full notebook cells\n",
              "var notebookContainer = gd.closest('#notebook-container');\n",
              "if (notebookContainer) {{\n",
              "    x.observe(notebookContainer, {childList: true});\n",
              "}}\n",
              "\n",
              "// Listen for the clearing of the current output cell\n",
              "var outputEl = gd.closest('.output');\n",
              "if (outputEl) {{\n",
              "    x.observe(outputEl, {childList: true});\n",
              "}}\n",
              "\n",
              "                        })                };                            </script>        </div>\n",
              "</body>\n",
              "</html>"
            ]
          },
          "metadata": {}
        },
        {
          "output_type": "display_data",
          "data": {
            "text/html": [
              "<html>\n",
              "<head><meta charset=\"utf-8\" /></head>\n",
              "<body>\n",
              "    <div>            <script src=\"https://cdnjs.cloudflare.com/ajax/libs/mathjax/2.7.5/MathJax.js?config=TeX-AMS-MML_SVG\"></script><script type=\"text/javascript\">if (window.MathJax && window.MathJax.Hub && window.MathJax.Hub.Config) {window.MathJax.Hub.Config({SVG: {font: \"STIX-Web\"}});}</script>                <script type=\"text/javascript\">window.PlotlyConfig = {MathJaxConfig: 'local'};</script>\n",
              "        <script src=\"https://cdn.plot.ly/plotly-2.18.2.min.js\"></script>                <div id=\"8b21198c-9951-483b-9500-56307a91282f\" class=\"plotly-graph-div\" style=\"height:525px; width:100%;\"></div>            <script type=\"text/javascript\">                                    window.PLOTLYENV=window.PLOTLYENV || {};                                    if (document.getElementById(\"8b21198c-9951-483b-9500-56307a91282f\")) {                    Plotly.newPlot(                        \"8b21198c-9951-483b-9500-56307a91282f\",                        [{\"hovertemplate\":\"variable=Tether<br>index=%{x}<br>value=%{y}<extra></extra>\",\"legendgroup\":\"Tether\",\"line\":{\"color\":\"#636efa\",\"dash\":\"solid\"},\"marker\":{\"symbol\":\"circle\"},\"mode\":\"lines\",\"name\":\"Tether\",\"showlegend\":true,\"x\":[0,1,2,3,4,5,6,7,8,9,10,11,12,13,14,15,16,17,18,19,20,21,22,23,24,25,26,27,28,29,30,31,32,33,34,35,36,37,38,39,40,41,42,43,44,45,46,47,48,49,50,51,52,53,54,55,56,57,58,59,60,61,62,63,64,65,66,67,68,69,70,71,72,73,74,75,76,77,78,79,80,81,82,83,84,85,86,87,88,89,90,91,92,93,94,95,96,97,98,99,100,101,102,103,104,105,106,107,108,109,110,111,112,113,114,115,116,117,118,119,120,121,122,123,124,125,126,127,128,129,130,131,132,133,134,135,136,137,138,139,140,141,142,143,144,145,146,147,148,149,150,151,152,153,154,155,156,157,158,159,160,161,162,163,164,165,166,167,168,169,170,171,172,173,174,175,176,177,178,179,180,181,182,183,184,185,186,187,188,189,190,191,192,193,194,195,196,197,198,199,200,201,202,203,204,205,206,207,208,209,210,211,212,213,214,215,216,217,218,219,220,221,222,223,224,225,226,227,228,229,230,231,232,233,234,235,236,237,238,239,240,241,242,243,244,245,246,247,248,249,250,251,252,253,254,255,256,257,258,259,260,261,262,263,264,265,266,267,268,269,270,271,272,273,274,275,276,277,278,279,280,281,282,283,284,285,286,287,288,289,290,291,292,293,294,295,296,297,298,299,300,301,302,303,304,305,306,307,308,309,310,311,312,313,314,315,316,317,318,319,320,321,322,323,324,325,326,327,328,329,330,331,332,333,334,335,336,337,338,339,340,341,342,343,344,345,346,347,348,349,350,351,352,353,354,355,356,357,358,359,360,361,362,363,364,365,366,367,368,369,370,371,372,373,374,375,376,377,378,379,380,381,382,383,384,385,386,387,388,389,390,391,392,393,394,395,396,397,398,399,400,401,402,403,404,405,406,407,408,409,410,411,412,413,414,415,416,417,418,419,420,421,422,423,424,425,426,427,428,429,430,431,432,433,434,435,436,437,438,439,440,441,442,443,444,445,446,447,448,449,450,451,452,453,454,455,456,457,458,459,460,461,462,463,464,465,466,467,468,469,470,471,472,473,474,475,476,477,478,479,480,481,482,483,484,485,486,487,488,489,490,491,492,493,494,495,496,497,498,499,500,501,502,503,504,505,506,507,508,509,510,511,512,513,514,515,516,517,518,519,520,521,522,523,524,525,526,527,528,529,530,531,532,533,534,535,536,537,538,539,540,541,542,543,544,545,546,547,548,549,550,551,552,553,554,555,556,557,558,559,560,561,562,563,564,565,566,567,568,569,570,571,572,573,574,575,576,577,578,579,580,581,582,583,584,585,586,587,588,589,590,591,592,593,594,595,596,597,598,599,600,601,602,603,604,605,606,607,608,609,610,611,612,613,614,615,616,617,618,619,620,621,622,623,624,625,626,627,628,629,630,631,632,633,634,635,636,637,638,639,640,641,642,643,644,645,646,647,648,649,650,651,652,653,654,655,656,657,658,659,660,661,662,663,664,665,666,667,668,669,670,671,672,673,674,675,676,677,678,679,680,681,682,683,684,685,686,687,688,689,690,691,692,693,694,695,696,697,698,699,700,701,702,703,704,705,706,707,708,709,710,711,712,713,714,715,716,717,718,719,720,721,722,723,724,725,726,727,728,729,730,731,732,733,734,735,736,737,738,739,740,741,742,743,744,745,746,747,748,749,750,751,752,753,754,755,756,757,758,759,760,761,762,763,764,765,766,767,768,769,770,771,772,773,774,775,776,777,778,779,780,781,782,783,784,785,786,787,788,789,790,791,792,793,794,795,796,797,798,799,800,801,802,803,804,805,806,807,808,809,810,811,812,813,814,815,816,817,818,819,820,821,822,823,824,825,826,827,828,829,830,831,832,833,834,835,836,837,838,839,840,841,842,843,844,845,846,847,848,849,850,851,852,853,854,855,856,857,858,859,860,861,862,863,864,865,866,867,868,869,870,871,872,873,874,875,876,877,878,879,880,881,882,883,884,885,886,887,888,889,890,891,892,893,894,895,896,897,898,899,900,901,902,903,904,905,906,907,908,909,910,911,912,913,914,915,916,917,918,919,920,921,922,923,924,925,926,927,928,929,930,931,932,933,934,935,936,937,938,939,940,941,942,943,944,945,946,947,948,949,950,951,952,953,954,955,956,957,958,959,960,961,962,963,964,965,966,967,968,969,970,971,972,973,974,975,976,977,978,979,980,981,982,983,984,985,986,987,988,989,990,991,992,993,994,995,996,997,998,999,1000,1001,1002,1003,1004,1005,1006,1007,1008,1009,1010,1011,1012,1013,1014,1015,1016,1017,1018,1019,1020,1021,1022,1023,1024,1025,1026,1027,1028,1029,1030,1031,1032,1033,1034,1035,1036,1037,1038,1039,1040,1041,1042,1043,1044,1045,1046,1047,1048,1049,1050,1051,1052,1053,1054,1055,1056,1057,1058,1059,1060,1061,1062,1063,1064,1065,1066,1067,1068,1069,1070,1071,1072,1073,1074,1075,1076,1077,1078,1079,1080,1081,1082,1083,1084,1085,1086,1087,1088,1089,1090,1091,1092,1093,1094,1095],\"xaxis\":\"x\",\"y\":[0.0902185173745992,-0.3816937273540794,-0.04857920166324928,-0.04857920166324928,-0.06245897356702487,0.0,-0.1318578330859568,-0.01040982892783748,0.03816937273540409,-0.12144800415811163,-0.017349714879736838,-0.02428960083162849,0.07286880249487006,-0.18043703474920222,0.07980868844676171,0.04163931571135377,-0.13879771903784846,0.0520491446391951,0.02081965785567496,0.01040982892783748,0.006939885951891653,-0.06939885951892423,-0.12144800415811934,0.04857920166324928,0.052049144639187396,-0.017349714879729132,-0.09368846035054887,-0.017349714879729132,-0.058989030591086754,-0.03122948678351629,0.027759543807570463,0.0520491446391951,-0.02428960083162849,-0.01040982892783748,-0.04857920166324542,0.02428960083162464,-0.04163931571135377,-0.013879771903787159,0.055519087615140926,-0.006939885951891653,0.02081965785567881,0.10756823225432832,-0.0659289165429784,-0.06245897356702873,0.027759543807570463,0.006939885951891653,0.031229486783520142,-0.01387977190379101,0.04163931571135762,-0.058989030591086754,0.04510925868730345,0.024289600831620784,0.055519087615140926,-0.027759543807566612,-0.0902185173745992,0.027759543807566612,0.024289600831620784,-0.02081965785567496,0.058989030591086754,0.027759543807566612,-0.07286880249487006,-0.1318578330859568,-0.017349714879729132,-0.031229486783512436,0.006939885951891653,-0.04857920166324928,-0.09368846035055273,0.01040982892783748,-0.12491794713406516,-0.0034699429759458265,0.031229486783512436,0.3539341835465128,-0.1700272058213609,0.0034699429759458265,-0.20472663558082688,0.12491794713406516,0.034699429759458264,-0.034699429759458264,-0.0902185173745992,-0.06245897356703258,0.0520491446391951,0.01040982892783748,0.055519087615140926,-0.027759543807574318,-0.03816937273540409,0.05898903059107905,-0.04163931571134992,-0.01040982892783748,0.006939885951891653,-0.07286880249487006,-0.017349714879729132,0.02081965785567496,-0.058989030591086754,0.013879771903783306,-0.027759543807566612,-0.1040982892783902,-0.027759543807566612,-0.031229486783512436,0.024289600831620784,-0.0034699429759458265,0.013879771903783306,0.0,-0.013879771903783306,0.013879771903783306,-0.027759543807574318,0.013879771903783306,0.0,-0.0034699429759458265,-0.017349714879729132,0.017349714879729132,-0.02081965785567496,0.02081965785567496,-0.013879771903783306,-0.031229486783512436,-0.006939885951891653,-0.017349714879729132,-0.0034699429759535313,0.01387977190379101,0.0034699429759458265,-0.02428960083162849,-0.0034699429759458265,-0.0034699429759458265,0.013879771903783306,-0.0034699429759458265,-0.0034699429759458265,0.0,0.01040982892783748,0.017349714879736838,-0.01387977190379101,-0.017349714879729132,0.01040982892783748,0.0034699429759458265,0.01040982892783748,0.01040982892783748,-0.024289600831620784,-0.01040982892783748,-0.0034699429759458265,-0.0034699429759458265,-0.0034699429759458265,0.017349714879729132,-0.01040982892783748,-0.006939885951891653,0.017349714879729132,0.0,-0.017349714879729132,0.017349714879729132,0.006939885951891653,-0.01040982892783748,-0.006939885951891653,-0.01040982892783748,-0.006939885951891653,-0.006939885951895505,0.08327863142271139,-0.055519087615140926,-0.0034699429759458265,-0.01040982892783748,-0.01040982892783748,0.006939885951891653,0.006939885951891653,0.01040982892783748,0.0034699429759458265,0.01040982892783748,-0.05204914463919125,0.017349714879732983,0.013879771903783306,-0.01040982892783748,0.024289600831620784,-0.006939885951891653,-0.01040982892783748,-0.013879771903783306,-0.0034699429759458265,0.04163931571134992,-0.04857920166324928,0.024289600831620784,0.006939885951891653,-0.031229486783512436,0.006939885951891653,0.0,-0.013879771903783306,0.013879771903783306,-0.006939885951891653,0.013879771903783306,0.006939885951891653,-0.0034699429759458265,0.0034699429759458265,0.017349714879729132,0.0034699429759535313,-0.006939885951899358,-0.010409828927845184,0.01387977190379101,0.0034699429759458265,-0.01387977190379101,0.010409828927845184,0.0,-0.027759543807574318,0.0,-0.013879771903783306,0.02081965785567496,0.01040982892783748,0.01387977190379101,0.006939885951891653,-0.02428960083162849,0.02428960083162849,0.017349714879729132,-0.03816937273540409,0.027759543807566612,-0.024289600831620784,0.0034699429759458265,0.01040982892783748,0.017349714879729132,-0.017349714879729132,0.006939885951891653,-0.017349714879729132,-0.027759543807574318,-0.027759543807566612,0.024289600831620784,-0.013879771903783306,0.02081965785567496,-0.01040982892783748,-0.013879771903783306,0.01040982892783748,0.0,0.02081965785567496,-0.04163931571134992,0.052049144639187396,0.020819657855682662,-0.031229486783520142,0.017349714879736838,-0.01387977190379101,0.031229486783520142,-0.02081965785567496,0.006939885951891653,-0.024289600831620784,-0.04510925868730345,0.024289600831620784,0.0034699429759458265,-0.0034699429759458265,0.0,0.01387977190379101,-0.010409828927845184,-0.01040982892783748,0.0,0.0034699429759458265,-0.010409828927845184,0.0,-0.01040982892783748,0.02081965785567496,0.0,-0.024289600831620784,-0.02081965785567496,0.0034699429759458265,-0.01040982892783748,-0.006939885951899358,-0.0034699429759458265,0.006939885951891653,0.0,-0.034699429759465966,0.013879771903783306,-0.006939885951891653,0.006939885951891653,-0.006939885951891653,-0.038169372735411794,-0.013879771903783306,-0.006939885951899358,-0.017349714879736838,0.0,-0.04163931571135762,0.017349714879729132,0.0,0.0034699429759458265,0.013879771903783306,-0.04163931571134992,-0.020819657855682662,-0.02428960083162849,-0.017349714879736838,0.010409828927845184,0.006939885951891653,0.006939885951891653,-0.013879771903783306,-0.017349714879736838,0.006939885951891653,-0.0034699429759458265,0.0,-0.01040982892783748,-0.0034699429759535313,0.01040982892783748,-0.013879771903783306,0.0034699429759458265,-0.010409828927845184,0.0,0.0,0.0034699429759458265,-0.006939885951891653,0.010409828927845184,0.027759543807566612,-0.031229486783520142,-0.01387977190379101,0.006939885951891653,-0.01040982892783748,0.013879771903783306,-0.02081965785567496,0.01040982892783748,0.006939885951891653,0.02081965785567496,-0.024289600831620784,0.0034699429759458265,0.02081965785567496,0.0034699429759458265,0.013879771903783306,-0.027759543807566612,-0.006939885951891653,0.055519087615140926,-0.020819657855682662,-0.02081965785567496,0.027759543807574318,-0.0034699429759458265,-0.027759543807574318,-0.006939885951891653,0.02081965785567496,0.013879771903783306,-0.01040982892783748,0.01040982892783748,-0.017349714879729132,0.027759543807566612,-0.01040982892783748,-0.055519087615140926,0.017349714879732983,0.034699429759462115,0.003469942975949679,0.017349714879729132,0.08674857439865337,-0.03816937273540409,-0.034699429759465966,-0.0034699429759458265,-0.017349714879729132,0.04510925868730345,-0.038169372735411794,0.01040982892783748,-0.02081965785567496,0.013879771903783306,0.02428960083162849,-0.027759543807574318,-0.027759543807566612,0.024289600831620784,-0.0034699429759458265,0.01040982892783748,0.0,-0.017349714879729132,-0.013879771903783306,0.03816937273540409,-0.0659289165429784,0.03122948678351629,0.03816937273540409,-0.02081965785567496,-0.024289600831620784,0.01040982892783748,0.0,-0.010409828927841331,0.034699429759462115,0.006939885951891653,-0.06939885951892423,0.017349714879732983,-0.0034699429759458265,-0.0034699429759458265,0.09368846035054502,0.006939885951891653,0.04857920166324928,-0.0520491446391951,0.006939885951891653,-0.0034699429759458265,0.07633874547081589,-0.024289600831620784,-0.017349714879729132,-0.01040982892783748,0.11103817523027415,-0.08327863142270754,0.0,0.02428960083162849,-0.0659289165429784,-0.027759543807570463,0.027759543807570463,0.017349714879729132,0.017349714879729132,0.010409828927845184,-0.02081965785567496,0.017349714879729132,-0.027759543807566612,0.04857920166324928,-0.038169372735411794,0.038169372735411794,-0.055519087615140926,0.04163931571135762,0.024289600831620784,-0.017349714879729132,-0.027759543807574318,0.027759543807574318,-0.01387977190379101,-0.0034699429759458265,0.031229486783520142,-0.038169372735411794,-0.006939885951891653,-0.02081965785567496,0.052049144639187396,0.006939885951899358,0.0034699429759458265,-0.0034699429759458265,-0.017349714879736838,-0.01040982892783748,0.04163931571135762,-0.038169372735411794,0.006939885951891653,-0.013879771903783306,0.006939885951891653,-0.006939885951891653,0.01040982892783748,0.006939885951891653,-0.01040982892783748,0.027759543807570463,-0.0034699429759458265,0.0,0.034699429759458264,-0.02081965785567496,-0.017349714879729132,0.0520491446391951,0.03816937273540409,-0.07286880249487006,0.038169372735411794,-0.02428960083162849,-0.013879771903783306,0.031229486783520142,-0.031229486783520142,0.006939885951891653,0.0,0.017349714879729132,-0.0034699429759458265,-0.0034699429759458265,-0.031229486783520142,-0.02081965785567496,-0.01040982892783748,0.027759543807566612,-0.04163931571135762,-0.02428960083162464,0.017349714879732983,0.01040982892783748,-0.013879771903783306,0.013879771903783306,0.013879771903783306,-0.013879771903783306,0.0034699429759458265,0.0,-0.01040982892783748,0.01040982892783748,-0.017349714879729132,0.013879771903783306,0.024289600831620784,-0.02081965785567496,-0.017349714879729132,0.0,0.0,0.024289600831620784,-0.01040982892783748,0.0,-0.006939885951891653,0.0,-0.0034699429759458265,0.006939885951891653,0.0,-0.006939885951891653,-0.01040982892783748,0.02081965785567881,0.055519087615137075,-0.006939885951891653,0.0034699429759458265,0.058989030591090605,0.01040982892783748,0.0034699429759458265,-0.006939885951891653,0.006939885951891653,0.013879771903783306,0.04163931571135762,-0.03816937273540409,-0.006939885951899358,-0.02428960083162849,0.017349714879729132,-0.013879771903783306,-0.0034699429759458265,0.0,0.0034699429759458265,-0.0034699429759458265,0.006939885951891653,0.01040982892783748,-0.01040982892783748,0.013879771903783306,0.006939885951891653,-0.0034699429759458265,0.0,0.006939885951891653,-0.006939885951891653,-0.0034699429759458265,0.013879771903783306,0.0,0.031229486783520142,-0.0659289165429784,0.024289600831620784,0.034699429759465966,0.006939885951891653,0.01040982892783748,-0.006939885951891653,-0.013879771903783306,-0.027759543807574318,0.0034699429759535313,0.01040982892783748,-0.02428960083162849,-0.013879771903783306,-0.01040982892783748,-0.01040982892783748,0.03122948678351629,-0.013879771903783306,0.01040982892783748,0.0,0.013879771903783306,0.0,-0.017349714879729132,0.01040982892783748,0.017349714879729132,-0.024289600831620784,0.01040982892783748,-0.01040982892783748,0.01040982892783748,-0.013879771903783306,0.006939885951891653,-0.006939885951891653,-0.0034699429759458265,0.006939885951891653,0.02081965785567496,0.02428960083162849,-0.010409828927845184,0.006939885951891653,-0.017349714879729132,-0.02428960083162849,-0.017349714879729132,-0.013879771903783306,0.04857920166324928,-0.020819657855682662,-0.006939885951891653,-0.006939885951891653,0.0034699429759458265,-0.006939885951891653,0.0034699429759458265,0.0,-0.01040982892783748,0.01040982892783748,-0.0034699429759458265,0.006939885951891653,-0.027759543807566612,-0.006939885951895505,0.03122948678351629,0.0034699429759458265,-0.006939885951891653,0.013879771903783306,0.0,0.0,0.013879771903783306,0.0034699429759458265,0.006939885951891653,-0.017349714879729132,0.0,-0.006939885951891653,0.0,0.0034699429759458265,0.017349714879729132,-0.017349714879736838,-0.013879771903783306,0.0,-0.0034699429759458265,-0.0034699429759458265,0.006939885951891653,-0.006939885951891653,0.031229486783512436,-0.01040982892783748,0.0,-0.013879771903783306,0.01040982892783748,0.0,-0.006939885951891653,-0.0034699429759458265,0.006939885951891653,-0.0034699429759458265,0.0034699429759458265,0.013879771903783306,-0.0034699429759458265,0.006939885951891653,0.006939885951891653,-0.013879771903783306,-0.0034699429759458265,0.0034699429759458265,-0.0034699429759458265,0.0034699429759458265,0.006939885951891653,0.0,-0.01040982892783748,0.0,-0.0034699429759458265,0.0,0.01040982892783748,0.0,0.0034699429759458265,-0.01040982892783748,-0.0034699429759458265,0.0,0.0034699429759458265,-0.0034699429759458265,0.0034699429759458265,0.0034699429759458265,0.0034699429759458265,0.0,-0.0034699429759458265,-0.0034699429759458265,-0.0034699429759458265,0.0034699429759458265,-0.006939885951891653,0.0034699429759458265,0.0,0.0034699429759458265,-0.0034699429759458265,-0.0034699429759458265,0.0,0.0034699429759458265,-0.013879771903783306,0.01040982892783748,0.01040982892783748,0.006939885951891653,0.01040982892783748,-0.013879771903783306,-0.01387977190379101,-0.017349714879729132,-0.006939885951891653,-0.006939885951891653,0.0034699429759458265,0.006939885951891653,0.0034699429759458265,0.006939885951891653,-0.006939885951891653,0.0034699429759458265,-0.006939885951891653,-0.0034699429759458265,-0.0034699429759458265,0.0034699429759458265,-0.006939885951891653,0.0,-0.006939885951891653,0.006939885951891653,0.0,-0.006939885951891653,0.0034699429759458265,0.0,-0.0034699429759458265,0.01040982892783748,0.0034699429759458265,-0.006939885951891653,-0.006939885951891653,0.006939885951891653,-0.006939885951891653,0.006939885951891653,-0.0034699429759458265,0.031229486783512436,-0.01040982892783748,-0.006939885951891653,0.01040982892783748,0.0034699429759458265,0.0,0.0034699429759458265,-0.006939885951891653,0.006939885951891653,0.013879771903783306,-0.006939885951891653,0.0,-0.013879771903783306,-0.006939885951891653,-0.0034699429759458265,0.01040982892783748,-0.0034699429759458265,-0.0034699429759458265,0.0,-0.006939885951891653,0.01040982892783748,0.006939885951891653,0.006939885951891653,0.01040982892783748,-0.0034699429759458265,0.010409828927845184,-0.010409828927845184,-0.013879771903783306,0.0,0.013879771903783306,0.0,0.006939885951891653,0.0,0.0034699429759458265,-0.0034699429759458265,-0.006939885951891653,0.0034699429759458265,-0.006939885951891653,0.02428960083162849,0.0034699429759458265,-0.010409828927845184,-0.006939885951891653,0.0,-0.013879771903783306,-0.0034699429759458265,0.006939885951891653,-0.006939885951891653,0.006939885951891653,-0.013879771903783306,0.006939885951891653,-0.01040982892783748,0.0034699429759458265,0.0034699429759458265,-0.006939885951891653,-0.006939885951891653,0.0034699429759458265,0.0,0.0,0.006939885951891653,0.0034699429759458265,-0.0034699429759458265,-0.006939885951891653,-0.006939885951891653,-0.0034699429759458265,0.0,0.0,0.01040982892783748,0.0,-0.006939885951891653,-0.0034699429759458265,0.0,-0.0034699429759458265,-0.0034699429759458265,0.0034699429759458265,-0.0034699429759458265,0.006939885951891653,0.0034699429759458265,0.0034699429759458265,-0.0034699429759458265,0.0034699429759458265,-0.0034699429759458265,0.0,-0.0034699429759458265,-0.0034699429759458265,0.0034699429759458265,-0.006939885951891653,0.0034699429759458265,0.0,0.006939885951891653,-0.017349714879729132,0.01040982892783748,-0.0034699429759458265,-0.017349714879729132,0.006939885951891653,0.0,0.006939885951891653,0.0,0.0034699429759458265,-0.0034699429759458265,0.0,0.01040982892783748,-0.0034699429759458265,0.0,-0.0034699429759458265,0.01040982892783748,0.0,-0.0034699429759458265,-0.006939885951891653,0.0,0.0,-0.0034699429759458265,0.006939885951891653,-0.0034699429759458265,0.0034699429759458265,-0.017349714879729132,0.0,0.006939885951891653,0.0034699429759458265,-0.027759543807574318,-0.0034699429759458265,0.0034699429759458265,-0.0034699429759458265,0.0,-0.0034699429759458265,-0.01040982892783748,0.0034699429759458265,-0.013879771903783306,-0.017349714879729132,-0.013879771903783306,0.0,0.0,-0.0034699429759458265,-0.013879771903783306,0.006939885951891653,-0.0034699429759458265,-0.01040982892783748,0.0,0.0034699429759458265,0.006939885951891653,-0.01040982892783748,-0.0034699429759458265,0.0,-0.0034699429759458265,0.0,0.0,-0.006939885951891653,0.006939885951891653,0.0,0.0034699429759458265,0.0,0.0,-0.01040982892783748,0.0034699429759458265,0.01040982892783748,-0.0034699429759458265,0.006939885951891653,0.0034699429759458265,-0.0034699429759458265,-0.0034699429759458265,0.0034699429759458265,0.0,0.0034699429759458265,0.0,0.0034699429759458265,0.0,0.006939885951891653,-0.006939885951891653,-0.017349714879729132,0.0,-0.0034699429759458265,0.0034699429759458265,-0.01040982892783748,0.0034699429759458265,-0.006939885951891653,0.0,0.0,-0.0034699429759458265,-0.013879771903783306,0.0034699429759458265,0.0,-0.01040982892783748,0.0,-0.013879771903783306,0.0,-0.006939885951891653,0.0,-0.0034699429759458265,-0.006939885951891653,-0.006939885951891653,-0.0034699429759458265,0.0,0.0,-0.013879771903783306,0.006939885951891653,-0.0034699429759458265,0.006939885951891653,-0.11797806118216965,-0.08327863142270754,0.02081965785567881,0.006939885951891653,0.0034699429759458265,-0.03122948678351629,0.006939885951891653,-0.03816937273540794,0.017349714879729132,-0.006939885951891653,-0.017349714879732983,0.0034699429759458265,-0.01040982892783748,-0.017349714879732983,0.0,0.0034699429759458265,0.0,0.013879771903787159,-0.003469942975949679,-0.024289600831620784,-0.003469942975949679,0.013879771903787159,0.0,-0.010409828927841331,0.017349714879732983,0.0,-0.017349714879732983,0.003469942975949679,0.0,-0.003469942975949679,0.0,0.017349714879732983,0.01040982892783748,-0.034699429759462115,0.0,-0.02428960083162464,-0.0451092586872996,-0.06245897356703258,0.02428960083162464,-0.006939885951891653,0.0,0.0034699429759458265,-0.0034699429759458265,0.0034699429759458265,0.01040982892783748,0.010409828927841331,0.017349714879729132,-0.034699429759462115,-0.0034699429759458265,0.0,0.0,0.0034699429759458265,-0.0034699429759458265,0.0,-0.0034699429759458265,0.0034699429759458265,0.0,0.013879771903783306,0.0,0.006939885951895505,0.0,-0.010409828927841331,-0.017349714879732983,0.017349714879732983,-0.003469942975949679,0.013879771903787159,0.0034699429759458265,0.0,0.0,0.0034699429759458265,0.0,0.006939885951891653,0.0,-0.0034699429759458265,0.0034699429759458265,-0.0034699429759458265,0.0034699429759458265,0.006939885951891653,-0.0034699429759458265,0.006939885951891653,-0.0034699429759458265,0.0,0.0,0.0034699429759458265,0.0,0.0,-0.0034699429759458265,-0.0034699429759458265,0.006939885951891653,0.0034699429759458265,0.006939885951891653,0.0,0.006939885951891653,0.0,0.0,-0.0034699429759458265,-0.0034699429759458265,0.0034699429759458265,-0.0034699429759458265,0.0,0.0,-0.0034699429759458265,0.0,-0.0034699429759458265,0.0,-0.0034699429759458265,0.0034699429759458265,0.0034699429759458265,0.0034699429759458265,0.0034699429759458265,-0.01040982892783748,0.0034699429759458265,-0.0034699429759458265,0.0034699429759458265,0.0,-0.0034699429759458265,0.0,-0.0034699429759458265,0.0,0.0,0.0034699429759458265,0.013879771903783306,0.0,-0.0034699429759458265,0.0,-0.0034699429759458265,0.0034699429759458265,-0.01040982892783748,0.0,0.0034699429759458265,-0.006939885951891653,0.0034699429759458265,-0.0034699429759458265,0.0,0.0,0.0034699429759458265,0.0034699429759458265,-0.01040982892783748,0.0034699429759458265,-0.01040982892783748,0.0,0.006939885951891653,0.0034699429759458265,-0.006939885951891653,0.0034699429759458265,0.0,0.006939885951891653,0.0,-0.0034699429759458265,0.0034699429759458265,-0.0034699429759458265,0.0034699429759458265,-0.01040982892783748,-0.006939885951891653,0.0034699429759458265,-0.006939885951891653,0.0,0.0,0.0034699429759458265,-0.0034699429759458265,0.0,-0.013879771903783306,0.0,0.006939885951891653,-0.0034699429759458265,0.0,-0.006939885951891653,0.01040982892783748,0.0034699429759458265,-0.0034699429759458265,0.0,0.0034699429759458265,0.0,-0.01040982892783748,0.0,0.0034699429759458265,0.0,0.006939885951891653,0.0034699429759458265,0.0034699429759458265,-0.006939885951891653,0.0034699429759458265,-0.04163931571135377,-0.03122948678351629,0.006939885951891653,-0.04163931571135377,-0.0589890305910829,0.006939885951891653,-0.0034699429759458265,0.006939885951891653,0.0,-0.006939885951891653,-0.006939885951891653,-0.013879771903783306,0.0034699429759458265,-0.02081965785567496,-0.03122948678351629,0.01040982892783748,0.0034699429759458265,0.0,-0.02428960083162464,0.003469942975949679,0.006939885951891653,0.02081965785567496,-0.006939885951891653,-0.0034699429759458265,0.0034699429759458265,0.0034699429759458265,-0.031229486783512436,0.0034699429759458265,0.0034699429759458265,0.0034699429759458265,-0.0034699429759458265,-0.0034699429759458265,0.01040982892783748,-0.006939885951891653,-0.013879771903783306,0.01040982892783748,-0.01040982892783748,0.0034699429759458265,-0.024289600831620784,-0.0034699429759458265,-0.006939885951891653,0.01040982892783748,-0.0034699429759458265,-0.0034699429759458265,0.006939885951891653,0.0034699429759458265,0.0034699429759458265,-0.013879771903783306,-0.006939885951891653,0.0,-0.0034699429759458265,0.0,0.006939885951891653],\"yaxis\":\"y\",\"type\":\"scattergl\"}],                        {\"template\":{\"data\":{\"histogram2dcontour\":[{\"type\":\"histogram2dcontour\",\"colorbar\":{\"outlinewidth\":0,\"ticks\":\"\"},\"colorscale\":[[0.0,\"#0d0887\"],[0.1111111111111111,\"#46039f\"],[0.2222222222222222,\"#7201a8\"],[0.3333333333333333,\"#9c179e\"],[0.4444444444444444,\"#bd3786\"],[0.5555555555555556,\"#d8576b\"],[0.6666666666666666,\"#ed7953\"],[0.7777777777777778,\"#fb9f3a\"],[0.8888888888888888,\"#fdca26\"],[1.0,\"#f0f921\"]]}],\"choropleth\":[{\"type\":\"choropleth\",\"colorbar\":{\"outlinewidth\":0,\"ticks\":\"\"}}],\"histogram2d\":[{\"type\":\"histogram2d\",\"colorbar\":{\"outlinewidth\":0,\"ticks\":\"\"},\"colorscale\":[[0.0,\"#0d0887\"],[0.1111111111111111,\"#46039f\"],[0.2222222222222222,\"#7201a8\"],[0.3333333333333333,\"#9c179e\"],[0.4444444444444444,\"#bd3786\"],[0.5555555555555556,\"#d8576b\"],[0.6666666666666666,\"#ed7953\"],[0.7777777777777778,\"#fb9f3a\"],[0.8888888888888888,\"#fdca26\"],[1.0,\"#f0f921\"]]}],\"heatmap\":[{\"type\":\"heatmap\",\"colorbar\":{\"outlinewidth\":0,\"ticks\":\"\"},\"colorscale\":[[0.0,\"#0d0887\"],[0.1111111111111111,\"#46039f\"],[0.2222222222222222,\"#7201a8\"],[0.3333333333333333,\"#9c179e\"],[0.4444444444444444,\"#bd3786\"],[0.5555555555555556,\"#d8576b\"],[0.6666666666666666,\"#ed7953\"],[0.7777777777777778,\"#fb9f3a\"],[0.8888888888888888,\"#fdca26\"],[1.0,\"#f0f921\"]]}],\"heatmapgl\":[{\"type\":\"heatmapgl\",\"colorbar\":{\"outlinewidth\":0,\"ticks\":\"\"},\"colorscale\":[[0.0,\"#0d0887\"],[0.1111111111111111,\"#46039f\"],[0.2222222222222222,\"#7201a8\"],[0.3333333333333333,\"#9c179e\"],[0.4444444444444444,\"#bd3786\"],[0.5555555555555556,\"#d8576b\"],[0.6666666666666666,\"#ed7953\"],[0.7777777777777778,\"#fb9f3a\"],[0.8888888888888888,\"#fdca26\"],[1.0,\"#f0f921\"]]}],\"contourcarpet\":[{\"type\":\"contourcarpet\",\"colorbar\":{\"outlinewidth\":0,\"ticks\":\"\"}}],\"contour\":[{\"type\":\"contour\",\"colorbar\":{\"outlinewidth\":0,\"ticks\":\"\"},\"colorscale\":[[0.0,\"#0d0887\"],[0.1111111111111111,\"#46039f\"],[0.2222222222222222,\"#7201a8\"],[0.3333333333333333,\"#9c179e\"],[0.4444444444444444,\"#bd3786\"],[0.5555555555555556,\"#d8576b\"],[0.6666666666666666,\"#ed7953\"],[0.7777777777777778,\"#fb9f3a\"],[0.8888888888888888,\"#fdca26\"],[1.0,\"#f0f921\"]]}],\"surface\":[{\"type\":\"surface\",\"colorbar\":{\"outlinewidth\":0,\"ticks\":\"\"},\"colorscale\":[[0.0,\"#0d0887\"],[0.1111111111111111,\"#46039f\"],[0.2222222222222222,\"#7201a8\"],[0.3333333333333333,\"#9c179e\"],[0.4444444444444444,\"#bd3786\"],[0.5555555555555556,\"#d8576b\"],[0.6666666666666666,\"#ed7953\"],[0.7777777777777778,\"#fb9f3a\"],[0.8888888888888888,\"#fdca26\"],[1.0,\"#f0f921\"]]}],\"mesh3d\":[{\"type\":\"mesh3d\",\"colorbar\":{\"outlinewidth\":0,\"ticks\":\"\"}}],\"scatter\":[{\"fillpattern\":{\"fillmode\":\"overlay\",\"size\":10,\"solidity\":0.2},\"type\":\"scatter\"}],\"parcoords\":[{\"type\":\"parcoords\",\"line\":{\"colorbar\":{\"outlinewidth\":0,\"ticks\":\"\"}}}],\"scatterpolargl\":[{\"type\":\"scatterpolargl\",\"marker\":{\"colorbar\":{\"outlinewidth\":0,\"ticks\":\"\"}}}],\"bar\":[{\"error_x\":{\"color\":\"#2a3f5f\"},\"error_y\":{\"color\":\"#2a3f5f\"},\"marker\":{\"line\":{\"color\":\"#E5ECF6\",\"width\":0.5},\"pattern\":{\"fillmode\":\"overlay\",\"size\":10,\"solidity\":0.2}},\"type\":\"bar\"}],\"scattergeo\":[{\"type\":\"scattergeo\",\"marker\":{\"colorbar\":{\"outlinewidth\":0,\"ticks\":\"\"}}}],\"scatterpolar\":[{\"type\":\"scatterpolar\",\"marker\":{\"colorbar\":{\"outlinewidth\":0,\"ticks\":\"\"}}}],\"histogram\":[{\"marker\":{\"pattern\":{\"fillmode\":\"overlay\",\"size\":10,\"solidity\":0.2}},\"type\":\"histogram\"}],\"scattergl\":[{\"type\":\"scattergl\",\"marker\":{\"colorbar\":{\"outlinewidth\":0,\"ticks\":\"\"}}}],\"scatter3d\":[{\"type\":\"scatter3d\",\"line\":{\"colorbar\":{\"outlinewidth\":0,\"ticks\":\"\"}},\"marker\":{\"colorbar\":{\"outlinewidth\":0,\"ticks\":\"\"}}}],\"scattermapbox\":[{\"type\":\"scattermapbox\",\"marker\":{\"colorbar\":{\"outlinewidth\":0,\"ticks\":\"\"}}}],\"scatterternary\":[{\"type\":\"scatterternary\",\"marker\":{\"colorbar\":{\"outlinewidth\":0,\"ticks\":\"\"}}}],\"scattercarpet\":[{\"type\":\"scattercarpet\",\"marker\":{\"colorbar\":{\"outlinewidth\":0,\"ticks\":\"\"}}}],\"carpet\":[{\"aaxis\":{\"endlinecolor\":\"#2a3f5f\",\"gridcolor\":\"white\",\"linecolor\":\"white\",\"minorgridcolor\":\"white\",\"startlinecolor\":\"#2a3f5f\"},\"baxis\":{\"endlinecolor\":\"#2a3f5f\",\"gridcolor\":\"white\",\"linecolor\":\"white\",\"minorgridcolor\":\"white\",\"startlinecolor\":\"#2a3f5f\"},\"type\":\"carpet\"}],\"table\":[{\"cells\":{\"fill\":{\"color\":\"#EBF0F8\"},\"line\":{\"color\":\"white\"}},\"header\":{\"fill\":{\"color\":\"#C8D4E3\"},\"line\":{\"color\":\"white\"}},\"type\":\"table\"}],\"barpolar\":[{\"marker\":{\"line\":{\"color\":\"#E5ECF6\",\"width\":0.5},\"pattern\":{\"fillmode\":\"overlay\",\"size\":10,\"solidity\":0.2}},\"type\":\"barpolar\"}],\"pie\":[{\"automargin\":true,\"type\":\"pie\"}]},\"layout\":{\"autotypenumbers\":\"strict\",\"colorway\":[\"#636efa\",\"#EF553B\",\"#00cc96\",\"#ab63fa\",\"#FFA15A\",\"#19d3f3\",\"#FF6692\",\"#B6E880\",\"#FF97FF\",\"#FECB52\"],\"font\":{\"color\":\"#2a3f5f\"},\"hovermode\":\"closest\",\"hoverlabel\":{\"align\":\"left\"},\"paper_bgcolor\":\"white\",\"plot_bgcolor\":\"#E5ECF6\",\"polar\":{\"bgcolor\":\"#E5ECF6\",\"angularaxis\":{\"gridcolor\":\"white\",\"linecolor\":\"white\",\"ticks\":\"\"},\"radialaxis\":{\"gridcolor\":\"white\",\"linecolor\":\"white\",\"ticks\":\"\"}},\"ternary\":{\"bgcolor\":\"#E5ECF6\",\"aaxis\":{\"gridcolor\":\"white\",\"linecolor\":\"white\",\"ticks\":\"\"},\"baxis\":{\"gridcolor\":\"white\",\"linecolor\":\"white\",\"ticks\":\"\"},\"caxis\":{\"gridcolor\":\"white\",\"linecolor\":\"white\",\"ticks\":\"\"}},\"coloraxis\":{\"colorbar\":{\"outlinewidth\":0,\"ticks\":\"\"}},\"colorscale\":{\"sequential\":[[0.0,\"#0d0887\"],[0.1111111111111111,\"#46039f\"],[0.2222222222222222,\"#7201a8\"],[0.3333333333333333,\"#9c179e\"],[0.4444444444444444,\"#bd3786\"],[0.5555555555555556,\"#d8576b\"],[0.6666666666666666,\"#ed7953\"],[0.7777777777777778,\"#fb9f3a\"],[0.8888888888888888,\"#fdca26\"],[1.0,\"#f0f921\"]],\"sequentialminus\":[[0.0,\"#0d0887\"],[0.1111111111111111,\"#46039f\"],[0.2222222222222222,\"#7201a8\"],[0.3333333333333333,\"#9c179e\"],[0.4444444444444444,\"#bd3786\"],[0.5555555555555556,\"#d8576b\"],[0.6666666666666666,\"#ed7953\"],[0.7777777777777778,\"#fb9f3a\"],[0.8888888888888888,\"#fdca26\"],[1.0,\"#f0f921\"]],\"diverging\":[[0,\"#8e0152\"],[0.1,\"#c51b7d\"],[0.2,\"#de77ae\"],[0.3,\"#f1b6da\"],[0.4,\"#fde0ef\"],[0.5,\"#f7f7f7\"],[0.6,\"#e6f5d0\"],[0.7,\"#b8e186\"],[0.8,\"#7fbc41\"],[0.9,\"#4d9221\"],[1,\"#276419\"]]},\"xaxis\":{\"gridcolor\":\"white\",\"linecolor\":\"white\",\"ticks\":\"\",\"title\":{\"standoff\":15},\"zerolinecolor\":\"white\",\"automargin\":true,\"zerolinewidth\":2},\"yaxis\":{\"gridcolor\":\"white\",\"linecolor\":\"white\",\"ticks\":\"\",\"title\":{\"standoff\":15},\"zerolinecolor\":\"white\",\"automargin\":true,\"zerolinewidth\":2},\"scene\":{\"xaxis\":{\"backgroundcolor\":\"#E5ECF6\",\"gridcolor\":\"white\",\"linecolor\":\"white\",\"showbackground\":true,\"ticks\":\"\",\"zerolinecolor\":\"white\",\"gridwidth\":2},\"yaxis\":{\"backgroundcolor\":\"#E5ECF6\",\"gridcolor\":\"white\",\"linecolor\":\"white\",\"showbackground\":true,\"ticks\":\"\",\"zerolinecolor\":\"white\",\"gridwidth\":2},\"zaxis\":{\"backgroundcolor\":\"#E5ECF6\",\"gridcolor\":\"white\",\"linecolor\":\"white\",\"showbackground\":true,\"ticks\":\"\",\"zerolinecolor\":\"white\",\"gridwidth\":2}},\"shapedefaults\":{\"line\":{\"color\":\"#2a3f5f\"}},\"annotationdefaults\":{\"arrowcolor\":\"#2a3f5f\",\"arrowhead\":0,\"arrowwidth\":1},\"geo\":{\"bgcolor\":\"white\",\"landcolor\":\"#E5ECF6\",\"subunitcolor\":\"white\",\"showland\":true,\"showlakes\":true,\"lakecolor\":\"white\"},\"title\":{\"x\":0.05},\"mapbox\":{\"style\":\"light\"}}},\"xaxis\":{\"anchor\":\"y\",\"domain\":[0.0,1.0],\"title\":{\"text\":\"index\"}},\"yaxis\":{\"anchor\":\"x\",\"domain\":[0.0,1.0],\"title\":{\"text\":\"value\"}},\"legend\":{\"title\":{\"text\":\"variable\"},\"tracegroupgap\":0},\"margin\":{\"t\":60}},                        {\"responsive\": true}                    ).then(function(){\n",
              "                            \n",
              "var gd = document.getElementById('8b21198c-9951-483b-9500-56307a91282f');\n",
              "var x = new MutationObserver(function (mutations, observer) {{\n",
              "        var display = window.getComputedStyle(gd).display;\n",
              "        if (!display || display === 'none') {{\n",
              "            console.log([gd, 'removed!']);\n",
              "            Plotly.purge(gd);\n",
              "            observer.disconnect();\n",
              "        }}\n",
              "}});\n",
              "\n",
              "// Listen for the removal of the full notebook cells\n",
              "var notebookContainer = gd.closest('#notebook-container');\n",
              "if (notebookContainer) {{\n",
              "    x.observe(notebookContainer, {childList: true});\n",
              "}}\n",
              "\n",
              "// Listen for the clearing of the current output cell\n",
              "var outputEl = gd.closest('.output');\n",
              "if (outputEl) {{\n",
              "    x.observe(outputEl, {childList: true});\n",
              "}}\n",
              "\n",
              "                        })                };                            </script>        </div>\n",
              "</body>\n",
              "</html>"
            ]
          },
          "metadata": {}
        },
        {
          "output_type": "display_data",
          "data": {
            "text/html": [
              "<html>\n",
              "<head><meta charset=\"utf-8\" /></head>\n",
              "<body>\n",
              "    <div>            <script src=\"https://cdnjs.cloudflare.com/ajax/libs/mathjax/2.7.5/MathJax.js?config=TeX-AMS-MML_SVG\"></script><script type=\"text/javascript\">if (window.MathJax && window.MathJax.Hub && window.MathJax.Hub.Config) {window.MathJax.Hub.Config({SVG: {font: \"STIX-Web\"}});}</script>                <script type=\"text/javascript\">window.PlotlyConfig = {MathJaxConfig: 'local'};</script>\n",
              "        <script src=\"https://cdn.plot.ly/plotly-2.18.2.min.js\"></script>                <div id=\"322ca6f6-6353-4238-879b-98d633573f4f\" class=\"plotly-graph-div\" style=\"height:525px; width:100%;\"></div>            <script type=\"text/javascript\">                                    window.PLOTLYENV=window.PLOTLYENV || {};                                    if (document.getElementById(\"322ca6f6-6353-4238-879b-98d633573f4f\")) {                    Plotly.newPlot(                        \"322ca6f6-6353-4238-879b-98d633573f4f\",                        [{\"hovertemplate\":\"variable=XRP<br>index=%{x}<br>value=%{y}<extra></extra>\",\"legendgroup\":\"XRP\",\"line\":{\"color\":\"#636efa\",\"dash\":\"solid\"},\"marker\":{\"symbol\":\"circle\"},\"mode\":\"lines\",\"name\":\"XRP\",\"showlegend\":true,\"x\":[0,1,2,3,4,5,6,7,8,9,10,11,12,13,14,15,16,17,18,19,20,21,22,23,24,25,26,27,28,29,30,31,32,33,34,35,36,37,38,39,40,41,42,43,44,45,46,47,48,49,50,51,52,53,54,55,56,57,58,59,60,61,62,63,64,65,66,67,68,69,70,71,72,73,74,75,76,77,78,79,80,81,82,83,84,85,86,87,88,89,90,91,92,93,94,95,96,97,98,99,100,101,102,103,104,105,106,107,108,109,110,111,112,113,114,115,116,117,118,119,120,121,122,123,124,125,126,127,128,129,130,131,132,133,134,135,136,137,138,139,140,141,142,143,144,145,146,147,148,149,150,151,152,153,154,155,156,157,158,159,160,161,162,163,164,165,166,167,168,169,170,171,172,173,174,175,176,177,178,179,180,181,182,183,184,185,186,187,188,189,190,191,192,193,194,195,196,197,198,199,200,201,202,203,204,205,206,207,208,209,210,211,212,213,214,215,216,217,218,219,220,221,222,223,224,225,226,227,228,229,230,231,232,233,234,235,236,237,238,239,240,241,242,243,244,245,246,247,248,249,250,251,252,253,254,255,256,257,258,259,260,261,262,263,264,265,266,267,268,269,270,271,272,273,274,275,276,277,278,279,280,281,282,283,284,285,286,287,288,289,290,291,292,293,294,295,296,297,298,299,300,301,302,303,304,305,306,307,308,309,310,311,312,313,314,315,316,317,318,319,320,321,322,323,324,325,326,327,328,329,330,331,332,333,334,335,336,337,338,339,340,341,342,343,344,345,346,347,348,349,350,351,352,353,354,355,356,357,358,359,360,361,362,363,364,365,366,367,368,369,370,371,372,373,374,375,376,377,378,379,380,381,382,383,384,385,386,387,388,389,390,391,392,393,394,395,396,397,398,399,400,401,402,403,404,405,406,407,408,409,410,411,412,413,414,415,416,417,418,419,420,421,422,423,424,425,426,427,428,429,430,431,432,433,434,435,436,437,438,439,440,441,442,443,444,445,446,447,448,449,450,451,452,453,454,455,456,457,458,459,460,461,462,463,464,465,466,467,468,469,470,471,472,473,474,475,476,477,478,479,480,481,482,483,484,485,486,487,488,489,490,491,492,493,494,495,496,497,498,499,500,501,502,503,504,505,506,507,508,509,510,511,512,513,514,515,516,517,518,519,520,521,522,523,524,525,526,527,528,529,530,531,532,533,534,535,536,537,538,539,540,541,542,543,544,545,546,547,548,549,550,551,552,553,554,555,556,557,558,559,560,561,562,563,564,565,566,567,568,569,570,571,572,573,574,575,576,577,578,579,580,581,582,583,584,585,586,587,588,589,590,591,592,593,594,595,596,597,598,599,600,601,602,603,604,605,606,607,608,609,610,611,612,613,614,615,616,617,618,619,620,621,622,623,624,625,626,627,628,629,630,631,632,633,634,635,636,637,638,639,640,641,642,643,644,645,646,647,648,649,650,651,652,653,654,655,656,657,658,659,660,661,662,663,664,665,666,667,668,669,670,671,672,673,674,675,676,677,678,679,680,681,682,683,684,685,686,687,688,689,690,691,692,693,694,695,696,697,698,699,700,701,702,703,704,705,706,707,708,709,710,711,712,713,714,715,716,717,718,719,720,721,722,723,724,725,726,727,728,729,730,731,732,733,734,735,736,737,738,739,740,741,742,743,744,745,746,747,748,749,750,751,752,753,754,755,756,757,758,759,760,761,762,763,764,765,766,767,768,769,770,771,772,773,774,775,776,777,778,779,780,781,782,783,784,785,786,787,788,789,790,791,792,793,794,795,796,797,798,799,800,801,802,803,804,805,806,807,808,809,810,811,812,813,814,815,816,817,818,819,820,821,822,823,824,825,826,827,828,829,830,831,832,833,834,835,836,837,838,839,840,841,842,843,844,845,846,847,848,849,850,851,852,853,854,855,856,857,858,859,860,861,862,863,864,865,866,867,868,869,870,871,872,873,874,875,876,877,878,879,880,881,882,883,884,885,886,887,888,889,890,891,892,893,894,895,896,897,898,899,900,901,902,903,904,905,906,907,908,909,910,911,912,913,914,915,916,917,918,919,920,921,922,923,924,925,926,927,928,929,930,931,932,933,934,935,936,937,938,939,940,941,942,943,944,945,946,947,948,949,950,951,952,953,954,955,956,957,958,959,960,961,962,963,964,965,966,967,968,969,970,971,972,973,974,975,976,977,978,979,980,981,982,983,984,985,986,987,988,989,990,991,992,993,994,995,996,997,998,999,1000,1001,1002,1003,1004,1005,1006,1007,1008,1009,1010,1011,1012,1013,1014,1015,1016,1017,1018,1019,1020,1021,1022,1023,1024,1025,1026,1027,1028,1029,1030,1031,1032,1033,1034,1035,1036,1037,1038,1039,1040,1041,1042,1043,1044,1045,1046,1047,1048,1049,1050,1051,1052,1053,1054,1055,1056,1057,1058,1059,1060,1061,1062,1063,1064,1065,1066,1067,1068,1069,1070,1071,1072,1073,1074,1075,1076,1077,1078,1079,1080,1081,1082,1083,1084,1085,1086,1087,1088,1089,1090,1091,1092,1093,1094,1095],\"xaxis\":\"x\",\"y\":[9.096250747447218e-05,-0.0036255056550539315,0.0037164681625284036,-6.497321962461525e-05,0.0009226197186696412,0.018523864914979853,-0.006211439796113893,-0.0038659065676650405,-0.002494971633585489,0.005763124580704001,-0.0007796786354954552,0.002611923428909818,-0.0025274582433978147,0.015320685187485975,-0.0007666839915705537,-0.0029887681027326264,0.006484327318537309,0.002819837731708601,-0.00502892719894579,-0.001734784963977422,0.002689891292459353,-6.497321962468739e-06,-0.007315984529732479,-0.002455987701810731,-0.0016698117443528068,0.007504406866643891,-0.00018192501494894436,0.005425263838655969,-0.0024364957359233426,0.005113392384457776,-0.0025729394971350417,0.0012539831387552223,0.006269915693776076,0.002371522516298709,0.008147641740927648,0.006867669314322568,0.003761949416265649,-0.00259243146302243,-0.0012085018850179952,0.0032226716933812845,-0.0059255576297655745,0.004931467369508832,0.015138760172537014,0.014911353903850825,0.005561707599867686,-0.018406913119655543,-0.009343148982020705,-0.0038009333480404253,0.007108070226933695,-0.014865872650113614,-0.0026249180728347378,0.002001175164438388,0.0004548125373723428,0.005496734380243071,-0.008407534619426145,-0.011558735771220309,-0.015223225358049035,0.005873579054065879,-0.0009551063284819488,-0.004944462013433769,-0.0010850527677311974,0.007913738150279008,-0.0034175913522551302,0.00027938484438588525,0.0029367895270329303,0.0036255056550539315,-0.005535718312017829,-0.021064317802302588,0.0037489547723407114,0.0013644376121170827,-0.002332538584523951,-0.046832696705427834,0.01494384051366315,-0.008381545331576288,0.004632590559235576,-0.007900743506354087,0.00410630748027615,0.00020141698083633253,0.01116239913151013,-0.005106895062495325,0.0006822188060585323,-0.0064973219624622465,0.0069781237876844465,0.002429998413960874,-0.0004093312836351158,0.009265181118471152,-0.0020271644522882088,0.0016828063882777082,-0.008173631028777486,0.005360290619031353,0.0016373251345404812,0.0008706411429699454,0.0022220841111620904,0.0007277000597957774,0.0011045447336185674,-0.0012149992069804278,0.012149992069804386,-0.0033656127765554346,0.0058800763760283115,-0.002352030550411321,-0.006926145211984751,0.0005132884350345074,0.000643234874283774,-0.0011110420555810363,-0.0010135822261441135,-0.003593019045241624,0.00645833803068747,-0.0011955072410930578,0.004314221783074932,-0.0041128048022386,-0.004691066456897741,0.001143528665393362,0.0029367895270329485,0.0029562814929203186,0.00033136342008558106,0.0006822188060585504,0.0013059617144549182,0.0008511491770825572,0.01106493930207319,0.007731813135330081,-0.009732988299768432,0.004151788734013376,0.0038269226358902462,-0.002819837731708601,-0.0008901331088573336,-0.0006757214840960636,-0.0033396234887055954,0.004418178934474324,5.847589766216455e-05,-0.0014359081537041666,-0.01280622158801308,-0.0025599448532101225,0.0027938484438587625,0.0030602386443197103,0.0014878867294038445,-0.0038399172798151836,0.001117539377543505,0.0010070849041816626,0.0026249180728347378,-0.00027938484438586725,-0.0020791430279879226,-0.004847002183996828,0.003924382465327205,-0.0009875929382942566,-0.003924382465327205,0.002261068042936867,-0.001591843880803254,0.002754864512083986,0.0016503197784654006,-0.0018647314032266525,0.006139969254526809,-0.0029172975611455425,0.005431761160618437,-0.005022429876983322,0.000617245586433917,0.0001754276929864756,-0.0010135822261441135,0.000571764332696672,-0.00023390359064864017,0.0004808018252222178,-0.0017932608616395686,0.0008966304308197843,-0.009310662372208397,0.0030342493564698533,-0.0004093312836351158,-0.001377432256042002,0.001377432256042002,-1.9491965887388182e-05,0.0005197857569969761,-0.002209089467237153,-0.0016308278125780305,0.000428823249522522,-0.0012149992069804458,0.0021766028574248457,-0.0003638500298978887,-0.003476067249917295,-0.0012799724266050613,0.0006042509425089976,-0.004775531642409762,0.0011305340214684426,0.0002468982345735596,-0.0012474858167927534,0.0007406947037206968,-0.0010785554457687467,0.0010525661579188898,0.0011305340214684244,-0.0006302402303588365,0.007608364018043283,-0.00235852787237379,0.013202558227723277,-0.0018452394373392644,-0.0023585278723738078,0.0014099188658543097,3.2486609812307625e-05,-0.0016048385247281736,0.00025339555653602837,-0.0012214965289429147,-0.0018387421153768138,3.898393177475833e-05,0.0035150511816920893,-0.0002274062686861714,-0.0031512011517941824,0.003112217220019424,0.002657404682647045,0.003216174371418816,-0.0029172975611455425,0.0069001559241348934,0.00040283396167266507,0.005886573697990799,0.003950371753177044,0.008303577468026735,0.002085640349950373,0.009953897246492135,0.02049905079156835,-0.0020401590962131283,0.014385070824891396,-0.005691654039116916,0.0007341973817582101,0.00044181789344740536,-0.005665664751267078,0.0005262830789594629,-0.004749542354559923,0.004346708392887259,-0.0076148613400057515,-0.00039633663971019634,0.007816278320842066,0.0037164681625284036,-0.0007796786354954552,0.003670986908791195,0.006932642533947219,-0.008219112282514731,-0.008290582824101816,0.001546362627066009,-0.008407534619426145,0.004483152154098922,-0.0008576464990450079,0.002449490379848262,-0.007894246184391619,3.8983931774776364e-05,-0.007744807779254982,0.00462609323727309,0.0014099188658542737,0.00597103888350282,-0.0012085018850179952,0.00927817576239609,-0.012546328709514583,-0.020609505264930227,0.006328391591438222,-0.010831035711424549,0.0016048385247281736,0.0014424054756666173,-0.003573527079354236,0.0016503197784654186,0.0026703993265719825,-0.0003508553859729512,0.003183687761606508,-0.003476067249917295,0.002384517160223647,-0.0014813894074413936,0.0022285814331245413,0.0034175913522551302,-0.0009940902602567072,0.0003248660981231123,-0.0028653189854458464,-0.010246276734802958,0.001403421543891841,-0.007484914900756503,0.007322481851694947,0.005691654039116916,5.197857569969581e-05,0.0012214965289428967,-0.0015073786952912325,0.001098047411656135,-0.0007406947037206968,-0.0023195439405990135,-0.0028198377317086194,-0.0007991706013828613,0.0098759293829426,0.001546362627066027,-0.003144703829831732,0.002014169808363289,0.0016308278125780305,0.0011305340214684426,0.0006042509425089796,0.000948609006519462,0.00042882324952250395,0.0003898393177477276,-0.004821012896146971,-0.0021246242817251496,-0.0036904788746785467,0.0002404009126111089,0.001143528665393344,0.0022220841111620904,-0.0015593572709909284,0.005054916486795629,0.003982858362989369,-0.0014943840513663312,0.0009096250747447218,-0.00189721801303896,-0.003203179727493878,0.002923794883107993,-0.0046715744910103526,-0.001981683198550982,-0.002280560008824255,0.00037684467382280814,0.00011695179532431106,-0.0030147573905824833,0.0027678591560089238,-0.0012669777826801417,0.005243338823707025,0.008323069433914122,-0.006263418371813607,0.0031317091859068124,-0.002098634993875311,0.0020791430279879404,0.0012539831387552043,-0.0006107482644714844,0.006880663958247506,0.0016308278125780305,0.0008316572111951691,0.01188360186934342,0.00931715969417083,-0.005847589766215986,0.006854674670397667,0.017133438015012933,0.08675874016475829,-0.010941490184786427,0.10983722777542416,0.04988643802778506,-0.03902291570654822,-0.062458756025149484,0.01598990934961959,0.041985694521431006,-0.013280526091272829,0.03802882544629148,-0.03446179568889971,0.012559323353439556,-0.00011695179532429304,-0.0498734433838602,0.020616002586892643,0.02331888852327697,-0.008771384649324069,-0.03193433744550186,0.015392155729073041,-0.007465422934869115,-0.015580578065984455,-0.02648958164095861,0.005373285262956273,-0.0106880946282504,-0.01918009443318853,0.06720180105774698,0.004567617339610943,0.0035995163672040745,-0.004450665544286578,-0.013196060905760844,-0.02700287007599303,-0.043577538402234266,-0.12113607066814605,0.050302266633382664,-0.012741248368388466,-0.015216728036086567,-0.006984621109646897,-0.022513220599931674,-0.018010576479945327,-0.006633765723673946,0.00516537096015749,0.01164320095673233,-0.010590634798813458,0.0025469502092851848,0.007017107719459205,-0.0066662523334862535,0.015099776240762237,0.048599968279217545,-0.001786763539677136,0.0023390359064864017,-0.0059255576297655745,-0.017848143430883773,0.0032226716933812845,0.008569967668487718,-0.0059255576297655745,-0.010545153545076196,-0.00046130985933484766,-0.0011760152752056515,0.005178365604082392,0.005951546917615414,0.0005067911130720567,-0.017679213059859766,0.00293029220507048,-0.0005197857569969581,0.0010200795481065822,-0.0036514949429037884,0.0005392777228843644,-0.011487265229633226,0.00871940607362432,0.01211100813802961,0.10412608177041989,0.03355217061415499,-0.08011197979715941,0.0004353205714849727,0.016217315618305743,0.030543910545534993,0.004730050388672517,-0.0058995683419157,-0.015807984334670608,0.021064317802302588,0.016626646901940875,0.018374426509843198,0.015236220001974008,0.05246587484688259,0.015665043251496442,-0.02663902004609514,-0.027977468370362402,-0.01938151141402488,0.009154726645109256,-0.0024299984139608557,0.020349612386431747,-0.03432535192768805,0.020745949026141946,0.01421614045386739,-0.059067153960744266,-0.004483152154098957,-0.02136319461257586,-0.005256333467631944,0.0051328843503451824,-0.013319510023047605,0.019394506057949817,-0.006263418371813625,0.008199620316627361,0.02107731244622749,-0.01682806388277719,0.00518486292604486,0.0015333679831411075,0.005366787940993804,0.007121064870858597,-0.015210230714124097,-0.006516813928349617,-0.008108657809152871,0.011903093835230827,-0.011942077767005567,-0.002215586789199604,0.016041887925319267,0.00625692104985112,-0.0007406947037207149,-0.001403421543891841,0.03762599148461885,-0.0051328843503451104,0.01793910593835819,0.004138794090088439,-0.04438970364754202,0.019972767712608957,0.03390952332209041,-0.010103335651628827,-0.001455400119591555,0.012871194807637695,-0.002027164452288227,0.004756039676522356,0.000617245586433917,0.02352030550411332,-0.018127528275269603,0.03640449495567588,0.18085295682513655,0.1151585344626808,-0.11357318790384002,0.09178117004174158,-0.025131641350803834,0.23079787075058364,-0.012539831387552042,0.07338075424404858,0.21300170589539968,0.026067255713398466,-0.050568656833843664,-0.13704801215421608,-0.004574114661573376,-0.08552424899189057,-0.06427800617463893,0.04983445945208538,-0.062166376536838715,-0.0856412007872148,0.00756288276430611,-0.07803283676917158,-0.010597132120775801,0.21645828117942945,0.0227536215125428,-0.02845177287362215,0.02614522357694795,0.1292512257992614,0.03392901528797778,-0.05822250210562412,-0.0041452914120509434,-0.10265118968494084,0.14062803655553271,-0.007095075583008793,-0.014248627063679698,-0.012046034918404995,-0.018114533631344666,-0.09323657016133313,0.056455230531834356,-0.1363203120944203,0.06004175225511349,0.027197789734866803,0.05432410892814677,-0.023546294791963195,0.030914257897395315,0.061497152374705044,-0.3436108719848155,0.07664240986920463,-0.11278701194638198,-0.0654280321619947,-0.07373810695198403,0.12992044996139493,-0.01115590180954768,0.03723615216687116,-0.03974411844438157,-0.04641686809983029,-0.04464959652604052,0.04917173261191429,0.08902630552965757,-0.019875307883172072,0.008966304308197915,0.012897184095487499,-0.04872341739650435,-0.02995915156891338,0.014417557434703741,-0.053089617755278935,0.006809193416660386,0.02980321584181428,-0.03335725095528111,-0.013670365409020521,-0.01057114283292607,0.03353917597023009,0.00458061198353588,-0.015385658407110609,-0.02253271256581908,0.006094488000789618,-0.0294783497436912,-0.024131053768584803,0.009460100777344962,-0.10843380623153233,-0.040023503288767394,0.059151619146256246,0.022071402706484198,-0.039367273770558736,0.003209677049456383,0.0199987570004588,-0.0023000519747116252,0.03982858362989355,-0.000402833961672629,-0.02947185242172877,-0.0023260412625615004,0.01307910911043655,0.012637291216989038,-0.027925489794662653,0.007731813135330081,-0.008277588180176878,-0.018842233691140516,0.009089753425484641,-0.007790289032992191,0.0074069470372069325,-0.004665077169047866,-0.006230931762001353,0.0004353205714850088,-0.014560498517877909,-0.005477242414355628,-0.004963953979321139,0.0033136342008557385,-0.019251564974775648,-0.018497875627129998,0.027782548711488483,0.013332504666972507,0.011116917877772867,-0.0015853465588407853,0.0012279938509053292,0.011071436624035622,0.014092691336580665,0.0559484394187623,0.009771972231543174,0.0021571108915374574,-0.005015932555020817,-0.012773734978200772,0.009395127557720347,-0.016405737955217155,0.011298842892721775,0.0015203733392161701,0.009024780205860025,0.045188874248924885,-0.02439744396904577,0.024774288642868524,0.022246830399470743,0.10461987823956696,-0.030920755219357745,0.08052131108079454,0.12353358247229453,0.0027938484438587443,-0.06391415614474111,-0.05653969571734648,0.029777226553964475,0.058826753048133174,0.018426405085542878,-0.03023203909133678,0.005977536205465325,0.013254536803422954,-0.0714575469431597,0.024722310067168917,-0.06670800458859985,0.07787690104207247,-0.030128081939937428,-0.003118714541981821,-0.025709903005463157,0.05572103315007622,0.0327465026908097,0.011526249161408073,0.02387116089008627,-0.023169450118140367,0.03323380183799424,0.05442156875758377,-0.17311464636784396,-0.017133438015012933,-0.008089165843265536,-0.020752446348104307,0.015301193221598551,0.02621019679657271,-0.03543639398326894,0.020219665947182372,0.015963920061769714,-0.01973236679999783,-0.015788492368783238,0.006211439796113911,-0.01790012200658345,-0.08258745946485743,-0.0311286695221566,0.08459513195125837,-0.0014878867294037903,-0.03687879945893563,-0.002540452887322716,0.0028393296975959895,-0.014417557434703741,-0.018718784573853717,0.02188947769153529,0.017269881776224596,0.05714394665985546,-0.003852911923740103,0.012234457255316336,-0.008745395361474194,0.028003457658212206,-0.005067911130720567,-0.006315396947513267,-0.003729462806453233,0.0630565096456961,-0.015976914705694723,0.0013969242219294443,-0.024040091261110386,0.017627234484160124,0.0035150511816920173,0.005204354891932302,-0.004782028964372231,-0.02667800397786988,-0.006367375523213016,0.005217349535857167,0.03418241084451373,-0.03602115295989062,0.0005392777228844365,0.00293029220507048,-0.007270503275995269,0.008420529263350974,0.00745242829094425,-0.07356267925899755,0.041810266828444534,0.01489186193796349,0.0019426992667762413,0.0185043729490925,-0.013384483242672185,0.027996960336249845,0.04869093078669204,-0.0056071888536048595,-0.02799046301428734,-0.004574114661573376,0.04322018569429877,0.04151788734013362,-0.016743598697265098,-0.041556871271908505,0.01476191549871426,-0.01723739516641229,0.0007082080939084073,-0.0009421116845569934,-0.010246276734802995,-0.05429162231833439,0.004730050388672481,-0.035247971646357595,0.031310594537105656,0.004268740529337669,-0.024793780608755894,-0.014683947635164634,0.023845171602236395,-0.02533305833164033,0.006503819284424751,-0.0677215868147439,0.004502644119986327,0.015431139660847783,0.013403975208559628,0.005301814721369153,-0.005743632614816595,-0.011292345570759416,-0.03282447055435925,-0.048307588790906776,-0.026794955773194316,0.014625471737502452,-0.007192535412445716,0.02997214621283832,-0.0023260412625615004,-0.03819775581731552,0.024189529666246913,0.00144890279762905,-0.03762599148461877,0.01882923904721558,0.01044119639367684,-0.013670365409020594,-0.005126387028382678,0.018803249759365703,0.005620183497529869,0.028224366604935998,0.04376596073914564,0.004528633407836203,0.026184207508722832,-0.05414218391319786,0.00952507399696965,-0.0035085538597296566,0.0042427512414878665,-0.04906777546051486,-0.02283158937609228,0.014209643131904886,-0.005691654039116916,0.012955659993149753,0.005639675463417239,-0.017503785366873324,-0.005834595122291085,-0.033435218818830735,0.005347295975106398,-0.01068159730628793,-0.011695179532432045,0.005230344179782105,-0.008323069433914195,0.01932953283832513,0.018166512207044416,-0.020031243610271032,0.003709970840565935,0.004034836938689083,-0.0005067911130720567,-0.011025955370298449,-0.0067247282311484,-0.008388042653538739,-0.011532746483370507,-0.05388229103469933,-0.02628816466012219,0.020752446348104376,-0.010785554457687358,0.003619008333091517,0.0007536893476455803,-0.006900155924134948,0.0015138760172537374,0.003982858362989334,-0.010395715139939594,0.010389217817977163,0.006919647890022246,-0.017815656821071463,0.005665664751267042,0.02993316228106358,0.006893658602172443,0.010740073203950113,0.0964722364986394,0.02905602381613113,-0.004177778021863179,-0.028627200566608627,-0.04314871515271179,0.040699224772863495,-0.010772559813762421,-0.0031512011517942006,0.032506101778198605,-0.00985643741705523,-0.04555922160078528,0.011253361638984603,0.023994610007373067,-0.029965648890875888,-0.04821662628343229,0.012552826031477051,-0.016236807584193186,-0.00015593572709910546,0.047579888731111,-0.012208467967466533,-0.018842233691140516,0.03887347730141162,0.0016698117443527708,-0.00976547490958074,-0.010999966082448574,-0.025216106536315966,0.026736479875532133,-0.018933196198615006,-0.003014757390582465,0.0004483152154098741,0.029179472933417928,-0.019264559618700588,0.04351256518260961,-0.011110420555810435,-0.01720490855659998,0.009817453485280419,-0.0056266808194923015,0.016919026390251717,0.0008251598892327003,0.0018907206910765636,0.01506079230898746,-0.008784379293248934,0.020408088284093857,-0.00048080182522218176,0.0006822188060585323,0.003352618132630551,-0.012065526884292365,0.005711146005004359,0.016171834364568496,0.0031771904396440754,-0.003352618132630551,0.0023650251943362404,-0.030095595330125118,0.008310074789989257,-0.0026184207508722687,0.0124748581679275,-0.010772559813762348,-0.0064583380306875065,-0.03694377267856032,0.018179506850969352,-0.020849906177541372,0.004626093237273125,-0.005197857569969797,-0.038750028184124825,0.013001141246886998,0.004983445945208509,0.002189597501349765,0.03856160584721341,-0.003047244000394845,-0.018913704232727636,0.01119488574132242,0.0033461208106680463,-0.015034803021137657,-0.012247451899241346,-0.009726490977806,-0.008030689945603282,-0.0046390878811979905,-0.003404596708330229,-0.03293492502772111,0.006367375523212944,-0.006068498712939743,-0.020330120420544304,-0.017087956761275686,0.014157664556205207,0.0047950236082971685,-0.006347883557325646,0.026931399534406052,-0.031167653453931344,0.002618420750872341,-0.013923760965556621,-0.009460100777345035,-0.05104296133710334,0.016828063882777227,-0.06339437038774412,-0.020070227542045845,0.024657336847544193,0.0021246242817251856,0.01419664848798002,-0.016256299550080518,0.00964852311425641,-0.02123324817332663,0.009791464197430615,-0.006529808572274555,0.002780853799933843,0.004769034320447294,-0.010857024999274406,0.00221558678919964,-0.0015528599490284777,-0.008784379293248934,-0.007192535412445716,0.003131709185906794,0.0018127528275269748,0.01916060246730116,0.0019167099789263663,-0.015333679831410894,0.004840504862034341,-0.009797961519393049,0.001331951002304757,0.001949196588738674,0.004769034320447294,0.003183687761606472,-0.004613098593348188,-0.00020141698083635056,-0.012149992069804386,-0.014274616351529537,-0.01070758659413777,-0.020505548113530853,0.0065752898260117995,0.014203145809942452,-0.01985581591728463,0.0050744084526829995,-0.00871940607362432,0.012188976001579163,-0.0025079662775104447,0.0045091414419487965,-0.004658579847085433,0.008732400717549221,0.0205770186551179,0.0001169517953243291,-0.005529220990055342,-0.0037164681625284036,-0.010376223174052188,-0.005217349535857167,0.0017022983541650784,-0.011747158108131721,0.0009875929382942383,0.0038399172798152014,0.004632590559235558,-0.0018647314032266887,0.004398686968586936,0.0066662523334862535,-0.001098047411656135,0.0026509073606845765,-0.012656783182876444,-0.006633765723673946,-0.002202592145274702,0.0077837917110297585,0.006451840708725002,0.0002598928784984971,0.01070758659413777,-0.004691066456897741,0.014638466381427462,0.005041921842870728,-0.007030102363384142,0.002761361834046473,-0.005938552273690476,0.0010785554457687287,-0.0004418178934474414,-0.01483988336226374,0.001189009919130589,0.014229135097792328,0.009323657016133299,-0.003963366397101964,0.012936168027262347,-0.0054577504484682945,-0.00012344911728679784,-0.0049379646914713,-0.001279972426605043,0.0008576464990450079,0.003612511011129012,-0.0032486609812311233,0.0005652670107342032,0.004229756597562929,-0.00741994168113187,0.009135234679221886,-0.0008121652453077989,-0.000500293791109588,-0.0009161223967071905,-0.0015203733392161701,-0.0003768446738228262,0.0012279938509053654,0.0016828063882777442,-0.006062001390977274,-0.0231629527961779,0.0014424054756666173,0.0051523763162325525,-0.00046780718129728035,0.0019881805205134505,-0.0010395715139939884,0.002267565364899318,-0.00656879250404933,-0.002975773458807689,-0.008037187267565787,0.007497909544681423,-0.004704061100822642,0.0006692241621335948,0.0035150511816920533,-0.001117539377543505,-0.0011760152752056515,0.0012669777826801417,0.0007926732794203927,-0.007458925612906646,0.009979886534341993,0.0017802662177146672,0.011279350926834441,0.00025339555653602837,-0.0013644376121170645,0.0029822707807701577,-0.01764672645004742,0.005997028171352659,-0.010005875822191868,0.01881624440329064,0.013436461818371898,-0.011747158108131721,0.017601245196310213,0.01951795517523658,-0.01339098056463469,0.05925557629765564,0.014203145809942488,-0.01294266534922478,0.0027288752242341655,-0.015392155729073041,-0.01387827971181934,0.0012734751046426104,0.024774288642868524,-0.004619595915310657,-0.0029043029172206047,-0.017562261264535438,0.009089753425484676,0.011279350926834478,0.005919060307803106,0.0031576984737566693,0.015749508437008498,-0.0003378607420480859,0.01003836243200414,-0.025177122604541226,-0.004970451301283644,0.0013709349340795334,-0.005893071019953267,0.006094488000789581,-0.004320719105037383,-0.003385104742442859,0.002098634993875311,-0.009473095421269936,-0.009849940095092762,-0.0025859341410599613,0.009538068640894551,0.002741869868159067,0.0022740626868617865,-0.010161811549290937,0.004814515574184539,0.005490237058280566,-0.004795023608297132,0.008440021229238452,-0.0028198377317086194,-0.007933230116166395,0.004086815514388725,-0.000474304503259713,-0.008881839122685893,0.003209677049456347,0.0331883205842571,-0.008472507839050724,-0.014300605639379411,-0.003859409245702572,-0.03832120493460232,-0.048060690556333184,0.04064724619716378,-0.006718230909185932,-0.013572905579583598,-0.014696942279089572,0.023383861742901583,0.007952722082053765,-0.010038362432004174,0.00554221563398028,-0.0013839295780044708,0.002352030550411339,-0.014774910142639125,0.0021571108915374574,0.007257508632070296,0.0039438744312145935,0.013092103754361416,0.0037489547723407114,-0.007582374730193408,-3.2486609812307625e-05,-0.004437670900361713,0.006062001390977274,0.006354380879288079,-0.007205530056370618,-0.00026639020046096584,-0.005964541561540315,0.001591843880803254,-0.0002209089467237207,0.0013709349340795334,-0.005321306687256559,0.00713405951478357,-0.0035540351134668293,-0.0015138760172537012,-0.003638500298978851,0.004119302124201069,0.005217349535857204,-0.00654930053816196,-0.00471705574474758,-0.017347849639774184,0.002189597501349765,-0.0031057198980569555,-0.00706258897319645,0.0062504237278886874,-0.001929704622851304,0.00293029220507048,0.0031771904396440394,-0.0014943840513663312,-0.0040153449728016774,0.013085606432398948,0.0010525661579188898,-0.007458925612906646,-0.008992293596047718,0.0020076724864008205,-0.004184275343825684],\"yaxis\":\"y\",\"type\":\"scattergl\"}],                        {\"template\":{\"data\":{\"histogram2dcontour\":[{\"type\":\"histogram2dcontour\",\"colorbar\":{\"outlinewidth\":0,\"ticks\":\"\"},\"colorscale\":[[0.0,\"#0d0887\"],[0.1111111111111111,\"#46039f\"],[0.2222222222222222,\"#7201a8\"],[0.3333333333333333,\"#9c179e\"],[0.4444444444444444,\"#bd3786\"],[0.5555555555555556,\"#d8576b\"],[0.6666666666666666,\"#ed7953\"],[0.7777777777777778,\"#fb9f3a\"],[0.8888888888888888,\"#fdca26\"],[1.0,\"#f0f921\"]]}],\"choropleth\":[{\"type\":\"choropleth\",\"colorbar\":{\"outlinewidth\":0,\"ticks\":\"\"}}],\"histogram2d\":[{\"type\":\"histogram2d\",\"colorbar\":{\"outlinewidth\":0,\"ticks\":\"\"},\"colorscale\":[[0.0,\"#0d0887\"],[0.1111111111111111,\"#46039f\"],[0.2222222222222222,\"#7201a8\"],[0.3333333333333333,\"#9c179e\"],[0.4444444444444444,\"#bd3786\"],[0.5555555555555556,\"#d8576b\"],[0.6666666666666666,\"#ed7953\"],[0.7777777777777778,\"#fb9f3a\"],[0.8888888888888888,\"#fdca26\"],[1.0,\"#f0f921\"]]}],\"heatmap\":[{\"type\":\"heatmap\",\"colorbar\":{\"outlinewidth\":0,\"ticks\":\"\"},\"colorscale\":[[0.0,\"#0d0887\"],[0.1111111111111111,\"#46039f\"],[0.2222222222222222,\"#7201a8\"],[0.3333333333333333,\"#9c179e\"],[0.4444444444444444,\"#bd3786\"],[0.5555555555555556,\"#d8576b\"],[0.6666666666666666,\"#ed7953\"],[0.7777777777777778,\"#fb9f3a\"],[0.8888888888888888,\"#fdca26\"],[1.0,\"#f0f921\"]]}],\"heatmapgl\":[{\"type\":\"heatmapgl\",\"colorbar\":{\"outlinewidth\":0,\"ticks\":\"\"},\"colorscale\":[[0.0,\"#0d0887\"],[0.1111111111111111,\"#46039f\"],[0.2222222222222222,\"#7201a8\"],[0.3333333333333333,\"#9c179e\"],[0.4444444444444444,\"#bd3786\"],[0.5555555555555556,\"#d8576b\"],[0.6666666666666666,\"#ed7953\"],[0.7777777777777778,\"#fb9f3a\"],[0.8888888888888888,\"#fdca26\"],[1.0,\"#f0f921\"]]}],\"contourcarpet\":[{\"type\":\"contourcarpet\",\"colorbar\":{\"outlinewidth\":0,\"ticks\":\"\"}}],\"contour\":[{\"type\":\"contour\",\"colorbar\":{\"outlinewidth\":0,\"ticks\":\"\"},\"colorscale\":[[0.0,\"#0d0887\"],[0.1111111111111111,\"#46039f\"],[0.2222222222222222,\"#7201a8\"],[0.3333333333333333,\"#9c179e\"],[0.4444444444444444,\"#bd3786\"],[0.5555555555555556,\"#d8576b\"],[0.6666666666666666,\"#ed7953\"],[0.7777777777777778,\"#fb9f3a\"],[0.8888888888888888,\"#fdca26\"],[1.0,\"#f0f921\"]]}],\"surface\":[{\"type\":\"surface\",\"colorbar\":{\"outlinewidth\":0,\"ticks\":\"\"},\"colorscale\":[[0.0,\"#0d0887\"],[0.1111111111111111,\"#46039f\"],[0.2222222222222222,\"#7201a8\"],[0.3333333333333333,\"#9c179e\"],[0.4444444444444444,\"#bd3786\"],[0.5555555555555556,\"#d8576b\"],[0.6666666666666666,\"#ed7953\"],[0.7777777777777778,\"#fb9f3a\"],[0.8888888888888888,\"#fdca26\"],[1.0,\"#f0f921\"]]}],\"mesh3d\":[{\"type\":\"mesh3d\",\"colorbar\":{\"outlinewidth\":0,\"ticks\":\"\"}}],\"scatter\":[{\"fillpattern\":{\"fillmode\":\"overlay\",\"size\":10,\"solidity\":0.2},\"type\":\"scatter\"}],\"parcoords\":[{\"type\":\"parcoords\",\"line\":{\"colorbar\":{\"outlinewidth\":0,\"ticks\":\"\"}}}],\"scatterpolargl\":[{\"type\":\"scatterpolargl\",\"marker\":{\"colorbar\":{\"outlinewidth\":0,\"ticks\":\"\"}}}],\"bar\":[{\"error_x\":{\"color\":\"#2a3f5f\"},\"error_y\":{\"color\":\"#2a3f5f\"},\"marker\":{\"line\":{\"color\":\"#E5ECF6\",\"width\":0.5},\"pattern\":{\"fillmode\":\"overlay\",\"size\":10,\"solidity\":0.2}},\"type\":\"bar\"}],\"scattergeo\":[{\"type\":\"scattergeo\",\"marker\":{\"colorbar\":{\"outlinewidth\":0,\"ticks\":\"\"}}}],\"scatterpolar\":[{\"type\":\"scatterpolar\",\"marker\":{\"colorbar\":{\"outlinewidth\":0,\"ticks\":\"\"}}}],\"histogram\":[{\"marker\":{\"pattern\":{\"fillmode\":\"overlay\",\"size\":10,\"solidity\":0.2}},\"type\":\"histogram\"}],\"scattergl\":[{\"type\":\"scattergl\",\"marker\":{\"colorbar\":{\"outlinewidth\":0,\"ticks\":\"\"}}}],\"scatter3d\":[{\"type\":\"scatter3d\",\"line\":{\"colorbar\":{\"outlinewidth\":0,\"ticks\":\"\"}},\"marker\":{\"colorbar\":{\"outlinewidth\":0,\"ticks\":\"\"}}}],\"scattermapbox\":[{\"type\":\"scattermapbox\",\"marker\":{\"colorbar\":{\"outlinewidth\":0,\"ticks\":\"\"}}}],\"scatterternary\":[{\"type\":\"scatterternary\",\"marker\":{\"colorbar\":{\"outlinewidth\":0,\"ticks\":\"\"}}}],\"scattercarpet\":[{\"type\":\"scattercarpet\",\"marker\":{\"colorbar\":{\"outlinewidth\":0,\"ticks\":\"\"}}}],\"carpet\":[{\"aaxis\":{\"endlinecolor\":\"#2a3f5f\",\"gridcolor\":\"white\",\"linecolor\":\"white\",\"minorgridcolor\":\"white\",\"startlinecolor\":\"#2a3f5f\"},\"baxis\":{\"endlinecolor\":\"#2a3f5f\",\"gridcolor\":\"white\",\"linecolor\":\"white\",\"minorgridcolor\":\"white\",\"startlinecolor\":\"#2a3f5f\"},\"type\":\"carpet\"}],\"table\":[{\"cells\":{\"fill\":{\"color\":\"#EBF0F8\"},\"line\":{\"color\":\"white\"}},\"header\":{\"fill\":{\"color\":\"#C8D4E3\"},\"line\":{\"color\":\"white\"}},\"type\":\"table\"}],\"barpolar\":[{\"marker\":{\"line\":{\"color\":\"#E5ECF6\",\"width\":0.5},\"pattern\":{\"fillmode\":\"overlay\",\"size\":10,\"solidity\":0.2}},\"type\":\"barpolar\"}],\"pie\":[{\"automargin\":true,\"type\":\"pie\"}]},\"layout\":{\"autotypenumbers\":\"strict\",\"colorway\":[\"#636efa\",\"#EF553B\",\"#00cc96\",\"#ab63fa\",\"#FFA15A\",\"#19d3f3\",\"#FF6692\",\"#B6E880\",\"#FF97FF\",\"#FECB52\"],\"font\":{\"color\":\"#2a3f5f\"},\"hovermode\":\"closest\",\"hoverlabel\":{\"align\":\"left\"},\"paper_bgcolor\":\"white\",\"plot_bgcolor\":\"#E5ECF6\",\"polar\":{\"bgcolor\":\"#E5ECF6\",\"angularaxis\":{\"gridcolor\":\"white\",\"linecolor\":\"white\",\"ticks\":\"\"},\"radialaxis\":{\"gridcolor\":\"white\",\"linecolor\":\"white\",\"ticks\":\"\"}},\"ternary\":{\"bgcolor\":\"#E5ECF6\",\"aaxis\":{\"gridcolor\":\"white\",\"linecolor\":\"white\",\"ticks\":\"\"},\"baxis\":{\"gridcolor\":\"white\",\"linecolor\":\"white\",\"ticks\":\"\"},\"caxis\":{\"gridcolor\":\"white\",\"linecolor\":\"white\",\"ticks\":\"\"}},\"coloraxis\":{\"colorbar\":{\"outlinewidth\":0,\"ticks\":\"\"}},\"colorscale\":{\"sequential\":[[0.0,\"#0d0887\"],[0.1111111111111111,\"#46039f\"],[0.2222222222222222,\"#7201a8\"],[0.3333333333333333,\"#9c179e\"],[0.4444444444444444,\"#bd3786\"],[0.5555555555555556,\"#d8576b\"],[0.6666666666666666,\"#ed7953\"],[0.7777777777777778,\"#fb9f3a\"],[0.8888888888888888,\"#fdca26\"],[1.0,\"#f0f921\"]],\"sequentialminus\":[[0.0,\"#0d0887\"],[0.1111111111111111,\"#46039f\"],[0.2222222222222222,\"#7201a8\"],[0.3333333333333333,\"#9c179e\"],[0.4444444444444444,\"#bd3786\"],[0.5555555555555556,\"#d8576b\"],[0.6666666666666666,\"#ed7953\"],[0.7777777777777778,\"#fb9f3a\"],[0.8888888888888888,\"#fdca26\"],[1.0,\"#f0f921\"]],\"diverging\":[[0,\"#8e0152\"],[0.1,\"#c51b7d\"],[0.2,\"#de77ae\"],[0.3,\"#f1b6da\"],[0.4,\"#fde0ef\"],[0.5,\"#f7f7f7\"],[0.6,\"#e6f5d0\"],[0.7,\"#b8e186\"],[0.8,\"#7fbc41\"],[0.9,\"#4d9221\"],[1,\"#276419\"]]},\"xaxis\":{\"gridcolor\":\"white\",\"linecolor\":\"white\",\"ticks\":\"\",\"title\":{\"standoff\":15},\"zerolinecolor\":\"white\",\"automargin\":true,\"zerolinewidth\":2},\"yaxis\":{\"gridcolor\":\"white\",\"linecolor\":\"white\",\"ticks\":\"\",\"title\":{\"standoff\":15},\"zerolinecolor\":\"white\",\"automargin\":true,\"zerolinewidth\":2},\"scene\":{\"xaxis\":{\"backgroundcolor\":\"#E5ECF6\",\"gridcolor\":\"white\",\"linecolor\":\"white\",\"showbackground\":true,\"ticks\":\"\",\"zerolinecolor\":\"white\",\"gridwidth\":2},\"yaxis\":{\"backgroundcolor\":\"#E5ECF6\",\"gridcolor\":\"white\",\"linecolor\":\"white\",\"showbackground\":true,\"ticks\":\"\",\"zerolinecolor\":\"white\",\"gridwidth\":2},\"zaxis\":{\"backgroundcolor\":\"#E5ECF6\",\"gridcolor\":\"white\",\"linecolor\":\"white\",\"showbackground\":true,\"ticks\":\"\",\"zerolinecolor\":\"white\",\"gridwidth\":2}},\"shapedefaults\":{\"line\":{\"color\":\"#2a3f5f\"}},\"annotationdefaults\":{\"arrowcolor\":\"#2a3f5f\",\"arrowhead\":0,\"arrowwidth\":1},\"geo\":{\"bgcolor\":\"white\",\"landcolor\":\"#E5ECF6\",\"subunitcolor\":\"white\",\"showland\":true,\"showlakes\":true,\"lakecolor\":\"white\"},\"title\":{\"x\":0.05},\"mapbox\":{\"style\":\"light\"}}},\"xaxis\":{\"anchor\":\"y\",\"domain\":[0.0,1.0],\"title\":{\"text\":\"index\"}},\"yaxis\":{\"anchor\":\"x\",\"domain\":[0.0,1.0],\"title\":{\"text\":\"value\"}},\"legend\":{\"title\":{\"text\":\"variable\"},\"tracegroupgap\":0},\"margin\":{\"t\":60}},                        {\"responsive\": true}                    ).then(function(){\n",
              "                            \n",
              "var gd = document.getElementById('322ca6f6-6353-4238-879b-98d633573f4f');\n",
              "var x = new MutationObserver(function (mutations, observer) {{\n",
              "        var display = window.getComputedStyle(gd).display;\n",
              "        if (!display || display === 'none') {{\n",
              "            console.log([gd, 'removed!']);\n",
              "            Plotly.purge(gd);\n",
              "            observer.disconnect();\n",
              "        }}\n",
              "}});\n",
              "\n",
              "// Listen for the removal of the full notebook cells\n",
              "var notebookContainer = gd.closest('#notebook-container');\n",
              "if (notebookContainer) {{\n",
              "    x.observe(notebookContainer, {childList: true});\n",
              "}}\n",
              "\n",
              "// Listen for the clearing of the current output cell\n",
              "var outputEl = gd.closest('.output');\n",
              "if (outputEl) {{\n",
              "    x.observe(outputEl, {childList: true});\n",
              "}}\n",
              "\n",
              "                        })                };                            </script>        </div>\n",
              "</body>\n",
              "</html>"
            ]
          },
          "metadata": {}
        }
      ],
      "source": [
        "print('Plot of normalized movements of each coin')\n",
        "for i, coin in enumerate(coins):\n",
        "  fig= px.line(pd.DataFrame(norm_movements[i], columns=[coin]))\n",
        "  fig.show()"
      ]
    },
    {
      "cell_type": "markdown",
      "metadata": {
        "id": "pg5vIbbiIFnU"
      },
      "source": [
        "# Clustering"
      ]
    },
    {
      "cell_type": "code",
      "execution_count": 144,
      "metadata": {
        "id": "iWr5RH4hGlVR"
      },
      "outputs": [],
      "source": [
        "from sklearn.pipeline import make_pipeline\n",
        "from sklearn.preprocessing import Normalizer"
      ]
    },
    {
      "cell_type": "markdown",
      "metadata": {
        "id": "oNcV3_cmF23r"
      },
      "source": [
        "##K-means"
      ]
    },
    {
      "cell_type": "code",
      "execution_count": 145,
      "metadata": {
        "colab": {
          "base_uri": "https://localhost:8080/",
          "height": 0
        },
        "id": "xPAO2DRyq-dy",
        "outputId": "db4afdab-aea4-471b-da7b-e41942b8f315"
      },
      "outputs": [
        {
          "output_type": "stream",
          "name": "stderr",
          "text": [
            "/usr/local/lib/python3.10/dist-packages/sklearn/cluster/_kmeans.py:870: FutureWarning:\n",
            "\n",
            "The default value of `n_init` will change from 10 to 'auto' in 1.4. Set the value of `n_init` explicitly to suppress the warning\n",
            "\n"
          ]
        },
        {
          "output_type": "execute_result",
          "data": {
            "text/plain": [
              "   cluster     coins\n",
              "0        1       BNB\n",
              "1        1   Bitcoin\n",
              "2        4   Cardano\n",
              "3        3  Dogecoin\n",
              "4        1  Ethereum\n",
              "5        0   Polygon\n",
              "6        2    Tether\n",
              "7        4       XRP"
            ],
            "text/html": [
              "\n",
              "  <div id=\"df-d222112c-acc8-4151-ab78-52139a1dec1f\">\n",
              "    <div class=\"colab-df-container\">\n",
              "      <div>\n",
              "<style scoped>\n",
              "    .dataframe tbody tr th:only-of-type {\n",
              "        vertical-align: middle;\n",
              "    }\n",
              "\n",
              "    .dataframe tbody tr th {\n",
              "        vertical-align: top;\n",
              "    }\n",
              "\n",
              "    .dataframe thead th {\n",
              "        text-align: right;\n",
              "    }\n",
              "</style>\n",
              "<table border=\"1\" class=\"dataframe\">\n",
              "  <thead>\n",
              "    <tr style=\"text-align: right;\">\n",
              "      <th></th>\n",
              "      <th>cluster</th>\n",
              "      <th>coins</th>\n",
              "    </tr>\n",
              "  </thead>\n",
              "  <tbody>\n",
              "    <tr>\n",
              "      <th>0</th>\n",
              "      <td>1</td>\n",
              "      <td>BNB</td>\n",
              "    </tr>\n",
              "    <tr>\n",
              "      <th>1</th>\n",
              "      <td>1</td>\n",
              "      <td>Bitcoin</td>\n",
              "    </tr>\n",
              "    <tr>\n",
              "      <th>2</th>\n",
              "      <td>4</td>\n",
              "      <td>Cardano</td>\n",
              "    </tr>\n",
              "    <tr>\n",
              "      <th>3</th>\n",
              "      <td>3</td>\n",
              "      <td>Dogecoin</td>\n",
              "    </tr>\n",
              "    <tr>\n",
              "      <th>4</th>\n",
              "      <td>1</td>\n",
              "      <td>Ethereum</td>\n",
              "    </tr>\n",
              "    <tr>\n",
              "      <th>5</th>\n",
              "      <td>0</td>\n",
              "      <td>Polygon</td>\n",
              "    </tr>\n",
              "    <tr>\n",
              "      <th>6</th>\n",
              "      <td>2</td>\n",
              "      <td>Tether</td>\n",
              "    </tr>\n",
              "    <tr>\n",
              "      <th>7</th>\n",
              "      <td>4</td>\n",
              "      <td>XRP</td>\n",
              "    </tr>\n",
              "  </tbody>\n",
              "</table>\n",
              "</div>\n",
              "      <button class=\"colab-df-convert\" onclick=\"convertToInteractive('df-d222112c-acc8-4151-ab78-52139a1dec1f')\"\n",
              "              title=\"Convert this dataframe to an interactive table.\"\n",
              "              style=\"display:none;\">\n",
              "        \n",
              "  <svg xmlns=\"http://www.w3.org/2000/svg\" height=\"24px\"viewBox=\"0 0 24 24\"\n",
              "       width=\"24px\">\n",
              "    <path d=\"M0 0h24v24H0V0z\" fill=\"none\"/>\n",
              "    <path d=\"M18.56 5.44l.94 2.06.94-2.06 2.06-.94-2.06-.94-.94-2.06-.94 2.06-2.06.94zm-11 1L8.5 8.5l.94-2.06 2.06-.94-2.06-.94L8.5 2.5l-.94 2.06-2.06.94zm10 10l.94 2.06.94-2.06 2.06-.94-2.06-.94-.94-2.06-.94 2.06-2.06.94z\"/><path d=\"M17.41 7.96l-1.37-1.37c-.4-.4-.92-.59-1.43-.59-.52 0-1.04.2-1.43.59L10.3 9.45l-7.72 7.72c-.78.78-.78 2.05 0 2.83L4 21.41c.39.39.9.59 1.41.59.51 0 1.02-.2 1.41-.59l7.78-7.78 2.81-2.81c.8-.78.8-2.07 0-2.86zM5.41 20L4 18.59l7.72-7.72 1.47 1.35L5.41 20z\"/>\n",
              "  </svg>\n",
              "      </button>\n",
              "      \n",
              "  <style>\n",
              "    .colab-df-container {\n",
              "      display:flex;\n",
              "      flex-wrap:wrap;\n",
              "      gap: 12px;\n",
              "    }\n",
              "\n",
              "    .colab-df-convert {\n",
              "      background-color: #E8F0FE;\n",
              "      border: none;\n",
              "      border-radius: 50%;\n",
              "      cursor: pointer;\n",
              "      display: none;\n",
              "      fill: #1967D2;\n",
              "      height: 32px;\n",
              "      padding: 0 0 0 0;\n",
              "      width: 32px;\n",
              "    }\n",
              "\n",
              "    .colab-df-convert:hover {\n",
              "      background-color: #E2EBFA;\n",
              "      box-shadow: 0px 1px 2px rgba(60, 64, 67, 0.3), 0px 1px 3px 1px rgba(60, 64, 67, 0.15);\n",
              "      fill: #174EA6;\n",
              "    }\n",
              "\n",
              "    [theme=dark] .colab-df-convert {\n",
              "      background-color: #3B4455;\n",
              "      fill: #D2E3FC;\n",
              "    }\n",
              "\n",
              "    [theme=dark] .colab-df-convert:hover {\n",
              "      background-color: #434B5C;\n",
              "      box-shadow: 0px 1px 3px 1px rgba(0, 0, 0, 0.15);\n",
              "      filter: drop-shadow(0px 1px 2px rgba(0, 0, 0, 0.3));\n",
              "      fill: #FFFFFF;\n",
              "    }\n",
              "  </style>\n",
              "\n",
              "      <script>\n",
              "        const buttonEl =\n",
              "          document.querySelector('#df-d222112c-acc8-4151-ab78-52139a1dec1f button.colab-df-convert');\n",
              "        buttonEl.style.display =\n",
              "          google.colab.kernel.accessAllowed ? 'block' : 'none';\n",
              "\n",
              "        async function convertToInteractive(key) {\n",
              "          const element = document.querySelector('#df-d222112c-acc8-4151-ab78-52139a1dec1f');\n",
              "          const dataTable =\n",
              "            await google.colab.kernel.invokeFunction('convertToInteractive',\n",
              "                                                     [key], {});\n",
              "          if (!dataTable) return;\n",
              "\n",
              "          const docLinkHtml = 'Like what you see? Visit the ' +\n",
              "            '<a target=\"_blank\" href=https://colab.research.google.com/notebooks/data_table.ipynb>data table notebook</a>'\n",
              "            + ' to learn more about interactive tables.';\n",
              "          element.innerHTML = '';\n",
              "          dataTable['output_type'] = 'display_data';\n",
              "          await google.colab.output.renderOutput(dataTable, element);\n",
              "          const docLink = document.createElement('div');\n",
              "          docLink.innerHTML = docLinkHtml;\n",
              "          element.appendChild(docLink);\n",
              "        }\n",
              "      </script>\n",
              "    </div>\n",
              "  </div>\n",
              "  "
            ]
          },
          "metadata": {},
          "execution_count": 145
        }
      ],
      "source": [
        "# Import the necessary packages\n",
        "from sklearn.cluster import KMeans\n",
        "\n",
        "# Define a normalizer\n",
        "normalizer = Normalizer()\n",
        "\n",
        "# Create Kmeans model\n",
        "kmeans = KMeans(n_clusters=5,max_iter = 10000)\n",
        "\n",
        "# Make a pipeline chaining normalizer and kmeans\n",
        "pipeline = make_pipeline(normalizer,kmeans)\n",
        "\n",
        "# Fit pipeline to daily stock movements\n",
        "pipeline.fit(norm_movements)\n",
        "k_predictions = pipeline.predict(norm_movements)\n",
        "k_predictions\n",
        "\n",
        "df_k = pd.DataFrame({'cluster':k_predictions, 'coins':df.keys()})\n",
        "df_k"
      ]
    },
    {
      "cell_type": "markdown",
      "metadata": {
        "id": "VdTT1Wc5F8c4"
      },
      "source": [
        "##DBSCAN"
      ]
    },
    {
      "cell_type": "code",
      "execution_count": 146,
      "metadata": {
        "colab": {
          "base_uri": "https://localhost:8080/",
          "height": 0
        },
        "id": "fkL-pJNHFfxP",
        "outputId": "b3b15871-3e6b-4e2e-c82f-f70bc28b3b66"
      },
      "outputs": [
        {
          "output_type": "stream",
          "name": "stderr",
          "text": [
            "/usr/local/lib/python3.10/dist-packages/sklearn/cluster/_kmeans.py:870: FutureWarning:\n",
            "\n",
            "The default value of `n_init` will change from 10 to 'auto' in 1.4. Set the value of `n_init` explicitly to suppress the warning\n",
            "\n"
          ]
        },
        {
          "output_type": "execute_result",
          "data": {
            "text/plain": [
              "   cluster     coins\n",
              "0        2       BNB\n",
              "1        2   Bitcoin\n",
              "2        3   Cardano\n",
              "3        4  Dogecoin\n",
              "4        2  Ethereum\n",
              "5        0   Polygon\n",
              "6        1    Tether\n",
              "7        3       XRP"
            ],
            "text/html": [
              "\n",
              "  <div id=\"df-b77d4c75-b238-43d9-9a17-52b432eab20f\">\n",
              "    <div class=\"colab-df-container\">\n",
              "      <div>\n",
              "<style scoped>\n",
              "    .dataframe tbody tr th:only-of-type {\n",
              "        vertical-align: middle;\n",
              "    }\n",
              "\n",
              "    .dataframe tbody tr th {\n",
              "        vertical-align: top;\n",
              "    }\n",
              "\n",
              "    .dataframe thead th {\n",
              "        text-align: right;\n",
              "    }\n",
              "</style>\n",
              "<table border=\"1\" class=\"dataframe\">\n",
              "  <thead>\n",
              "    <tr style=\"text-align: right;\">\n",
              "      <th></th>\n",
              "      <th>cluster</th>\n",
              "      <th>coins</th>\n",
              "    </tr>\n",
              "  </thead>\n",
              "  <tbody>\n",
              "    <tr>\n",
              "      <th>0</th>\n",
              "      <td>2</td>\n",
              "      <td>BNB</td>\n",
              "    </tr>\n",
              "    <tr>\n",
              "      <th>1</th>\n",
              "      <td>2</td>\n",
              "      <td>Bitcoin</td>\n",
              "    </tr>\n",
              "    <tr>\n",
              "      <th>2</th>\n",
              "      <td>3</td>\n",
              "      <td>Cardano</td>\n",
              "    </tr>\n",
              "    <tr>\n",
              "      <th>3</th>\n",
              "      <td>4</td>\n",
              "      <td>Dogecoin</td>\n",
              "    </tr>\n",
              "    <tr>\n",
              "      <th>4</th>\n",
              "      <td>2</td>\n",
              "      <td>Ethereum</td>\n",
              "    </tr>\n",
              "    <tr>\n",
              "      <th>5</th>\n",
              "      <td>0</td>\n",
              "      <td>Polygon</td>\n",
              "    </tr>\n",
              "    <tr>\n",
              "      <th>6</th>\n",
              "      <td>1</td>\n",
              "      <td>Tether</td>\n",
              "    </tr>\n",
              "    <tr>\n",
              "      <th>7</th>\n",
              "      <td>3</td>\n",
              "      <td>XRP</td>\n",
              "    </tr>\n",
              "  </tbody>\n",
              "</table>\n",
              "</div>\n",
              "      <button class=\"colab-df-convert\" onclick=\"convertToInteractive('df-b77d4c75-b238-43d9-9a17-52b432eab20f')\"\n",
              "              title=\"Convert this dataframe to an interactive table.\"\n",
              "              style=\"display:none;\">\n",
              "        \n",
              "  <svg xmlns=\"http://www.w3.org/2000/svg\" height=\"24px\"viewBox=\"0 0 24 24\"\n",
              "       width=\"24px\">\n",
              "    <path d=\"M0 0h24v24H0V0z\" fill=\"none\"/>\n",
              "    <path d=\"M18.56 5.44l.94 2.06.94-2.06 2.06-.94-2.06-.94-.94-2.06-.94 2.06-2.06.94zm-11 1L8.5 8.5l.94-2.06 2.06-.94-2.06-.94L8.5 2.5l-.94 2.06-2.06.94zm10 10l.94 2.06.94-2.06 2.06-.94-2.06-.94-.94-2.06-.94 2.06-2.06.94z\"/><path d=\"M17.41 7.96l-1.37-1.37c-.4-.4-.92-.59-1.43-.59-.52 0-1.04.2-1.43.59L10.3 9.45l-7.72 7.72c-.78.78-.78 2.05 0 2.83L4 21.41c.39.39.9.59 1.41.59.51 0 1.02-.2 1.41-.59l7.78-7.78 2.81-2.81c.8-.78.8-2.07 0-2.86zM5.41 20L4 18.59l7.72-7.72 1.47 1.35L5.41 20z\"/>\n",
              "  </svg>\n",
              "      </button>\n",
              "      \n",
              "  <style>\n",
              "    .colab-df-container {\n",
              "      display:flex;\n",
              "      flex-wrap:wrap;\n",
              "      gap: 12px;\n",
              "    }\n",
              "\n",
              "    .colab-df-convert {\n",
              "      background-color: #E8F0FE;\n",
              "      border: none;\n",
              "      border-radius: 50%;\n",
              "      cursor: pointer;\n",
              "      display: none;\n",
              "      fill: #1967D2;\n",
              "      height: 32px;\n",
              "      padding: 0 0 0 0;\n",
              "      width: 32px;\n",
              "    }\n",
              "\n",
              "    .colab-df-convert:hover {\n",
              "      background-color: #E2EBFA;\n",
              "      box-shadow: 0px 1px 2px rgba(60, 64, 67, 0.3), 0px 1px 3px 1px rgba(60, 64, 67, 0.15);\n",
              "      fill: #174EA6;\n",
              "    }\n",
              "\n",
              "    [theme=dark] .colab-df-convert {\n",
              "      background-color: #3B4455;\n",
              "      fill: #D2E3FC;\n",
              "    }\n",
              "\n",
              "    [theme=dark] .colab-df-convert:hover {\n",
              "      background-color: #434B5C;\n",
              "      box-shadow: 0px 1px 3px 1px rgba(0, 0, 0, 0.15);\n",
              "      filter: drop-shadow(0px 1px 2px rgba(0, 0, 0, 0.3));\n",
              "      fill: #FFFFFF;\n",
              "    }\n",
              "  </style>\n",
              "\n",
              "      <script>\n",
              "        const buttonEl =\n",
              "          document.querySelector('#df-b77d4c75-b238-43d9-9a17-52b432eab20f button.colab-df-convert');\n",
              "        buttonEl.style.display =\n",
              "          google.colab.kernel.accessAllowed ? 'block' : 'none';\n",
              "\n",
              "        async function convertToInteractive(key) {\n",
              "          const element = document.querySelector('#df-b77d4c75-b238-43d9-9a17-52b432eab20f');\n",
              "          const dataTable =\n",
              "            await google.colab.kernel.invokeFunction('convertToInteractive',\n",
              "                                                     [key], {});\n",
              "          if (!dataTable) return;\n",
              "\n",
              "          const docLinkHtml = 'Like what you see? Visit the ' +\n",
              "            '<a target=\"_blank\" href=https://colab.research.google.com/notebooks/data_table.ipynb>data table notebook</a>'\n",
              "            + ' to learn more about interactive tables.';\n",
              "          element.innerHTML = '';\n",
              "          dataTable['output_type'] = 'display_data';\n",
              "          await google.colab.output.renderOutput(dataTable, element);\n",
              "          const docLink = document.createElement('div');\n",
              "          docLink.innerHTML = docLinkHtml;\n",
              "          element.appendChild(docLink);\n",
              "        }\n",
              "      </script>\n",
              "    </div>\n",
              "  </div>\n",
              "  "
            ]
          },
          "metadata": {},
          "execution_count": 146
        }
      ],
      "source": [
        "# Import the necessary packages\n",
        "from sklearn.cluster import DBSCAN\n",
        "\n",
        "# Define a normalizer\n",
        "normalizer = Normalizer()\n",
        "\n",
        "# Create DBSCAN model\n",
        "dbscan = DBSCAN(eps=0.5, min_samples=3)\n",
        "\n",
        "# Make a pipeline chaining normalizer and kmeans\n",
        "pipeline = make_pipeline(normalizer,kmeans)\n",
        "\n",
        "pipeline.fit(norm_movements)\n",
        "d_predictions = pipeline.predict(norm_movements)\n",
        "d_predictions\n",
        "\n",
        "df_d = pd.DataFrame({'cluster':d_predictions, 'coins':df.keys()})\n",
        "df_d"
      ]
    },
    {
      "cell_type": "markdown",
      "metadata": {
        "id": "C5vbQdRbGAHc"
      },
      "source": [
        "##Hierarchical Clustering"
      ]
    },
    {
      "cell_type": "code",
      "execution_count": 147,
      "metadata": {
        "colab": {
          "base_uri": "https://localhost:8080/",
          "height": 0
        },
        "id": "GAilBaeXFrVM",
        "outputId": "05186616-cb97-4bff-84a7-654480d320d5"
      },
      "outputs": [
        {
          "output_type": "stream",
          "name": "stderr",
          "text": [
            "/usr/local/lib/python3.10/dist-packages/sklearn/cluster/_kmeans.py:870: FutureWarning:\n",
            "\n",
            "The default value of `n_init` will change from 10 to 'auto' in 1.4. Set the value of `n_init` explicitly to suppress the warning\n",
            "\n"
          ]
        },
        {
          "output_type": "execute_result",
          "data": {
            "text/plain": [
              "   cluster     coins\n",
              "0        1       BNB\n",
              "1        1   Bitcoin\n",
              "2        0   Cardano\n",
              "3        2  Dogecoin\n",
              "4        1  Ethereum\n",
              "5        4   Polygon\n",
              "6        3    Tether\n",
              "7        0       XRP"
            ],
            "text/html": [
              "\n",
              "  <div id=\"df-e09509f6-0a9e-41db-b695-97836010afd5\">\n",
              "    <div class=\"colab-df-container\">\n",
              "      <div>\n",
              "<style scoped>\n",
              "    .dataframe tbody tr th:only-of-type {\n",
              "        vertical-align: middle;\n",
              "    }\n",
              "\n",
              "    .dataframe tbody tr th {\n",
              "        vertical-align: top;\n",
              "    }\n",
              "\n",
              "    .dataframe thead th {\n",
              "        text-align: right;\n",
              "    }\n",
              "</style>\n",
              "<table border=\"1\" class=\"dataframe\">\n",
              "  <thead>\n",
              "    <tr style=\"text-align: right;\">\n",
              "      <th></th>\n",
              "      <th>cluster</th>\n",
              "      <th>coins</th>\n",
              "    </tr>\n",
              "  </thead>\n",
              "  <tbody>\n",
              "    <tr>\n",
              "      <th>0</th>\n",
              "      <td>1</td>\n",
              "      <td>BNB</td>\n",
              "    </tr>\n",
              "    <tr>\n",
              "      <th>1</th>\n",
              "      <td>1</td>\n",
              "      <td>Bitcoin</td>\n",
              "    </tr>\n",
              "    <tr>\n",
              "      <th>2</th>\n",
              "      <td>0</td>\n",
              "      <td>Cardano</td>\n",
              "    </tr>\n",
              "    <tr>\n",
              "      <th>3</th>\n",
              "      <td>2</td>\n",
              "      <td>Dogecoin</td>\n",
              "    </tr>\n",
              "    <tr>\n",
              "      <th>4</th>\n",
              "      <td>1</td>\n",
              "      <td>Ethereum</td>\n",
              "    </tr>\n",
              "    <tr>\n",
              "      <th>5</th>\n",
              "      <td>4</td>\n",
              "      <td>Polygon</td>\n",
              "    </tr>\n",
              "    <tr>\n",
              "      <th>6</th>\n",
              "      <td>3</td>\n",
              "      <td>Tether</td>\n",
              "    </tr>\n",
              "    <tr>\n",
              "      <th>7</th>\n",
              "      <td>0</td>\n",
              "      <td>XRP</td>\n",
              "    </tr>\n",
              "  </tbody>\n",
              "</table>\n",
              "</div>\n",
              "      <button class=\"colab-df-convert\" onclick=\"convertToInteractive('df-e09509f6-0a9e-41db-b695-97836010afd5')\"\n",
              "              title=\"Convert this dataframe to an interactive table.\"\n",
              "              style=\"display:none;\">\n",
              "        \n",
              "  <svg xmlns=\"http://www.w3.org/2000/svg\" height=\"24px\"viewBox=\"0 0 24 24\"\n",
              "       width=\"24px\">\n",
              "    <path d=\"M0 0h24v24H0V0z\" fill=\"none\"/>\n",
              "    <path d=\"M18.56 5.44l.94 2.06.94-2.06 2.06-.94-2.06-.94-.94-2.06-.94 2.06-2.06.94zm-11 1L8.5 8.5l.94-2.06 2.06-.94-2.06-.94L8.5 2.5l-.94 2.06-2.06.94zm10 10l.94 2.06.94-2.06 2.06-.94-2.06-.94-.94-2.06-.94 2.06-2.06.94z\"/><path d=\"M17.41 7.96l-1.37-1.37c-.4-.4-.92-.59-1.43-.59-.52 0-1.04.2-1.43.59L10.3 9.45l-7.72 7.72c-.78.78-.78 2.05 0 2.83L4 21.41c.39.39.9.59 1.41.59.51 0 1.02-.2 1.41-.59l7.78-7.78 2.81-2.81c.8-.78.8-2.07 0-2.86zM5.41 20L4 18.59l7.72-7.72 1.47 1.35L5.41 20z\"/>\n",
              "  </svg>\n",
              "      </button>\n",
              "      \n",
              "  <style>\n",
              "    .colab-df-container {\n",
              "      display:flex;\n",
              "      flex-wrap:wrap;\n",
              "      gap: 12px;\n",
              "    }\n",
              "\n",
              "    .colab-df-convert {\n",
              "      background-color: #E8F0FE;\n",
              "      border: none;\n",
              "      border-radius: 50%;\n",
              "      cursor: pointer;\n",
              "      display: none;\n",
              "      fill: #1967D2;\n",
              "      height: 32px;\n",
              "      padding: 0 0 0 0;\n",
              "      width: 32px;\n",
              "    }\n",
              "\n",
              "    .colab-df-convert:hover {\n",
              "      background-color: #E2EBFA;\n",
              "      box-shadow: 0px 1px 2px rgba(60, 64, 67, 0.3), 0px 1px 3px 1px rgba(60, 64, 67, 0.15);\n",
              "      fill: #174EA6;\n",
              "    }\n",
              "\n",
              "    [theme=dark] .colab-df-convert {\n",
              "      background-color: #3B4455;\n",
              "      fill: #D2E3FC;\n",
              "    }\n",
              "\n",
              "    [theme=dark] .colab-df-convert:hover {\n",
              "      background-color: #434B5C;\n",
              "      box-shadow: 0px 1px 3px 1px rgba(0, 0, 0, 0.15);\n",
              "      filter: drop-shadow(0px 1px 2px rgba(0, 0, 0, 0.3));\n",
              "      fill: #FFFFFF;\n",
              "    }\n",
              "  </style>\n",
              "\n",
              "      <script>\n",
              "        const buttonEl =\n",
              "          document.querySelector('#df-e09509f6-0a9e-41db-b695-97836010afd5 button.colab-df-convert');\n",
              "        buttonEl.style.display =\n",
              "          google.colab.kernel.accessAllowed ? 'block' : 'none';\n",
              "\n",
              "        async function convertToInteractive(key) {\n",
              "          const element = document.querySelector('#df-e09509f6-0a9e-41db-b695-97836010afd5');\n",
              "          const dataTable =\n",
              "            await google.colab.kernel.invokeFunction('convertToInteractive',\n",
              "                                                     [key], {});\n",
              "          if (!dataTable) return;\n",
              "\n",
              "          const docLinkHtml = 'Like what you see? Visit the ' +\n",
              "            '<a target=\"_blank\" href=https://colab.research.google.com/notebooks/data_table.ipynb>data table notebook</a>'\n",
              "            + ' to learn more about interactive tables.';\n",
              "          element.innerHTML = '';\n",
              "          dataTable['output_type'] = 'display_data';\n",
              "          await google.colab.output.renderOutput(dataTable, element);\n",
              "          const docLink = document.createElement('div');\n",
              "          docLink.innerHTML = docLinkHtml;\n",
              "          element.appendChild(docLink);\n",
              "        }\n",
              "      </script>\n",
              "    </div>\n",
              "  </div>\n",
              "  "
            ]
          },
          "metadata": {},
          "execution_count": 147
        }
      ],
      "source": [
        "# Import the necessary packages\n",
        "from sklearn.cluster import AgglomerativeClustering\n",
        "\n",
        "# Define a normalizer\n",
        "normalizer = Normalizer()\n",
        "\n",
        "# Create Hierarchical Clustering model\n",
        "agg_clustering = AgglomerativeClustering(n_clusters=5, affinity='euclidean', linkage='ward')\n",
        "\n",
        "# Make a pipeline chaining normalizer and kmeans\n",
        "pipeline = make_pipeline(normalizer,kmeans)\n",
        "\n",
        "\n",
        "pipeline.fit(norm_movements)\n",
        "h_predictions = pipeline.predict(norm_movements)\n",
        "h_predictions\n",
        "\n",
        "df_h = pd.DataFrame({'cluster':h_predictions, 'coins':df.keys()})\n",
        "df_h"
      ]
    },
    {
      "cell_type": "markdown",
      "metadata": {
        "id": "gJNP0DUjIY67"
      },
      "source": [
        "#Backtesting"
      ]
    },
    {
      "cell_type": "code",
      "execution_count": 148,
      "metadata": {
        "colab": {
          "base_uri": "https://localhost:8080/"
        },
        "id": "fyasnsm8AKKi",
        "outputId": "c9e7762a-506f-4a08-e136-509fd7a64750"
      },
      "outputs": [
        {
          "output_type": "execute_result",
          "data": {
            "text/plain": [
              "{0: ['Polygon'],\n",
              " 1: ['BNB', 'Bitcoin', 'Ethereum'],\n",
              " 2: ['Tether'],\n",
              " 3: ['Dogecoin'],\n",
              " 4: ['Cardano', 'XRP']}"
            ]
          },
          "metadata": {},
          "execution_count": 148
        }
      ],
      "source": [
        "basket = {cluster: list(df_k.loc[df_k['cluster'] == cluster, 'coins']) for cluster in set(df_k['cluster'])}\n",
        "basket"
      ]
    },
    {
      "cell_type": "code",
      "execution_count": 149,
      "metadata": {
        "colab": {
          "base_uri": "https://localhost:8080/"
        },
        "id": "PiFKxy0f6g65",
        "outputId": "12839b6e-5bce-46dd-8043-5e83fc3877f6"
      },
      "outputs": [
        {
          "output_type": "stream",
          "name": "stdout",
          "text": [
            "['Polygon', 'BNB', 'Tether', 'Dogecoin', 'Cardano']\n",
            "date: 2020-07-22 00:00:00, signal: buy, coin: Dogecoin, open: 0.0033, total_unit: {'Polygon': 0, 'BNB': 0, 'Tether': 0, 'Dogecoin': 60606.06060606061, 'Cardano': 0}, invested_amount: 200.0, remaining_amount: 800.0\n",
            "date: 2020-07-27 00:00:00, signal: buy, coin: Polygon, open: 0.021, total_unit: {'Polygon': 9523.809523809523, 'BNB': 0, 'Tether': 0, 'Dogecoin': 60606.06060606061, 'Cardano': 0}, invested_amount: 200.0, remaining_amount: 600.0\n",
            "date: 2020-07-28 00:00:00, signal: buy, coin: Polygon, open: 0.021, total_unit: {'Polygon': 19047.619047619046, 'BNB': 0, 'Tether': 0, 'Dogecoin': 60606.06060606061, 'Cardano': 0}, invested_amount: 200.0, remaining_amount: 400.0\n",
            "date: 2020-07-29 00:00:00, signal: buy, coin: Polygon, open: 0.02, total_unit: {'Polygon': 29047.619047619046, 'BNB': 0, 'Tether': 0, 'Dogecoin': 60606.06060606061, 'Cardano': 0}, invested_amount: 200.0, remaining_amount: 200.0\n",
            "date: 2020-11-21 00:00:00, signal: sell, coin: Polygon, close: 0.02, total_unit: {'Polygon': 0, 'BNB': 0, 'Tether': 0, 'Dogecoin': 60606.06060606061, 'Cardano': 0}, profit: 580.952380952381, remaining_amount: 780.952380952381\n",
            "date: 2020-12-08 00:00:00, signal: buy, coin: BNB, open: 29.36, total_unit: {'Polygon': 0, 'BNB': 6.8119891008174385, 'Tether': 0, 'Dogecoin': 60606.06060606061, 'Cardano': 0}, invested_amount: 200.0, remaining_amount: 580.952380952381\n",
            "date: 2020-12-08 00:00:00, signal: buy, coin: Dogecoin, open: 0.003333, total_unit: {'Polygon': 0, 'BNB': 6.8119891008174385, 'Tether': 0, 'Dogecoin': 120612.06120612062, 'Cardano': 0}, invested_amount: 200.0, remaining_amount: 380.95238095238096\n",
            "date: 2021-02-21 00:00:00, signal: buy, coin: Dogecoin, open: 0.054196, total_unit: {'Polygon': 0, 'BNB': 6.8119891008174385, 'Tether': 0, 'Dogecoin': 124302.3704540356, 'Cardano': 0}, invested_amount: 200.0, remaining_amount: 180.95238095238096\n",
            "date: 2021-10-05 00:00:00, signal: sell, coin: Dogecoin, close: 0.251915, total_unit: {'Polygon': 0, 'BNB': 6.8119891008174385, 'Tether': 0, 'Dogecoin': 0, 'Cardano': 0}, profit: 31313.631652928376, remaining_amount: 31494.584033880757\n",
            "date: 2021-10-27 00:00:00, signal: buy, coin: Cardano, open: 2.1369, total_unit: {'Polygon': 0, 'BNB': 6.8119891008174385, 'Tether': 0, 'Dogecoin': 0, 'Cardano': 93.5935233281857}, invested_amount: 200.0, remaining_amount: 31294.584033880757\n",
            "date: 2021-11-11 00:00:00, signal: buy, coin: Polygon, open: 1.699, total_unit: {'Polygon': 117.71630370806356, 'BNB': 6.8119891008174385, 'Tether': 0, 'Dogecoin': 0, 'Cardano': 93.5935233281857}, invested_amount: 200.0, remaining_amount: 31094.584033880757\n",
            "date: 2021-11-16 00:00:00, signal: buy, coin: Polygon, open: 1.692, total_unit: {'Polygon': 235.91961340073496, 'BNB': 6.8119891008174385, 'Tether': 0, 'Dogecoin': 0, 'Cardano': 93.5935233281857}, invested_amount: 200.0, remaining_amount: 30894.584033880757\n",
            "date: 2021-11-17 00:00:00, signal: buy, coin: Polygon, open: 1.561, total_unit: {'Polygon': 364.04261147888997, 'BNB': 6.8119891008174385, 'Tether': 0, 'Dogecoin': 0, 'Cardano': 93.5935233281857}, invested_amount: 200.0, remaining_amount: 30694.584033880757\n",
            "date: 2021-11-18 00:00:00, signal: buy, coin: Polygon, open: 1.637, total_unit: {'Polygon': 486.21732131395413, 'BNB': 6.8119891008174385, 'Tether': 0, 'Dogecoin': 0, 'Cardano': 93.5935233281857}, invested_amount: 200.0, remaining_amount: 30494.584033880757\n",
            "date: 2021-12-27 00:00:00, signal: sell, coin: Cardano, close: 1.5139, total_unit: {'Polygon': 486.21732131395413, 'BNB': 6.8119891008174385, 'Tether': 0, 'Dogecoin': 0, 'Cardano': 0}, profit: 141.69123496654032, remaining_amount: 30636.275268847297\n",
            "date: 2022-01-06 00:00:00, signal: buy, coin: BNB, open: 473.61, total_unit: {'Polygon': 486.21732131395413, 'BNB': 7.234277481552643, 'Tether': 0, 'Dogecoin': 0, 'Cardano': 0}, invested_amount: 200.0, remaining_amount: 30436.275268847297\n",
            "date: 2022-01-08 00:00:00, signal: buy, coin: Polygon, open: 2.048, total_unit: {'Polygon': 583.8735713139541, 'BNB': 7.234277481552643, 'Tether': 0, 'Dogecoin': 0, 'Cardano': 0}, invested_amount: 200.0, remaining_amount: 30236.275268847297\n",
            "date: 2022-01-09 00:00:00, signal: buy, coin: Polygon, open: 1.985, total_unit: {'Polygon': 684.6292388202513, 'BNB': 7.234277481552643, 'Tether': 0, 'Dogecoin': 0, 'Cardano': 0}, invested_amount: 200.0, remaining_amount: 30036.275268847297\n",
            "date: 2022-01-10 00:00:00, signal: buy, coin: Polygon, open: 2.114, total_unit: {'Polygon': 779.2366181958427, 'BNB': 7.234277481552643, 'Tether': 0, 'Dogecoin': 0, 'Cardano': 0}, invested_amount: 200.0, remaining_amount: 29836.275268847297\n",
            "date: 2022-01-28 00:00:00, signal: buy, coin: Polygon, open: 1.589, total_unit: {'Polygon': 905.1019422990522, 'BNB': 7.234277481552643, 'Tether': 0, 'Dogecoin': 0, 'Cardano': 0}, invested_amount: 200.0, remaining_amount: 29636.275268847297\n",
            "date: 2022-01-29 00:00:00, signal: buy, coin: Polygon, open: 1.673, total_unit: {'Polygon': 1024.647668539339, 'BNB': 7.234277481552643, 'Tether': 0, 'Dogecoin': 0, 'Cardano': 0}, invested_amount: 200.0, remaining_amount: 29436.275268847297\n",
            "date: 2022-01-31 00:00:00, signal: buy, coin: Polygon, open: 1.605, total_unit: {'Polygon': 1149.2582604396507, 'BNB': 7.234277481552643, 'Tether': 0, 'Dogecoin': 0, 'Cardano': 0}, invested_amount: 200.0, remaining_amount: 29236.275268847297\n",
            "date: 2022-02-01 00:00:00, signal: buy, coin: Polygon, open: 1.642, total_unit: {'Polygon': 1271.0609400986032, 'BNB': 7.234277481552643, 'Tether': 0, 'Dogecoin': 0, 'Cardano': 0}, invested_amount: 200.0, remaining_amount: 29036.275268847297\n",
            "date: 2022-02-07 00:00:00, signal: sell, coin: BNB, close: 433.29, total_unit: {'Polygon': 1271.0609400986032, 'BNB': 0, 'Tether': 0, 'Dogecoin': 0, 'Cardano': 0}, profit: 3134.5400899819447, remaining_amount: 32170.81535882924\n",
            "date: 2022-03-27 00:00:00, signal: sell, coin: Polygon, close: 1.695, total_unit: {'Polygon': 0, 'BNB': 0, 'Tether': 0, 'Dogecoin': 0, 'Cardano': 0}, profit: 2154.4482934671323, remaining_amount: 34325.26365229637\n",
            "date: 2022-08-25 00:00:00, signal: buy, coin: Tether, open: 0.9999, total_unit: {'Polygon': 0, 'BNB': 0, 'Tether': 200.0200020002, 'Dogecoin': 0, 'Cardano': 0}, invested_amount: 200.0, remaining_amount: 34125.26365229637\n",
            "date: 2022-11-15 00:00:00, signal: buy, coin: Dogecoin, open: 0.085879, total_unit: {'Polygon': 0, 'BNB': 0, 'Tether': 200.0200020002, 'Dogecoin': 2328.8580444579, 'Cardano': 0}, invested_amount: 200.0, remaining_amount: 33925.26365229637\n",
            "date: 2022-11-16 00:00:00, signal: buy, coin: Dogecoin, open: 0.08703, total_unit: {'Polygon': 0, 'BNB': 0, 'Tether': 200.0200020002, 'Dogecoin': 4626.916185328864, 'Cardano': 0}, invested_amount: 200.0, remaining_amount: 33725.26365229637\n",
            "date: 2022-11-17 00:00:00, signal: buy, coin: Dogecoin, open: 0.084884, total_unit: {'Polygon': 0, 'BNB': 0, 'Tether': 200.0200020002, 'Dogecoin': 6983.072822622111, 'Cardano': 0}, invested_amount: 200.0, remaining_amount: 33525.26365229637\n",
            "date: 2022-11-18 00:00:00, signal: buy, coin: Dogecoin, open: 0.085026, total_unit: {'Polygon': 0, 'BNB': 0, 'Tether': 200.0200020002, 'Dogecoin': 9335.29449599261, 'Cardano': 0}, invested_amount: 200.0, remaining_amount: 33325.26365229637\n",
            "date: 2022-11-19 00:00:00, signal: buy, coin: Dogecoin, open: 0.084121, total_unit: {'Polygon': 0, 'BNB': 0, 'Tether': 200.0200020002, 'Dogecoin': 11712.82210503197, 'Cardano': 0}, invested_amount: 200.0, remaining_amount: 33125.26365229637\n",
            "date: 2022-11-20 00:00:00, signal: buy, coin: Dogecoin, open: 0.084521, total_unit: {'Polygon': 0, 'BNB': 0, 'Tether': 200.0200020002, 'Dogecoin': 14079.097941806263, 'Cardano': 0}, invested_amount: 200.0, remaining_amount: 32925.26365229637\n",
            "date: 2022-11-21 00:00:00, signal: buy, coin: Dogecoin, open: 0.077082, total_unit: {'Polygon': 0, 'BNB': 0, 'Tether': 200.0200020002, 'Dogecoin': 16673.737416651235, 'Cardano': 0}, invested_amount: 200.0, remaining_amount: 32725.263652296373\n",
            "date: 2022-11-24 00:00:00, signal: buy, coin: Polygon, open: 0.862, total_unit: {'Polygon': 232.0185614849188, 'BNB': 0, 'Tether': 200.0200020002, 'Dogecoin': 16673.737416651235, 'Cardano': 0}, invested_amount: 200.0, remaining_amount: 32525.263652296373\n",
            "date: 2022-11-24 00:00:00, signal: sell, coin: Tether, close: 0.9992, total_unit: {'Polygon': 232.0185614849188, 'BNB': 0, 'Tether': 0, 'Dogecoin': 16673.737416651235, 'Cardano': 0}, profit: 199.85998599859985, remaining_amount: 32725.123638294972\n",
            "date: 2022-11-25 00:00:00, signal: buy, coin: Polygon, open: 0.849, total_unit: {'Polygon': 467.5898217911614, 'BNB': 0, 'Tether': 0, 'Dogecoin': 16673.737416651235, 'Cardano': 0}, invested_amount: 200.0, remaining_amount: 32525.123638294972\n",
            "date: 2022-12-14 00:00:00, signal: buy, coin: Dogecoin, open: 0.091038, total_unit: {'Polygon': 467.5898217911614, 'BNB': 0, 'Tether': 0, 'Dogecoin': 18870.622233980263, 'Cardano': 0}, invested_amount: 200.0, remaining_amount: 32325.123638294972\n",
            "date: 2022-12-15 00:00:00, signal: buy, coin: Dogecoin, open: 0.08822, total_unit: {'Polygon': 467.5898217911614, 'BNB': 0, 'Tether': 0, 'Dogecoin': 21137.681857648364, 'Cardano': 0}, invested_amount: 200.0, remaining_amount: 32125.123638294972\n",
            "date: 2022-12-16 00:00:00, signal: buy, coin: Polygon, open: 0.878, total_unit: {'Polygon': 695.3802545929838, 'BNB': 0, 'Tether': 0, 'Dogecoin': 21137.681857648364, 'Cardano': 0}, invested_amount: 200.0, remaining_amount: 31925.123638294972\n",
            "date: 2022-12-16 00:00:00, signal: buy, coin: Dogecoin, open: 0.08479, total_unit: {'Polygon': 695.3802545929838, 'BNB': 0, 'Tether': 0, 'Dogecoin': 23496.4505803751, 'Cardano': 0}, invested_amount: 200.0, remaining_amount: 31725.123638294972\n",
            "date: 2022-12-17 00:00:00, signal: buy, coin: Dogecoin, open: 0.075821, total_unit: {'Polygon': 695.3802545929838, 'BNB': 0, 'Tether': 0, 'Dogecoin': 26134.242221213393, 'Cardano': 0}, invested_amount: 200.0, remaining_amount: 31525.123638294972\n",
            "date: 2022-12-18 00:00:00, signal: buy, coin: Dogecoin, open: 0.079212, total_unit: {'Polygon': 695.3802545929838, 'BNB': 0, 'Tether': 0, 'Dogecoin': 28659.11219040998, 'Cardano': 0}, invested_amount: 200.0, remaining_amount: 31325.123638294972\n",
            "date: 2022-12-20 00:00:00, signal: buy, coin: Dogecoin, open: 0.071364, total_unit: {'Polygon': 695.3802545929838, 'BNB': 0, 'Tether': 0, 'Dogecoin': 31461.645680685186, 'Cardano': 0}, invested_amount: 200.0, remaining_amount: 31125.123638294972\n",
            "date: 2022-12-21 00:00:00, signal: buy, coin: Dogecoin, open: 0.074852, total_unit: {'Polygon': 695.3802545929838, 'BNB': 0, 'Tether': 0, 'Dogecoin': 34133.58497422444, 'Cardano': 0}, invested_amount: 200.0, remaining_amount: 30925.123638294972\n",
            "date: 2022-12-22 00:00:00, signal: buy, coin: Dogecoin, open: 0.07372, total_unit: {'Polygon': 695.3802545929838, 'BNB': 0, 'Tether': 0, 'Dogecoin': 36846.55296120219, 'Cardano': 0}, invested_amount: 200.0, remaining_amount: 30725.123638294972\n",
            "date: 2022-12-23 00:00:00, signal: buy, coin: Dogecoin, open: 0.076864, total_unit: {'Polygon': 695.3802545929838, 'BNB': 0, 'Tether': 0, 'Dogecoin': 39448.55129592326, 'Cardano': 0}, invested_amount: 200.0, remaining_amount: 30525.123638294972\n",
            "date: 2022-12-24 00:00:00, signal: buy, coin: Dogecoin, open: 0.077206, total_unit: {'Polygon': 695.3802545929838, 'BNB': 0, 'Tether': 0, 'Dogecoin': 42039.02353901317, 'Cardano': 0}, invested_amount: 200.0, remaining_amount: 30325.123638294972\n",
            "date: 2022-12-25 00:00:00, signal: buy, coin: Dogecoin, open: 0.077525, total_unit: {'Polygon': 695.3802545929838, 'BNB': 0, 'Tether': 0, 'Dogecoin': 44618.836502573315, 'Cardano': 0}, invested_amount: 200.0, remaining_amount: 30125.123638294972\n",
            "date: 2022-12-27 00:00:00, signal: buy, coin: Polygon, open: 0.815, total_unit: {'Polygon': 940.7790275991188, 'BNB': 0, 'Tether': 0, 'Dogecoin': 44618.836502573315, 'Cardano': 0}, invested_amount: 200.0, remaining_amount: 29925.123638294972\n",
            "date: 2022-12-27 00:00:00, signal: buy, coin: Dogecoin, open: 0.075672, total_unit: {'Polygon': 940.7790275991188, 'BNB': 0, 'Tether': 0, 'Dogecoin': 47261.82201901268, 'Cardano': 0}, invested_amount: 200.0, remaining_amount: 29725.123638294972\n"
          ]
        },
        {
          "output_type": "execute_result",
          "data": {
            "text/plain": [
              "29725"
            ]
          },
          "metadata": {},
          "execution_count": 149
        }
      ],
      "source": [
        "import random\n",
        "\n",
        "def backtest(trade_in):\n",
        "    print(trade_in)\n",
        "    \n",
        "    coins = trade_in\n",
        "    amount = 1000\n",
        "    position_size = amount / 5\n",
        "    unit = {}\n",
        "    \n",
        "    for coin in coins:\n",
        "      unit[coin] = 0\n",
        "    \n",
        "    for date in signal.index:\n",
        "      sig = {}\n",
        "      open = {}\n",
        "      close = {}\n",
        "      for coin in coins:\n",
        "        sig[coin] = signal[coin][date]\n",
        "        open[coin] = merged_df['Open'][coin].loc[date]\n",
        "        close[coin] = merged_df['Price'][coin].loc[date]\n",
        "        \n",
        "        if sig[coin] == 'buy' and amount-position_size > 0:\n",
        "          bought = position_size/open[coin]\n",
        "          unit[coin] += position_size/open[coin]\n",
        "          amount -= position_size\n",
        "          print(f'date: {date}, signal: {sig[coin]}, coin: {coin}, open: {open[coin]}, total_unit: {unit}, invested_amount: {position_size}, remaining_amount: {amount}')\n",
        "        \n",
        "        if sig[coin] == 'sell' and unit[coin] > 0:\n",
        "          sold = unit[coin] * close[coin]\n",
        "          amount += unit[coin] * close[coin]\n",
        "          unit[coin] = 0\n",
        "          print(f'date: {date}, signal: {sig[coin]}, coin: {coin}, close: {close[coin]}, total_unit: {unit}, profit: {sold}, remaining_amount: {amount}')\n",
        "\n",
        "    for coin in unit.keys():\n",
        "      if unit[coin] != 0:\n",
        "        unit[coin]\n",
        "    \n",
        "    return int(amount)\n",
        "\n",
        "trading_in = [random.choice(basket[key]) for key in basket]\n",
        "# trading_in = ['Ethereum']\n",
        "backtest(trading_in)"
      ]
    },
    {
      "cell_type": "markdown",
      "metadata": {
        "id": "Q8mI2Vb2ipOP"
      },
      "source": [
        "#Validation"
      ]
    },
    {
      "cell_type": "markdown",
      "metadata": {
        "id": "Vg6KkZdOiu_U"
      },
      "source": [
        "##Association"
      ]
    },
    {
      "cell_type": "code",
      "execution_count": null,
      "metadata": {
        "colab": {
          "base_uri": "https://localhost:8080/"
        },
        "id": "_rp0TVJ6jT_u",
        "outputId": "3730f0a4-684a-44e3-cbbe-df1c07dea0cc"
      },
      "outputs": [
        {
          "output_type": "stream",
          "name": "stdout",
          "text": [
            "Looking in indexes: https://pypi.org/simple, https://us-python.pkg.dev/colab-wheels/public/simple/\n",
            "Collecting efficient-apriori\n",
            "  Downloading efficient_apriori-2.0.3-py3-none-any.whl (14 kB)\n",
            "Installing collected packages: efficient-apriori\n",
            "Successfully installed efficient-apriori-2.0.3\n"
          ]
        }
      ],
      "source": [
        "!pip install efficient-apriori"
      ]
    },
    {
      "cell_type": "code",
      "execution_count": null,
      "metadata": {
        "colab": {
          "base_uri": "https://localhost:8080/"
        },
        "id": "Tt4Ng7mojn2I",
        "outputId": "0a182eef-6435-4b2e-b980-f3ea7ab52510"
      },
      "outputs": [
        {
          "output_type": "execute_result",
          "data": {
            "text/plain": [
              "            Ethereum  Tether   BNB   XRP  Cardano  Dogecoin  Polygon  Bitcoin\n",
              "Date                                                                         \n",
              "2020-01-01      1.19    0.73 -0.25  0.07     1.94      1.24     8.45     0.05\n",
              "2020-01-02     -2.72   -0.68 -4.85 -2.89    -2.33     -1.98     0.00    -3.23\n",
              "2020-01-03      5.56   -0.14  4.72  3.06     4.32      2.14     0.00     5.40\n",
              "2020-01-04      0.04    0.11  1.49 -0.05     0.79     12.99     0.00     0.46\n",
              "2020-01-05      0.94   -0.18  1.58  0.74     0.73     -9.86     0.00    -0.06"
            ],
            "text/html": [
              "\n",
              "  <div id=\"df-541222fe-25bf-43b4-82ae-f8d049434e6a\">\n",
              "    <div class=\"colab-df-container\">\n",
              "      <div>\n",
              "<style scoped>\n",
              "    .dataframe tbody tr th:only-of-type {\n",
              "        vertical-align: middle;\n",
              "    }\n",
              "\n",
              "    .dataframe tbody tr th {\n",
              "        vertical-align: top;\n",
              "    }\n",
              "\n",
              "    .dataframe thead th {\n",
              "        text-align: right;\n",
              "    }\n",
              "</style>\n",
              "<table border=\"1\" class=\"dataframe\">\n",
              "  <thead>\n",
              "    <tr style=\"text-align: right;\">\n",
              "      <th></th>\n",
              "      <th>Ethereum</th>\n",
              "      <th>Tether</th>\n",
              "      <th>BNB</th>\n",
              "      <th>XRP</th>\n",
              "      <th>Cardano</th>\n",
              "      <th>Dogecoin</th>\n",
              "      <th>Polygon</th>\n",
              "      <th>Bitcoin</th>\n",
              "    </tr>\n",
              "    <tr>\n",
              "      <th>Date</th>\n",
              "      <th></th>\n",
              "      <th></th>\n",
              "      <th></th>\n",
              "      <th></th>\n",
              "      <th></th>\n",
              "      <th></th>\n",
              "      <th></th>\n",
              "      <th></th>\n",
              "    </tr>\n",
              "  </thead>\n",
              "  <tbody>\n",
              "    <tr>\n",
              "      <th>2020-01-01</th>\n",
              "      <td>1.19</td>\n",
              "      <td>0.73</td>\n",
              "      <td>-0.25</td>\n",
              "      <td>0.07</td>\n",
              "      <td>1.94</td>\n",
              "      <td>1.24</td>\n",
              "      <td>8.45</td>\n",
              "      <td>0.05</td>\n",
              "    </tr>\n",
              "    <tr>\n",
              "      <th>2020-01-02</th>\n",
              "      <td>-2.72</td>\n",
              "      <td>-0.68</td>\n",
              "      <td>-4.85</td>\n",
              "      <td>-2.89</td>\n",
              "      <td>-2.33</td>\n",
              "      <td>-1.98</td>\n",
              "      <td>0.00</td>\n",
              "      <td>-3.23</td>\n",
              "    </tr>\n",
              "    <tr>\n",
              "      <th>2020-01-03</th>\n",
              "      <td>5.56</td>\n",
              "      <td>-0.14</td>\n",
              "      <td>4.72</td>\n",
              "      <td>3.06</td>\n",
              "      <td>4.32</td>\n",
              "      <td>2.14</td>\n",
              "      <td>0.00</td>\n",
              "      <td>5.40</td>\n",
              "    </tr>\n",
              "    <tr>\n",
              "      <th>2020-01-04</th>\n",
              "      <td>0.04</td>\n",
              "      <td>0.11</td>\n",
              "      <td>1.49</td>\n",
              "      <td>-0.05</td>\n",
              "      <td>0.79</td>\n",
              "      <td>12.99</td>\n",
              "      <td>0.00</td>\n",
              "      <td>0.46</td>\n",
              "    </tr>\n",
              "    <tr>\n",
              "      <th>2020-01-05</th>\n",
              "      <td>0.94</td>\n",
              "      <td>-0.18</td>\n",
              "      <td>1.58</td>\n",
              "      <td>0.74</td>\n",
              "      <td>0.73</td>\n",
              "      <td>-9.86</td>\n",
              "      <td>0.00</td>\n",
              "      <td>-0.06</td>\n",
              "    </tr>\n",
              "  </tbody>\n",
              "</table>\n",
              "</div>\n",
              "      <button class=\"colab-df-convert\" onclick=\"convertToInteractive('df-541222fe-25bf-43b4-82ae-f8d049434e6a')\"\n",
              "              title=\"Convert this dataframe to an interactive table.\"\n",
              "              style=\"display:none;\">\n",
              "        \n",
              "  <svg xmlns=\"http://www.w3.org/2000/svg\" height=\"24px\"viewBox=\"0 0 24 24\"\n",
              "       width=\"24px\">\n",
              "    <path d=\"M0 0h24v24H0V0z\" fill=\"none\"/>\n",
              "    <path d=\"M18.56 5.44l.94 2.06.94-2.06 2.06-.94-2.06-.94-.94-2.06-.94 2.06-2.06.94zm-11 1L8.5 8.5l.94-2.06 2.06-.94-2.06-.94L8.5 2.5l-.94 2.06-2.06.94zm10 10l.94 2.06.94-2.06 2.06-.94-2.06-.94-.94-2.06-.94 2.06-2.06.94z\"/><path d=\"M17.41 7.96l-1.37-1.37c-.4-.4-.92-.59-1.43-.59-.52 0-1.04.2-1.43.59L10.3 9.45l-7.72 7.72c-.78.78-.78 2.05 0 2.83L4 21.41c.39.39.9.59 1.41.59.51 0 1.02-.2 1.41-.59l7.78-7.78 2.81-2.81c.8-.78.8-2.07 0-2.86zM5.41 20L4 18.59l7.72-7.72 1.47 1.35L5.41 20z\"/>\n",
              "  </svg>\n",
              "      </button>\n",
              "      \n",
              "  <style>\n",
              "    .colab-df-container {\n",
              "      display:flex;\n",
              "      flex-wrap:wrap;\n",
              "      gap: 12px;\n",
              "    }\n",
              "\n",
              "    .colab-df-convert {\n",
              "      background-color: #E8F0FE;\n",
              "      border: none;\n",
              "      border-radius: 50%;\n",
              "      cursor: pointer;\n",
              "      display: none;\n",
              "      fill: #1967D2;\n",
              "      height: 32px;\n",
              "      padding: 0 0 0 0;\n",
              "      width: 32px;\n",
              "    }\n",
              "\n",
              "    .colab-df-convert:hover {\n",
              "      background-color: #E2EBFA;\n",
              "      box-shadow: 0px 1px 2px rgba(60, 64, 67, 0.3), 0px 1px 3px 1px rgba(60, 64, 67, 0.15);\n",
              "      fill: #174EA6;\n",
              "    }\n",
              "\n",
              "    [theme=dark] .colab-df-convert {\n",
              "      background-color: #3B4455;\n",
              "      fill: #D2E3FC;\n",
              "    }\n",
              "\n",
              "    [theme=dark] .colab-df-convert:hover {\n",
              "      background-color: #434B5C;\n",
              "      box-shadow: 0px 1px 3px 1px rgba(0, 0, 0, 0.15);\n",
              "      filter: drop-shadow(0px 1px 2px rgba(0, 0, 0, 0.3));\n",
              "      fill: #FFFFFF;\n",
              "    }\n",
              "  </style>\n",
              "\n",
              "      <script>\n",
              "        const buttonEl =\n",
              "          document.querySelector('#df-541222fe-25bf-43b4-82ae-f8d049434e6a button.colab-df-convert');\n",
              "        buttonEl.style.display =\n",
              "          google.colab.kernel.accessAllowed ? 'block' : 'none';\n",
              "\n",
              "        async function convertToInteractive(key) {\n",
              "          const element = document.querySelector('#df-541222fe-25bf-43b4-82ae-f8d049434e6a');\n",
              "          const dataTable =\n",
              "            await google.colab.kernel.invokeFunction('convertToInteractive',\n",
              "                                                     [key], {});\n",
              "          if (!dataTable) return;\n",
              "\n",
              "          const docLinkHtml = 'Like what you see? Visit the ' +\n",
              "            '<a target=\"_blank\" href=https://colab.research.google.com/notebooks/data_table.ipynb>data table notebook</a>'\n",
              "            + ' to learn more about interactive tables.';\n",
              "          element.innerHTML = '';\n",
              "          dataTable['output_type'] = 'display_data';\n",
              "          await google.colab.output.renderOutput(dataTable, element);\n",
              "          const docLink = document.createElement('div');\n",
              "          docLink.innerHTML = docLinkHtml;\n",
              "          element.appendChild(docLink);\n",
              "        }\n",
              "      </script>\n",
              "    </div>\n",
              "  </div>\n",
              "  "
            ]
          },
          "metadata": {},
          "execution_count": 98
        }
      ],
      "source": [
        "df_change.head()"
      ]
    },
    {
      "cell_type": "code",
      "execution_count": null,
      "metadata": {
        "id": "tFZeZ8BsiwNC"
      },
      "outputs": [],
      "source": [
        "records = []\n",
        "for i in df_change.index:\n",
        "  transaction = []\n",
        "\n",
        "  for coin in df_change.columns:\n",
        "    if df_change.loc[i, coin] > 0:\n",
        "      transaction.append(coin)\n",
        "\n",
        "  records.append(transaction)"
      ]
    },
    {
      "cell_type": "code",
      "execution_count": null,
      "metadata": {
        "colab": {
          "base_uri": "https://localhost:8080/"
        },
        "id": "bdeRzJwTi1Uu",
        "outputId": "b369404a-a14b-49c0-b109-43a18d306fcb"
      },
      "outputs": [
        {
          "output_type": "stream",
          "name": "stdout",
          "text": [
            "Itemsets: 5, Rules: 44\n"
          ]
        }
      ],
      "source": [
        "from efficient_apriori import apriori\n",
        "\n",
        "itemsets, rules = apriori(records, min_support=0.3, min_confidence=0.90)\n",
        "\n",
        "print(f\"Itemsets: {len(itemsets)}, Rules: {len(rules)}\")"
      ]
    },
    {
      "cell_type": "code",
      "execution_count": null,
      "metadata": {
        "colab": {
          "base_uri": "https://localhost:8080/"
        },
        "id": "706RNxwKi28s",
        "outputId": "70c22718-c07b-44bd-8d2b-f682e75780d3"
      },
      "outputs": [
        {
          "output_type": "execute_result",
          "data": {
            "text/plain": [
              "{'Ethereum': {'BNB': 4, 'XRP': 2, 'Cardano': 4, 'Bitcoin': 8},\n",
              " 'Tether': {},\n",
              " 'BNB': {'Ethereum': 11, 'XRP': 1, 'Cardano': 3, 'Bitcoin': 5},\n",
              " 'XRP': {'Ethereum': 10, 'BNB': 1, 'Cardano': 4, 'Bitcoin': 6},\n",
              " 'Cardano': {'Ethereum': 10, 'BNB': 3, 'XRP': 2, 'Bitcoin': 6},\n",
              " 'Dogecoin': {'Ethereum': 7, 'BNB': 2, 'XRP': 3, 'Cardano': 4, 'Bitcoin': 5},\n",
              " 'Polygon': {'Ethereum': 4},\n",
              " 'Bitcoin': {'Ethereum': 12, 'BNB': 3, 'XRP': 1, 'Cardano': 4}}"
            ]
          },
          "metadata": {},
          "execution_count": 101
        }
      ],
      "source": [
        "conf = {}\n",
        "for coin in coins:\n",
        "    conf[coin] = {coin: 0 for coin in coins}\n",
        "for rule in rules:\n",
        "  for i in range(len(rule.lhs)):\n",
        "    for j in range(len(rule.rhs)):\n",
        "      conf[rule.lhs[i]][rule.rhs[j]] += 1\n",
        "\n",
        "\n",
        "conf = {key: {inner_key: inner_value for inner_key, inner_value in value.items() if inner_value != 0} for key, value in conf.items()}\n",
        "\n",
        "\n",
        "\n",
        "{0: ['Bitcoin', 'Ethereum', 'XRP', 'BNB', 'Cardano', 'Polygon'],\n",
        " 1: ['Tether'],\n",
        " 2: ['Dogecoin']}\n",
        "\n",
        "{0: ['Tether'],\n",
        " 1: ['Bitcoin', 'Ethereum', 'BNB', 'Polygon'],\n",
        " 2: ['Dogecoin'],\n",
        " 3: ['XRP', 'Cardano']}\n",
        "\n",
        "{0: ['XRP', 'Cardano'],\n",
        " 1: ['Tether'],\n",
        " 2: ['Dogecoin'],\n",
        " 3: ['Bitcoin', 'Ethereum', 'BNB'],\n",
        " 4: ['Polygon']}\n",
        "\n",
        "conf"
      ]
    },
    {
      "cell_type": "markdown",
      "source": [
        "###Association Validation Reasoning\n",
        "\n",
        "`conf` dictionary shows how many times a currency impacted other currencies.\n",
        "\n",
        "- **Tether** and **Polygon** neither impacted other currencies nor got impacted by other currencies, therefore they are clustered with none.\n",
        "\n",
        "- **Doge** affected prices of other currencies but no other currency impacted it, therefore it is also clustered with none.\n",
        "\n",
        "- **Bitcoin**, **Ethereum**, **Cardano**, **BNB** and **XRP** impact each other, hence they are clustered together when we made only 3 clusters.\n",
        "\n",
        "- As we increased number of clusters **XRP** and **Cardano** got clustered separatly, since **Cardano** impacts **XRP** highest among the other 3.\n"
      ],
      "metadata": {
        "id": "7UX9gU43sCLN"
      }
    },
    {
      "cell_type": "markdown",
      "metadata": {
        "id": "0OdY_TnvjfuR"
      },
      "source": [
        "##Correlation"
      ]
    },
    {
      "cell_type": "code",
      "execution_count": null,
      "metadata": {
        "colab": {
          "base_uri": "https://localhost:8080/"
        },
        "id": "tTrYfkgHjZ6_",
        "outputId": "7aadb910-2d3a-4ee5-d2d9-b23d0de4e3bc"
      },
      "outputs": [
        {
          "output_type": "execute_result",
          "data": {
            "text/plain": [
              "          Ethereum    Tether       BNB       XRP   Cardano  Dogecoin  \\\n",
              "Ethereum  1.000000 -0.164823  0.695259  0.619851  0.724916  0.020748   \n",
              "Tether   -0.164823  1.000000 -0.141563 -0.118209 -0.113701  0.064461   \n",
              "BNB       0.695259 -0.141563  1.000000  0.543573  0.615189  0.043501   \n",
              "XRP       0.619851 -0.118209  0.543573  1.000000  0.575599  0.013285   \n",
              "Cardano   0.724916 -0.113701  0.615189  0.575599  1.000000  0.032411   \n",
              "Dogecoin  0.020748  0.064461  0.043501  0.013285  0.032411  1.000000   \n",
              "Polygon   0.657947 -0.084193  0.627949  0.516430  0.621732  0.026995   \n",
              "Bitcoin   0.825945 -0.185040  0.680341  0.588834  0.672112  0.021627   \n",
              "\n",
              "           Polygon   Bitcoin  \n",
              "Ethereum  0.657947  0.825945  \n",
              "Tether   -0.084193 -0.185040  \n",
              "BNB       0.627949  0.680341  \n",
              "XRP       0.516430  0.588834  \n",
              "Cardano   0.621732  0.672112  \n",
              "Dogecoin  0.026995  0.021627  \n",
              "Polygon   1.000000  0.599914  \n",
              "Bitcoin   0.599914  1.000000  "
            ],
            "text/html": [
              "\n",
              "  <div id=\"df-f07b1206-661f-4653-852f-1b79a323e92d\">\n",
              "    <div class=\"colab-df-container\">\n",
              "      <div>\n",
              "<style scoped>\n",
              "    .dataframe tbody tr th:only-of-type {\n",
              "        vertical-align: middle;\n",
              "    }\n",
              "\n",
              "    .dataframe tbody tr th {\n",
              "        vertical-align: top;\n",
              "    }\n",
              "\n",
              "    .dataframe thead th {\n",
              "        text-align: right;\n",
              "    }\n",
              "</style>\n",
              "<table border=\"1\" class=\"dataframe\">\n",
              "  <thead>\n",
              "    <tr style=\"text-align: right;\">\n",
              "      <th></th>\n",
              "      <th>Ethereum</th>\n",
              "      <th>Tether</th>\n",
              "      <th>BNB</th>\n",
              "      <th>XRP</th>\n",
              "      <th>Cardano</th>\n",
              "      <th>Dogecoin</th>\n",
              "      <th>Polygon</th>\n",
              "      <th>Bitcoin</th>\n",
              "    </tr>\n",
              "  </thead>\n",
              "  <tbody>\n",
              "    <tr>\n",
              "      <th>Ethereum</th>\n",
              "      <td>1.000000</td>\n",
              "      <td>-0.164823</td>\n",
              "      <td>0.695259</td>\n",
              "      <td>0.619851</td>\n",
              "      <td>0.724916</td>\n",
              "      <td>0.020748</td>\n",
              "      <td>0.657947</td>\n",
              "      <td>0.825945</td>\n",
              "    </tr>\n",
              "    <tr>\n",
              "      <th>Tether</th>\n",
              "      <td>-0.164823</td>\n",
              "      <td>1.000000</td>\n",
              "      <td>-0.141563</td>\n",
              "      <td>-0.118209</td>\n",
              "      <td>-0.113701</td>\n",
              "      <td>0.064461</td>\n",
              "      <td>-0.084193</td>\n",
              "      <td>-0.185040</td>\n",
              "    </tr>\n",
              "    <tr>\n",
              "      <th>BNB</th>\n",
              "      <td>0.695259</td>\n",
              "      <td>-0.141563</td>\n",
              "      <td>1.000000</td>\n",
              "      <td>0.543573</td>\n",
              "      <td>0.615189</td>\n",
              "      <td>0.043501</td>\n",
              "      <td>0.627949</td>\n",
              "      <td>0.680341</td>\n",
              "    </tr>\n",
              "    <tr>\n",
              "      <th>XRP</th>\n",
              "      <td>0.619851</td>\n",
              "      <td>-0.118209</td>\n",
              "      <td>0.543573</td>\n",
              "      <td>1.000000</td>\n",
              "      <td>0.575599</td>\n",
              "      <td>0.013285</td>\n",
              "      <td>0.516430</td>\n",
              "      <td>0.588834</td>\n",
              "    </tr>\n",
              "    <tr>\n",
              "      <th>Cardano</th>\n",
              "      <td>0.724916</td>\n",
              "      <td>-0.113701</td>\n",
              "      <td>0.615189</td>\n",
              "      <td>0.575599</td>\n",
              "      <td>1.000000</td>\n",
              "      <td>0.032411</td>\n",
              "      <td>0.621732</td>\n",
              "      <td>0.672112</td>\n",
              "    </tr>\n",
              "    <tr>\n",
              "      <th>Dogecoin</th>\n",
              "      <td>0.020748</td>\n",
              "      <td>0.064461</td>\n",
              "      <td>0.043501</td>\n",
              "      <td>0.013285</td>\n",
              "      <td>0.032411</td>\n",
              "      <td>1.000000</td>\n",
              "      <td>0.026995</td>\n",
              "      <td>0.021627</td>\n",
              "    </tr>\n",
              "    <tr>\n",
              "      <th>Polygon</th>\n",
              "      <td>0.657947</td>\n",
              "      <td>-0.084193</td>\n",
              "      <td>0.627949</td>\n",
              "      <td>0.516430</td>\n",
              "      <td>0.621732</td>\n",
              "      <td>0.026995</td>\n",
              "      <td>1.000000</td>\n",
              "      <td>0.599914</td>\n",
              "    </tr>\n",
              "    <tr>\n",
              "      <th>Bitcoin</th>\n",
              "      <td>0.825945</td>\n",
              "      <td>-0.185040</td>\n",
              "      <td>0.680341</td>\n",
              "      <td>0.588834</td>\n",
              "      <td>0.672112</td>\n",
              "      <td>0.021627</td>\n",
              "      <td>0.599914</td>\n",
              "      <td>1.000000</td>\n",
              "    </tr>\n",
              "  </tbody>\n",
              "</table>\n",
              "</div>\n",
              "      <button class=\"colab-df-convert\" onclick=\"convertToInteractive('df-f07b1206-661f-4653-852f-1b79a323e92d')\"\n",
              "              title=\"Convert this dataframe to an interactive table.\"\n",
              "              style=\"display:none;\">\n",
              "        \n",
              "  <svg xmlns=\"http://www.w3.org/2000/svg\" height=\"24px\"viewBox=\"0 0 24 24\"\n",
              "       width=\"24px\">\n",
              "    <path d=\"M0 0h24v24H0V0z\" fill=\"none\"/>\n",
              "    <path d=\"M18.56 5.44l.94 2.06.94-2.06 2.06-.94-2.06-.94-.94-2.06-.94 2.06-2.06.94zm-11 1L8.5 8.5l.94-2.06 2.06-.94-2.06-.94L8.5 2.5l-.94 2.06-2.06.94zm10 10l.94 2.06.94-2.06 2.06-.94-2.06-.94-.94-2.06-.94 2.06-2.06.94z\"/><path d=\"M17.41 7.96l-1.37-1.37c-.4-.4-.92-.59-1.43-.59-.52 0-1.04.2-1.43.59L10.3 9.45l-7.72 7.72c-.78.78-.78 2.05 0 2.83L4 21.41c.39.39.9.59 1.41.59.51 0 1.02-.2 1.41-.59l7.78-7.78 2.81-2.81c.8-.78.8-2.07 0-2.86zM5.41 20L4 18.59l7.72-7.72 1.47 1.35L5.41 20z\"/>\n",
              "  </svg>\n",
              "      </button>\n",
              "      \n",
              "  <style>\n",
              "    .colab-df-container {\n",
              "      display:flex;\n",
              "      flex-wrap:wrap;\n",
              "      gap: 12px;\n",
              "    }\n",
              "\n",
              "    .colab-df-convert {\n",
              "      background-color: #E8F0FE;\n",
              "      border: none;\n",
              "      border-radius: 50%;\n",
              "      cursor: pointer;\n",
              "      display: none;\n",
              "      fill: #1967D2;\n",
              "      height: 32px;\n",
              "      padding: 0 0 0 0;\n",
              "      width: 32px;\n",
              "    }\n",
              "\n",
              "    .colab-df-convert:hover {\n",
              "      background-color: #E2EBFA;\n",
              "      box-shadow: 0px 1px 2px rgba(60, 64, 67, 0.3), 0px 1px 3px 1px rgba(60, 64, 67, 0.15);\n",
              "      fill: #174EA6;\n",
              "    }\n",
              "\n",
              "    [theme=dark] .colab-df-convert {\n",
              "      background-color: #3B4455;\n",
              "      fill: #D2E3FC;\n",
              "    }\n",
              "\n",
              "    [theme=dark] .colab-df-convert:hover {\n",
              "      background-color: #434B5C;\n",
              "      box-shadow: 0px 1px 3px 1px rgba(0, 0, 0, 0.15);\n",
              "      filter: drop-shadow(0px 1px 2px rgba(0, 0, 0, 0.3));\n",
              "      fill: #FFFFFF;\n",
              "    }\n",
              "  </style>\n",
              "\n",
              "      <script>\n",
              "        const buttonEl =\n",
              "          document.querySelector('#df-f07b1206-661f-4653-852f-1b79a323e92d button.colab-df-convert');\n",
              "        buttonEl.style.display =\n",
              "          google.colab.kernel.accessAllowed ? 'block' : 'none';\n",
              "\n",
              "        async function convertToInteractive(key) {\n",
              "          const element = document.querySelector('#df-f07b1206-661f-4653-852f-1b79a323e92d');\n",
              "          const dataTable =\n",
              "            await google.colab.kernel.invokeFunction('convertToInteractive',\n",
              "                                                     [key], {});\n",
              "          if (!dataTable) return;\n",
              "\n",
              "          const docLinkHtml = 'Like what you see? Visit the ' +\n",
              "            '<a target=\"_blank\" href=https://colab.research.google.com/notebooks/data_table.ipynb>data table notebook</a>'\n",
              "            + ' to learn more about interactive tables.';\n",
              "          element.innerHTML = '';\n",
              "          dataTable['output_type'] = 'display_data';\n",
              "          await google.colab.output.renderOutput(dataTable, element);\n",
              "          const docLink = document.createElement('div');\n",
              "          docLink.innerHTML = docLinkHtml;\n",
              "          element.appendChild(docLink);\n",
              "        }\n",
              "      </script>\n",
              "    </div>\n",
              "  </div>\n",
              "  "
            ]
          },
          "metadata": {},
          "execution_count": 102
        }
      ],
      "source": [
        "import seaborn as sns\n",
        "\n",
        "{0: ['Bitcoin', 'Ethereum', 'XRP', 'BNB', 'Cardano', 'Polygon'],\n",
        " 1: ['Tether'],\n",
        " 2: ['Dogecoin']}\n",
        "\n",
        "{0: ['Tether'],\n",
        " 1: ['Bitcoin', 'Ethereum', 'BNB', 'Polygon'],\n",
        " 2: ['Dogecoin'],\n",
        " 3: ['XRP', 'Cardano']}\n",
        "\n",
        "{0: ['XRP', 'Cardano'],\n",
        " 1: ['Tether'],\n",
        " 2: ['Dogecoin'],\n",
        " 3: ['Bitcoin', 'Ethereum', 'BNB'],\n",
        " 4: ['Polygon']}\n",
        "\n",
        "df_change.corr()\n",
        "# sns.heatmap(df_change.corr())"
      ]
    },
    {
      "cell_type": "markdown",
      "source": [
        "###Correlation Validation Reasoning\n",
        "\n",
        "- **Tether**, **Doge** are lest correlated to any other currency so they, therefore they are clustered with none.\n",
        "\n",
        "- **Bitcoin** is highly correlated with **Ethereum**, **BNB**, therefore they are clustered together\n",
        "\n",
        "\n",
        "- **XRP** is less correlated with **Ethereum**, **Bitcoin**, **BNB** hence not in their cluster.\n",
        "\n",
        "- **Polygon** is relatively less correlated with other currencies so given the chance it was clustered separately in n=5 clustering."
      ],
      "metadata": {
        "id": "edr26-7cvh1B"
      }
    },
    {
      "cell_type": "markdown",
      "source": [
        "#End\n",
        "\n"
      ],
      "metadata": {
        "id": "6bMQzIg7CetI"
      }
    }
  ],
  "metadata": {
    "colab": {
      "collapsed_sections": [
        "BaUfHP-S_Nnw",
        "rIA_Ll2IHGh7",
        "a120-KTsxLxU",
        "2iVTsXvyxQ9D",
        "DP6UlE_9xWxN",
        "5k9qszP8xwj8",
        "zTjdgJ8tYyj1",
        "2iwZA_CaY7V_",
        "kn9uRBTHZAeL",
        "PNDt1l8Ke_mc",
        "u0gEPCE9B36l",
        "pg5vIbbiIFnU",
        "oNcV3_cmF23r",
        "VdTT1Wc5F8c4",
        "C5vbQdRbGAHc",
        "gJNP0DUjIY67",
        "Q8mI2Vb2ipOP",
        "Vg6KkZdOiu_U",
        "7UX9gU43sCLN",
        "0OdY_TnvjfuR",
        "edr26-7cvh1B",
        "dtg0icu5Cjox"
      ],
      "provenance": [],
      "include_colab_link": true
    },
    "kernelspec": {
      "display_name": "Python 3",
      "name": "python3"
    },
    "language_info": {
      "name": "python"
    }
  },
  "nbformat": 4,
  "nbformat_minor": 0
}