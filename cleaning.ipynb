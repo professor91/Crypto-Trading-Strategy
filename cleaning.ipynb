{
  "cells": [
    {
      "cell_type": "markdown",
      "metadata": {
        "id": "view-in-github",
        "colab_type": "text"
      },
      "source": [
        "<a href=\"https://colab.research.google.com/github/professor91/Crypto-Trading-Strategy/blob/master/cleaning.ipynb\" target=\"_parent\"><img src=\"https://colab.research.google.com/assets/colab-badge.svg\" alt=\"Open In Colab\"/></a>"
      ]
    },
    {
      "cell_type": "markdown",
      "metadata": {
        "id": "JE_GIxi6ut8J"
      },
      "source": [
        "# **Crypto Market Clustering**\n"
      ]
    },
    {
      "cell_type": "markdown",
      "metadata": {
        "id": "_0TQPCc_l0Oy"
      },
      "source": [
        "The objective of this project is to find out price patterns of crypto currencies and formulate a trading strategy. In order to achieve this objective, we will be using clustering and association analysis techniques to identify any underlying trends and relationships among the various crypto currencies.\n"
      ]
    },
    {
      "cell_type": "code",
      "execution_count": null,
      "metadata": {
        "colab": {
          "base_uri": "https://localhost:8080/"
        },
        "id": "wKCq1igOMxl3",
        "outputId": "add6be76-7e03-4e0a-9628-502854e7af15"
      },
      "outputs": [
        {
          "output_type": "stream",
          "name": "stdout",
          "text": [
            "Mounted at /content/drive\n"
          ]
        }
      ],
      "source": [
        "from google.colab import drive\n",
        "drive.mount('/content/drive')"
      ]
    },
    {
      "cell_type": "code",
      "execution_count": null,
      "metadata": {
        "id": "2KRXOXBBQv9E"
      },
      "outputs": [],
      "source": [
        "import pandas as pd\n",
        "import numpy as np\n",
        "import matplotlib.pyplot as plt"
      ]
    },
    {
      "cell_type": "code",
      "execution_count": null,
      "metadata": {
        "id": "zjZ8XWkcV_WA"
      },
      "outputs": [],
      "source": [
        "# %ls \"/content/drive/MyDrive/DM_project/Datasets_5years/\"\n",
        "\n",
        "files= [\n",
        "'Bitcoin Historical Data - Investing.com India.csv',\n",
        "'Ethereum Historical Data - Investing.com India.csv',\n",
        "'XRP Historical Data - Investing.com India.csv',\n",
        "'Tether Historical Data - Investing.com India.csv',\n",
        "'Dogecoin Historical Data - Investing.com India.csv',\n",
        "'BNB Historical Data - Investing.com India.csv',\n",
        "'Cardano Historical Data - Investing.com India.csv',\n",
        "'Polygon Historical Data - Investing.com India.csv',\n",
        "# 'Solana Historical Data - Investing.com India.csv',\n",
        "# 'USD Coin Historical Data - Investing.com India.csv'\n",
        "]\n",
        "\n",
        "time_period = {\n",
        "    'start': '2020-01-01',\n",
        "    'end': '2022-12-31'\n",
        "}\n",
        "\n",
        "coins = [file_name.split()[0] for file_name in files]"
      ]
    },
    {
      "cell_type": "markdown",
      "metadata": {
        "id": "BaUfHP-S_Nnw"
      },
      "source": [
        "# Loading Data\n"
      ]
    },
    {
      "cell_type": "markdown",
      "metadata": {
        "id": "hSMsgbJqmBLW"
      },
      "source": [
        "We will be using daily market data of the top 10 crypto currencies from January 2017 to December 2022. The data has been collected from https://in.investing.com/crypto/ and cleaned to remove any inconsistencies and missing values.\n",
        "\n",
        "The data that we will be collecting from the website includes the following parameters:\n",
        "\n",
        "- High: The highest price of the crypto currency for the day\n",
        "\n",
        "- Low: The lowest price of the crypto currency for the day\n",
        "\n",
        "- Open: The opening price of the crypto currency for the day\n",
        "\n",
        "- Price (Close): The closing price of the crypto currency for the day\n",
        "\n",
        "- Volume: The trading volume of the crypto currency for the day\n",
        "\n",
        "- Change%: The percentage change in the price of the crypto currency from the previous day\n"
      ]
    },
    {
      "cell_type": "code",
      "execution_count": null,
      "metadata": {
        "id": "tjaPSm1SVI_P"
      },
      "outputs": [],
      "source": [
        "# loading datasets\n",
        "df = {}\n",
        "\n",
        "for file_name in files:\n",
        "  df.update({\n",
        "      file_name.split()[0]: pd.read_csv(f\"/content/drive/MyDrive/DM_project/Datasets_5years/{file_name}\", index_col='Date', parse_dates=True)\n",
        "  })"
      ]
    },
    {
      "cell_type": "code",
      "execution_count": null,
      "metadata": {
        "colab": {
          "base_uri": "https://localhost:8080/"
        },
        "id": "BuLgAMh9ue6f",
        "outputId": "3853a621-ee7a-4565-e67c-9c645d33824d"
      },
      "outputs": [
        {
          "output_type": "execute_result",
          "data": {
            "text/plain": [
              "{'Bitcoin':                Price      Open      High       Low     Vol. Change %\n",
              " Date                                                                \n",
              " 2022-12-31  16,537.4  16,607.2  16,635.9  16,487.3  130.44K   -0.42%\n",
              " 2022-12-30  16,607.2  16,636.4  16,644.4  16,360.0  192.76K   -0.18%\n",
              " 2022-12-29  16,636.4  16,546.2  16,659.1  16,496.6  181.47K    0.55%\n",
              " 2022-12-28  16,546.2  16,705.9  16,781.1  16,474.2  217.96K   -0.96%\n",
              " 2022-12-27  16,706.1  16,918.2  16,964.0  16,610.1  192.18K   -1.25%\n",
              " ...              ...       ...       ...       ...      ...      ...\n",
              " 2017-01-05     989.3   1,135.4   1,150.6     874.5  240.01K  -12.86%\n",
              " 2017-01-04   1,135.4   1,033.3   1,148.5   1,022.3  156.27K    9.88%\n",
              " 2017-01-03   1,033.3   1,017.0   1,035.5   1,006.5   54.79K    1.60%\n",
              " 2017-01-02   1,017.0     995.4   1,031.7     990.2   64.95K    2.17%\n",
              " 2017-01-01     995.4     963.4   1,001.6     956.1   41.15K    3.33%\n",
              " \n",
              " [2191 rows x 6 columns],\n",
              " 'Ethereum':                Price      Open      High       Low     Vol. Change %\n",
              " Date                                                                \n",
              " 2022-12-31  1,195.67  1,200.00  1,207.71  1,193.16  150.20K   -0.34%\n",
              " 2022-12-30  1,199.80  1,200.84  1,202.13  1,186.10  285.77K   -0.09%\n",
              " 2022-12-29  1,200.84  1,189.99  1,205.34  1,187.19  272.59K    0.91%\n",
              " 2022-12-28  1,189.98  1,211.60  1,214.32  1,184.22  407.45K   -1.78%\n",
              " 2022-12-27  1,211.60  1,228.22  1,233.15  1,202.02  290.02K   -1.31%\n",
              " ...              ...       ...       ...       ...      ...      ...\n",
              " 2017-01-05     10.15     11.16     11.70      9.20  490.64K   -7.73%\n",
              " 2017-01-04     11.00      9.57     11.10      9.44  556.25K   12.94%\n",
              " 2017-01-03      9.74      8.43      9.90      8.30  603.42K   16.37%\n",
              " 2017-01-02      8.37      8.19      8.50      8.11  101.27K    2.07%\n",
              " 2017-01-01      8.20      8.17      8.59      8.03  144.92K    2.50%\n",
              " \n",
              " [2191 rows x 6 columns],\n",
              " 'XRP':               Price     Open     High      Low     Vol. Change %\n",
              " Date                                                            \n",
              " 2022-12-31  0.33872  0.34516  0.34518  0.33872  186.73M   -1.87%\n",
              " 2022-12-30  0.34519  0.34210  0.34561  0.33380  371.00M    0.90%\n",
              " 2022-12-29  0.34210  0.35594  0.35770  0.33749  504.02M   -3.91%\n",
              " 2022-12-28  0.35601  0.36749  0.36861  0.35498  481.85M   -3.12%\n",
              " 2022-12-27  0.36749  0.36587  0.37257  0.35885  521.31M    0.43%\n",
              " ...             ...      ...      ...      ...      ...      ...\n",
              " 2017-01-05  0.00628  0.00641  0.00689  0.00565    9.86M   -2.09%\n",
              " 2017-01-04  0.00641  0.00641  0.00684  0.00637    1.01M    0.00%\n",
              " 2017-01-03  0.00641  0.00631  0.00657  0.00622    1.93M    1.57%\n",
              " 2017-01-02  0.00631  0.00635  0.00642  0.00621  703.77K   -0.54%\n",
              " 2017-01-01  0.00635  0.00651  0.00660  0.00626  259.80K   -2.53%\n",
              " \n",
              " [2191 rows x 6 columns],\n",
              " 'Tether':              Price    Open    High     Low     Vol. Change %\n",
              " Date                                                        \n",
              " 2022-12-31  0.9999  0.9997  1.0009  0.9997   40.25M    0.02%\n",
              " 2022-12-30  0.9997  0.9997  1.0011  0.9996  110.47M    0.00%\n",
              " 2022-12-29  0.9997  0.9998  1.0009  0.9997  136.81M   -0.01%\n",
              " 2022-12-28  0.9998  0.9998  1.0011  0.9998  154.28M    0.00%\n",
              " 2022-12-27  0.9998  1.0000  1.0012  0.9997  135.73M   -0.02%\n",
              " ...            ...     ...     ...     ...      ...      ...\n",
              " 2017-04-18  0.9450  0.9392  0.9628  0.9207   39.25K    0.62%\n",
              " 2017-04-17  0.9392  0.9515  0.9698  0.9211   38.75K   -1.29%\n",
              " 2017-04-16  0.9515  0.9896  0.9896  0.9515   12.41K   -3.85%\n",
              " 2017-04-15  0.9896  0.9899  0.9899  0.9676   14.92K   -0.03%\n",
              " 2017-04-14  0.9899  0.9939  0.9960  0.9689   71.65K   -0.40%\n",
              " \n",
              " [2087 rows x 6 columns],\n",
              " 'Dogecoin':                Price      Open      High       Low   Vol. Change %\n",
              " Date                                                              \n",
              " 2022-12-31  0.070144  0.068392  0.071239  0.067988  1.18B    2.56%\n",
              " 2022-12-30  0.068395  0.070933  0.071405  0.066392  1.86B   -3.60%\n",
              " 2022-12-29  0.070952  0.070376  0.071441  0.069455  1.16B    0.81%\n",
              " 2022-12-28  0.070382  0.073704  0.073848  0.069610  2.31B   -4.51%\n",
              " 2022-12-27  0.073704  0.075672  0.076088  0.072824  1.04B   -2.61%\n",
              " ...              ...       ...       ...       ...    ...      ...\n",
              " 2017-06-07  0.003250  0.003617  0.003950  0.003132  1.37M  -10.15%\n",
              " 2017-06-06  0.003617  0.003718  0.003718  0.003152  2.11M   -2.72%\n",
              " 2017-06-05  0.003718  0.003770  0.003825  0.002923  4.82M   -1.38%\n",
              " 2017-06-04  0.003770  0.003213  0.003770  0.002544  5.96M   17.34%\n",
              " 2017-06-03  0.003213  0.002803  0.003398  0.002655  4.37M   14.63%\n",
              " \n",
              " [2038 rows x 6 columns],\n",
              " 'BNB':              Price    Open    High     Low     Vol. Change %\n",
              " Date                                                        \n",
              " 2022-12-31  246.10  245.80  247.90  244.90  135.16K    0.12%\n",
              " 2022-12-30  245.80  246.30  246.60  242.80  129.09K   -0.20%\n",
              " 2022-12-29  246.30  244.40  246.70  243.40  164.86K    0.78%\n",
              " 2022-12-28  244.40  246.60  247.10  241.90  212.71K   -0.89%\n",
              " 2022-12-27  246.60  244.30  248.10  242.30  198.69K    0.94%\n",
              " ...            ...     ...     ...     ...      ...      ...\n",
              " 2017-11-13    1.68    1.49    1.74    1.49  166.01K   12.75%\n",
              " 2017-11-12    1.49    1.66    1.70    1.34  456.48K  -10.24%\n",
              " 2017-11-11    1.66    1.71    1.93    1.58  256.71K   -2.92%\n",
              " 2017-11-10    1.71    1.99    2.02    1.60  483.23K  -14.07%\n",
              " 2017-11-09    1.99    1.99    2.20    1.90  283.35K    0.00%\n",
              " \n",
              " [1879 rows x 6 columns],\n",
              " 'Cardano':              Price    Open    High     Low     Vol. Change %\n",
              " Date                                                        \n",
              " 2022-12-31  0.2456  0.2457  0.2518  0.2442   98.57M    0.00%\n",
              " 2022-12-30  0.2457  0.2439  0.2461  0.2395  112.29M    0.71%\n",
              " 2022-12-29  0.2439  0.2482  0.2483  0.2402  165.75M   -1.73%\n",
              " 2022-12-28  0.2482  0.2603  0.2609  0.2473  156.85M   -4.66%\n",
              " 2022-12-27  0.2603  0.2652  0.2662  0.2563   91.98M   -1.84%\n",
              " ...            ...     ...     ...     ...      ...      ...\n",
              " 2018-01-04  1.1043  1.1000  1.3500  1.0500   19.60M    2.25%\n",
              " 2018-01-03  1.0800  0.9782  1.0900  0.8882   20.23M   41.73%\n",
              " 2018-01-02  0.7620  0.7022  0.8000  0.6750   10.97M    8.52%\n",
              " 2018-01-01  0.7022  0.7100  0.7150  0.6320   17.95M   -1.10%\n",
              " 2017-12-31  0.7100  0.5900  0.7400  0.5900   17.22M   20.34%\n",
              " \n",
              " [1827 rows x 6 columns],\n",
              " 'Polygon':             Price   Open   High    Low     Vol. Change %\n",
              " Date                                                    \n",
              " 2022-12-31  0.758  0.761  0.771  0.754   26.13M   -0.33%\n",
              " 2022-12-30  0.761  0.777  0.781  0.750   56.64M   -2.15%\n",
              " 2022-12-29  0.777  0.783  0.787  0.769   46.48M   -0.67%\n",
              " 2022-12-28  0.783  0.806  0.808  0.775   59.50M   -2.89%\n",
              " 2022-12-27  0.806  0.815  0.819  0.798   44.85M   -1.07%\n",
              " ...           ...    ...    ...    ...      ...      ...\n",
              " 2019-07-01  0.022  0.022  0.023  0.020  974.46M    0.00%\n",
              " 2019-06-30  0.022  0.024  0.027  0.022    1.52B   -8.24%\n",
              " 2019-06-29  0.024  0.019  0.027  0.019    1.79B   25.71%\n",
              " 2019-06-28  0.019  0.019  0.021  0.019  929.60M    0.00%\n",
              " 2019-06-27  0.019  0.018  0.022  0.017    1.56B    8.10%\n",
              " \n",
              " [1284 rows x 6 columns]}"
            ]
          },
          "metadata": {},
          "execution_count": 5
        }
      ],
      "source": [
        "df"
      ]
    },
    {
      "cell_type": "markdown",
      "metadata": {
        "id": "rIA_Ll2IHGh7"
      },
      "source": [
        "# Pre-Processing\n"
      ]
    },
    {
      "cell_type": "code",
      "execution_count": null,
      "metadata": {
        "id": "3w4VBRro1Lxr"
      },
      "outputs": [],
      "source": [
        "# replace blanks with NaN\n",
        "for coin in df.keys():\n",
        "  df[coin].replace('-', np.nan, inplace=True)"
      ]
    },
    {
      "cell_type": "markdown",
      "metadata": {
        "id": "a120-KTsxLxU"
      },
      "source": [
        "## Correct Data Types"
      ]
    },
    {
      "cell_type": "markdown",
      "metadata": {
        "id": "BWFM1SAcmnHu"
      },
      "source": [
        "The data that we will be collecting from the website includes the following parameters:\n",
        "\n",
        "- High: float64\n",
        "- Low: float64\n",
        "- Open: float64\n",
        "- Price: float64\n",
        "- Volume: float64\n",
        "- Change%: float64\n"
      ]
    },
    {
      "cell_type": "code",
      "execution_count": null,
      "metadata": {
        "colab": {
          "base_uri": "https://localhost:8080/"
        },
        "id": "DvwuSYmiDMr_",
        "outputId": "54bfcc96-0ccf-4c3b-96dc-059776df31d4"
      },
      "outputs": [
        {
          "output_type": "stream",
          "name": "stdout",
          "text": [
            "<class 'pandas.core.frame.DataFrame'>\n",
            "DatetimeIndex: 2191 entries, 2022-12-31 to 2017-01-01\n",
            "Data columns (total 6 columns):\n",
            " #   Column    Non-Null Count  Dtype \n",
            "---  ------    --------------  ----- \n",
            " 0   Price     2191 non-null   object\n",
            " 1   Open      2191 non-null   object\n",
            " 2   High      2191 non-null   object\n",
            " 3   Low       2191 non-null   object\n",
            " 4   Vol.      2191 non-null   object\n",
            " 5   Change %  2191 non-null   object\n",
            "dtypes: object(6)\n",
            "memory usage: 119.8+ KB\n",
            "Bitcoin - None\n",
            "<class 'pandas.core.frame.DataFrame'>\n",
            "DatetimeIndex: 2191 entries, 2022-12-31 to 2017-01-01\n",
            "Data columns (total 6 columns):\n",
            " #   Column    Non-Null Count  Dtype \n",
            "---  ------    --------------  ----- \n",
            " 0   Price     2191 non-null   object\n",
            " 1   Open      2191 non-null   object\n",
            " 2   High      2191 non-null   object\n",
            " 3   Low       2191 non-null   object\n",
            " 4   Vol.      2190 non-null   object\n",
            " 5   Change %  2191 non-null   object\n",
            "dtypes: object(6)\n",
            "memory usage: 119.8+ KB\n",
            "Ethereum - None\n",
            "<class 'pandas.core.frame.DataFrame'>\n",
            "DatetimeIndex: 2191 entries, 2022-12-31 to 2017-01-01\n",
            "Data columns (total 6 columns):\n",
            " #   Column    Non-Null Count  Dtype  \n",
            "---  ------    --------------  -----  \n",
            " 0   Price     2191 non-null   float64\n",
            " 1   Open      2191 non-null   float64\n",
            " 2   High      2191 non-null   float64\n",
            " 3   Low       2191 non-null   float64\n",
            " 4   Vol.      2179 non-null   object \n",
            " 5   Change %  2191 non-null   object \n",
            "dtypes: float64(4), object(2)\n",
            "memory usage: 119.8+ KB\n",
            "XRP - None\n",
            "<class 'pandas.core.frame.DataFrame'>\n",
            "DatetimeIndex: 2087 entries, 2022-12-31 to 2017-04-14\n",
            "Data columns (total 6 columns):\n",
            " #   Column    Non-Null Count  Dtype  \n",
            "---  ------    --------------  -----  \n",
            " 0   Price     2087 non-null   float64\n",
            " 1   Open      2087 non-null   float64\n",
            " 2   High      2087 non-null   float64\n",
            " 3   Low       2087 non-null   float64\n",
            " 4   Vol.      2087 non-null   object \n",
            " 5   Change %  2087 non-null   object \n",
            "dtypes: float64(4), object(2)\n",
            "memory usage: 114.1+ KB\n",
            "Tether - None\n",
            "<class 'pandas.core.frame.DataFrame'>\n",
            "DatetimeIndex: 2038 entries, 2022-12-31 to 2017-06-03\n",
            "Data columns (total 6 columns):\n",
            " #   Column    Non-Null Count  Dtype  \n",
            "---  ------    --------------  -----  \n",
            " 0   Price     2038 non-null   float64\n",
            " 1   Open      2038 non-null   float64\n",
            " 2   High      2038 non-null   float64\n",
            " 3   Low       2038 non-null   float64\n",
            " 4   Vol.      2037 non-null   object \n",
            " 5   Change %  2038 non-null   object \n",
            "dtypes: float64(4), object(2)\n",
            "memory usage: 111.5+ KB\n",
            "Dogecoin - None\n",
            "<class 'pandas.core.frame.DataFrame'>\n",
            "DatetimeIndex: 1879 entries, 2022-12-31 to 2017-11-09\n",
            "Data columns (total 6 columns):\n",
            " #   Column    Non-Null Count  Dtype  \n",
            "---  ------    --------------  -----  \n",
            " 0   Price     1879 non-null   float64\n",
            " 1   Open      1879 non-null   float64\n",
            " 2   High      1879 non-null   float64\n",
            " 3   Low       1879 non-null   float64\n",
            " 4   Vol.      1878 non-null   object \n",
            " 5   Change %  1879 non-null   object \n",
            "dtypes: float64(4), object(2)\n",
            "memory usage: 102.8+ KB\n",
            "BNB - None\n",
            "<class 'pandas.core.frame.DataFrame'>\n",
            "DatetimeIndex: 1827 entries, 2022-12-31 to 2017-12-31\n",
            "Data columns (total 6 columns):\n",
            " #   Column    Non-Null Count  Dtype  \n",
            "---  ------    --------------  -----  \n",
            " 0   Price     1827 non-null   float64\n",
            " 1   Open      1827 non-null   float64\n",
            " 2   High      1827 non-null   float64\n",
            " 3   Low       1827 non-null   float64\n",
            " 4   Vol.      1822 non-null   object \n",
            " 5   Change %  1827 non-null   object \n",
            "dtypes: float64(4), object(2)\n",
            "memory usage: 99.9+ KB\n",
            "Cardano - None\n",
            "<class 'pandas.core.frame.DataFrame'>\n",
            "DatetimeIndex: 1284 entries, 2022-12-31 to 2019-06-27\n",
            "Data columns (total 6 columns):\n",
            " #   Column    Non-Null Count  Dtype  \n",
            "---  ------    --------------  -----  \n",
            " 0   Price     1284 non-null   float64\n",
            " 1   Open      1284 non-null   float64\n",
            " 2   High      1284 non-null   float64\n",
            " 3   Low       1284 non-null   float64\n",
            " 4   Vol.      1284 non-null   object \n",
            " 5   Change %  1284 non-null   object \n",
            "dtypes: float64(4), object(2)\n",
            "memory usage: 70.2+ KB\n",
            "Polygon - None\n"
          ]
        }
      ],
      "source": [
        "# checking data types\n",
        "for coin in df.keys():\n",
        "  print(f'{coin} - {df[coin].info()}')"
      ]
    },
    {
      "cell_type": "code",
      "execution_count": null,
      "metadata": {
        "colab": {
          "base_uri": "https://localhost:8080/"
        },
        "id": "BQkxeGRMSILQ",
        "outputId": "23d64465-3661-40f4-9201-96082de28a42"
      },
      "outputs": [
        {
          "output_type": "stream",
          "name": "stderr",
          "text": [
            "<ipython-input-8-3388059f735e>:3: FutureWarning: The default value of regex will change from True to False in a future version. In addition, single character regular expressions will *not* be treated as literal strings when regex=True.\n",
            "  df[coin]['Vol.'] = df[coin]['Vol.'].str.replace('.','').str.replace('M','000000').str.replace('K','000').str.replace('B', '000000000').astype(float)\n"
          ]
        }
      ],
      "source": [
        "# change data types\n",
        "for coin in df.keys():\n",
        "  df[coin]['Vol.'] = df[coin]['Vol.'].str.replace('.','').str.replace('M','000000').str.replace('K','000').str.replace('B', '000000000').astype(float)\n",
        "  df[coin]['Change %'] = df[coin]['Change %'].str.replace('%','').str.replace(',','').astype(float)\n",
        "\n",
        "for coin in ['Bitcoin', 'Ethereum']:\n",
        "  df[coin]['Price'] = df[coin]['Price'].str.replace(',','').astype(float)\n",
        "  df[coin]['Open'] = df[coin]['Open'].str.replace(',','').astype(float)\n",
        "  df[coin]['High'] = df[coin]['High'].str.replace(',','').astype(float)\n",
        "  df[coin]['Low'] = df[coin]['Low'].str.replace(',','').astype(float)"
      ]
    },
    {
      "cell_type": "markdown",
      "metadata": {
        "id": "2iVTsXvyxQ9D"
      },
      "source": [
        "## Missing Values"
      ]
    },
    {
      "cell_type": "markdown",
      "metadata": {
        "id": "qIKS2A61zT3X"
      },
      "source": [
        "We have used Linear Interpolation to fill the missing values in the dataset. Linear interpolation, in the context of time series analysis, is a method for filling missing values by estimating the values that lie between two known values."
      ]
    },
    {
      "cell_type": "code",
      "execution_count": null,
      "metadata": {
        "colab": {
          "base_uri": "https://localhost:8080/"
        },
        "id": "j-oR-m2pxDFY",
        "outputId": "8e222acd-da07-4473-c5d6-65b662a15838"
      },
      "outputs": [
        {
          "output_type": "stream",
          "name": "stdout",
          "text": [
            "Bitcoin - Price       0\n",
            "Open        0\n",
            "High        0\n",
            "Low         0\n",
            "Vol.        0\n",
            "Change %    0\n",
            "dtype: int64\n",
            "Ethereum - Price       0\n",
            "Open        0\n",
            "High        0\n",
            "Low         0\n",
            "Vol.        1\n",
            "Change %    0\n",
            "dtype: int64\n",
            "XRP - Price        0\n",
            "Open         0\n",
            "High         0\n",
            "Low          0\n",
            "Vol.        12\n",
            "Change %     0\n",
            "dtype: int64\n",
            "Tether - Price       0\n",
            "Open        0\n",
            "High        0\n",
            "Low         0\n",
            "Vol.        0\n",
            "Change %    0\n",
            "dtype: int64\n",
            "Dogecoin - Price       0\n",
            "Open        0\n",
            "High        0\n",
            "Low         0\n",
            "Vol.        1\n",
            "Change %    0\n",
            "dtype: int64\n",
            "BNB - Price       0\n",
            "Open        0\n",
            "High        0\n",
            "Low         0\n",
            "Vol.        1\n",
            "Change %    0\n",
            "dtype: int64\n",
            "Cardano - Price       0\n",
            "Open        0\n",
            "High        0\n",
            "Low         0\n",
            "Vol.        5\n",
            "Change %    0\n",
            "dtype: int64\n",
            "Polygon - Price       0\n",
            "Open        0\n",
            "High        0\n",
            "Low         0\n",
            "Vol.        0\n",
            "Change %    0\n",
            "dtype: int64\n"
          ]
        }
      ],
      "source": [
        "# count missing values\n",
        "for coin in df.keys():\n",
        "  print(f'{coin} - {df[coin].isna().sum()}')"
      ]
    },
    {
      "cell_type": "code",
      "execution_count": null,
      "metadata": {
        "id": "HmkSGwl2DgQ-"
      },
      "outputs": [],
      "source": [
        "# Fill missing values with the mean of the previous two and next two values\n",
        "for coin in df.keys():\n",
        "  df[coin]['Vol.'].fillna(df[coin]['Vol.'].rolling(window=5, min_periods=1, center=True).mean(), inplace=True)"
      ]
    },
    {
      "cell_type": "markdown",
      "metadata": {
        "id": "DP6UlE_9xWxN"
      },
      "source": [
        "## Drop records not required"
      ]
    },
    {
      "cell_type": "markdown",
      "metadata": {
        "id": "uY8-zNwmzwT0"
      },
      "source": [
        "Starting date and Ending date has been defined at the beginning of the notebook. Since crypto currencies launched at different times, we picked the time frame shared by all for the analysis"
      ]
    },
    {
      "cell_type": "code",
      "execution_count": null,
      "metadata": {
        "id": "y_jNkky5Fyvx"
      },
      "outputs": [],
      "source": [
        "# Reset the range for all remaining datasets\n",
        "for coin in df.keys():\n",
        "    df[coin] = df[coin].loc[time_period['start']:time_period['end']]"
      ]
    },
    {
      "cell_type": "code",
      "execution_count": null,
      "metadata": {
        "colab": {
          "base_uri": "https://localhost:8080/"
        },
        "id": "T0AJHVpDgGQ_",
        "outputId": "df8275ad-8c15-490a-be53-65c0a1f9adfe"
      },
      "outputs": [
        {
          "output_type": "stream",
          "name": "stdout",
          "text": [
            "Bitcoin - 1096\n",
            "Ethereum - 1096\n",
            "XRP - 1096\n",
            "Tether - 1096\n",
            "Dogecoin - 1096\n",
            "BNB - 1096\n",
            "Cardano - 1096\n",
            "Polygon - 1096\n"
          ]
        }
      ],
      "source": [
        "for coin in df.keys():\n",
        "  print(f'{coin} - {df[coin].shape[0]}')"
      ]
    },
    {
      "cell_type": "code",
      "execution_count": null,
      "metadata": {
        "id": "SxFV5KlIevqU"
      },
      "outputs": [],
      "source": [
        "for coin_df in df.values():\n",
        "  coin_df.sort_index(inplace=True)"
      ]
    },
    {
      "cell_type": "markdown",
      "metadata": {
        "id": "5k9qszP8xwj8"
      },
      "source": [
        "## Combine into single dataset"
      ]
    },
    {
      "cell_type": "markdown",
      "metadata": {
        "id": "VOfFqZnP0Hpg"
      },
      "source": [
        "Until now we had a dictionary which contained all the datasets as values and their respective keys as the name of the currencies. For analysis we have to combine all the datasets into one.\n",
        "\n",
        "We have also Multi-indexed the dataset."
      ]
    },
    {
      "cell_type": "code",
      "execution_count": null,
      "metadata": {
        "colab": {
          "base_uri": "https://localhost:8080/"
        },
        "id": "v1BC8P9Qx2HW",
        "outputId": "7fcb3156-abe4-4801-cb54-19dce81e9f46"
      },
      "outputs": [
        {
          "output_type": "execute_result",
          "data": {
            "text/plain": [
              "             Price                                                             \\\n",
              "           Bitcoin Ethereum      XRP  Tether  Dogecoin    BNB Cardano Polygon   \n",
              "Date                                                                            \n",
              "2020-01-01  7199.8   130.75  0.19307  1.0121  0.002040  13.70  0.0335   0.015   \n",
              "2020-01-02  6967.0   127.19  0.18748  1.0053  0.001999  13.03  0.0327   0.015   \n",
              "2020-01-03  7343.1   134.27  0.19321  1.0039  0.002042  13.65  0.0341   0.015   \n",
              "2020-01-04  7376.8   134.33  0.19311  1.0050  0.002307  13.85  0.0344   0.015   \n",
              "2020-01-05  7372.5   135.59  0.19455  1.0032  0.002080  14.07  0.0346   0.015   \n",
              "\n",
              "              Open           ...          Vol.               Change %  \\\n",
              "           Bitcoin Ethereum  ...       Cardano       Polygon  Bitcoin   \n",
              "Date                         ...                                        \n",
              "2020-01-01  7196.4   129.21  ...  2.508600e+10  5.441100e+10     0.05   \n",
              "2020-01-02  7199.7   130.75  ...  2.166300e+10  6.865700e+10    -3.23   \n",
              "2020-01-03  6967.1   127.19  ...  3.415900e+10  4.334000e+10     5.40   \n",
              "2020-01-04  7345.1   134.30  ...  3.582000e+10  2.805100e+10     0.46   \n",
              "2020-01-05  7376.8   134.32  ...  2.167100e+10  2.382600e+10    -0.06   \n",
              "\n",
              "                                                                 \n",
              "           Ethereum   XRP Tether Dogecoin   BNB Cardano Polygon  \n",
              "Date                                                             \n",
              "2020-01-01     1.19  0.07   0.73     1.24 -0.25    1.94    8.45  \n",
              "2020-01-02    -2.72 -2.89  -0.68    -1.98 -4.85   -2.33    0.00  \n",
              "2020-01-03     5.56  3.06  -0.14     2.14  4.72    4.32    0.00  \n",
              "2020-01-04     0.04 -0.05   0.11    12.99  1.49    0.79    0.00  \n",
              "2020-01-05     0.94  0.74  -0.18    -9.86  1.58    0.73    0.00  \n",
              "\n",
              "[5 rows x 48 columns]"
            ],
            "text/html": [
              "\n",
              "  <div id=\"df-02c63c2e-3e2b-4770-811d-c07971dbcd5c\">\n",
              "    <div class=\"colab-df-container\">\n",
              "      <div>\n",
              "<style scoped>\n",
              "    .dataframe tbody tr th:only-of-type {\n",
              "        vertical-align: middle;\n",
              "    }\n",
              "\n",
              "    .dataframe tbody tr th {\n",
              "        vertical-align: top;\n",
              "    }\n",
              "\n",
              "    .dataframe thead tr th {\n",
              "        text-align: left;\n",
              "    }\n",
              "\n",
              "    .dataframe thead tr:last-of-type th {\n",
              "        text-align: right;\n",
              "    }\n",
              "</style>\n",
              "<table border=\"1\" class=\"dataframe\">\n",
              "  <thead>\n",
              "    <tr>\n",
              "      <th></th>\n",
              "      <th colspan=\"8\" halign=\"left\">Price</th>\n",
              "      <th colspan=\"2\" halign=\"left\">Open</th>\n",
              "      <th>...</th>\n",
              "      <th colspan=\"2\" halign=\"left\">Vol.</th>\n",
              "      <th colspan=\"8\" halign=\"left\">Change %</th>\n",
              "    </tr>\n",
              "    <tr>\n",
              "      <th></th>\n",
              "      <th>Bitcoin</th>\n",
              "      <th>Ethereum</th>\n",
              "      <th>XRP</th>\n",
              "      <th>Tether</th>\n",
              "      <th>Dogecoin</th>\n",
              "      <th>BNB</th>\n",
              "      <th>Cardano</th>\n",
              "      <th>Polygon</th>\n",
              "      <th>Bitcoin</th>\n",
              "      <th>Ethereum</th>\n",
              "      <th>...</th>\n",
              "      <th>Cardano</th>\n",
              "      <th>Polygon</th>\n",
              "      <th>Bitcoin</th>\n",
              "      <th>Ethereum</th>\n",
              "      <th>XRP</th>\n",
              "      <th>Tether</th>\n",
              "      <th>Dogecoin</th>\n",
              "      <th>BNB</th>\n",
              "      <th>Cardano</th>\n",
              "      <th>Polygon</th>\n",
              "    </tr>\n",
              "    <tr>\n",
              "      <th>Date</th>\n",
              "      <th></th>\n",
              "      <th></th>\n",
              "      <th></th>\n",
              "      <th></th>\n",
              "      <th></th>\n",
              "      <th></th>\n",
              "      <th></th>\n",
              "      <th></th>\n",
              "      <th></th>\n",
              "      <th></th>\n",
              "      <th></th>\n",
              "      <th></th>\n",
              "      <th></th>\n",
              "      <th></th>\n",
              "      <th></th>\n",
              "      <th></th>\n",
              "      <th></th>\n",
              "      <th></th>\n",
              "      <th></th>\n",
              "      <th></th>\n",
              "      <th></th>\n",
              "    </tr>\n",
              "  </thead>\n",
              "  <tbody>\n",
              "    <tr>\n",
              "      <th>2020-01-01</th>\n",
              "      <td>7199.8</td>\n",
              "      <td>130.75</td>\n",
              "      <td>0.19307</td>\n",
              "      <td>1.0121</td>\n",
              "      <td>0.002040</td>\n",
              "      <td>13.70</td>\n",
              "      <td>0.0335</td>\n",
              "      <td>0.015</td>\n",
              "      <td>7196.4</td>\n",
              "      <td>129.21</td>\n",
              "      <td>...</td>\n",
              "      <td>2.508600e+10</td>\n",
              "      <td>5.441100e+10</td>\n",
              "      <td>0.05</td>\n",
              "      <td>1.19</td>\n",
              "      <td>0.07</td>\n",
              "      <td>0.73</td>\n",
              "      <td>1.24</td>\n",
              "      <td>-0.25</td>\n",
              "      <td>1.94</td>\n",
              "      <td>8.45</td>\n",
              "    </tr>\n",
              "    <tr>\n",
              "      <th>2020-01-02</th>\n",
              "      <td>6967.0</td>\n",
              "      <td>127.19</td>\n",
              "      <td>0.18748</td>\n",
              "      <td>1.0053</td>\n",
              "      <td>0.001999</td>\n",
              "      <td>13.03</td>\n",
              "      <td>0.0327</td>\n",
              "      <td>0.015</td>\n",
              "      <td>7199.7</td>\n",
              "      <td>130.75</td>\n",
              "      <td>...</td>\n",
              "      <td>2.166300e+10</td>\n",
              "      <td>6.865700e+10</td>\n",
              "      <td>-3.23</td>\n",
              "      <td>-2.72</td>\n",
              "      <td>-2.89</td>\n",
              "      <td>-0.68</td>\n",
              "      <td>-1.98</td>\n",
              "      <td>-4.85</td>\n",
              "      <td>-2.33</td>\n",
              "      <td>0.00</td>\n",
              "    </tr>\n",
              "    <tr>\n",
              "      <th>2020-01-03</th>\n",
              "      <td>7343.1</td>\n",
              "      <td>134.27</td>\n",
              "      <td>0.19321</td>\n",
              "      <td>1.0039</td>\n",
              "      <td>0.002042</td>\n",
              "      <td>13.65</td>\n",
              "      <td>0.0341</td>\n",
              "      <td>0.015</td>\n",
              "      <td>6967.1</td>\n",
              "      <td>127.19</td>\n",
              "      <td>...</td>\n",
              "      <td>3.415900e+10</td>\n",
              "      <td>4.334000e+10</td>\n",
              "      <td>5.40</td>\n",
              "      <td>5.56</td>\n",
              "      <td>3.06</td>\n",
              "      <td>-0.14</td>\n",
              "      <td>2.14</td>\n",
              "      <td>4.72</td>\n",
              "      <td>4.32</td>\n",
              "      <td>0.00</td>\n",
              "    </tr>\n",
              "    <tr>\n",
              "      <th>2020-01-04</th>\n",
              "      <td>7376.8</td>\n",
              "      <td>134.33</td>\n",
              "      <td>0.19311</td>\n",
              "      <td>1.0050</td>\n",
              "      <td>0.002307</td>\n",
              "      <td>13.85</td>\n",
              "      <td>0.0344</td>\n",
              "      <td>0.015</td>\n",
              "      <td>7345.1</td>\n",
              "      <td>134.30</td>\n",
              "      <td>...</td>\n",
              "      <td>3.582000e+10</td>\n",
              "      <td>2.805100e+10</td>\n",
              "      <td>0.46</td>\n",
              "      <td>0.04</td>\n",
              "      <td>-0.05</td>\n",
              "      <td>0.11</td>\n",
              "      <td>12.99</td>\n",
              "      <td>1.49</td>\n",
              "      <td>0.79</td>\n",
              "      <td>0.00</td>\n",
              "    </tr>\n",
              "    <tr>\n",
              "      <th>2020-01-05</th>\n",
              "      <td>7372.5</td>\n",
              "      <td>135.59</td>\n",
              "      <td>0.19455</td>\n",
              "      <td>1.0032</td>\n",
              "      <td>0.002080</td>\n",
              "      <td>14.07</td>\n",
              "      <td>0.0346</td>\n",
              "      <td>0.015</td>\n",
              "      <td>7376.8</td>\n",
              "      <td>134.32</td>\n",
              "      <td>...</td>\n",
              "      <td>2.167100e+10</td>\n",
              "      <td>2.382600e+10</td>\n",
              "      <td>-0.06</td>\n",
              "      <td>0.94</td>\n",
              "      <td>0.74</td>\n",
              "      <td>-0.18</td>\n",
              "      <td>-9.86</td>\n",
              "      <td>1.58</td>\n",
              "      <td>0.73</td>\n",
              "      <td>0.00</td>\n",
              "    </tr>\n",
              "  </tbody>\n",
              "</table>\n",
              "<p>5 rows × 48 columns</p>\n",
              "</div>\n",
              "      <button class=\"colab-df-convert\" onclick=\"convertToInteractive('df-02c63c2e-3e2b-4770-811d-c07971dbcd5c')\"\n",
              "              title=\"Convert this dataframe to an interactive table.\"\n",
              "              style=\"display:none;\">\n",
              "        \n",
              "  <svg xmlns=\"http://www.w3.org/2000/svg\" height=\"24px\"viewBox=\"0 0 24 24\"\n",
              "       width=\"24px\">\n",
              "    <path d=\"M0 0h24v24H0V0z\" fill=\"none\"/>\n",
              "    <path d=\"M18.56 5.44l.94 2.06.94-2.06 2.06-.94-2.06-.94-.94-2.06-.94 2.06-2.06.94zm-11 1L8.5 8.5l.94-2.06 2.06-.94-2.06-.94L8.5 2.5l-.94 2.06-2.06.94zm10 10l.94 2.06.94-2.06 2.06-.94-2.06-.94-.94-2.06-.94 2.06-2.06.94z\"/><path d=\"M17.41 7.96l-1.37-1.37c-.4-.4-.92-.59-1.43-.59-.52 0-1.04.2-1.43.59L10.3 9.45l-7.72 7.72c-.78.78-.78 2.05 0 2.83L4 21.41c.39.39.9.59 1.41.59.51 0 1.02-.2 1.41-.59l7.78-7.78 2.81-2.81c.8-.78.8-2.07 0-2.86zM5.41 20L4 18.59l7.72-7.72 1.47 1.35L5.41 20z\"/>\n",
              "  </svg>\n",
              "      </button>\n",
              "      \n",
              "  <style>\n",
              "    .colab-df-container {\n",
              "      display:flex;\n",
              "      flex-wrap:wrap;\n",
              "      gap: 12px;\n",
              "    }\n",
              "\n",
              "    .colab-df-convert {\n",
              "      background-color: #E8F0FE;\n",
              "      border: none;\n",
              "      border-radius: 50%;\n",
              "      cursor: pointer;\n",
              "      display: none;\n",
              "      fill: #1967D2;\n",
              "      height: 32px;\n",
              "      padding: 0 0 0 0;\n",
              "      width: 32px;\n",
              "    }\n",
              "\n",
              "    .colab-df-convert:hover {\n",
              "      background-color: #E2EBFA;\n",
              "      box-shadow: 0px 1px 2px rgba(60, 64, 67, 0.3), 0px 1px 3px 1px rgba(60, 64, 67, 0.15);\n",
              "      fill: #174EA6;\n",
              "    }\n",
              "\n",
              "    [theme=dark] .colab-df-convert {\n",
              "      background-color: #3B4455;\n",
              "      fill: #D2E3FC;\n",
              "    }\n",
              "\n",
              "    [theme=dark] .colab-df-convert:hover {\n",
              "      background-color: #434B5C;\n",
              "      box-shadow: 0px 1px 3px 1px rgba(0, 0, 0, 0.15);\n",
              "      filter: drop-shadow(0px 1px 2px rgba(0, 0, 0, 0.3));\n",
              "      fill: #FFFFFF;\n",
              "    }\n",
              "  </style>\n",
              "\n",
              "      <script>\n",
              "        const buttonEl =\n",
              "          document.querySelector('#df-02c63c2e-3e2b-4770-811d-c07971dbcd5c button.colab-df-convert');\n",
              "        buttonEl.style.display =\n",
              "          google.colab.kernel.accessAllowed ? 'block' : 'none';\n",
              "\n",
              "        async function convertToInteractive(key) {\n",
              "          const element = document.querySelector('#df-02c63c2e-3e2b-4770-811d-c07971dbcd5c');\n",
              "          const dataTable =\n",
              "            await google.colab.kernel.invokeFunction('convertToInteractive',\n",
              "                                                     [key], {});\n",
              "          if (!dataTable) return;\n",
              "\n",
              "          const docLinkHtml = 'Like what you see? Visit the ' +\n",
              "            '<a target=\"_blank\" href=https://colab.research.google.com/notebooks/data_table.ipynb>data table notebook</a>'\n",
              "            + ' to learn more about interactive tables.';\n",
              "          element.innerHTML = '';\n",
              "          dataTable['output_type'] = 'display_data';\n",
              "          await google.colab.output.renderOutput(dataTable, element);\n",
              "          const docLink = document.createElement('div');\n",
              "          docLink.innerHTML = docLinkHtml;\n",
              "          element.appendChild(docLink);\n",
              "        }\n",
              "      </script>\n",
              "    </div>\n",
              "  </div>\n",
              "  "
            ]
          },
          "metadata": {},
          "execution_count": 14
        }
      ],
      "source": [
        "# Create a new dataset for Price of each currency\n",
        "df_price = pd.DataFrame(index=df['Bitcoin'].index, columns=df.keys())\n",
        "for coin in df.keys():\n",
        "    df_price[coin] = df[coin]['Price']\n",
        "    \n",
        "# Create a new dataset for Price of each currency\n",
        "df_open = pd.DataFrame(index=df['Bitcoin'].index, columns=df.keys())\n",
        "for coin in df.keys():\n",
        "    df_open[coin] = df[coin]['Open']\n",
        "\n",
        "# Create a new dataset for Price of each currency\n",
        "df_high = pd.DataFrame(index=df['Bitcoin'].index, columns=df.keys())\n",
        "for coin in df.keys():\n",
        "    df_high[coin] = df[coin]['High']\n",
        "\n",
        "# Create a new dataset for Price of each currency\n",
        "df_low = pd.DataFrame(index=df['Bitcoin'].index, columns=df.keys())\n",
        "for coin in df.keys():\n",
        "    df_low[coin] = df[coin]['Low']\n",
        "\n",
        "# Create a new dataset for Vol. of each currency\n",
        "df_vol = pd.DataFrame(index=df['Bitcoin'].index, columns=df.keys())\n",
        "for coin in df.keys():\n",
        "    df_vol[coin] = df[coin]['Vol.']\n",
        "\n",
        "# Create a new dataset for Vol. of each currency\n",
        "df_change = pd.DataFrame(index=df['Bitcoin'].index, columns=df.keys())\n",
        "for coin in df.keys():\n",
        "    df_change[coin] = df[coin]['Change %']\n",
        "\n",
        "merged_df = pd.concat([df_price, df_open, df_high, df_low, df_vol, df_change], axis=1, join='outer', keys=['Price', 'Open', 'High', 'Low', 'Vol.', 'Change %'])\n",
        "merged_df.head()"
      ]
    },
    {
      "cell_type": "code",
      "execution_count": null,
      "metadata": {
        "colab": {
          "base_uri": "https://localhost:8080/"
        },
        "id": "yiTQRbjiEVpT",
        "outputId": "64aeb09e-6d84-4d92-9a17-28e7ace86339"
      },
      "outputs": [
        {
          "output_type": "execute_result",
          "data": {
            "text/plain": [
              "FrozenList([['Price', 'Open', 'High', 'Low', 'Vol.', 'Change %'], ['Bitcoin', 'Ethereum', 'XRP', 'Tether', 'Dogecoin', 'BNB', 'Cardano', 'Polygon']])"
            ]
          },
          "metadata": {},
          "execution_count": 15
        }
      ],
      "source": [
        "merged_df.columns.levels"
      ]
    },
    {
      "cell_type": "code",
      "execution_count": null,
      "metadata": {
        "colab": {
          "base_uri": "https://localhost:8080/"
        },
        "id": "tTHAG41f0eM1",
        "outputId": "b1f7b3dd-08a6-4f22-fd66-4ddb2f9dc46e"
      },
      "outputs": [
        {
          "output_type": "execute_result",
          "data": {
            "text/plain": [
              "Price     Bitcoin     0\n",
              "          Ethereum    0\n",
              "          XRP         0\n",
              "          Tether      0\n",
              "          Dogecoin    0\n",
              "          BNB         0\n",
              "          Cardano     0\n",
              "          Polygon     0\n",
              "Open      Bitcoin     0\n",
              "          Ethereum    0\n",
              "          XRP         0\n",
              "          Tether      0\n",
              "          Dogecoin    0\n",
              "          BNB         0\n",
              "          Cardano     0\n",
              "          Polygon     0\n",
              "High      Bitcoin     0\n",
              "          Ethereum    0\n",
              "          XRP         0\n",
              "          Tether      0\n",
              "          Dogecoin    0\n",
              "          BNB         0\n",
              "          Cardano     0\n",
              "          Polygon     0\n",
              "Low       Bitcoin     0\n",
              "          Ethereum    0\n",
              "          XRP         0\n",
              "          Tether      0\n",
              "          Dogecoin    0\n",
              "          BNB         0\n",
              "          Cardano     0\n",
              "          Polygon     0\n",
              "Vol.      Bitcoin     0\n",
              "          Ethereum    0\n",
              "          XRP         0\n",
              "          Tether      0\n",
              "          Dogecoin    0\n",
              "          BNB         0\n",
              "          Cardano     0\n",
              "          Polygon     0\n",
              "Change %  Bitcoin     0\n",
              "          Ethereum    0\n",
              "          XRP         0\n",
              "          Tether      0\n",
              "          Dogecoin    0\n",
              "          BNB         0\n",
              "          Cardano     0\n",
              "          Polygon     0\n",
              "dtype: int64"
            ]
          },
          "metadata": {},
          "execution_count": 16
        }
      ],
      "source": [
        "# count missing values\n",
        "merged_df.isna().sum()"
      ]
    },
    {
      "cell_type": "markdown",
      "metadata": {
        "id": "zTjdgJ8tYyj1"
      },
      "source": [
        "# Trading Strategy"
      ]
    },
    {
      "cell_type": "code",
      "execution_count": null,
      "metadata": {
        "id": "crILBLgEbNZO"
      },
      "outputs": [],
      "source": [
        "ma = pd.DataFrame()\n",
        "rsi = pd.DataFrame()"
      ]
    },
    {
      "cell_type": "markdown",
      "metadata": {
        "id": "2iwZA_CaY7V_"
      },
      "source": [
        "##Moving Average"
      ]
    },
    {
      "cell_type": "code",
      "execution_count": null,
      "metadata": {
        "colab": {
          "base_uri": "https://localhost:8080/"
        },
        "id": "B5zEEDH0Y1bD",
        "outputId": "05d808e9-18d0-463d-e6a0-dfb56de5f034"
      },
      "outputs": [
        {
          "output_type": "execute_result",
          "data": {
            "text/plain": [
              "Date\n",
              "2020-07-18     8527.2010\n",
              "2020-07-19     8537.2420\n",
              "2020-07-20     8548.2190\n",
              "2020-07-21     8558.4400\n",
              "2020-07-22     8569.1245\n",
              "                 ...    \n",
              "2022-12-27    19898.7470\n",
              "2022-12-28    19839.4610\n",
              "2022-12-29    19789.6115\n",
              "2022-12-30    19760.4075\n",
              "2022-12-31    19732.3080\n",
              "Name: Bitcoin, Length: 897, dtype: float64"
            ]
          },
          "metadata": {},
          "execution_count": 18
        }
      ],
      "source": [
        "# Calculate n-day Moving Average\n",
        "ma_n = 200\n",
        "for coin in coins:\n",
        "  ma[coin] = merged_df['Price'][coin].rolling(window=ma_n).mean()\n",
        "ma['Bitcoin'].iloc[ma_n-1:]"
      ]
    },
    {
      "cell_type": "markdown",
      "metadata": {
        "id": "kn9uRBTHZAeL"
      },
      "source": [
        "##RSI"
      ]
    },
    {
      "cell_type": "code",
      "execution_count": null,
      "metadata": {
        "colab": {
          "base_uri": "https://localhost:8080/"
        },
        "id": "L4dmTpkHZByC",
        "outputId": "03500461-2706-4e74-9c42-38eef10e2452"
      },
      "outputs": [
        {
          "output_type": "execute_result",
          "data": {
            "text/plain": [
              "Date\n",
              "2020-07-18    51.554899\n",
              "2020-07-19    55.591758\n",
              "2020-07-20    40.435442\n",
              "2020-07-21    56.163740\n",
              "2020-07-22    54.117531\n",
              "                ...    \n",
              "2022-12-27    29.492524\n",
              "2022-12-28    27.326804\n",
              "2022-12-29    35.049233\n",
              "2022-12-30    49.344876\n",
              "2022-12-31    42.655800\n",
              "Name: Bitcoin, Length: 897, dtype: float64"
            ]
          },
          "metadata": {},
          "execution_count": 19
        }
      ],
      "source": [
        "for coin in coins:\n",
        "  # Calculate RSI\n",
        "  delta = merged_df['Price'][coin].diff()\n",
        "  gain = delta.where(delta > 0, 0)\n",
        "  loss = -delta.where(delta < 0, 0)\n",
        "  avg_gain = gain.rolling(window=14).mean()\n",
        "  avg_loss = loss.rolling(window=14).mean()\n",
        "  rs = avg_gain / avg_loss\n",
        "  rsi[coin] = 100 - (100 / (1 + rs))\n",
        "\n",
        "rsi['Bitcoin'].iloc[ma_n-1:]\n",
        "# rsi"
      ]
    },
    {
      "cell_type": "markdown",
      "metadata": {
        "id": "PNDt1l8Ke_mc"
      },
      "source": [
        "##Signal"
      ]
    },
    {
      "cell_type": "code",
      "execution_count": null,
      "metadata": {
        "colab": {
          "base_uri": "https://localhost:8080/"
        },
        "id": "nH_HokIneVV6",
        "outputId": "63756e17-5d3b-4e6c-ab53-ec749d001f57"
      },
      "outputs": [
        {
          "output_type": "execute_result",
          "data": {
            "text/plain": [
              "           Bitcoin Ethereum  XRP Tether Dogecoin  BNB Cardano Polygon\n",
              "Date                                                                 \n",
              "2020-07-18     nan      nan  nan    nan      nan  nan     nan     nan\n",
              "2020-07-19     nan      nan  nan    nan      nan  nan     nan     nan\n",
              "2020-07-20     nan      nan  nan    nan      nan  nan     nan     nan\n",
              "2020-07-21     nan      nan  nan    nan      nan  nan     nan     nan\n",
              "2020-07-22     nan      nan  nan    nan      buy  nan     nan     nan\n",
              "...            ...      ...  ...    ...      ...  ...     ...     ...\n",
              "2022-12-27     nan      nan  nan    nan      buy  nan     nan     buy\n",
              "2022-12-28     nan      nan  nan    nan      nan  nan     nan     nan\n",
              "2022-12-29     nan      nan  nan    nan      nan  nan     nan     nan\n",
              "2022-12-30     nan      nan  nan    nan      nan  nan     nan     nan\n",
              "2022-12-31     nan      nan  nan    nan      nan  nan     nan     nan\n",
              "\n",
              "[897 rows x 8 columns]"
            ],
            "text/html": [
              "\n",
              "  <div id=\"df-5ad52cba-d352-4b51-a410-0d2508718fca\">\n",
              "    <div class=\"colab-df-container\">\n",
              "      <div>\n",
              "<style scoped>\n",
              "    .dataframe tbody tr th:only-of-type {\n",
              "        vertical-align: middle;\n",
              "    }\n",
              "\n",
              "    .dataframe tbody tr th {\n",
              "        vertical-align: top;\n",
              "    }\n",
              "\n",
              "    .dataframe thead th {\n",
              "        text-align: right;\n",
              "    }\n",
              "</style>\n",
              "<table border=\"1\" class=\"dataframe\">\n",
              "  <thead>\n",
              "    <tr style=\"text-align: right;\">\n",
              "      <th></th>\n",
              "      <th>Bitcoin</th>\n",
              "      <th>Ethereum</th>\n",
              "      <th>XRP</th>\n",
              "      <th>Tether</th>\n",
              "      <th>Dogecoin</th>\n",
              "      <th>BNB</th>\n",
              "      <th>Cardano</th>\n",
              "      <th>Polygon</th>\n",
              "    </tr>\n",
              "    <tr>\n",
              "      <th>Date</th>\n",
              "      <th></th>\n",
              "      <th></th>\n",
              "      <th></th>\n",
              "      <th></th>\n",
              "      <th></th>\n",
              "      <th></th>\n",
              "      <th></th>\n",
              "      <th></th>\n",
              "    </tr>\n",
              "  </thead>\n",
              "  <tbody>\n",
              "    <tr>\n",
              "      <th>2020-07-18</th>\n",
              "      <td>nan</td>\n",
              "      <td>nan</td>\n",
              "      <td>nan</td>\n",
              "      <td>nan</td>\n",
              "      <td>nan</td>\n",
              "      <td>nan</td>\n",
              "      <td>nan</td>\n",
              "      <td>nan</td>\n",
              "    </tr>\n",
              "    <tr>\n",
              "      <th>2020-07-19</th>\n",
              "      <td>nan</td>\n",
              "      <td>nan</td>\n",
              "      <td>nan</td>\n",
              "      <td>nan</td>\n",
              "      <td>nan</td>\n",
              "      <td>nan</td>\n",
              "      <td>nan</td>\n",
              "      <td>nan</td>\n",
              "    </tr>\n",
              "    <tr>\n",
              "      <th>2020-07-20</th>\n",
              "      <td>nan</td>\n",
              "      <td>nan</td>\n",
              "      <td>nan</td>\n",
              "      <td>nan</td>\n",
              "      <td>nan</td>\n",
              "      <td>nan</td>\n",
              "      <td>nan</td>\n",
              "      <td>nan</td>\n",
              "    </tr>\n",
              "    <tr>\n",
              "      <th>2020-07-21</th>\n",
              "      <td>nan</td>\n",
              "      <td>nan</td>\n",
              "      <td>nan</td>\n",
              "      <td>nan</td>\n",
              "      <td>nan</td>\n",
              "      <td>nan</td>\n",
              "      <td>nan</td>\n",
              "      <td>nan</td>\n",
              "    </tr>\n",
              "    <tr>\n",
              "      <th>2020-07-22</th>\n",
              "      <td>nan</td>\n",
              "      <td>nan</td>\n",
              "      <td>nan</td>\n",
              "      <td>nan</td>\n",
              "      <td>buy</td>\n",
              "      <td>nan</td>\n",
              "      <td>nan</td>\n",
              "      <td>nan</td>\n",
              "    </tr>\n",
              "    <tr>\n",
              "      <th>...</th>\n",
              "      <td>...</td>\n",
              "      <td>...</td>\n",
              "      <td>...</td>\n",
              "      <td>...</td>\n",
              "      <td>...</td>\n",
              "      <td>...</td>\n",
              "      <td>...</td>\n",
              "      <td>...</td>\n",
              "    </tr>\n",
              "    <tr>\n",
              "      <th>2022-12-27</th>\n",
              "      <td>nan</td>\n",
              "      <td>nan</td>\n",
              "      <td>nan</td>\n",
              "      <td>nan</td>\n",
              "      <td>buy</td>\n",
              "      <td>nan</td>\n",
              "      <td>nan</td>\n",
              "      <td>buy</td>\n",
              "    </tr>\n",
              "    <tr>\n",
              "      <th>2022-12-28</th>\n",
              "      <td>nan</td>\n",
              "      <td>nan</td>\n",
              "      <td>nan</td>\n",
              "      <td>nan</td>\n",
              "      <td>nan</td>\n",
              "      <td>nan</td>\n",
              "      <td>nan</td>\n",
              "      <td>nan</td>\n",
              "    </tr>\n",
              "    <tr>\n",
              "      <th>2022-12-29</th>\n",
              "      <td>nan</td>\n",
              "      <td>nan</td>\n",
              "      <td>nan</td>\n",
              "      <td>nan</td>\n",
              "      <td>nan</td>\n",
              "      <td>nan</td>\n",
              "      <td>nan</td>\n",
              "      <td>nan</td>\n",
              "    </tr>\n",
              "    <tr>\n",
              "      <th>2022-12-30</th>\n",
              "      <td>nan</td>\n",
              "      <td>nan</td>\n",
              "      <td>nan</td>\n",
              "      <td>nan</td>\n",
              "      <td>nan</td>\n",
              "      <td>nan</td>\n",
              "      <td>nan</td>\n",
              "      <td>nan</td>\n",
              "    </tr>\n",
              "    <tr>\n",
              "      <th>2022-12-31</th>\n",
              "      <td>nan</td>\n",
              "      <td>nan</td>\n",
              "      <td>nan</td>\n",
              "      <td>nan</td>\n",
              "      <td>nan</td>\n",
              "      <td>nan</td>\n",
              "      <td>nan</td>\n",
              "      <td>nan</td>\n",
              "    </tr>\n",
              "  </tbody>\n",
              "</table>\n",
              "<p>897 rows × 8 columns</p>\n",
              "</div>\n",
              "      <button class=\"colab-df-convert\" onclick=\"convertToInteractive('df-5ad52cba-d352-4b51-a410-0d2508718fca')\"\n",
              "              title=\"Convert this dataframe to an interactive table.\"\n",
              "              style=\"display:none;\">\n",
              "        \n",
              "  <svg xmlns=\"http://www.w3.org/2000/svg\" height=\"24px\"viewBox=\"0 0 24 24\"\n",
              "       width=\"24px\">\n",
              "    <path d=\"M0 0h24v24H0V0z\" fill=\"none\"/>\n",
              "    <path d=\"M18.56 5.44l.94 2.06.94-2.06 2.06-.94-2.06-.94-.94-2.06-.94 2.06-2.06.94zm-11 1L8.5 8.5l.94-2.06 2.06-.94-2.06-.94L8.5 2.5l-.94 2.06-2.06.94zm10 10l.94 2.06.94-2.06 2.06-.94-2.06-.94-.94-2.06-.94 2.06-2.06.94z\"/><path d=\"M17.41 7.96l-1.37-1.37c-.4-.4-.92-.59-1.43-.59-.52 0-1.04.2-1.43.59L10.3 9.45l-7.72 7.72c-.78.78-.78 2.05 0 2.83L4 21.41c.39.39.9.59 1.41.59.51 0 1.02-.2 1.41-.59l7.78-7.78 2.81-2.81c.8-.78.8-2.07 0-2.86zM5.41 20L4 18.59l7.72-7.72 1.47 1.35L5.41 20z\"/>\n",
              "  </svg>\n",
              "      </button>\n",
              "      \n",
              "  <style>\n",
              "    .colab-df-container {\n",
              "      display:flex;\n",
              "      flex-wrap:wrap;\n",
              "      gap: 12px;\n",
              "    }\n",
              "\n",
              "    .colab-df-convert {\n",
              "      background-color: #E8F0FE;\n",
              "      border: none;\n",
              "      border-radius: 50%;\n",
              "      cursor: pointer;\n",
              "      display: none;\n",
              "      fill: #1967D2;\n",
              "      height: 32px;\n",
              "      padding: 0 0 0 0;\n",
              "      width: 32px;\n",
              "    }\n",
              "\n",
              "    .colab-df-convert:hover {\n",
              "      background-color: #E2EBFA;\n",
              "      box-shadow: 0px 1px 2px rgba(60, 64, 67, 0.3), 0px 1px 3px 1px rgba(60, 64, 67, 0.15);\n",
              "      fill: #174EA6;\n",
              "    }\n",
              "\n",
              "    [theme=dark] .colab-df-convert {\n",
              "      background-color: #3B4455;\n",
              "      fill: #D2E3FC;\n",
              "    }\n",
              "\n",
              "    [theme=dark] .colab-df-convert:hover {\n",
              "      background-color: #434B5C;\n",
              "      box-shadow: 0px 1px 3px 1px rgba(0, 0, 0, 0.15);\n",
              "      filter: drop-shadow(0px 1px 2px rgba(0, 0, 0, 0.3));\n",
              "      fill: #FFFFFF;\n",
              "    }\n",
              "  </style>\n",
              "\n",
              "      <script>\n",
              "        const buttonEl =\n",
              "          document.querySelector('#df-5ad52cba-d352-4b51-a410-0d2508718fca button.colab-df-convert');\n",
              "        buttonEl.style.display =\n",
              "          google.colab.kernel.accessAllowed ? 'block' : 'none';\n",
              "\n",
              "        async function convertToInteractive(key) {\n",
              "          const element = document.querySelector('#df-5ad52cba-d352-4b51-a410-0d2508718fca');\n",
              "          const dataTable =\n",
              "            await google.colab.kernel.invokeFunction('convertToInteractive',\n",
              "                                                     [key], {});\n",
              "          if (!dataTable) return;\n",
              "\n",
              "          const docLinkHtml = 'Like what you see? Visit the ' +\n",
              "            '<a target=\"_blank\" href=https://colab.research.google.com/notebooks/data_table.ipynb>data table notebook</a>'\n",
              "            + ' to learn more about interactive tables.';\n",
              "          element.innerHTML = '';\n",
              "          dataTable['output_type'] = 'display_data';\n",
              "          await google.colab.output.renderOutput(dataTable, element);\n",
              "          const docLink = document.createElement('div');\n",
              "          docLink.innerHTML = docLinkHtml;\n",
              "          element.appendChild(docLink);\n",
              "        }\n",
              "      </script>\n",
              "    </div>\n",
              "  </div>\n",
              "  "
            ]
          },
          "metadata": {},
          "execution_count": 20
        }
      ],
      "source": [
        "signal = pd.DataFrame(index=ma.index[ma_n-1:])\n",
        "\n",
        "def trading_signal():\n",
        "  for coin in coins:\n",
        "    signal[coin] = np.where(\n",
        "                            (rsi[coin].iloc[ma_n-1:] < 30) & (merged_df['Price'][coin].iloc[ma_n-1:] > ma[coin].iloc[ma_n-1:]), \n",
        "                            'buy', \n",
        "                            np.nan\n",
        "                            )\n",
        "    signal[coin] = np.where(\n",
        "                            (rsi[coin].iloc[ma_n-1:] > 70) & (merged_df['Price'][coin].iloc[ma_n-1:] < ma[coin].iloc[ma_n-1:]), \n",
        "                            'sell', \n",
        "                            signal[coin]\n",
        "                            )\n",
        "\n",
        "trading_signal()\n",
        "signal"
      ]
    },
    {
      "cell_type": "code",
      "execution_count": null,
      "metadata": {
        "colab": {
          "base_uri": "https://localhost:8080/"
        },
        "id": "AdoWz2SQiZ4O",
        "outputId": "27d26830-4a49-4ffe-b992-0f54a61d62b3"
      },
      "outputs": [
        {
          "output_type": "stream",
          "name": "stdout",
          "text": [
            "Frequency of sell indicators\n",
            "Bitcoin: 38\n",
            "Ethereum: 39\n",
            "XRP: 24\n",
            "Tether: 4\n",
            "Dogecoin: 18\n",
            "BNB: 30\n",
            "Cardano: 19\n",
            "Polygon: 15\n"
          ]
        }
      ],
      "source": [
        "print('Frequency of sell indicators')\n",
        "for coin in coins:\n",
        "  print(f'{coin}: {signal[coin].value_counts()[\"sell\"]}')"
      ]
    },
    {
      "cell_type": "code",
      "execution_count": null,
      "metadata": {
        "colab": {
          "base_uri": "https://localhost:8080/"
        },
        "id": "runB8AKEoKE2",
        "outputId": "1b7dc882-4c7f-45a0-c159-fa6238f43a76"
      },
      "outputs": [
        {
          "output_type": "stream",
          "name": "stdout",
          "text": [
            "Frequency of buy indicators\n",
            "Bitcoin: 18\n",
            "Ethereum: 11\n",
            "XRP: 10\n",
            "Tether: 1\n",
            "Dogecoin: 56\n",
            "BNB: 16\n",
            "Cardano: 23\n",
            "Polygon: 40\n"
          ]
        }
      ],
      "source": [
        "print('Frequency of buy indicators')\n",
        "for coin in coins:\n",
        "  print(f'{coin}: {signal[coin].value_counts()[\"buy\"]}')"
      ]
    },
    {
      "cell_type": "code",
      "execution_count": null,
      "metadata": {
        "colab": {
          "base_uri": "https://localhost:8080/"
        },
        "id": "WTehLiKsmDGg",
        "outputId": "8a78c7a5-37bd-4e6d-9156-7a12d49e3773"
      },
      "outputs": [
        {
          "output_type": "execute_result",
          "data": {
            "text/plain": [
              "DatetimeIndex(['2020-07-27', '2020-07-28', '2020-07-29', '2020-08-03',\n",
              "               '2020-09-09', '2020-09-12', '2020-09-13', '2020-09-14',\n",
              "               '2021-03-25', '2021-06-09', '2021-06-10', '2021-06-11',\n",
              "               '2021-06-29', '2021-07-01', '2021-07-13', '2021-07-14',\n",
              "               '2021-07-15', '2021-07-16', '2021-07-17', '2021-07-18',\n",
              "               '2021-07-19', '2021-07-20', '2021-09-18', '2021-09-19',\n",
              "               '2021-09-20', '2021-11-11', '2021-11-16', '2021-11-17',\n",
              "               '2021-11-18', '2022-01-08', '2022-01-09', '2022-01-10',\n",
              "               '2022-01-28', '2022-01-29', '2022-01-31', '2022-02-01',\n",
              "               '2022-11-24', '2022-11-25', '2022-12-16', '2022-12-27'],\n",
              "              dtype='datetime64[ns]', name='Date', freq=None)"
            ]
          },
          "metadata": {},
          "execution_count": 23
        }
      ],
      "source": [
        "signal[signal[coin].isin(['buy'])].index"
      ]
    },
    {
      "cell_type": "markdown",
      "metadata": {
        "id": "qZSmKeK4j6cL"
      },
      "source": [
        "# Features"
      ]
    },
    {
      "cell_type": "code",
      "execution_count": null,
      "metadata": {
        "id": "pqNmhLBtB5uF"
      },
      "outputs": [],
      "source": [
        "crypto_open = np.array(merged_df['Open']).T\n",
        "crypto_close = np.array(merged_df['Price']).T"
      ]
    },
    {
      "cell_type": "code",
      "execution_count": null,
      "metadata": {
        "colab": {
          "base_uri": "https://localhost:8080/"
        },
        "id": "IPA6zpw0F3lK",
        "outputId": "6c677f00-6578-4c1c-d113-fe91eeeb3bb0"
      },
      "outputs": [
        {
          "output_type": "execute_result",
          "data": {
            "text/plain": [
              "array([[ 3.400e+00, -2.327e+02,  3.760e+02, ...,  9.020e+01, -2.920e+01,\n",
              "        -6.980e+01],\n",
              "       [ 1.540e+00, -3.560e+00,  7.080e+00, ...,  1.085e+01, -1.040e+00,\n",
              "        -4.330e+00],\n",
              "       [ 1.400e-04, -5.580e-03,  5.720e-03, ..., -1.384e-02,  3.090e-03,\n",
              "        -6.440e-03],\n",
              "       ...,\n",
              "       [-3.000e-02, -6.700e-01,  6.300e-01, ...,  1.900e+00, -5.000e-01,\n",
              "         3.000e-01],\n",
              "       [ 7.000e-04, -8.000e-04,  1.400e-03, ..., -4.300e-03,  1.800e-03,\n",
              "        -1.000e-04],\n",
              "       [ 1.000e-03,  0.000e+00,  0.000e+00, ..., -6.000e-03, -1.600e-02,\n",
              "        -3.000e-03]])"
            ]
          },
          "metadata": {},
          "execution_count": 25
        }
      ],
      "source": [
        "movements = crypto_close-crypto_open\n",
        "movements"
      ]
    },
    {
      "cell_type": "code",
      "execution_count": null,
      "metadata": {
        "colab": {
          "base_uri": "https://localhost:8080/"
        },
        "id": "IaXZQkhaF9ui",
        "outputId": "1e3693e2-343b-4354-ae74-733441675a2a"
      },
      "outputs": [
        {
          "output_type": "execute_result",
          "data": {
            "text/plain": [
              "array([ 8.91910e+03,  1.01295e+03,  1.35090e-01, -7.77000e-02,\n",
              "        6.36180e-02,  2.30210e+02,  2.76100e-01,  7.01000e-01])"
            ]
          },
          "metadata": {},
          "execution_count": 26
        }
      ],
      "source": [
        "sum_of_movements = np.sum(movements,1)\n",
        "sum_of_movements"
      ]
    },
    {
      "cell_type": "code",
      "execution_count": null,
      "metadata": {
        "colab": {
          "base_uri": "https://localhost:8080/"
        },
        "id": "adxFBMOmGPqM",
        "outputId": "3210195c-7f21-4c1b-d37a-ce0d8d6c1eac"
      },
      "outputs": [
        {
          "output_type": "stream",
          "name": "stdout",
          "text": [
            "coin:Bitcoin, Change:8919.100000000071\n",
            "coin:Ethereum, Change:1012.9499999999978\n",
            "coin:XRP, Change:0.1350899999999995\n",
            "coin:Tether, Change:-0.07770000000000288\n",
            "coin:Dogecoin, Change:0.06361800000000029\n",
            "coin:BNB, Change:230.20999999999918\n",
            "coin:Cardano, Change:0.276099999999998\n",
            "coin:Polygon, Change:0.701\n"
          ]
        }
      ],
      "source": [
        "for i in range(len(files)):\n",
        " print('coin:{}, Change:{}'.format(merged_df['High'].columns[i], sum_of_movements[i]))"
      ]
    },
    {
      "cell_type": "code",
      "execution_count": null,
      "metadata": {
        "colab": {
          "base_uri": "https://localhost:8080/"
        },
        "id": "QwfiB79hHt7J",
        "outputId": "1bec6b59-dca4-4132-a057-8a7cc551a3ed"
      },
      "outputs": [
        {
          "output_type": "execute_result",
          "data": {
            "text/plain": [
              "[<matplotlib.lines.Line2D at 0x7f75dcc29a30>]"
            ]
          },
          "metadata": {},
          "execution_count": 28
        },
        {
          "output_type": "display_data",
          "data": {
            "text/plain": [
              "<Figure size 1500x500 with 2 Axes>"
            ],
            "image/png": "[encoded data removed]"
          },
          "metadata": {}
        }
      ],
      "source": [
        "compare = ['Bitcoin', 'Ethereum']\n",
        "\n",
        "plt.figure(figsize = (15,5)) \n",
        "\n",
        "ax1 = plt.subplot(1,2,1)\n",
        "plt.title(compare[0],fontsize = 15)\n",
        "plt.xticks(fontsize = 8)\n",
        "plt.yticks(fontsize = 8)\n",
        "plt.xlabel('Date',fontsize = 10)\n",
        "plt.ylabel('Movement',fontsize = 10)\n",
        "plt.plot(movements[merged_df['Price'].columns.get_loc(compare[0])])\n",
        "\n",
        "plt.subplot(1,2,2,sharey = ax1)\n",
        "plt.title(compare[1],fontsize = 15)\n",
        "plt.xticks(fontsize = 8)\n",
        "plt.yticks(fontsize = 8)\n",
        "plt.xlabel('Date',fontsize = 10)\n",
        "plt.ylabel('Movement',fontsize = 10)\n",
        "plt.plot(movements[merged_df['Price'].columns.get_loc(compare[1])])"
      ]
    },
    {
      "cell_type": "markdown",
      "metadata": {
        "id": "9X2is3uoJ90u"
      },
      "source": [
        "## Normalize"
      ]
    },
    {
      "cell_type": "code",
      "execution_count": null,
      "metadata": {
        "colab": {
          "base_uri": "https://localhost:8080/"
        },
        "id": "JpAvPLDrLJ2V",
        "outputId": "f6e6c106-7999-4ec1-951d-b39001015f1f"
      },
      "outputs": [
        {
          "output_type": "execute_result",
          "data": {
            "text/plain": [
              "          0       1        2       3         4       5       6      7\n",
              "min -7310.3 -940.53 -0.52885 -0.0110 -0.145905 -173.15 -0.5338 -0.827\n",
              "max  7542.1  545.49  0.35522  0.0102  0.182923  137.00  0.4164  0.723"
            ],
            "text/html": [
              "\n",
              "  <div id=\"df-701c7c8c-54f2-4335-8c51-c0ac94f73091\">\n",
              "    <div class=\"colab-df-container\">\n",
              "      <div>\n",
              "<style scoped>\n",
              "    .dataframe tbody tr th:only-of-type {\n",
              "        vertical-align: middle;\n",
              "    }\n",
              "\n",
              "    .dataframe tbody tr th {\n",
              "        vertical-align: top;\n",
              "    }\n",
              "\n",
              "    .dataframe thead th {\n",
              "        text-align: right;\n",
              "    }\n",
              "</style>\n",
              "<table border=\"1\" class=\"dataframe\">\n",
              "  <thead>\n",
              "    <tr style=\"text-align: right;\">\n",
              "      <th></th>\n",
              "      <th>0</th>\n",
              "      <th>1</th>\n",
              "      <th>2</th>\n",
              "      <th>3</th>\n",
              "      <th>4</th>\n",
              "      <th>5</th>\n",
              "      <th>6</th>\n",
              "      <th>7</th>\n",
              "    </tr>\n",
              "  </thead>\n",
              "  <tbody>\n",
              "    <tr>\n",
              "      <th>min</th>\n",
              "      <td>-7310.3</td>\n",
              "      <td>-940.53</td>\n",
              "      <td>-0.52885</td>\n",
              "      <td>-0.0110</td>\n",
              "      <td>-0.145905</td>\n",
              "      <td>-173.15</td>\n",
              "      <td>-0.5338</td>\n",
              "      <td>-0.827</td>\n",
              "    </tr>\n",
              "    <tr>\n",
              "      <th>max</th>\n",
              "      <td>7542.1</td>\n",
              "      <td>545.49</td>\n",
              "      <td>0.35522</td>\n",
              "      <td>0.0102</td>\n",
              "      <td>0.182923</td>\n",
              "      <td>137.00</td>\n",
              "      <td>0.4164</td>\n",
              "      <td>0.723</td>\n",
              "    </tr>\n",
              "  </tbody>\n",
              "</table>\n",
              "</div>\n",
              "      <button class=\"colab-df-convert\" onclick=\"convertToInteractive('df-701c7c8c-54f2-4335-8c51-c0ac94f73091')\"\n",
              "              title=\"Convert this dataframe to an interactive table.\"\n",
              "              style=\"display:none;\">\n",
              "        \n",
              "  <svg xmlns=\"http://www.w3.org/2000/svg\" height=\"24px\"viewBox=\"0 0 24 24\"\n",
              "       width=\"24px\">\n",
              "    <path d=\"M0 0h24v24H0V0z\" fill=\"none\"/>\n",
              "    <path d=\"M18.56 5.44l.94 2.06.94-2.06 2.06-.94-2.06-.94-.94-2.06-.94 2.06-2.06.94zm-11 1L8.5 8.5l.94-2.06 2.06-.94-2.06-.94L8.5 2.5l-.94 2.06-2.06.94zm10 10l.94 2.06.94-2.06 2.06-.94-2.06-.94-.94-2.06-.94 2.06-2.06.94z\"/><path d=\"M17.41 7.96l-1.37-1.37c-.4-.4-.92-.59-1.43-.59-.52 0-1.04.2-1.43.59L10.3 9.45l-7.72 7.72c-.78.78-.78 2.05 0 2.83L4 21.41c.39.39.9.59 1.41.59.51 0 1.02-.2 1.41-.59l7.78-7.78 2.81-2.81c.8-.78.8-2.07 0-2.86zM5.41 20L4 18.59l7.72-7.72 1.47 1.35L5.41 20z\"/>\n",
              "  </svg>\n",
              "      </button>\n",
              "      \n",
              "  <style>\n",
              "    .colab-df-container {\n",
              "      display:flex;\n",
              "      flex-wrap:wrap;\n",
              "      gap: 12px;\n",
              "    }\n",
              "\n",
              "    .colab-df-convert {\n",
              "      background-color: #E8F0FE;\n",
              "      border: none;\n",
              "      border-radius: 50%;\n",
              "      cursor: pointer;\n",
              "      display: none;\n",
              "      fill: #1967D2;\n",
              "      height: 32px;\n",
              "      padding: 0 0 0 0;\n",
              "      width: 32px;\n",
              "    }\n",
              "\n",
              "    .colab-df-convert:hover {\n",
              "      background-color: #E2EBFA;\n",
              "      box-shadow: 0px 1px 2px rgba(60, 64, 67, 0.3), 0px 1px 3px 1px rgba(60, 64, 67, 0.15);\n",
              "      fill: #174EA6;\n",
              "    }\n",
              "\n",
              "    [theme=dark] .colab-df-convert {\n",
              "      background-color: #3B4455;\n",
              "      fill: #D2E3FC;\n",
              "    }\n",
              "\n",
              "    [theme=dark] .colab-df-convert:hover {\n",
              "      background-color: #434B5C;\n",
              "      box-shadow: 0px 1px 3px 1px rgba(0, 0, 0, 0.15);\n",
              "      filter: drop-shadow(0px 1px 2px rgba(0, 0, 0, 0.3));\n",
              "      fill: #FFFFFF;\n",
              "    }\n",
              "  </style>\n",
              "\n",
              "      <script>\n",
              "        const buttonEl =\n",
              "          document.querySelector('#df-701c7c8c-54f2-4335-8c51-c0ac94f73091 button.colab-df-convert');\n",
              "        buttonEl.style.display =\n",
              "          google.colab.kernel.accessAllowed ? 'block' : 'none';\n",
              "\n",
              "        async function convertToInteractive(key) {\n",
              "          const element = document.querySelector('#df-701c7c8c-54f2-4335-8c51-c0ac94f73091');\n",
              "          const dataTable =\n",
              "            await google.colab.kernel.invokeFunction('convertToInteractive',\n",
              "                                                     [key], {});\n",
              "          if (!dataTable) return;\n",
              "\n",
              "          const docLinkHtml = 'Like what you see? Visit the ' +\n",
              "            '<a target=\"_blank\" href=https://colab.research.google.com/notebooks/data_table.ipynb>data table notebook</a>'\n",
              "            + ' to learn more about interactive tables.';\n",
              "          element.innerHTML = '';\n",
              "          dataTable['output_type'] = 'display_data';\n",
              "          await google.colab.output.renderOutput(dataTable, element);\n",
              "          const docLink = document.createElement('div');\n",
              "          docLink.innerHTML = docLinkHtml;\n",
              "          element.appendChild(docLink);\n",
              "        }\n",
              "      </script>\n",
              "    </div>\n",
              "  </div>\n",
              "  "
            ]
          },
          "metadata": {},
          "execution_count": 29
        }
      ],
      "source": [
        "pd.DataFrame(movements.T).describe().loc[['min', 'max']]"
      ]
    },
    {
      "cell_type": "code",
      "execution_count": null,
      "metadata": {
        "id": "l52_VhOIJ9oI"
      },
      "outputs": [],
      "source": [
        "from sklearn.preprocessing import Normalizer\n",
        "\n",
        "normalizer = Normalizer() # Define a Normalizer\n",
        "\n",
        "norm_movements = normalizer.fit_transform(movements) # Fit and transform"
      ]
    },
    {
      "cell_type": "code",
      "execution_count": null,
      "metadata": {
        "colab": {
          "base_uri": "https://localhost:8080/"
        },
        "id": "WZWD2MFRLUQQ",
        "outputId": "e7501536-9983-4c9d-8303-fc9c3dbcb65b"
      },
      "outputs": [
        {
          "output_type": "execute_result",
          "data": {
            "text/plain": [
              "            0         1         2         3         4         5         6  \\\n",
              "min -0.172947 -0.278652 -0.343611 -0.381694 -0.258594 -0.317404 -0.265452   \n",
              "max  0.178430  0.161613  0.230798  0.353934  0.324203  0.251137  0.207070   \n",
              "\n",
              "            7  \n",
              "min -0.318692  \n",
              "max  0.278615  "
            ],
            "text/html": [
              "\n",
              "  <div id=\"df-97cd1827-c62a-4b41-928f-ab6938d56777\">\n",
              "    <div class=\"colab-df-container\">\n",
              "      <div>\n",
              "<style scoped>\n",
              "    .dataframe tbody tr th:only-of-type {\n",
              "        vertical-align: middle;\n",
              "    }\n",
              "\n",
              "    .dataframe tbody tr th {\n",
              "        vertical-align: top;\n",
              "    }\n",
              "\n",
              "    .dataframe thead th {\n",
              "        text-align: right;\n",
              "    }\n",
              "</style>\n",
              "<table border=\"1\" class=\"dataframe\">\n",
              "  <thead>\n",
              "    <tr style=\"text-align: right;\">\n",
              "      <th></th>\n",
              "      <th>0</th>\n",
              "      <th>1</th>\n",
              "      <th>2</th>\n",
              "      <th>3</th>\n",
              "      <th>4</th>\n",
              "      <th>5</th>\n",
              "      <th>6</th>\n",
              "      <th>7</th>\n",
              "    </tr>\n",
              "  </thead>\n",
              "  <tbody>\n",
              "    <tr>\n",
              "      <th>min</th>\n",
              "      <td>-0.172947</td>\n",
              "      <td>-0.278652</td>\n",
              "      <td>-0.343611</td>\n",
              "      <td>-0.381694</td>\n",
              "      <td>-0.258594</td>\n",
              "      <td>-0.317404</td>\n",
              "      <td>-0.265452</td>\n",
              "      <td>-0.318692</td>\n",
              "    </tr>\n",
              "    <tr>\n",
              "      <th>max</th>\n",
              "      <td>0.178430</td>\n",
              "      <td>0.161613</td>\n",
              "      <td>0.230798</td>\n",
              "      <td>0.353934</td>\n",
              "      <td>0.324203</td>\n",
              "      <td>0.251137</td>\n",
              "      <td>0.207070</td>\n",
              "      <td>0.278615</td>\n",
              "    </tr>\n",
              "  </tbody>\n",
              "</table>\n",
              "</div>\n",
              "      <button class=\"colab-df-convert\" onclick=\"convertToInteractive('df-97cd1827-c62a-4b41-928f-ab6938d56777')\"\n",
              "              title=\"Convert this dataframe to an interactive table.\"\n",
              "              style=\"display:none;\">\n",
              "        \n",
              "  <svg xmlns=\"http://www.w3.org/2000/svg\" height=\"24px\"viewBox=\"0 0 24 24\"\n",
              "       width=\"24px\">\n",
              "    <path d=\"M0 0h24v24H0V0z\" fill=\"none\"/>\n",
              "    <path d=\"M18.56 5.44l.94 2.06.94-2.06 2.06-.94-2.06-.94-.94-2.06-.94 2.06-2.06.94zm-11 1L8.5 8.5l.94-2.06 2.06-.94-2.06-.94L8.5 2.5l-.94 2.06-2.06.94zm10 10l.94 2.06.94-2.06 2.06-.94-2.06-.94-.94-2.06-.94 2.06-2.06.94z\"/><path d=\"M17.41 7.96l-1.37-1.37c-.4-.4-.92-.59-1.43-.59-.52 0-1.04.2-1.43.59L10.3 9.45l-7.72 7.72c-.78.78-.78 2.05 0 2.83L4 21.41c.39.39.9.59 1.41.59.51 0 1.02-.2 1.41-.59l7.78-7.78 2.81-2.81c.8-.78.8-2.07 0-2.86zM5.41 20L4 18.59l7.72-7.72 1.47 1.35L5.41 20z\"/>\n",
              "  </svg>\n",
              "      </button>\n",
              "      \n",
              "  <style>\n",
              "    .colab-df-container {\n",
              "      display:flex;\n",
              "      flex-wrap:wrap;\n",
              "      gap: 12px;\n",
              "    }\n",
              "\n",
              "    .colab-df-convert {\n",
              "      background-color: #E8F0FE;\n",
              "      border: none;\n",
              "      border-radius: 50%;\n",
              "      cursor: pointer;\n",
              "      display: none;\n",
              "      fill: #1967D2;\n",
              "      height: 32px;\n",
              "      padding: 0 0 0 0;\n",
              "      width: 32px;\n",
              "    }\n",
              "\n",
              "    .colab-df-convert:hover {\n",
              "      background-color: #E2EBFA;\n",
              "      box-shadow: 0px 1px 2px rgba(60, 64, 67, 0.3), 0px 1px 3px 1px rgba(60, 64, 67, 0.15);\n",
              "      fill: #174EA6;\n",
              "    }\n",
              "\n",
              "    [theme=dark] .colab-df-convert {\n",
              "      background-color: #3B4455;\n",
              "      fill: #D2E3FC;\n",
              "    }\n",
              "\n",
              "    [theme=dark] .colab-df-convert:hover {\n",
              "      background-color: #434B5C;\n",
              "      box-shadow: 0px 1px 3px 1px rgba(0, 0, 0, 0.15);\n",
              "      filter: drop-shadow(0px 1px 2px rgba(0, 0, 0, 0.3));\n",
              "      fill: #FFFFFF;\n",
              "    }\n",
              "  </style>\n",
              "\n",
              "      <script>\n",
              "        const buttonEl =\n",
              "          document.querySelector('#df-97cd1827-c62a-4b41-928f-ab6938d56777 button.colab-df-convert');\n",
              "        buttonEl.style.display =\n",
              "          google.colab.kernel.accessAllowed ? 'block' : 'none';\n",
              "\n",
              "        async function convertToInteractive(key) {\n",
              "          const element = document.querySelector('#df-97cd1827-c62a-4b41-928f-ab6938d56777');\n",
              "          const dataTable =\n",
              "            await google.colab.kernel.invokeFunction('convertToInteractive',\n",
              "                                                     [key], {});\n",
              "          if (!dataTable) return;\n",
              "\n",
              "          const docLinkHtml = 'Like what you see? Visit the ' +\n",
              "            '<a target=\"_blank\" href=https://colab.research.google.com/notebooks/data_table.ipynb>data table notebook</a>'\n",
              "            + ' to learn more about interactive tables.';\n",
              "          element.innerHTML = '';\n",
              "          dataTable['output_type'] = 'display_data';\n",
              "          await google.colab.output.renderOutput(dataTable, element);\n",
              "          const docLink = document.createElement('div');\n",
              "          docLink.innerHTML = docLinkHtml;\n",
              "          element.appendChild(docLink);\n",
              "        }\n",
              "      </script>\n",
              "    </div>\n",
              "  </div>\n",
              "  "
            ]
          },
          "metadata": {},
          "execution_count": 31
        }
      ],
      "source": [
        "pd.DataFrame(norm_movements.T).describe().loc[['min', 'max']]"
      ]
    },
    {
      "cell_type": "code",
      "execution_count": null,
      "metadata": {
        "colab": {
          "base_uri": "https://localhost:8080/"
        },
        "id": "omSkKAV1qiNg",
        "outputId": "3985966b-e52d-4946-e737-e24fc802b2af"
      },
      "outputs": [
        {
          "output_type": "stream",
          "name": "stdout",
          "text": [
            "coin:Bitcoin, Change:0.21100739165865207\n",
            "coin:Ethereum, Change:0.30010764596511297\n",
            "coin:XRP, Change:0.08777232239090191\n",
            "coin:Tether, Change:-2.6961456923103038\n",
            "coin:Dogecoin, Change:0.11275301137912253\n",
            "coin:BNB, Change:0.4220017430160706\n",
            "coin:Cardano, Change:0.13730105718107444\n",
            "coin:Polygon, Change:0.27013688052749574\n"
          ]
        }
      ],
      "source": [
        "sum_of_norm_movements = np.sum(norm_movements,1)\n",
        "sum_of_norm_movements\n",
        "\n",
        "for i in range(len(files)):\n",
        " print('coin:{}, Change:{}'.format(merged_df['High'].columns[i], sum_of_norm_movements[i]))"
      ]
    },
    {
      "cell_type": "code",
      "execution_count": null,
      "metadata": {
        "colab": {
          "base_uri": "https://localhost:8080/"
        },
        "id": "Z6DipQEILtHT",
        "outputId": "8a3310e7-0b52-470f-96cb-e1d0a9c0142a"
      },
      "outputs": [
        {
          "output_type": "stream",
          "name": "stderr",
          "text": [
            "<ipython-input-33-dac08f733b90>:6: MatplotlibDeprecationWarning: Auto-removal of overlapping axes is deprecated since 3.6 and will be removed two minor releases later; explicitly call ax.remove() as needed.\n",
            "  plt.subplot(3,3,i+1,sharey = ax1)\n"
          ]
        },
        {
          "output_type": "stream",
          "name": "stdout",
          "text": [
            "Error in callback <function _draw_all_if_interactive at 0x7f760c2c9700> (for post_execute):\n"
          ]
        },
        {
          "output_type": "error",
          "ename": "AttributeError",
          "evalue": "ignored",
          "traceback": [
            "\u001b[0;31m---------------------------------------------------------------------------\u001b[0m",
            "\u001b[0;31mAttributeError\u001b[0m                            Traceback (most recent call last)",
            "\u001b[0;32m/usr/local/lib/python3.9/dist-packages/matplotlib/pyplot.py\u001b[0m in \u001b[0;36m_draw_all_if_interactive\u001b[0;34m()\u001b[0m\n\u001b[1;32m    118\u001b[0m \u001b[0;32mdef\u001b[0m \u001b[0m_draw_all_if_interactive\u001b[0m\u001b[0;34m(\u001b[0m\u001b[0;34m)\u001b[0m\u001b[0;34m:\u001b[0m\u001b[0;34m\u001b[0m\u001b[0;34m\u001b[0m\u001b[0m\n\u001b[1;32m    119\u001b[0m     \u001b[0;32mif\u001b[0m \u001b[0mmatplotlib\u001b[0m\u001b[0;34m.\u001b[0m\u001b[0mis_interactive\u001b[0m\u001b[0;34m(\u001b[0m\u001b[0;34m)\u001b[0m\u001b[0;34m:\u001b[0m\u001b[0;34m\u001b[0m\u001b[0;34m\u001b[0m\u001b[0m\n\u001b[0;32m--> 120\u001b[0;31m         \u001b[0mdraw_all\u001b[0m\u001b[0;34m(\u001b[0m\u001b[0;34m)\u001b[0m\u001b[0;34m\u001b[0m\u001b[0;34m\u001b[0m\u001b[0m\n\u001b[0m\u001b[1;32m    121\u001b[0m \u001b[0;34m\u001b[0m\u001b[0m\n\u001b[1;32m    122\u001b[0m \u001b[0;34m\u001b[0m\u001b[0m\n",
            "\u001b[0;32m/usr/local/lib/python3.9/dist-packages/matplotlib/_pylab_helpers.py\u001b[0m in \u001b[0;36mdraw_all\u001b[0;34m(cls, force)\u001b[0m\n\u001b[1;32m    130\u001b[0m         \u001b[0;32mfor\u001b[0m \u001b[0mmanager\u001b[0m \u001b[0;32min\u001b[0m \u001b[0mcls\u001b[0m\u001b[0;34m.\u001b[0m\u001b[0mget_all_fig_managers\u001b[0m\u001b[0;34m(\u001b[0m\u001b[0;34m)\u001b[0m\u001b[0;34m:\u001b[0m\u001b[0;34m\u001b[0m\u001b[0;34m\u001b[0m\u001b[0m\n\u001b[1;32m    131\u001b[0m             \u001b[0;32mif\u001b[0m \u001b[0mforce\u001b[0m \u001b[0;32mor\u001b[0m \u001b[0mmanager\u001b[0m\u001b[0;34m.\u001b[0m\u001b[0mcanvas\u001b[0m\u001b[0;34m.\u001b[0m\u001b[0mfigure\u001b[0m\u001b[0;34m.\u001b[0m\u001b[0mstale\u001b[0m\u001b[0;34m:\u001b[0m\u001b[0;34m\u001b[0m\u001b[0;34m\u001b[0m\u001b[0m\n\u001b[0;32m--> 132\u001b[0;31m                 \u001b[0mmanager\u001b[0m\u001b[0;34m.\u001b[0m\u001b[0mcanvas\u001b[0m\u001b[0;34m.\u001b[0m\u001b[0mdraw_idle\u001b[0m\u001b[0;34m(\u001b[0m\u001b[0;34m)\u001b[0m\u001b[0;34m\u001b[0m\u001b[0;34m\u001b[0m\u001b[0m\n\u001b[0m\u001b[1;32m    133\u001b[0m \u001b[0;34m\u001b[0m\u001b[0m\n\u001b[1;32m    134\u001b[0m \u001b[0;34m\u001b[0m\u001b[0m\n",
            "\u001b[0;32m/usr/local/lib/python3.9/dist-packages/matplotlib/backend_bases.py\u001b[0m in \u001b[0;36mdraw_idle\u001b[0;34m(self, *args, **kwargs)\u001b[0m\n\u001b[1;32m   2080\u001b[0m         \u001b[0;32mif\u001b[0m \u001b[0;32mnot\u001b[0m \u001b[0mself\u001b[0m\u001b[0;34m.\u001b[0m\u001b[0m_is_idle_drawing\u001b[0m\u001b[0;34m:\u001b[0m\u001b[0;34m\u001b[0m\u001b[0;34m\u001b[0m\u001b[0m\n\u001b[1;32m   2081\u001b[0m             \u001b[0;32mwith\u001b[0m \u001b[0mself\u001b[0m\u001b[0;34m.\u001b[0m\u001b[0m_idle_draw_cntx\u001b[0m\u001b[0;34m(\u001b[0m\u001b[0;34m)\u001b[0m\u001b[0;34m:\u001b[0m\u001b[0;34m\u001b[0m\u001b[0;34m\u001b[0m\u001b[0m\n\u001b[0;32m-> 2082\u001b[0;31m                 \u001b[0mself\u001b[0m\u001b[0;34m.\u001b[0m\u001b[0mdraw\u001b[0m\u001b[0;34m(\u001b[0m\u001b[0;34m*\u001b[0m\u001b[0margs\u001b[0m\u001b[0;34m,\u001b[0m \u001b[0;34m**\u001b[0m\u001b[0mkwargs\u001b[0m\u001b[0;34m)\u001b[0m\u001b[0;34m\u001b[0m\u001b[0;34m\u001b[0m\u001b[0m\n\u001b[0m\u001b[1;32m   2083\u001b[0m \u001b[0;34m\u001b[0m\u001b[0m\n\u001b[1;32m   2084\u001b[0m     \u001b[0;34m@\u001b[0m\u001b[0mproperty\u001b[0m\u001b[0;34m\u001b[0m\u001b[0;34m\u001b[0m\u001b[0m\n",
            "\u001b[0;32m/usr/local/lib/python3.9/dist-packages/matplotlib/backends/backend_agg.py\u001b[0m in \u001b[0;36mdraw\u001b[0;34m(self)\u001b[0m\n\u001b[1;32m    398\u001b[0m              (self.toolbar._wait_cursor_for_draw_cm() if self.toolbar\n\u001b[1;32m    399\u001b[0m               else nullcontext()):\n\u001b[0;32m--> 400\u001b[0;31m             \u001b[0mself\u001b[0m\u001b[0;34m.\u001b[0m\u001b[0mfigure\u001b[0m\u001b[0;34m.\u001b[0m\u001b[0mdraw\u001b[0m\u001b[0;34m(\u001b[0m\u001b[0mself\u001b[0m\u001b[0;34m.\u001b[0m\u001b[0mrenderer\u001b[0m\u001b[0;34m)\u001b[0m\u001b[0;34m\u001b[0m\u001b[0;34m\u001b[0m\u001b[0m\n\u001b[0m\u001b[1;32m    401\u001b[0m             \u001b[0;31m# A GUI class may be need to update a window using this draw, so\u001b[0m\u001b[0;34m\u001b[0m\u001b[0;34m\u001b[0m\u001b[0m\n\u001b[1;32m    402\u001b[0m             \u001b[0;31m# don't forget to call the superclass.\u001b[0m\u001b[0;34m\u001b[0m\u001b[0;34m\u001b[0m\u001b[0m\n",
            "\u001b[0;32m/usr/local/lib/python3.9/dist-packages/matplotlib/artist.py\u001b[0m in \u001b[0;36mdraw_wrapper\u001b[0;34m(artist, renderer, *args, **kwargs)\u001b[0m\n\u001b[1;32m     93\u001b[0m     \u001b[0;34m@\u001b[0m\u001b[0mwraps\u001b[0m\u001b[0;34m(\u001b[0m\u001b[0mdraw\u001b[0m\u001b[0;34m)\u001b[0m\u001b[0;34m\u001b[0m\u001b[0;34m\u001b[0m\u001b[0m\n\u001b[1;32m     94\u001b[0m     \u001b[0;32mdef\u001b[0m \u001b[0mdraw_wrapper\u001b[0m\u001b[0;34m(\u001b[0m\u001b[0martist\u001b[0m\u001b[0;34m,\u001b[0m \u001b[0mrenderer\u001b[0m\u001b[0;34m,\u001b[0m \u001b[0;34m*\u001b[0m\u001b[0margs\u001b[0m\u001b[0;34m,\u001b[0m \u001b[0;34m**\u001b[0m\u001b[0mkwargs\u001b[0m\u001b[0;34m)\u001b[0m\u001b[0;34m:\u001b[0m\u001b[0;34m\u001b[0m\u001b[0;34m\u001b[0m\u001b[0m\n\u001b[0;32m---> 95\u001b[0;31m         \u001b[0mresult\u001b[0m \u001b[0;34m=\u001b[0m \u001b[0mdraw\u001b[0m\u001b[0;34m(\u001b[0m\u001b[0martist\u001b[0m\u001b[0;34m,\u001b[0m \u001b[0mrenderer\u001b[0m\u001b[0;34m,\u001b[0m \u001b[0;34m*\u001b[0m\u001b[0margs\u001b[0m\u001b[0;34m,\u001b[0m \u001b[0;34m**\u001b[0m\u001b[0mkwargs\u001b[0m\u001b[0;34m)\u001b[0m\u001b[0;34m\u001b[0m\u001b[0;34m\u001b[0m\u001b[0m\n\u001b[0m\u001b[1;32m     96\u001b[0m         \u001b[0;32mif\u001b[0m \u001b[0mrenderer\u001b[0m\u001b[0;34m.\u001b[0m\u001b[0m_rasterizing\u001b[0m\u001b[0;34m:\u001b[0m\u001b[0;34m\u001b[0m\u001b[0;34m\u001b[0m\u001b[0m\n\u001b[1;32m     97\u001b[0m             \u001b[0mrenderer\u001b[0m\u001b[0;34m.\u001b[0m\u001b[0mstop_rasterizing\u001b[0m\u001b[0;34m(\u001b[0m\u001b[0;34m)\u001b[0m\u001b[0;34m\u001b[0m\u001b[0;34m\u001b[0m\u001b[0m\n",
            "\u001b[0;32m/usr/local/lib/python3.9/dist-packages/matplotlib/artist.py\u001b[0m in \u001b[0;36mdraw_wrapper\u001b[0;34m(artist, renderer)\u001b[0m\n\u001b[1;32m     70\u001b[0m                 \u001b[0mrenderer\u001b[0m\u001b[0;34m.\u001b[0m\u001b[0mstart_filter\u001b[0m\u001b[0;34m(\u001b[0m\u001b[0;34m)\u001b[0m\u001b[0;34m\u001b[0m\u001b[0;34m\u001b[0m\u001b[0m\n\u001b[1;32m     71\u001b[0m \u001b[0;34m\u001b[0m\u001b[0m\n\u001b[0;32m---> 72\u001b[0;31m             \u001b[0;32mreturn\u001b[0m \u001b[0mdraw\u001b[0m\u001b[0;34m(\u001b[0m\u001b[0martist\u001b[0m\u001b[0;34m,\u001b[0m \u001b[0mrenderer\u001b[0m\u001b[0;34m)\u001b[0m\u001b[0;34m\u001b[0m\u001b[0;34m\u001b[0m\u001b[0m\n\u001b[0m\u001b[1;32m     73\u001b[0m         \u001b[0;32mfinally\u001b[0m\u001b[0;34m:\u001b[0m\u001b[0;34m\u001b[0m\u001b[0;34m\u001b[0m\u001b[0m\n\u001b[1;32m     74\u001b[0m             \u001b[0;32mif\u001b[0m \u001b[0martist\u001b[0m\u001b[0;34m.\u001b[0m\u001b[0mget_agg_filter\u001b[0m\u001b[0;34m(\u001b[0m\u001b[0;34m)\u001b[0m \u001b[0;32mis\u001b[0m \u001b[0;32mnot\u001b[0m \u001b[0;32mNone\u001b[0m\u001b[0;34m:\u001b[0m\u001b[0;34m\u001b[0m\u001b[0;34m\u001b[0m\u001b[0m\n",
            "\u001b[0;32m/usr/local/lib/python3.9/dist-packages/matplotlib/figure.py\u001b[0m in \u001b[0;36mdraw\u001b[0;34m(self, renderer)\u001b[0m\n\u001b[1;32m   3138\u001b[0m \u001b[0;34m\u001b[0m\u001b[0m\n\u001b[1;32m   3139\u001b[0m             \u001b[0mself\u001b[0m\u001b[0;34m.\u001b[0m\u001b[0mpatch\u001b[0m\u001b[0;34m.\u001b[0m\u001b[0mdraw\u001b[0m\u001b[0;34m(\u001b[0m\u001b[0mrenderer\u001b[0m\u001b[0;34m)\u001b[0m\u001b[0;34m\u001b[0m\u001b[0;34m\u001b[0m\u001b[0m\n\u001b[0;32m-> 3140\u001b[0;31m             mimage._draw_list_compositing_images(\n\u001b[0m\u001b[1;32m   3141\u001b[0m                 renderer, self, artists, self.suppressComposite)\n\u001b[1;32m   3142\u001b[0m \u001b[0;34m\u001b[0m\u001b[0m\n",
            "\u001b[0;32m/usr/local/lib/python3.9/dist-packages/matplotlib/image.py\u001b[0m in \u001b[0;36m_draw_list_compositing_images\u001b[0;34m(renderer, parent, artists, suppress_composite)\u001b[0m\n\u001b[1;32m    129\u001b[0m     \u001b[0;32mif\u001b[0m \u001b[0mnot_composite\u001b[0m \u001b[0;32mor\u001b[0m \u001b[0;32mnot\u001b[0m \u001b[0mhas_images\u001b[0m\u001b[0;34m:\u001b[0m\u001b[0;34m\u001b[0m\u001b[0;34m\u001b[0m\u001b[0m\n\u001b[1;32m    130\u001b[0m         \u001b[0;32mfor\u001b[0m \u001b[0ma\u001b[0m \u001b[0;32min\u001b[0m \u001b[0martists\u001b[0m\u001b[0;34m:\u001b[0m\u001b[0;34m\u001b[0m\u001b[0;34m\u001b[0m\u001b[0m\n\u001b[0;32m--> 131\u001b[0;31m             \u001b[0ma\u001b[0m\u001b[0;34m.\u001b[0m\u001b[0mdraw\u001b[0m\u001b[0;34m(\u001b[0m\u001b[0mrenderer\u001b[0m\u001b[0;34m)\u001b[0m\u001b[0;34m\u001b[0m\u001b[0;34m\u001b[0m\u001b[0m\n\u001b[0m\u001b[1;32m    132\u001b[0m     \u001b[0;32melse\u001b[0m\u001b[0;34m:\u001b[0m\u001b[0;34m\u001b[0m\u001b[0;34m\u001b[0m\u001b[0m\n\u001b[1;32m    133\u001b[0m         \u001b[0;31m# Composite any adjacent images together\u001b[0m\u001b[0;34m\u001b[0m\u001b[0;34m\u001b[0m\u001b[0m\n",
            "\u001b[0;32m/usr/local/lib/python3.9/dist-packages/matplotlib/artist.py\u001b[0m in \u001b[0;36mdraw_wrapper\u001b[0;34m(artist, renderer)\u001b[0m\n\u001b[1;32m     70\u001b[0m                 \u001b[0mrenderer\u001b[0m\u001b[0;34m.\u001b[0m\u001b[0mstart_filter\u001b[0m\u001b[0;34m(\u001b[0m\u001b[0;34m)\u001b[0m\u001b[0;34m\u001b[0m\u001b[0;34m\u001b[0m\u001b[0m\n\u001b[1;32m     71\u001b[0m \u001b[0;34m\u001b[0m\u001b[0m\n\u001b[0;32m---> 72\u001b[0;31m             \u001b[0;32mreturn\u001b[0m \u001b[0mdraw\u001b[0m\u001b[0;34m(\u001b[0m\u001b[0martist\u001b[0m\u001b[0;34m,\u001b[0m \u001b[0mrenderer\u001b[0m\u001b[0;34m)\u001b[0m\u001b[0;34m\u001b[0m\u001b[0;34m\u001b[0m\u001b[0m\n\u001b[0m\u001b[1;32m     73\u001b[0m         \u001b[0;32mfinally\u001b[0m\u001b[0;34m:\u001b[0m\u001b[0;34m\u001b[0m\u001b[0;34m\u001b[0m\u001b[0m\n\u001b[1;32m     74\u001b[0m             \u001b[0;32mif\u001b[0m \u001b[0martist\u001b[0m\u001b[0;34m.\u001b[0m\u001b[0mget_agg_filter\u001b[0m\u001b[0;34m(\u001b[0m\u001b[0;34m)\u001b[0m \u001b[0;32mis\u001b[0m \u001b[0;32mnot\u001b[0m \u001b[0;32mNone\u001b[0m\u001b[0;34m:\u001b[0m\u001b[0;34m\u001b[0m\u001b[0;34m\u001b[0m\u001b[0m\n",
            "\u001b[0;32m/usr/local/lib/python3.9/dist-packages/matplotlib/axes/_base.py\u001b[0m in \u001b[0;36mdraw\u001b[0;34m(self, renderer)\u001b[0m\n\u001b[1;32m   3004\u001b[0m         \u001b[0;32mif\u001b[0m \u001b[0;32mnot\u001b[0m \u001b[0mself\u001b[0m\u001b[0;34m.\u001b[0m\u001b[0mget_visible\u001b[0m\u001b[0;34m(\u001b[0m\u001b[0;34m)\u001b[0m\u001b[0;34m:\u001b[0m\u001b[0;34m\u001b[0m\u001b[0;34m\u001b[0m\u001b[0m\n\u001b[1;32m   3005\u001b[0m             \u001b[0;32mreturn\u001b[0m\u001b[0;34m\u001b[0m\u001b[0;34m\u001b[0m\u001b[0m\n\u001b[0;32m-> 3006\u001b[0;31m         \u001b[0mself\u001b[0m\u001b[0;34m.\u001b[0m\u001b[0m_unstale_viewLim\u001b[0m\u001b[0;34m(\u001b[0m\u001b[0;34m)\u001b[0m\u001b[0;34m\u001b[0m\u001b[0;34m\u001b[0m\u001b[0m\n\u001b[0m\u001b[1;32m   3007\u001b[0m \u001b[0;34m\u001b[0m\u001b[0m\n\u001b[1;32m   3008\u001b[0m         \u001b[0mrenderer\u001b[0m\u001b[0;34m.\u001b[0m\u001b[0mopen_group\u001b[0m\u001b[0;34m(\u001b[0m\u001b[0;34m'axes'\u001b[0m\u001b[0;34m,\u001b[0m \u001b[0mgid\u001b[0m\u001b[0;34m=\u001b[0m\u001b[0mself\u001b[0m\u001b[0;34m.\u001b[0m\u001b[0mget_gid\u001b[0m\u001b[0;34m(\u001b[0m\u001b[0;34m)\u001b[0m\u001b[0;34m)\u001b[0m\u001b[0;34m\u001b[0m\u001b[0;34m\u001b[0m\u001b[0m\n",
            "\u001b[0;32m/usr/local/lib/python3.9/dist-packages/matplotlib/axes/_base.py\u001b[0m in \u001b[0;36m_unstale_viewLim\u001b[0;34m(self)\u001b[0m\n\u001b[1;32m    850\u001b[0m                 \u001b[0;32mfor\u001b[0m \u001b[0max\u001b[0m \u001b[0;32min\u001b[0m \u001b[0mself\u001b[0m\u001b[0;34m.\u001b[0m\u001b[0m_shared_axes\u001b[0m\u001b[0;34m[\u001b[0m\u001b[0mname\u001b[0m\u001b[0;34m]\u001b[0m\u001b[0;34m.\u001b[0m\u001b[0mget_siblings\u001b[0m\u001b[0;34m(\u001b[0m\u001b[0mself\u001b[0m\u001b[0;34m)\u001b[0m\u001b[0;34m:\u001b[0m\u001b[0;34m\u001b[0m\u001b[0;34m\u001b[0m\u001b[0m\n\u001b[1;32m    851\u001b[0m                     \u001b[0max\u001b[0m\u001b[0;34m.\u001b[0m\u001b[0m_stale_viewlims\u001b[0m\u001b[0;34m[\u001b[0m\u001b[0mname\u001b[0m\u001b[0;34m]\u001b[0m \u001b[0;34m=\u001b[0m \u001b[0;32mFalse\u001b[0m\u001b[0;34m\u001b[0m\u001b[0;34m\u001b[0m\u001b[0m\n\u001b[0;32m--> 852\u001b[0;31m             self.autoscale_view(**{f\"scale{name}\": scale\n\u001b[0m\u001b[1;32m    853\u001b[0m                                    for name, scale in need_scale.items()})\n\u001b[1;32m    854\u001b[0m \u001b[0;34m\u001b[0m\u001b[0m\n",
            "\u001b[0;32m/usr/local/lib/python3.9/dist-packages/matplotlib/axes/_base.py\u001b[0m in \u001b[0;36mautoscale_view\u001b[0;34m(self, tight, scalex, scaley)\u001b[0m\n\u001b[1;32m   2931\u001b[0m             \u001b[0mscalex\u001b[0m\u001b[0;34m,\u001b[0m \u001b[0mself\u001b[0m\u001b[0;34m.\u001b[0m\u001b[0m_shared_axes\u001b[0m\u001b[0;34m[\u001b[0m\u001b[0;34m\"x\"\u001b[0m\u001b[0;34m]\u001b[0m\u001b[0;34m,\u001b[0m \u001b[0;34m'x'\u001b[0m\u001b[0;34m,\u001b[0m \u001b[0mself\u001b[0m\u001b[0;34m.\u001b[0m\u001b[0mxaxis\u001b[0m\u001b[0;34m,\u001b[0m \u001b[0mself\u001b[0m\u001b[0;34m.\u001b[0m\u001b[0m_xmargin\u001b[0m\u001b[0;34m,\u001b[0m\u001b[0;34m\u001b[0m\u001b[0;34m\u001b[0m\u001b[0m\n\u001b[1;32m   2932\u001b[0m             x_stickies, self.set_xbound)\n\u001b[0;32m-> 2933\u001b[0;31m         handle_single_axis(\n\u001b[0m\u001b[1;32m   2934\u001b[0m             \u001b[0mscaley\u001b[0m\u001b[0;34m,\u001b[0m \u001b[0mself\u001b[0m\u001b[0;34m.\u001b[0m\u001b[0m_shared_axes\u001b[0m\u001b[0;34m[\u001b[0m\u001b[0;34m\"y\"\u001b[0m\u001b[0;34m]\u001b[0m\u001b[0;34m,\u001b[0m \u001b[0;34m'y'\u001b[0m\u001b[0;34m,\u001b[0m \u001b[0mself\u001b[0m\u001b[0;34m.\u001b[0m\u001b[0myaxis\u001b[0m\u001b[0;34m,\u001b[0m \u001b[0mself\u001b[0m\u001b[0;34m.\u001b[0m\u001b[0m_ymargin\u001b[0m\u001b[0;34m,\u001b[0m\u001b[0;34m\u001b[0m\u001b[0;34m\u001b[0m\u001b[0m\n\u001b[1;32m   2935\u001b[0m             y_stickies, self.set_ybound)\n",
            "\u001b[0;32m/usr/local/lib/python3.9/dist-packages/matplotlib/axes/_base.py\u001b[0m in \u001b[0;36mhandle_single_axis\u001b[0;34m(scale, shared_axes, name, axis, margin, stickies, set_bound)\u001b[0m\n\u001b[1;32m   2925\u001b[0m             \u001b[0;32mif\u001b[0m \u001b[0;32mnot\u001b[0m \u001b[0mself\u001b[0m\u001b[0;34m.\u001b[0m\u001b[0m_tight\u001b[0m\u001b[0;34m:\u001b[0m\u001b[0;34m\u001b[0m\u001b[0;34m\u001b[0m\u001b[0m\n\u001b[1;32m   2926\u001b[0m                 \u001b[0mx0\u001b[0m\u001b[0;34m,\u001b[0m \u001b[0mx1\u001b[0m \u001b[0;34m=\u001b[0m \u001b[0mlocator\u001b[0m\u001b[0;34m.\u001b[0m\u001b[0mview_limits\u001b[0m\u001b[0;34m(\u001b[0m\u001b[0mx0\u001b[0m\u001b[0;34m,\u001b[0m \u001b[0mx1\u001b[0m\u001b[0;34m)\u001b[0m\u001b[0;34m\u001b[0m\u001b[0;34m\u001b[0m\u001b[0m\n\u001b[0;32m-> 2927\u001b[0;31m             \u001b[0mset_bound\u001b[0m\u001b[0;34m(\u001b[0m\u001b[0mx0\u001b[0m\u001b[0;34m,\u001b[0m \u001b[0mx1\u001b[0m\u001b[0;34m)\u001b[0m\u001b[0;34m\u001b[0m\u001b[0;34m\u001b[0m\u001b[0m\n\u001b[0m\u001b[1;32m   2928\u001b[0m             \u001b[0;31m# End of definition of internal function 'handle_single_axis'.\u001b[0m\u001b[0;34m\u001b[0m\u001b[0;34m\u001b[0m\u001b[0m\n\u001b[1;32m   2929\u001b[0m \u001b[0;34m\u001b[0m\u001b[0m\n",
            "\u001b[0;32m/usr/local/lib/python3.9/dist-packages/matplotlib/axes/_base.py\u001b[0m in \u001b[0;36mset_ybound\u001b[0;34m(self, lower, upper)\u001b[0m\n\u001b[1;32m   3777\u001b[0m             \u001b[0mupper\u001b[0m \u001b[0;34m=\u001b[0m \u001b[0mold_upper\u001b[0m\u001b[0;34m\u001b[0m\u001b[0;34m\u001b[0m\u001b[0m\n\u001b[1;32m   3778\u001b[0m \u001b[0;34m\u001b[0m\u001b[0m\n\u001b[0;32m-> 3779\u001b[0;31m         self.set_ylim(sorted((lower, upper),\n\u001b[0m\u001b[1;32m   3780\u001b[0m                              reverse=bool(self.yaxis_inverted())),\n\u001b[1;32m   3781\u001b[0m                       auto=None)\n",
            "\u001b[0;32m/usr/local/lib/python3.9/dist-packages/matplotlib/_api/deprecation.py\u001b[0m in \u001b[0;36mwrapper\u001b[0;34m(*args, **kwargs)\u001b[0m\n\u001b[1;32m    452\u001b[0m                 \u001b[0;34m\"parameter will become keyword-only %(removal)s.\"\u001b[0m\u001b[0;34m,\u001b[0m\u001b[0;34m\u001b[0m\u001b[0;34m\u001b[0m\u001b[0m\n\u001b[1;32m    453\u001b[0m                 name=name, obj_type=f\"parameter of {func.__name__}()\")\n\u001b[0;32m--> 454\u001b[0;31m         \u001b[0;32mreturn\u001b[0m \u001b[0mfunc\u001b[0m\u001b[0;34m(\u001b[0m\u001b[0;34m*\u001b[0m\u001b[0margs\u001b[0m\u001b[0;34m,\u001b[0m \u001b[0;34m**\u001b[0m\u001b[0mkwargs\u001b[0m\u001b[0;34m)\u001b[0m\u001b[0;34m\u001b[0m\u001b[0;34m\u001b[0m\u001b[0m\n\u001b[0m\u001b[1;32m    455\u001b[0m \u001b[0;34m\u001b[0m\u001b[0m\n\u001b[1;32m    456\u001b[0m     \u001b[0;31m# Don't modify *func*'s signature, as boilerplate.py needs it.\u001b[0m\u001b[0;34m\u001b[0m\u001b[0;34m\u001b[0m\u001b[0m\n",
            "\u001b[0;32m/usr/local/lib/python3.9/dist-packages/matplotlib/axes/_base.py\u001b[0m in \u001b[0;36mset_ylim\u001b[0;34m(self, bottom, top, emit, auto, ymin, ymax)\u001b[0m\n\u001b[1;32m   3880\u001b[0m                 \u001b[0;32mraise\u001b[0m \u001b[0mTypeError\u001b[0m\u001b[0;34m(\u001b[0m\u001b[0;34m\"Cannot pass both 'top' and 'ymax'\"\u001b[0m\u001b[0;34m)\u001b[0m\u001b[0;34m\u001b[0m\u001b[0;34m\u001b[0m\u001b[0m\n\u001b[1;32m   3881\u001b[0m             \u001b[0mtop\u001b[0m \u001b[0;34m=\u001b[0m \u001b[0mymax\u001b[0m\u001b[0;34m\u001b[0m\u001b[0;34m\u001b[0m\u001b[0m\n\u001b[0;32m-> 3882\u001b[0;31m         \u001b[0;32mreturn\u001b[0m \u001b[0mself\u001b[0m\u001b[0;34m.\u001b[0m\u001b[0myaxis\u001b[0m\u001b[0;34m.\u001b[0m\u001b[0m_set_lim\u001b[0m\u001b[0;34m(\u001b[0m\u001b[0mbottom\u001b[0m\u001b[0;34m,\u001b[0m \u001b[0mtop\u001b[0m\u001b[0;34m,\u001b[0m \u001b[0memit\u001b[0m\u001b[0;34m=\u001b[0m\u001b[0memit\u001b[0m\u001b[0;34m,\u001b[0m \u001b[0mauto\u001b[0m\u001b[0;34m=\u001b[0m\u001b[0mauto\u001b[0m\u001b[0;34m)\u001b[0m\u001b[0;34m\u001b[0m\u001b[0;34m\u001b[0m\u001b[0m\n\u001b[0m\u001b[1;32m   3883\u001b[0m \u001b[0;34m\u001b[0m\u001b[0m\n\u001b[1;32m   3884\u001b[0m     \u001b[0mget_yscale\u001b[0m \u001b[0;34m=\u001b[0m \u001b[0m_axis_method_wrapper\u001b[0m\u001b[0;34m(\u001b[0m\u001b[0;34m\"yaxis\"\u001b[0m\u001b[0;34m,\u001b[0m \u001b[0;34m\"get_scale\"\u001b[0m\u001b[0;34m)\u001b[0m\u001b[0;34m\u001b[0m\u001b[0;34m\u001b[0m\u001b[0m\n",
            "\u001b[0;32m/usr/local/lib/python3.9/dist-packages/matplotlib/axis.py\u001b[0m in \u001b[0;36m_set_lim\u001b[0;34m(self, v0, v1, emit, auto)\u001b[0m\n\u001b[1;32m   1230\u001b[0m                         v0, v1, emit=False, auto=auto)\n\u001b[1;32m   1231\u001b[0m                     \u001b[0;32mif\u001b[0m \u001b[0mother\u001b[0m\u001b[0;34m.\u001b[0m\u001b[0mfigure\u001b[0m \u001b[0;34m!=\u001b[0m \u001b[0mself\u001b[0m\u001b[0;34m.\u001b[0m\u001b[0mfigure\u001b[0m\u001b[0;34m:\u001b[0m\u001b[0;34m\u001b[0m\u001b[0;34m\u001b[0m\u001b[0m\n\u001b[0;32m-> 1232\u001b[0;31m                         \u001b[0mother\u001b[0m\u001b[0;34m.\u001b[0m\u001b[0mfigure\u001b[0m\u001b[0;34m.\u001b[0m\u001b[0mcanvas\u001b[0m\u001b[0;34m.\u001b[0m\u001b[0mdraw_idle\u001b[0m\u001b[0;34m(\u001b[0m\u001b[0;34m)\u001b[0m\u001b[0;34m\u001b[0m\u001b[0;34m\u001b[0m\u001b[0m\n\u001b[0m\u001b[1;32m   1233\u001b[0m \u001b[0;34m\u001b[0m\u001b[0m\n\u001b[1;32m   1234\u001b[0m         \u001b[0mself\u001b[0m\u001b[0;34m.\u001b[0m\u001b[0mstale\u001b[0m \u001b[0;34m=\u001b[0m \u001b[0;32mTrue\u001b[0m\u001b[0;34m\u001b[0m\u001b[0;34m\u001b[0m\u001b[0m\n",
            "\u001b[0;31mAttributeError\u001b[0m: 'NoneType' object has no attribute 'canvas'"
          ]
        },
        {
          "output_type": "display_data",
          "data": {
            "text/plain": [
              "<Figure size 2000x1000 with 8 Axes>"
            ],
            "image/png": "[encoded data removed]"
          },
          "metadata": {}
        }
      ],
      "source": [
        "plt.figure(figsize = (20,10)) \n",
        "\n",
        "ax1 = plt.subplot(3,3,1)\n",
        "\n",
        "for i in range(len(coins)):\n",
        "  plt.subplot(3,3,i+1,sharey = ax1)\n",
        "  plt.title(coins[i],fontsize = 10)\n",
        "  plt.xticks(fontsize = 5)\n",
        "  plt.yticks(fontsize = 5)\n",
        "  plt.xlabel('Date',fontsize = 6)\n",
        "  plt.ylabel('Movement',fontsize = 6)\n",
        "  plt.plot(norm_movements[i])"
      ]
    },
    {
      "cell_type": "code",
      "execution_count": null,
      "metadata": {
        "colab": {
          "base_uri": "https://localhost:8080/"
        },
        "id": "wcg2ptsbK97R",
        "outputId": "52a43af7-0e35-4611-cf21-df221399bb23"
      },
      "outputs": [
        {
          "output_type": "stream",
          "name": "stdout",
          "text": [
            "-0.3816937273540794\n",
            "0.3539341835465128\n",
            "-0.000131736500934292\n"
          ]
        }
      ],
      "source": [
        "print(norm_movements.min())\n",
        "print(norm_movements.max())\n",
        "print(norm_movements.mean())"
      ]
    },
    {
      "cell_type": "markdown",
      "metadata": {
        "id": "pg5vIbbiIFnU"
      },
      "source": [
        "# Clustering"
      ]
    },
    {
      "cell_type": "code",
      "execution_count": null,
      "metadata": {
        "id": "iWr5RH4hGlVR"
      },
      "outputs": [],
      "source": [
        "from sklearn.pipeline import make_pipeline\n",
        "from sklearn.preprocessing import Normalizer"
      ]
    },
    {
      "cell_type": "markdown",
      "metadata": {
        "id": "oNcV3_cmF23r"
      },
      "source": [
        "##K-means"
      ]
    },
    {
      "cell_type": "code",
      "execution_count": null,
      "metadata": {
        "colab": {
          "base_uri": "https://localhost:8080/"
        },
        "id": "xPAO2DRyq-dy",
        "outputId": "e8985b17-1089-40f6-d106-7340c954ba2f"
      },
      "outputs": [
        {
          "output_type": "stream",
          "name": "stderr",
          "text": [
            "/usr/local/lib/python3.9/dist-packages/sklearn/cluster/_kmeans.py:870: FutureWarning: The default value of `n_init` will change from 10 to 'auto' in 1.4. Set the value of `n_init` explicitly to suppress the warning\n",
            "  warnings.warn(\n"
          ]
        },
        {
          "output_type": "execute_result",
          "data": {
            "text/plain": [
              "   cluster     coins\n",
              "0        0   Bitcoin\n",
              "1        0  Ethereum\n",
              "2        1       XRP\n",
              "3        2    Tether\n",
              "4        3  Dogecoin\n",
              "5        0       BNB\n",
              "6        1   Cardano\n",
              "7        4   Polygon"
            ],
            "text/html": [
              "\n",
              "  <div id=\"df-e893c973-b20e-446b-840b-caafe8d68fdf\">\n",
              "    <div class=\"colab-df-container\">\n",
              "      <div>\n",
              "<style scoped>\n",
              "    .dataframe tbody tr th:only-of-type {\n",
              "        vertical-align: middle;\n",
              "    }\n",
              "\n",
              "    .dataframe tbody tr th {\n",
              "        vertical-align: top;\n",
              "    }\n",
              "\n",
              "    .dataframe thead th {\n",
              "        text-align: right;\n",
              "    }\n",
              "</style>\n",
              "<table border=\"1\" class=\"dataframe\">\n",
              "  <thead>\n",
              "    <tr style=\"text-align: right;\">\n",
              "      <th></th>\n",
              "      <th>cluster</th>\n",
              "      <th>coins</th>\n",
              "    </tr>\n",
              "  </thead>\n",
              "  <tbody>\n",
              "    <tr>\n",
              "      <th>0</th>\n",
              "      <td>0</td>\n",
              "      <td>Bitcoin</td>\n",
              "    </tr>\n",
              "    <tr>\n",
              "      <th>1</th>\n",
              "      <td>0</td>\n",
              "      <td>Ethereum</td>\n",
              "    </tr>\n",
              "    <tr>\n",
              "      <th>2</th>\n",
              "      <td>1</td>\n",
              "      <td>XRP</td>\n",
              "    </tr>\n",
              "    <tr>\n",
              "      <th>3</th>\n",
              "      <td>2</td>\n",
              "      <td>Tether</td>\n",
              "    </tr>\n",
              "    <tr>\n",
              "      <th>4</th>\n",
              "      <td>3</td>\n",
              "      <td>Dogecoin</td>\n",
              "    </tr>\n",
              "    <tr>\n",
              "      <th>5</th>\n",
              "      <td>0</td>\n",
              "      <td>BNB</td>\n",
              "    </tr>\n",
              "    <tr>\n",
              "      <th>6</th>\n",
              "      <td>1</td>\n",
              "      <td>Cardano</td>\n",
              "    </tr>\n",
              "    <tr>\n",
              "      <th>7</th>\n",
              "      <td>4</td>\n",
              "      <td>Polygon</td>\n",
              "    </tr>\n",
              "  </tbody>\n",
              "</table>\n",
              "</div>\n",
              "      <button class=\"colab-df-convert\" onclick=\"convertToInteractive('df-e893c973-b20e-446b-840b-caafe8d68fdf')\"\n",
              "              title=\"Convert this dataframe to an interactive table.\"\n",
              "              style=\"display:none;\">\n",
              "        \n",
              "  <svg xmlns=\"http://www.w3.org/2000/svg\" height=\"24px\"viewBox=\"0 0 24 24\"\n",
              "       width=\"24px\">\n",
              "    <path d=\"M0 0h24v24H0V0z\" fill=\"none\"/>\n",
              "    <path d=\"M18.56 5.44l.94 2.06.94-2.06 2.06-.94-2.06-.94-.94-2.06-.94 2.06-2.06.94zm-11 1L8.5 8.5l.94-2.06 2.06-.94-2.06-.94L8.5 2.5l-.94 2.06-2.06.94zm10 10l.94 2.06.94-2.06 2.06-.94-2.06-.94-.94-2.06-.94 2.06-2.06.94z\"/><path d=\"M17.41 7.96l-1.37-1.37c-.4-.4-.92-.59-1.43-.59-.52 0-1.04.2-1.43.59L10.3 9.45l-7.72 7.72c-.78.78-.78 2.05 0 2.83L4 21.41c.39.39.9.59 1.41.59.51 0 1.02-.2 1.41-.59l7.78-7.78 2.81-2.81c.8-.78.8-2.07 0-2.86zM5.41 20L4 18.59l7.72-7.72 1.47 1.35L5.41 20z\"/>\n",
              "  </svg>\n",
              "      </button>\n",
              "      \n",
              "  <style>\n",
              "    .colab-df-container {\n",
              "      display:flex;\n",
              "      flex-wrap:wrap;\n",
              "      gap: 12px;\n",
              "    }\n",
              "\n",
              "    .colab-df-convert {\n",
              "      background-color: #E8F0FE;\n",
              "      border: none;\n",
              "      border-radius: 50%;\n",
              "      cursor: pointer;\n",
              "      display: none;\n",
              "      fill: #1967D2;\n",
              "      height: 32px;\n",
              "      padding: 0 0 0 0;\n",
              "      width: 32px;\n",
              "    }\n",
              "\n",
              "    .colab-df-convert:hover {\n",
              "      background-color: #E2EBFA;\n",
              "      box-shadow: 0px 1px 2px rgba(60, 64, 67, 0.3), 0px 1px 3px 1px rgba(60, 64, 67, 0.15);\n",
              "      fill: #174EA6;\n",
              "    }\n",
              "\n",
              "    [theme=dark] .colab-df-convert {\n",
              "      background-color: #3B4455;\n",
              "      fill: #D2E3FC;\n",
              "    }\n",
              "\n",
              "    [theme=dark] .colab-df-convert:hover {\n",
              "      background-color: #434B5C;\n",
              "      box-shadow: 0px 1px 3px 1px rgba(0, 0, 0, 0.15);\n",
              "      filter: drop-shadow(0px 1px 2px rgba(0, 0, 0, 0.3));\n",
              "      fill: #FFFFFF;\n",
              "    }\n",
              "  </style>\n",
              "\n",
              "      <script>\n",
              "        const buttonEl =\n",
              "          document.querySelector('#df-e893c973-b20e-446b-840b-caafe8d68fdf button.colab-df-convert');\n",
              "        buttonEl.style.display =\n",
              "          google.colab.kernel.accessAllowed ? 'block' : 'none';\n",
              "\n",
              "        async function convertToInteractive(key) {\n",
              "          const element = document.querySelector('#df-e893c973-b20e-446b-840b-caafe8d68fdf');\n",
              "          const dataTable =\n",
              "            await google.colab.kernel.invokeFunction('convertToInteractive',\n",
              "                                                     [key], {});\n",
              "          if (!dataTable) return;\n",
              "\n",
              "          const docLinkHtml = 'Like what you see? Visit the ' +\n",
              "            '<a target=\"_blank\" href=https://colab.research.google.com/notebooks/data_table.ipynb>data table notebook</a>'\n",
              "            + ' to learn more about interactive tables.';\n",
              "          element.innerHTML = '';\n",
              "          dataTable['output_type'] = 'display_data';\n",
              "          await google.colab.output.renderOutput(dataTable, element);\n",
              "          const docLink = document.createElement('div');\n",
              "          docLink.innerHTML = docLinkHtml;\n",
              "          element.appendChild(docLink);\n",
              "        }\n",
              "      </script>\n",
              "    </div>\n",
              "  </div>\n",
              "  "
            ]
          },
          "metadata": {},
          "execution_count": 36
        }
      ],
      "source": [
        "# Import the necessary packages\n",
        "from sklearn.cluster import KMeans\n",
        "\n",
        "# Define a normalizer\n",
        "normalizer = Normalizer()\n",
        "\n",
        "# Create Kmeans model\n",
        "kmeans = KMeans(n_clusters=5,max_iter = 10000)\n",
        "\n",
        "# Make a pipeline chaining normalizer and kmeans\n",
        "pipeline = make_pipeline(normalizer,kmeans)\n",
        "\n",
        "# Fit pipeline to daily stock movements\n",
        "pipeline.fit(norm_movements)\n",
        "k_predictions = pipeline.predict(norm_movements)\n",
        "k_predictions\n",
        "\n",
        "df_k = pd.DataFrame({'cluster':k_predictions, 'coins':df.keys()})\n",
        "df_k"
      ]
    },
    {
      "cell_type": "markdown",
      "metadata": {
        "id": "VdTT1Wc5F8c4"
      },
      "source": [
        "##DBSCAN"
      ]
    },
    {
      "cell_type": "code",
      "execution_count": null,
      "metadata": {
        "colab": {
          "base_uri": "https://localhost:8080/"
        },
        "id": "fkL-pJNHFfxP",
        "outputId": "964de987-8881-4b9a-f9f4-ed6f732e0175"
      },
      "outputs": [
        {
          "output_type": "stream",
          "name": "stderr",
          "text": [
            "/usr/local/lib/python3.9/dist-packages/sklearn/cluster/_kmeans.py:870: FutureWarning: The default value of `n_init` will change from 10 to 'auto' in 1.4. Set the value of `n_init` explicitly to suppress the warning\n",
            "  warnings.warn(\n"
          ]
        },
        {
          "output_type": "execute_result",
          "data": {
            "text/plain": [
              "   cluster     coins\n",
              "0        1   Bitcoin\n",
              "1        1  Ethereum\n",
              "2        4       XRP\n",
              "3        2    Tether\n",
              "4        0  Dogecoin\n",
              "5        1       BNB\n",
              "6        4   Cardano\n",
              "7        3   Polygon"
            ],
            "text/html": [
              "\n",
              "  <div id=\"df-dee070da-24bf-49d5-8182-8d99981333c0\">\n",
              "    <div class=\"colab-df-container\">\n",
              "      <div>\n",
              "<style scoped>\n",
              "    .dataframe tbody tr th:only-of-type {\n",
              "        vertical-align: middle;\n",
              "    }\n",
              "\n",
              "    .dataframe tbody tr th {\n",
              "        vertical-align: top;\n",
              "    }\n",
              "\n",
              "    .dataframe thead th {\n",
              "        text-align: right;\n",
              "    }\n",
              "</style>\n",
              "<table border=\"1\" class=\"dataframe\">\n",
              "  <thead>\n",
              "    <tr style=\"text-align: right;\">\n",
              "      <th></th>\n",
              "      <th>cluster</th>\n",
              "      <th>coins</th>\n",
              "    </tr>\n",
              "  </thead>\n",
              "  <tbody>\n",
              "    <tr>\n",
              "      <th>0</th>\n",
              "      <td>1</td>\n",
              "      <td>Bitcoin</td>\n",
              "    </tr>\n",
              "    <tr>\n",
              "      <th>1</th>\n",
              "      <td>1</td>\n",
              "      <td>Ethereum</td>\n",
              "    </tr>\n",
              "    <tr>\n",
              "      <th>2</th>\n",
              "      <td>4</td>\n",
              "      <td>XRP</td>\n",
              "    </tr>\n",
              "    <tr>\n",
              "      <th>3</th>\n",
              "      <td>2</td>\n",
              "      <td>Tether</td>\n",
              "    </tr>\n",
              "    <tr>\n",
              "      <th>4</th>\n",
              "      <td>0</td>\n",
              "      <td>Dogecoin</td>\n",
              "    </tr>\n",
              "    <tr>\n",
              "      <th>5</th>\n",
              "      <td>1</td>\n",
              "      <td>BNB</td>\n",
              "    </tr>\n",
              "    <tr>\n",
              "      <th>6</th>\n",
              "      <td>4</td>\n",
              "      <td>Cardano</td>\n",
              "    </tr>\n",
              "    <tr>\n",
              "      <th>7</th>\n",
              "      <td>3</td>\n",
              "      <td>Polygon</td>\n",
              "    </tr>\n",
              "  </tbody>\n",
              "</table>\n",
              "</div>\n",
              "      <button class=\"colab-df-convert\" onclick=\"convertToInteractive('df-dee070da-24bf-49d5-8182-8d99981333c0')\"\n",
              "              title=\"Convert this dataframe to an interactive table.\"\n",
              "              style=\"display:none;\">\n",
              "        \n",
              "  <svg xmlns=\"http://www.w3.org/2000/svg\" height=\"24px\"viewBox=\"0 0 24 24\"\n",
              "       width=\"24px\">\n",
              "    <path d=\"M0 0h24v24H0V0z\" fill=\"none\"/>\n",
              "    <path d=\"M18.56 5.44l.94 2.06.94-2.06 2.06-.94-2.06-.94-.94-2.06-.94 2.06-2.06.94zm-11 1L8.5 8.5l.94-2.06 2.06-.94-2.06-.94L8.5 2.5l-.94 2.06-2.06.94zm10 10l.94 2.06.94-2.06 2.06-.94-2.06-.94-.94-2.06-.94 2.06-2.06.94z\"/><path d=\"M17.41 7.96l-1.37-1.37c-.4-.4-.92-.59-1.43-.59-.52 0-1.04.2-1.43.59L10.3 9.45l-7.72 7.72c-.78.78-.78 2.05 0 2.83L4 21.41c.39.39.9.59 1.41.59.51 0 1.02-.2 1.41-.59l7.78-7.78 2.81-2.81c.8-.78.8-2.07 0-2.86zM5.41 20L4 18.59l7.72-7.72 1.47 1.35L5.41 20z\"/>\n",
              "  </svg>\n",
              "      </button>\n",
              "      \n",
              "  <style>\n",
              "    .colab-df-container {\n",
              "      display:flex;\n",
              "      flex-wrap:wrap;\n",
              "      gap: 12px;\n",
              "    }\n",
              "\n",
              "    .colab-df-convert {\n",
              "      background-color: #E8F0FE;\n",
              "      border: none;\n",
              "      border-radius: 50%;\n",
              "      cursor: pointer;\n",
              "      display: none;\n",
              "      fill: #1967D2;\n",
              "      height: 32px;\n",
              "      padding: 0 0 0 0;\n",
              "      width: 32px;\n",
              "    }\n",
              "\n",
              "    .colab-df-convert:hover {\n",
              "      background-color: #E2EBFA;\n",
              "      box-shadow: 0px 1px 2px rgba(60, 64, 67, 0.3), 0px 1px 3px 1px rgba(60, 64, 67, 0.15);\n",
              "      fill: #174EA6;\n",
              "    }\n",
              "\n",
              "    [theme=dark] .colab-df-convert {\n",
              "      background-color: #3B4455;\n",
              "      fill: #D2E3FC;\n",
              "    }\n",
              "\n",
              "    [theme=dark] .colab-df-convert:hover {\n",
              "      background-color: #434B5C;\n",
              "      box-shadow: 0px 1px 3px 1px rgba(0, 0, 0, 0.15);\n",
              "      filter: drop-shadow(0px 1px 2px rgba(0, 0, 0, 0.3));\n",
              "      fill: #FFFFFF;\n",
              "    }\n",
              "  </style>\n",
              "\n",
              "      <script>\n",
              "        const buttonEl =\n",
              "          document.querySelector('#df-dee070da-24bf-49d5-8182-8d99981333c0 button.colab-df-convert');\n",
              "        buttonEl.style.display =\n",
              "          google.colab.kernel.accessAllowed ? 'block' : 'none';\n",
              "\n",
              "        async function convertToInteractive(key) {\n",
              "          const element = document.querySelector('#df-dee070da-24bf-49d5-8182-8d99981333c0');\n",
              "          const dataTable =\n",
              "            await google.colab.kernel.invokeFunction('convertToInteractive',\n",
              "                                                     [key], {});\n",
              "          if (!dataTable) return;\n",
              "\n",
              "          const docLinkHtml = 'Like what you see? Visit the ' +\n",
              "            '<a target=\"_blank\" href=https://colab.research.google.com/notebooks/data_table.ipynb>data table notebook</a>'\n",
              "            + ' to learn more about interactive tables.';\n",
              "          element.innerHTML = '';\n",
              "          dataTable['output_type'] = 'display_data';\n",
              "          await google.colab.output.renderOutput(dataTable, element);\n",
              "          const docLink = document.createElement('div');\n",
              "          docLink.innerHTML = docLinkHtml;\n",
              "          element.appendChild(docLink);\n",
              "        }\n",
              "      </script>\n",
              "    </div>\n",
              "  </div>\n",
              "  "
            ]
          },
          "metadata": {},
          "execution_count": 37
        }
      ],
      "source": [
        "# Import the necessary packages\n",
        "from sklearn.cluster import DBSCAN\n",
        "\n",
        "# Define a normalizer\n",
        "normalizer = Normalizer()\n",
        "\n",
        "# Create DBSCAN model\n",
        "dbscan = DBSCAN(eps=0.5, min_samples=3)\n",
        "\n",
        "# Make a pipeline chaining normalizer and kmeans\n",
        "pipeline = make_pipeline(normalizer,kmeans)\n",
        "\n",
        "pipeline.fit(norm_movements)\n",
        "d_predictions = pipeline.predict(norm_movements)\n",
        "d_predictions\n",
        "\n",
        "df_d = pd.DataFrame({'cluster':d_predictions, 'coins':df.keys()})\n",
        "df_d"
      ]
    },
    {
      "cell_type": "markdown",
      "metadata": {
        "id": "C5vbQdRbGAHc"
      },
      "source": [
        "##Hierarchical Clustering"
      ]
    },
    {
      "cell_type": "code",
      "execution_count": null,
      "metadata": {
        "colab": {
          "base_uri": "https://localhost:8080/"
        },
        "id": "GAilBaeXFrVM",
        "outputId": "af34cc36-1fb4-4478-db3f-eb1f2496e9e4"
      },
      "outputs": [
        {
          "output_type": "stream",
          "name": "stderr",
          "text": [
            "/usr/local/lib/python3.9/dist-packages/sklearn/cluster/_kmeans.py:870: FutureWarning: The default value of `n_init` will change from 10 to 'auto' in 1.4. Set the value of `n_init` explicitly to suppress the warning\n",
            "  warnings.warn(\n"
          ]
        },
        {
          "output_type": "execute_result",
          "data": {
            "text/plain": [
              "   cluster     coins\n",
              "0        2   Bitcoin\n",
              "1        2  Ethereum\n",
              "2        0       XRP\n",
              "3        1    Tether\n",
              "4        3  Dogecoin\n",
              "5        2       BNB\n",
              "6        0   Cardano\n",
              "7        4   Polygon"
            ],
            "text/html": [
              "\n",
              "  <div id=\"df-75520412-9104-4a77-9f3e-2cc9c2d96277\">\n",
              "    <div class=\"colab-df-container\">\n",
              "      <div>\n",
              "<style scoped>\n",
              "    .dataframe tbody tr th:only-of-type {\n",
              "        vertical-align: middle;\n",
              "    }\n",
              "\n",
              "    .dataframe tbody tr th {\n",
              "        vertical-align: top;\n",
              "    }\n",
              "\n",
              "    .dataframe thead th {\n",
              "        text-align: right;\n",
              "    }\n",
              "</style>\n",
              "<table border=\"1\" class=\"dataframe\">\n",
              "  <thead>\n",
              "    <tr style=\"text-align: right;\">\n",
              "      <th></th>\n",
              "      <th>cluster</th>\n",
              "      <th>coins</th>\n",
              "    </tr>\n",
              "  </thead>\n",
              "  <tbody>\n",
              "    <tr>\n",
              "      <th>0</th>\n",
              "      <td>2</td>\n",
              "      <td>Bitcoin</td>\n",
              "    </tr>\n",
              "    <tr>\n",
              "      <th>1</th>\n",
              "      <td>2</td>\n",
              "      <td>Ethereum</td>\n",
              "    </tr>\n",
              "    <tr>\n",
              "      <th>2</th>\n",
              "      <td>0</td>\n",
              "      <td>XRP</td>\n",
              "    </tr>\n",
              "    <tr>\n",
              "      <th>3</th>\n",
              "      <td>1</td>\n",
              "      <td>Tether</td>\n",
              "    </tr>\n",
              "    <tr>\n",
              "      <th>4</th>\n",
              "      <td>3</td>\n",
              "      <td>Dogecoin</td>\n",
              "    </tr>\n",
              "    <tr>\n",
              "      <th>5</th>\n",
              "      <td>2</td>\n",
              "      <td>BNB</td>\n",
              "    </tr>\n",
              "    <tr>\n",
              "      <th>6</th>\n",
              "      <td>0</td>\n",
              "      <td>Cardano</td>\n",
              "    </tr>\n",
              "    <tr>\n",
              "      <th>7</th>\n",
              "      <td>4</td>\n",
              "      <td>Polygon</td>\n",
              "    </tr>\n",
              "  </tbody>\n",
              "</table>\n",
              "</div>\n",
              "      <button class=\"colab-df-convert\" onclick=\"convertToInteractive('df-75520412-9104-4a77-9f3e-2cc9c2d96277')\"\n",
              "              title=\"Convert this dataframe to an interactive table.\"\n",
              "              style=\"display:none;\">\n",
              "        \n",
              "  <svg xmlns=\"http://www.w3.org/2000/svg\" height=\"24px\"viewBox=\"0 0 24 24\"\n",
              "       width=\"24px\">\n",
              "    <path d=\"M0 0h24v24H0V0z\" fill=\"none\"/>\n",
              "    <path d=\"M18.56 5.44l.94 2.06.94-2.06 2.06-.94-2.06-.94-.94-2.06-.94 2.06-2.06.94zm-11 1L8.5 8.5l.94-2.06 2.06-.94-2.06-.94L8.5 2.5l-.94 2.06-2.06.94zm10 10l.94 2.06.94-2.06 2.06-.94-2.06-.94-.94-2.06-.94 2.06-2.06.94z\"/><path d=\"M17.41 7.96l-1.37-1.37c-.4-.4-.92-.59-1.43-.59-.52 0-1.04.2-1.43.59L10.3 9.45l-7.72 7.72c-.78.78-.78 2.05 0 2.83L4 21.41c.39.39.9.59 1.41.59.51 0 1.02-.2 1.41-.59l7.78-7.78 2.81-2.81c.8-.78.8-2.07 0-2.86zM5.41 20L4 18.59l7.72-7.72 1.47 1.35L5.41 20z\"/>\n",
              "  </svg>\n",
              "      </button>\n",
              "      \n",
              "  <style>\n",
              "    .colab-df-container {\n",
              "      display:flex;\n",
              "      flex-wrap:wrap;\n",
              "      gap: 12px;\n",
              "    }\n",
              "\n",
              "    .colab-df-convert {\n",
              "      background-color: #E8F0FE;\n",
              "      border: none;\n",
              "      border-radius: 50%;\n",
              "      cursor: pointer;\n",
              "      display: none;\n",
              "      fill: #1967D2;\n",
              "      height: 32px;\n",
              "      padding: 0 0 0 0;\n",
              "      width: 32px;\n",
              "    }\n",
              "\n",
              "    .colab-df-convert:hover {\n",
              "      background-color: #E2EBFA;\n",
              "      box-shadow: 0px 1px 2px rgba(60, 64, 67, 0.3), 0px 1px 3px 1px rgba(60, 64, 67, 0.15);\n",
              "      fill: #174EA6;\n",
              "    }\n",
              "\n",
              "    [theme=dark] .colab-df-convert {\n",
              "      background-color: #3B4455;\n",
              "      fill: #D2E3FC;\n",
              "    }\n",
              "\n",
              "    [theme=dark] .colab-df-convert:hover {\n",
              "      background-color: #434B5C;\n",
              "      box-shadow: 0px 1px 3px 1px rgba(0, 0, 0, 0.15);\n",
              "      filter: drop-shadow(0px 1px 2px rgba(0, 0, 0, 0.3));\n",
              "      fill: #FFFFFF;\n",
              "    }\n",
              "  </style>\n",
              "\n",
              "      <script>\n",
              "        const buttonEl =\n",
              "          document.querySelector('#df-75520412-9104-4a77-9f3e-2cc9c2d96277 button.colab-df-convert');\n",
              "        buttonEl.style.display =\n",
              "          google.colab.kernel.accessAllowed ? 'block' : 'none';\n",
              "\n",
              "        async function convertToInteractive(key) {\n",
              "          const element = document.querySelector('#df-75520412-9104-4a77-9f3e-2cc9c2d96277');\n",
              "          const dataTable =\n",
              "            await google.colab.kernel.invokeFunction('convertToInteractive',\n",
              "                                                     [key], {});\n",
              "          if (!dataTable) return;\n",
              "\n",
              "          const docLinkHtml = 'Like what you see? Visit the ' +\n",
              "            '<a target=\"_blank\" href=https://colab.research.google.com/notebooks/data_table.ipynb>data table notebook</a>'\n",
              "            + ' to learn more about interactive tables.';\n",
              "          element.innerHTML = '';\n",
              "          dataTable['output_type'] = 'display_data';\n",
              "          await google.colab.output.renderOutput(dataTable, element);\n",
              "          const docLink = document.createElement('div');\n",
              "          docLink.innerHTML = docLinkHtml;\n",
              "          element.appendChild(docLink);\n",
              "        }\n",
              "      </script>\n",
              "    </div>\n",
              "  </div>\n",
              "  "
            ]
          },
          "metadata": {},
          "execution_count": 38
        }
      ],
      "source": [
        "# Import the necessary packages\n",
        "from sklearn.cluster import AgglomerativeClustering\n",
        "\n",
        "# Define a normalizer\n",
        "normalizer = Normalizer()\n",
        "\n",
        "# Create Hierarchical Clustering model\n",
        "agg_clustering = AgglomerativeClustering(n_clusters=5, affinity='euclidean', linkage='ward')\n",
        "\n",
        "# Make a pipeline chaining normalizer and kmeans\n",
        "pipeline = make_pipeline(normalizer,kmeans)\n",
        "\n",
        "\n",
        "pipeline.fit(norm_movements)\n",
        "h_predictions = pipeline.predict(norm_movements)\n",
        "h_predictions\n",
        "\n",
        "df_h = pd.DataFrame({'cluster':h_predictions, 'coins':df.keys()})\n",
        "df_h"
      ]
    },
    {
      "cell_type": "markdown",
      "metadata": {
        "id": "gJNP0DUjIY67"
      },
      "source": [
        "#Backtesting"
      ]
    },
    {
      "cell_type": "code",
      "execution_count": null,
      "metadata": {
        "colab": {
          "base_uri": "https://localhost:8080/"
        },
        "id": "fyasnsm8AKKi",
        "outputId": "156a62a7-38c0-419d-a134-e51618799a4f"
      },
      "outputs": [
        {
          "output_type": "execute_result",
          "data": {
            "text/plain": [
              "{0: ['Bitcoin', 'Ethereum', 'BNB'],\n",
              " 1: ['XRP', 'Cardano'],\n",
              " 2: ['Tether'],\n",
              " 3: ['Dogecoin'],\n",
              " 4: ['Polygon']}"
            ]
          },
          "metadata": {},
          "execution_count": 39
        }
      ],
      "source": [
        "basket = {cluster: list(df_k.loc[df_k['cluster'] == cluster, 'coins']) for cluster in set(df_k['cluster'])}\n",
        "basket"
      ]
    },
    {
      "cell_type": "code",
      "execution_count": null,
      "metadata": {
        "colab": {
          "base_uri": "https://localhost:8080/"
        },
        "id": "PiFKxy0f6g65",
        "outputId": "afe7c209-ce99-4fa9-914e-7a3158dc9f25"
      },
      "outputs": [
        {
          "output_type": "stream",
          "name": "stdout",
          "text": [
            "['Ethereum', 'Cardano', 'Tether', 'Dogecoin', 'Polygon']\n",
            "date: 2020-07-22 00:00:00, signal: buy, coin: Dogecoin, open: 0.0033, total_unit: {'Ethereum': 0, 'Cardano': 0, 'Tether': 0, 'Dogecoin': 60606.06060606061, 'Polygon': 0}, invested_amount: 200.0, remaining_amount: 800.0\n",
            "date: 2020-07-27 00:00:00, signal: buy, coin: Polygon, open: 0.021, total_unit: {'Ethereum': 0, 'Cardano': 0, 'Tether': 0, 'Dogecoin': 60606.06060606061, 'Polygon': 9523.809523809523}, invested_amount: 200.0, remaining_amount: 600.0\n",
            "date: 2020-07-28 00:00:00, signal: buy, coin: Polygon, open: 0.021, total_unit: {'Ethereum': 0, 'Cardano': 0, 'Tether': 0, 'Dogecoin': 60606.06060606061, 'Polygon': 19047.619047619046}, invested_amount: 200.0, remaining_amount: 400.0\n",
            "date: 2020-07-29 00:00:00, signal: buy, coin: Polygon, open: 0.02, total_unit: {'Ethereum': 0, 'Cardano': 0, 'Tether': 0, 'Dogecoin': 60606.06060606061, 'Polygon': 29047.619047619046}, invested_amount: 200.0, remaining_amount: 200.0\n",
            "date: 2020-11-21 00:00:00, signal: sell, coin: Polygon, close: 0.02, total_unit: {'Ethereum': 0, 'Cardano': 0, 'Tether': 0, 'Dogecoin': 60606.06060606061, 'Polygon': 0}, profit: 580.952380952381, remaining_amount: 780.952380952381\n",
            "date: 2020-12-08 00:00:00, signal: buy, coin: Dogecoin, open: 0.003333, total_unit: {'Ethereum': 0, 'Cardano': 0, 'Tether': 0, 'Dogecoin': 120612.06120612062, 'Polygon': 0}, invested_amount: 200.0, remaining_amount: 580.952380952381\n",
            "date: 2021-02-21 00:00:00, signal: buy, coin: Dogecoin, open: 0.054196, total_unit: {'Ethereum': 0, 'Cardano': 0, 'Tether': 0, 'Dogecoin': 124302.3704540356, 'Polygon': 0}, invested_amount: 200.0, remaining_amount: 380.95238095238096\n",
            "date: 2021-02-22 00:00:00, signal: buy, coin: Dogecoin, open: 0.056136, total_unit: {'Ethereum': 0, 'Cardano': 0, 'Tether': 0, 'Dogecoin': 127865.14656918452, 'Polygon': 0}, invested_amount: 200.0, remaining_amount: 180.95238095238096\n",
            "date: 2021-10-05 00:00:00, signal: sell, coin: Dogecoin, close: 0.251915, total_unit: {'Ethereum': 0, 'Cardano': 0, 'Tether': 0, 'Dogecoin': 0, 'Polygon': 0}, profit: 32211.148397976118, remaining_amount: 32392.1007789285\n",
            "date: 2021-10-27 00:00:00, signal: buy, coin: Cardano, open: 2.1369, total_unit: {'Ethereum': 0, 'Cardano': 93.5935233281857, 'Tether': 0, 'Dogecoin': 0, 'Polygon': 0}, invested_amount: 200.0, remaining_amount: 32192.1007789285\n",
            "date: 2021-11-11 00:00:00, signal: buy, coin: Polygon, open: 1.699, total_unit: {'Ethereum': 0, 'Cardano': 93.5935233281857, 'Tether': 0, 'Dogecoin': 0, 'Polygon': 117.71630370806356}, invested_amount: 200.0, remaining_amount: 31992.1007789285\n",
            "date: 2021-11-16 00:00:00, signal: buy, coin: Polygon, open: 1.692, total_unit: {'Ethereum': 0, 'Cardano': 93.5935233281857, 'Tether': 0, 'Dogecoin': 0, 'Polygon': 235.91961340073496}, invested_amount: 200.0, remaining_amount: 31792.1007789285\n",
            "date: 2021-11-17 00:00:00, signal: buy, coin: Polygon, open: 1.561, total_unit: {'Ethereum': 0, 'Cardano': 93.5935233281857, 'Tether': 0, 'Dogecoin': 0, 'Polygon': 364.04261147888997}, invested_amount: 200.0, remaining_amount: 31592.1007789285\n",
            "date: 2021-11-18 00:00:00, signal: buy, coin: Polygon, open: 1.637, total_unit: {'Ethereum': 0, 'Cardano': 93.5935233281857, 'Tether': 0, 'Dogecoin': 0, 'Polygon': 486.21732131395413}, invested_amount: 200.0, remaining_amount: 31392.1007789285\n",
            "date: 2021-12-27 00:00:00, signal: sell, coin: Cardano, close: 1.5139, total_unit: {'Ethereum': 0, 'Cardano': 0, 'Tether': 0, 'Dogecoin': 0, 'Polygon': 486.21732131395413}, profit: 141.69123496654032, remaining_amount: 31533.79201389504\n",
            "date: 2022-01-06 00:00:00, signal: buy, coin: Ethereum, open: 3536.15, total_unit: {'Ethereum': 0.05655868670729466, 'Cardano': 0, 'Tether': 0, 'Dogecoin': 0, 'Polygon': 486.21732131395413}, invested_amount: 200.0, remaining_amount: 31333.79201389504\n",
            "date: 2022-01-08 00:00:00, signal: buy, coin: Polygon, open: 2.048, total_unit: {'Ethereum': 0.05655868670729466, 'Cardano': 0, 'Tether': 0, 'Dogecoin': 0, 'Polygon': 583.8735713139541}, invested_amount: 200.0, remaining_amount: 31133.79201389504\n",
            "date: 2022-01-09 00:00:00, signal: buy, coin: Polygon, open: 1.985, total_unit: {'Ethereum': 0.05655868670729466, 'Cardano': 0, 'Tether': 0, 'Dogecoin': 0, 'Polygon': 684.6292388202513}, invested_amount: 200.0, remaining_amount: 30933.79201389504\n",
            "date: 2022-01-10 00:00:00, signal: buy, coin: Polygon, open: 2.114, total_unit: {'Ethereum': 0.05655868670729466, 'Cardano': 0, 'Tether': 0, 'Dogecoin': 0, 'Polygon': 779.2366181958427}, invested_amount: 200.0, remaining_amount: 30733.79201389504\n",
            "date: 2022-01-28 00:00:00, signal: buy, coin: Polygon, open: 1.589, total_unit: {'Ethereum': 0.05655868670729466, 'Cardano': 0, 'Tether': 0, 'Dogecoin': 0, 'Polygon': 905.1019422990522}, invested_amount: 200.0, remaining_amount: 30533.79201389504\n",
            "date: 2022-01-29 00:00:00, signal: buy, coin: Polygon, open: 1.673, total_unit: {'Ethereum': 0.05655868670729466, 'Cardano': 0, 'Tether': 0, 'Dogecoin': 0, 'Polygon': 1024.647668539339}, invested_amount: 200.0, remaining_amount: 30333.79201389504\n",
            "date: 2022-01-31 00:00:00, signal: buy, coin: Polygon, open: 1.605, total_unit: {'Ethereum': 0.05655868670729466, 'Cardano': 0, 'Tether': 0, 'Dogecoin': 0, 'Polygon': 1149.2582604396507}, invested_amount: 200.0, remaining_amount: 30133.79201389504\n",
            "date: 2022-02-01 00:00:00, signal: buy, coin: Polygon, open: 1.642, total_unit: {'Ethereum': 0.05655868670729466, 'Cardano': 0, 'Tether': 0, 'Dogecoin': 0, 'Polygon': 1271.0609400986032}, invested_amount: 200.0, remaining_amount: 29933.79201389504\n",
            "date: 2022-02-05 00:00:00, signal: sell, coin: Ethereum, close: 3013.81, total_unit: {'Ethereum': 0, 'Cardano': 0, 'Tether': 0, 'Dogecoin': 0, 'Polygon': 1271.0609400986032}, profit: 170.4571355853117, remaining_amount: 30104.24914948035\n",
            "date: 2022-03-27 00:00:00, signal: sell, coin: Polygon, close: 1.695, total_unit: {'Ethereum': 0, 'Cardano': 0, 'Tether': 0, 'Dogecoin': 0, 'Polygon': 0}, profit: 2154.4482934671323, remaining_amount: 32258.697442947483\n",
            "date: 2022-08-25 00:00:00, signal: buy, coin: Tether, open: 0.9999, total_unit: {'Ethereum': 0, 'Cardano': 0, 'Tether': 200.0200020002, 'Dogecoin': 0, 'Polygon': 0}, invested_amount: 200.0, remaining_amount: 32058.697442947483\n",
            "date: 2022-11-15 00:00:00, signal: buy, coin: Dogecoin, open: 0.085879, total_unit: {'Ethereum': 0, 'Cardano': 0, 'Tether': 200.0200020002, 'Dogecoin': 2328.8580444579, 'Polygon': 0}, invested_amount: 200.0, remaining_amount: 31858.697442947483\n",
            "date: 2022-11-16 00:00:00, signal: buy, coin: Dogecoin, open: 0.08703, total_unit: {'Ethereum': 0, 'Cardano': 0, 'Tether': 200.0200020002, 'Dogecoin': 4626.916185328864, 'Polygon': 0}, invested_amount: 200.0, remaining_amount: 31658.697442947483\n",
            "date: 2022-11-17 00:00:00, signal: buy, coin: Dogecoin, open: 0.084884, total_unit: {'Ethereum': 0, 'Cardano': 0, 'Tether': 200.0200020002, 'Dogecoin': 6983.072822622111, 'Polygon': 0}, invested_amount: 200.0, remaining_amount: 31458.697442947483\n",
            "date: 2022-11-18 00:00:00, signal: buy, coin: Dogecoin, open: 0.085026, total_unit: {'Ethereum': 0, 'Cardano': 0, 'Tether': 200.0200020002, 'Dogecoin': 9335.29449599261, 'Polygon': 0}, invested_amount: 200.0, remaining_amount: 31258.697442947483\n",
            "date: 2022-11-19 00:00:00, signal: buy, coin: Dogecoin, open: 0.084121, total_unit: {'Ethereum': 0, 'Cardano': 0, 'Tether': 200.0200020002, 'Dogecoin': 11712.82210503197, 'Polygon': 0}, invested_amount: 200.0, remaining_amount: 31058.697442947483\n",
            "date: 2022-11-20 00:00:00, signal: buy, coin: Dogecoin, open: 0.084521, total_unit: {'Ethereum': 0, 'Cardano': 0, 'Tether': 200.0200020002, 'Dogecoin': 14079.097941806263, 'Polygon': 0}, invested_amount: 200.0, remaining_amount: 30858.697442947483\n",
            "date: 2022-11-21 00:00:00, signal: buy, coin: Dogecoin, open: 0.077082, total_unit: {'Ethereum': 0, 'Cardano': 0, 'Tether': 200.0200020002, 'Dogecoin': 16673.737416651235, 'Polygon': 0}, invested_amount: 200.0, remaining_amount: 30658.697442947483\n",
            "date: 2022-11-24 00:00:00, signal: sell, coin: Tether, close: 0.9992, total_unit: {'Ethereum': 0, 'Cardano': 0, 'Tether': 0, 'Dogecoin': 16673.737416651235, 'Polygon': 0}, profit: 199.85998599859985, remaining_amount: 30858.557428946082\n",
            "date: 2022-11-24 00:00:00, signal: buy, coin: Polygon, open: 0.862, total_unit: {'Ethereum': 0, 'Cardano': 0, 'Tether': 0, 'Dogecoin': 16673.737416651235, 'Polygon': 232.0185614849188}, invested_amount: 200.0, remaining_amount: 30658.557428946082\n",
            "date: 2022-11-25 00:00:00, signal: buy, coin: Polygon, open: 0.849, total_unit: {'Ethereum': 0, 'Cardano': 0, 'Tether': 0, 'Dogecoin': 16673.737416651235, 'Polygon': 467.5898217911614}, invested_amount: 200.0, remaining_amount: 30458.557428946082\n",
            "date: 2022-12-14 00:00:00, signal: buy, coin: Dogecoin, open: 0.091038, total_unit: {'Ethereum': 0, 'Cardano': 0, 'Tether': 0, 'Dogecoin': 18870.622233980263, 'Polygon': 467.5898217911614}, invested_amount: 200.0, remaining_amount: 30258.557428946082\n",
            "date: 2022-12-15 00:00:00, signal: buy, coin: Dogecoin, open: 0.08822, total_unit: {'Ethereum': 0, 'Cardano': 0, 'Tether': 0, 'Dogecoin': 21137.681857648364, 'Polygon': 467.5898217911614}, invested_amount: 200.0, remaining_amount: 30058.557428946082\n",
            "date: 2022-12-16 00:00:00, signal: buy, coin: Dogecoin, open: 0.08479, total_unit: {'Ethereum': 0, 'Cardano': 0, 'Tether': 0, 'Dogecoin': 23496.4505803751, 'Polygon': 467.5898217911614}, invested_amount: 200.0, remaining_amount: 29858.557428946082\n",
            "date: 2022-12-16 00:00:00, signal: buy, coin: Polygon, open: 0.878, total_unit: {'Ethereum': 0, 'Cardano': 0, 'Tether': 0, 'Dogecoin': 23496.4505803751, 'Polygon': 695.3802545929838}, invested_amount: 200.0, remaining_amount: 29658.557428946082\n",
            "date: 2022-12-17 00:00:00, signal: buy, coin: Dogecoin, open: 0.075821, total_unit: {'Ethereum': 0, 'Cardano': 0, 'Tether': 0, 'Dogecoin': 26134.242221213393, 'Polygon': 695.3802545929838}, invested_amount: 200.0, remaining_amount: 29458.557428946082\n",
            "date: 2022-12-18 00:00:00, signal: buy, coin: Dogecoin, open: 0.079212, total_unit: {'Ethereum': 0, 'Cardano': 0, 'Tether': 0, 'Dogecoin': 28659.11219040998, 'Polygon': 695.3802545929838}, invested_amount: 200.0, remaining_amount: 29258.557428946082\n",
            "date: 2022-12-20 00:00:00, signal: buy, coin: Dogecoin, open: 0.071364, total_unit: {'Ethereum': 0, 'Cardano': 0, 'Tether': 0, 'Dogecoin': 31461.645680685186, 'Polygon': 695.3802545929838}, invested_amount: 200.0, remaining_amount: 29058.557428946082\n",
            "date: 2022-12-21 00:00:00, signal: buy, coin: Dogecoin, open: 0.074852, total_unit: {'Ethereum': 0, 'Cardano': 0, 'Tether': 0, 'Dogecoin': 34133.58497422444, 'Polygon': 695.3802545929838}, invested_amount: 200.0, remaining_amount: 28858.557428946082\n",
            "date: 2022-12-22 00:00:00, signal: buy, coin: Dogecoin, open: 0.07372, total_unit: {'Ethereum': 0, 'Cardano': 0, 'Tether': 0, 'Dogecoin': 36846.55296120219, 'Polygon': 695.3802545929838}, invested_amount: 200.0, remaining_amount: 28658.557428946082\n",
            "date: 2022-12-23 00:00:00, signal: buy, coin: Dogecoin, open: 0.076864, total_unit: {'Ethereum': 0, 'Cardano': 0, 'Tether': 0, 'Dogecoin': 39448.55129592326, 'Polygon': 695.3802545929838}, invested_amount: 200.0, remaining_amount: 28458.557428946082\n",
            "date: 2022-12-24 00:00:00, signal: buy, coin: Dogecoin, open: 0.077206, total_unit: {'Ethereum': 0, 'Cardano': 0, 'Tether': 0, 'Dogecoin': 42039.02353901317, 'Polygon': 695.3802545929838}, invested_amount: 200.0, remaining_amount: 28258.557428946082\n",
            "date: 2022-12-25 00:00:00, signal: buy, coin: Dogecoin, open: 0.077525, total_unit: {'Ethereum': 0, 'Cardano': 0, 'Tether': 0, 'Dogecoin': 44618.836502573315, 'Polygon': 695.3802545929838}, invested_amount: 200.0, remaining_amount: 28058.557428946082\n",
            "date: 2022-12-27 00:00:00, signal: buy, coin: Dogecoin, open: 0.075672, total_unit: {'Ethereum': 0, 'Cardano': 0, 'Tether': 0, 'Dogecoin': 47261.82201901268, 'Polygon': 695.3802545929838}, invested_amount: 200.0, remaining_amount: 27858.557428946082\n",
            "date: 2022-12-27 00:00:00, signal: buy, coin: Polygon, open: 0.815, total_unit: {'Ethereum': 0, 'Cardano': 0, 'Tether': 0, 'Dogecoin': 47261.82201901268, 'Polygon': 940.7790275991188}, invested_amount: 200.0, remaining_amount: 27658.557428946082\n"
          ]
        },
        {
          "output_type": "execute_result",
          "data": {
            "text/plain": [
              "27658"
            ]
          },
          "metadata": {},
          "execution_count": 40
        }
      ],
      "source": [
        "import random\n",
        "\n",
        "def backtest(trade_in):\n",
        "    print(trade_in)\n",
        "    \n",
        "    coins = trade_in\n",
        "    amount = 1000\n",
        "    position_size = amount / 5\n",
        "    unit = {}\n",
        "    \n",
        "    for coin in coins:\n",
        "      unit[coin] = 0\n",
        "    \n",
        "    for date in signal.index:\n",
        "      sig = {}\n",
        "      open = {}\n",
        "      close = {}\n",
        "      for coin in coins:\n",
        "        sig[coin] = signal[coin][date]\n",
        "        open[coin] = merged_df['Open'][coin].loc[date]\n",
        "        close[coin] = merged_df['Price'][coin].loc[date]\n",
        "        \n",
        "        if sig[coin] == 'buy' and amount-position_size > 0:\n",
        "          bought = position_size/open[coin]\n",
        "          unit[coin] += position_size/open[coin]\n",
        "          amount -= position_size\n",
        "          print(f'date: {date}, signal: {sig[coin]}, coin: {coin}, open: {open[coin]}, total_unit: {unit}, invested_amount: {position_size}, remaining_amount: {amount}')\n",
        "        \n",
        "        if sig[coin] == 'sell' and unit[coin] > 0:\n",
        "          sold = unit[coin] * close[coin]\n",
        "          amount += unit[coin] * close[coin]\n",
        "          unit[coin] = 0\n",
        "          print(f'date: {date}, signal: {sig[coin]}, coin: {coin}, close: {close[coin]}, total_unit: {unit}, profit: {sold}, remaining_amount: {amount}')\n",
        "\n",
        "    for coin in unit.keys():\n",
        "      if unit[coin] != 0:\n",
        "        unit[coin]\n",
        "    \n",
        "    return int(amount)\n",
        "\n",
        "trading_in = [random.choice(basket[key]) for key in basket]\n",
        "# trading_in = ['Ethereum']\n",
        "backtest(trading_in)"
      ]
    },
    {
      "cell_type": "markdown",
      "metadata": {
        "id": "Q8mI2Vb2ipOP"
      },
      "source": [
        "#Validation"
      ]
    },
    {
      "cell_type": "markdown",
      "metadata": {
        "id": "Vg6KkZdOiu_U"
      },
      "source": [
        "##Association"
      ]
    },
    {
      "cell_type": "code",
      "execution_count": null,
      "metadata": {
        "colab": {
          "base_uri": "https://localhost:8080/"
        },
        "id": "_rp0TVJ6jT_u",
        "outputId": "78660dda-8504-4cc5-d113-55e01204b1c5"
      },
      "outputs": [
        {
          "output_type": "stream",
          "name": "stdout",
          "text": [
            "Looking in indexes: https://pypi.org/simple, https://us-python.pkg.dev/colab-wheels/public/simple/\n",
            "Collecting efficient-apriori\n",
            "  Downloading efficient_apriori-2.0.3-py3-none-any.whl (14 kB)\n",
            "Installing collected packages: efficient-apriori\n",
            "Successfully installed efficient-apriori-2.0.3\n"
          ]
        }
      ],
      "source": [
        "!pip install efficient-apriori"
      ]
    },
    {
      "cell_type": "code",
      "execution_count": null,
      "metadata": {
        "colab": {
          "base_uri": "https://localhost:8080/"
        },
        "id": "Tt4Ng7mojn2I",
        "outputId": "191ac4cb-e28e-437a-d3c0-ed339bee7385"
      },
      "outputs": [
        {
          "output_type": "execute_result",
          "data": {
            "text/plain": [
              "            Bitcoin  Ethereum   XRP  Tether  Dogecoin   BNB  Cardano  Polygon\n",
              "Date                                                                         \n",
              "2020-01-01     0.05      1.19  0.07    0.73      1.24 -0.25     1.94     8.45\n",
              "2020-01-02    -3.23     -2.72 -2.89   -0.68     -1.98 -4.85    -2.33     0.00\n",
              "2020-01-03     5.40      5.56  3.06   -0.14      2.14  4.72     4.32     0.00\n",
              "2020-01-04     0.46      0.04 -0.05    0.11     12.99  1.49     0.79     0.00\n",
              "2020-01-05    -0.06      0.94  0.74   -0.18     -9.86  1.58     0.73     0.00"
            ],
            "text/html": [
              "\n",
              "  <div id=\"df-f9740452-1d43-457f-a08c-1c88b6250415\">\n",
              "    <div class=\"colab-df-container\">\n",
              "      <div>\n",
              "<style scoped>\n",
              "    .dataframe tbody tr th:only-of-type {\n",
              "        vertical-align: middle;\n",
              "    }\n",
              "\n",
              "    .dataframe tbody tr th {\n",
              "        vertical-align: top;\n",
              "    }\n",
              "\n",
              "    .dataframe thead th {\n",
              "        text-align: right;\n",
              "    }\n",
              "</style>\n",
              "<table border=\"1\" class=\"dataframe\">\n",
              "  <thead>\n",
              "    <tr style=\"text-align: right;\">\n",
              "      <th></th>\n",
              "      <th>Bitcoin</th>\n",
              "      <th>Ethereum</th>\n",
              "      <th>XRP</th>\n",
              "      <th>Tether</th>\n",
              "      <th>Dogecoin</th>\n",
              "      <th>BNB</th>\n",
              "      <th>Cardano</th>\n",
              "      <th>Polygon</th>\n",
              "    </tr>\n",
              "    <tr>\n",
              "      <th>Date</th>\n",
              "      <th></th>\n",
              "      <th></th>\n",
              "      <th></th>\n",
              "      <th></th>\n",
              "      <th></th>\n",
              "      <th></th>\n",
              "      <th></th>\n",
              "      <th></th>\n",
              "    </tr>\n",
              "  </thead>\n",
              "  <tbody>\n",
              "    <tr>\n",
              "      <th>2020-01-01</th>\n",
              "      <td>0.05</td>\n",
              "      <td>1.19</td>\n",
              "      <td>0.07</td>\n",
              "      <td>0.73</td>\n",
              "      <td>1.24</td>\n",
              "      <td>-0.25</td>\n",
              "      <td>1.94</td>\n",
              "      <td>8.45</td>\n",
              "    </tr>\n",
              "    <tr>\n",
              "      <th>2020-01-02</th>\n",
              "      <td>-3.23</td>\n",
              "      <td>-2.72</td>\n",
              "      <td>-2.89</td>\n",
              "      <td>-0.68</td>\n",
              "      <td>-1.98</td>\n",
              "      <td>-4.85</td>\n",
              "      <td>-2.33</td>\n",
              "      <td>0.00</td>\n",
              "    </tr>\n",
              "    <tr>\n",
              "      <th>2020-01-03</th>\n",
              "      <td>5.40</td>\n",
              "      <td>5.56</td>\n",
              "      <td>3.06</td>\n",
              "      <td>-0.14</td>\n",
              "      <td>2.14</td>\n",
              "      <td>4.72</td>\n",
              "      <td>4.32</td>\n",
              "      <td>0.00</td>\n",
              "    </tr>\n",
              "    <tr>\n",
              "      <th>2020-01-04</th>\n",
              "      <td>0.46</td>\n",
              "      <td>0.04</td>\n",
              "      <td>-0.05</td>\n",
              "      <td>0.11</td>\n",
              "      <td>12.99</td>\n",
              "      <td>1.49</td>\n",
              "      <td>0.79</td>\n",
              "      <td>0.00</td>\n",
              "    </tr>\n",
              "    <tr>\n",
              "      <th>2020-01-05</th>\n",
              "      <td>-0.06</td>\n",
              "      <td>0.94</td>\n",
              "      <td>0.74</td>\n",
              "      <td>-0.18</td>\n",
              "      <td>-9.86</td>\n",
              "      <td>1.58</td>\n",
              "      <td>0.73</td>\n",
              "      <td>0.00</td>\n",
              "    </tr>\n",
              "  </tbody>\n",
              "</table>\n",
              "</div>\n",
              "      <button class=\"colab-df-convert\" onclick=\"convertToInteractive('df-f9740452-1d43-457f-a08c-1c88b6250415')\"\n",
              "              title=\"Convert this dataframe to an interactive table.\"\n",
              "              style=\"display:none;\">\n",
              "        \n",
              "  <svg xmlns=\"http://www.w3.org/2000/svg\" height=\"24px\"viewBox=\"0 0 24 24\"\n",
              "       width=\"24px\">\n",
              "    <path d=\"M0 0h24v24H0V0z\" fill=\"none\"/>\n",
              "    <path d=\"M18.56 5.44l.94 2.06.94-2.06 2.06-.94-2.06-.94-.94-2.06-.94 2.06-2.06.94zm-11 1L8.5 8.5l.94-2.06 2.06-.94-2.06-.94L8.5 2.5l-.94 2.06-2.06.94zm10 10l.94 2.06.94-2.06 2.06-.94-2.06-.94-.94-2.06-.94 2.06-2.06.94z\"/><path d=\"M17.41 7.96l-1.37-1.37c-.4-.4-.92-.59-1.43-.59-.52 0-1.04.2-1.43.59L10.3 9.45l-7.72 7.72c-.78.78-.78 2.05 0 2.83L4 21.41c.39.39.9.59 1.41.59.51 0 1.02-.2 1.41-.59l7.78-7.78 2.81-2.81c.8-.78.8-2.07 0-2.86zM5.41 20L4 18.59l7.72-7.72 1.47 1.35L5.41 20z\"/>\n",
              "  </svg>\n",
              "      </button>\n",
              "      \n",
              "  <style>\n",
              "    .colab-df-container {\n",
              "      display:flex;\n",
              "      flex-wrap:wrap;\n",
              "      gap: 12px;\n",
              "    }\n",
              "\n",
              "    .colab-df-convert {\n",
              "      background-color: #E8F0FE;\n",
              "      border: none;\n",
              "      border-radius: 50%;\n",
              "      cursor: pointer;\n",
              "      display: none;\n",
              "      fill: #1967D2;\n",
              "      height: 32px;\n",
              "      padding: 0 0 0 0;\n",
              "      width: 32px;\n",
              "    }\n",
              "\n",
              "    .colab-df-convert:hover {\n",
              "      background-color: #E2EBFA;\n",
              "      box-shadow: 0px 1px 2px rgba(60, 64, 67, 0.3), 0px 1px 3px 1px rgba(60, 64, 67, 0.15);\n",
              "      fill: #174EA6;\n",
              "    }\n",
              "\n",
              "    [theme=dark] .colab-df-convert {\n",
              "      background-color: #3B4455;\n",
              "      fill: #D2E3FC;\n",
              "    }\n",
              "\n",
              "    [theme=dark] .colab-df-convert:hover {\n",
              "      background-color: #434B5C;\n",
              "      box-shadow: 0px 1px 3px 1px rgba(0, 0, 0, 0.15);\n",
              "      filter: drop-shadow(0px 1px 2px rgba(0, 0, 0, 0.3));\n",
              "      fill: #FFFFFF;\n",
              "    }\n",
              "  </style>\n",
              "\n",
              "      <script>\n",
              "        const buttonEl =\n",
              "          document.querySelector('#df-f9740452-1d43-457f-a08c-1c88b6250415 button.colab-df-convert');\n",
              "        buttonEl.style.display =\n",
              "          google.colab.kernel.accessAllowed ? 'block' : 'none';\n",
              "\n",
              "        async function convertToInteractive(key) {\n",
              "          const element = document.querySelector('#df-f9740452-1d43-457f-a08c-1c88b6250415');\n",
              "          const dataTable =\n",
              "            await google.colab.kernel.invokeFunction('convertToInteractive',\n",
              "                                                     [key], {});\n",
              "          if (!dataTable) return;\n",
              "\n",
              "          const docLinkHtml = 'Like what you see? Visit the ' +\n",
              "            '<a target=\"_blank\" href=https://colab.research.google.com/notebooks/data_table.ipynb>data table notebook</a>'\n",
              "            + ' to learn more about interactive tables.';\n",
              "          element.innerHTML = '';\n",
              "          dataTable['output_type'] = 'display_data';\n",
              "          await google.colab.output.renderOutput(dataTable, element);\n",
              "          const docLink = document.createElement('div');\n",
              "          docLink.innerHTML = docLinkHtml;\n",
              "          element.appendChild(docLink);\n",
              "        }\n",
              "      </script>\n",
              "    </div>\n",
              "  </div>\n",
              "  "
            ]
          },
          "metadata": {},
          "execution_count": 42
        }
      ],
      "source": [
        "df_change.head()"
      ]
    },
    {
      "cell_type": "code",
      "execution_count": null,
      "metadata": {
        "id": "tFZeZ8BsiwNC"
      },
      "outputs": [],
      "source": [
        "records = []\n",
        "for i in df_change.index:\n",
        "  transaction = []\n",
        "\n",
        "  for coin in df_change.columns:\n",
        "    if df_change.loc[i, coin] > 0:\n",
        "      transaction.append(coin)\n",
        "\n",
        "  records.append(transaction)"
      ]
    },
    {
      "cell_type": "code",
      "execution_count": null,
      "metadata": {
        "colab": {
          "base_uri": "https://localhost:8080/"
        },
        "id": "bdeRzJwTi1Uu",
        "outputId": "a6d61307-4ab7-405c-b075-369c3209400e"
      },
      "outputs": [
        {
          "output_type": "stream",
          "name": "stdout",
          "text": [
            "Itemsets: 5, Rules: 44\n"
          ]
        }
      ],
      "source": [
        "from efficient_apriori import apriori\n",
        "\n",
        "itemsets, rules = apriori(records, min_support=0.3, min_confidence=0.90)\n",
        "\n",
        "print(f\"Itemsets: {len(itemsets)}, Rules: {len(rules)}\")"
      ]
    },
    {
      "cell_type": "code",
      "execution_count": null,
      "metadata": {
        "colab": {
          "base_uri": "https://localhost:8080/"
        },
        "id": "706RNxwKi28s",
        "outputId": "11876bbf-007d-4233-e37e-0c80f1fa6101"
      },
      "outputs": [
        {
          "output_type": "execute_result",
          "data": {
            "text/plain": [
              "{'Bitcoin': {'Ethereum': 12, 'XRP': 1, 'BNB': 3, 'Cardano': 4},\n",
              " 'Ethereum': {'Bitcoin': 8, 'XRP': 2, 'BNB': 4, 'Cardano': 4},\n",
              " 'XRP': {'Bitcoin': 6, 'Ethereum': 10, 'BNB': 1, 'Cardano': 4},\n",
              " 'Tether': {},\n",
              " 'Dogecoin': {'Bitcoin': 5, 'Ethereum': 7, 'XRP': 3, 'BNB': 2, 'Cardano': 4},\n",
              " 'BNB': {'Bitcoin': 5, 'Ethereum': 11, 'XRP': 1, 'Cardano': 3},\n",
              " 'Cardano': {'Bitcoin': 6, 'Ethereum': 10, 'XRP': 2, 'BNB': 3},\n",
              " 'Polygon': {'Ethereum': 4}}"
            ]
          },
          "metadata": {},
          "execution_count": 45
        }
      ],
      "source": [
        "conf = {}\n",
        "for coin in coins:\n",
        "    conf[coin] = {coin: 0 for coin in coins}\n",
        "for rule in rules:\n",
        "  for i in range(len(rule.lhs)):\n",
        "    for j in range(len(rule.rhs)):\n",
        "      conf[rule.lhs[i]][rule.rhs[j]] += 1\n",
        "\n",
        "\n",
        "conf = {key: {inner_key: inner_value for inner_key, inner_value in value.items() if inner_value != 0} for key, value in conf.items()}\n",
        "\n",
        "\n",
        "\n",
        "{0: ['Bitcoin', 'Ethereum', 'XRP', 'BNB', 'Cardano', 'Polygon'],\n",
        " 1: ['Tether'],\n",
        " 2: ['Dogecoin']}\n",
        "\n",
        "{0: ['Tether'],\n",
        " 1: ['Bitcoin', 'Ethereum', 'BNB', 'Polygon'],\n",
        " 2: ['Dogecoin'],\n",
        " 3: ['XRP', 'Cardano']}\n",
        "\n",
        "{0: ['XRP', 'Cardano'],\n",
        " 1: ['Tether'],\n",
        " 2: ['Dogecoin'],\n",
        " 3: ['Bitcoin', 'Ethereum', 'BNB'],\n",
        " 4: ['Polygon']}\n",
        "\n",
        "conf"
      ]
    },
    {
      "cell_type": "markdown",
      "source": [
        "###Association Validation Reasoning\n",
        "\n",
        "`conf` dictionary shows how many times a currency impacted other currencies.\n",
        "\n",
        "- **Tether** and **Polygon** neither impacted other currencies nor got impacted by other currencies, therefore they are clustered with none.\n",
        "\n",
        "- **Doge** affected prices of other currencies but no other currency impacted it, therefore it is also clustered with none.\n",
        "\n",
        "- **Bitcoin**, **Ethereum**, **Cardano**, **BNB** and **XRP** impact each other, hence they are clustered together when we made only 3 clusters.\n",
        "\n",
        "- As we increased number of clusters **XRP** and **Cardano** got clustered separatly, since **Cardano** impacts **XRP** highest among the other 3.\n"
      ],
      "metadata": {
        "id": "7UX9gU43sCLN"
      }
    },
    {
      "cell_type": "markdown",
      "metadata": {
        "id": "0OdY_TnvjfuR"
      },
      "source": [
        "##Correlation"
      ]
    },
    {
      "cell_type": "code",
      "execution_count": null,
      "metadata": {
        "colab": {
          "base_uri": "https://localhost:8080/"
        },
        "id": "tTrYfkgHjZ6_",
        "outputId": "94ca15ac-b3e9-4589-b36d-772ef07013ca"
      },
      "outputs": [
        {
          "output_type": "execute_result",
          "data": {
            "text/plain": [
              "           Bitcoin  Ethereum       XRP    Tether  Dogecoin       BNB  \\\n",
              "Bitcoin   1.000000  0.825945  0.588834 -0.185040  0.021627  0.680341   \n",
              "Ethereum  0.825945  1.000000  0.619851 -0.164823  0.020748  0.695259   \n",
              "XRP       0.588834  0.619851  1.000000 -0.118209  0.013285  0.543573   \n",
              "Tether   -0.185040 -0.164823 -0.118209  1.000000  0.064461 -0.141563   \n",
              "Dogecoin  0.021627  0.020748  0.013285  0.064461  1.000000  0.043501   \n",
              "BNB       0.680341  0.695259  0.543573 -0.141563  0.043501  1.000000   \n",
              "Cardano   0.672112  0.724916  0.575599 -0.113701  0.032411  0.615189   \n",
              "Polygon   0.599914  0.657947  0.516430 -0.084193  0.026995  0.627949   \n",
              "\n",
              "           Cardano   Polygon  \n",
              "Bitcoin   0.672112  0.599914  \n",
              "Ethereum  0.724916  0.657947  \n",
              "XRP       0.575599  0.516430  \n",
              "Tether   -0.113701 -0.084193  \n",
              "Dogecoin  0.032411  0.026995  \n",
              "BNB       0.615189  0.627949  \n",
              "Cardano   1.000000  0.621732  \n",
              "Polygon   0.621732  1.000000  "
            ],
            "text/html": [
              "\n",
              "  <div id=\"df-727e5cad-6ba6-4a75-a3be-845dc9af8ff9\">\n",
              "    <div class=\"colab-df-container\">\n",
              "      <div>\n",
              "<style scoped>\n",
              "    .dataframe tbody tr th:only-of-type {\n",
              "        vertical-align: middle;\n",
              "    }\n",
              "\n",
              "    .dataframe tbody tr th {\n",
              "        vertical-align: top;\n",
              "    }\n",
              "\n",
              "    .dataframe thead th {\n",
              "        text-align: right;\n",
              "    }\n",
              "</style>\n",
              "<table border=\"1\" class=\"dataframe\">\n",
              "  <thead>\n",
              "    <tr style=\"text-align: right;\">\n",
              "      <th></th>\n",
              "      <th>Bitcoin</th>\n",
              "      <th>Ethereum</th>\n",
              "      <th>XRP</th>\n",
              "      <th>Tether</th>\n",
              "      <th>Dogecoin</th>\n",
              "      <th>BNB</th>\n",
              "      <th>Cardano</th>\n",
              "      <th>Polygon</th>\n",
              "    </tr>\n",
              "  </thead>\n",
              "  <tbody>\n",
              "    <tr>\n",
              "      <th>Bitcoin</th>\n",
              "      <td>1.000000</td>\n",
              "      <td>0.825945</td>\n",
              "      <td>0.588834</td>\n",
              "      <td>-0.185040</td>\n",
              "      <td>0.021627</td>\n",
              "      <td>0.680341</td>\n",
              "      <td>0.672112</td>\n",
              "      <td>0.599914</td>\n",
              "    </tr>\n",
              "    <tr>\n",
              "      <th>Ethereum</th>\n",
              "      <td>0.825945</td>\n",
              "      <td>1.000000</td>\n",
              "      <td>0.619851</td>\n",
              "      <td>-0.164823</td>\n",
              "      <td>0.020748</td>\n",
              "      <td>0.695259</td>\n",
              "      <td>0.724916</td>\n",
              "      <td>0.657947</td>\n",
              "    </tr>\n",
              "    <tr>\n",
              "      <th>XRP</th>\n",
              "      <td>0.588834</td>\n",
              "      <td>0.619851</td>\n",
              "      <td>1.000000</td>\n",
              "      <td>-0.118209</td>\n",
              "      <td>0.013285</td>\n",
              "      <td>0.543573</td>\n",
              "      <td>0.575599</td>\n",
              "      <td>0.516430</td>\n",
              "    </tr>\n",
              "    <tr>\n",
              "      <th>Tether</th>\n",
              "      <td>-0.185040</td>\n",
              "      <td>-0.164823</td>\n",
              "      <td>-0.118209</td>\n",
              "      <td>1.000000</td>\n",
              "      <td>0.064461</td>\n",
              "      <td>-0.141563</td>\n",
              "      <td>-0.113701</td>\n",
              "      <td>-0.084193</td>\n",
              "    </tr>\n",
              "    <tr>\n",
              "      <th>Dogecoin</th>\n",
              "      <td>0.021627</td>\n",
              "      <td>0.020748</td>\n",
              "      <td>0.013285</td>\n",
              "      <td>0.064461</td>\n",
              "      <td>1.000000</td>\n",
              "      <td>0.043501</td>\n",
              "      <td>0.032411</td>\n",
              "      <td>0.026995</td>\n",
              "    </tr>\n",
              "    <tr>\n",
              "      <th>BNB</th>\n",
              "      <td>0.680341</td>\n",
              "      <td>0.695259</td>\n",
              "      <td>0.543573</td>\n",
              "      <td>-0.141563</td>\n",
              "      <td>0.043501</td>\n",
              "      <td>1.000000</td>\n",
              "      <td>0.615189</td>\n",
              "      <td>0.627949</td>\n",
              "    </tr>\n",
              "    <tr>\n",
              "      <th>Cardano</th>\n",
              "      <td>0.672112</td>\n",
              "      <td>0.724916</td>\n",
              "      <td>0.575599</td>\n",
              "      <td>-0.113701</td>\n",
              "      <td>0.032411</td>\n",
              "      <td>0.615189</td>\n",
              "      <td>1.000000</td>\n",
              "      <td>0.621732</td>\n",
              "    </tr>\n",
              "    <tr>\n",
              "      <th>Polygon</th>\n",
              "      <td>0.599914</td>\n",
              "      <td>0.657947</td>\n",
              "      <td>0.516430</td>\n",
              "      <td>-0.084193</td>\n",
              "      <td>0.026995</td>\n",
              "      <td>0.627949</td>\n",
              "      <td>0.621732</td>\n",
              "      <td>1.000000</td>\n",
              "    </tr>\n",
              "  </tbody>\n",
              "</table>\n",
              "</div>\n",
              "      <button class=\"colab-df-convert\" onclick=\"convertToInteractive('df-727e5cad-6ba6-4a75-a3be-845dc9af8ff9')\"\n",
              "              title=\"Convert this dataframe to an interactive table.\"\n",
              "              style=\"display:none;\">\n",
              "        \n",
              "  <svg xmlns=\"http://www.w3.org/2000/svg\" height=\"24px\"viewBox=\"0 0 24 24\"\n",
              "       width=\"24px\">\n",
              "    <path d=\"M0 0h24v24H0V0z\" fill=\"none\"/>\n",
              "    <path d=\"M18.56 5.44l.94 2.06.94-2.06 2.06-.94-2.06-.94-.94-2.06-.94 2.06-2.06.94zm-11 1L8.5 8.5l.94-2.06 2.06-.94-2.06-.94L8.5 2.5l-.94 2.06-2.06.94zm10 10l.94 2.06.94-2.06 2.06-.94-2.06-.94-.94-2.06-.94 2.06-2.06.94z\"/><path d=\"M17.41 7.96l-1.37-1.37c-.4-.4-.92-.59-1.43-.59-.52 0-1.04.2-1.43.59L10.3 9.45l-7.72 7.72c-.78.78-.78 2.05 0 2.83L4 21.41c.39.39.9.59 1.41.59.51 0 1.02-.2 1.41-.59l7.78-7.78 2.81-2.81c.8-.78.8-2.07 0-2.86zM5.41 20L4 18.59l7.72-7.72 1.47 1.35L5.41 20z\"/>\n",
              "  </svg>\n",
              "      </button>\n",
              "      \n",
              "  <style>\n",
              "    .colab-df-container {\n",
              "      display:flex;\n",
              "      flex-wrap:wrap;\n",
              "      gap: 12px;\n",
              "    }\n",
              "\n",
              "    .colab-df-convert {\n",
              "      background-color: #E8F0FE;\n",
              "      border: none;\n",
              "      border-radius: 50%;\n",
              "      cursor: pointer;\n",
              "      display: none;\n",
              "      fill: #1967D2;\n",
              "      height: 32px;\n",
              "      padding: 0 0 0 0;\n",
              "      width: 32px;\n",
              "    }\n",
              "\n",
              "    .colab-df-convert:hover {\n",
              "      background-color: #E2EBFA;\n",
              "      box-shadow: 0px 1px 2px rgba(60, 64, 67, 0.3), 0px 1px 3px 1px rgba(60, 64, 67, 0.15);\n",
              "      fill: #174EA6;\n",
              "    }\n",
              "\n",
              "    [theme=dark] .colab-df-convert {\n",
              "      background-color: #3B4455;\n",
              "      fill: #D2E3FC;\n",
              "    }\n",
              "\n",
              "    [theme=dark] .colab-df-convert:hover {\n",
              "      background-color: #434B5C;\n",
              "      box-shadow: 0px 1px 3px 1px rgba(0, 0, 0, 0.15);\n",
              "      filter: drop-shadow(0px 1px 2px rgba(0, 0, 0, 0.3));\n",
              "      fill: #FFFFFF;\n",
              "    }\n",
              "  </style>\n",
              "\n",
              "      <script>\n",
              "        const buttonEl =\n",
              "          document.querySelector('#df-727e5cad-6ba6-4a75-a3be-845dc9af8ff9 button.colab-df-convert');\n",
              "        buttonEl.style.display =\n",
              "          google.colab.kernel.accessAllowed ? 'block' : 'none';\n",
              "\n",
              "        async function convertToInteractive(key) {\n",
              "          const element = document.querySelector('#df-727e5cad-6ba6-4a75-a3be-845dc9af8ff9');\n",
              "          const dataTable =\n",
              "            await google.colab.kernel.invokeFunction('convertToInteractive',\n",
              "                                                     [key], {});\n",
              "          if (!dataTable) return;\n",
              "\n",
              "          const docLinkHtml = 'Like what you see? Visit the ' +\n",
              "            '<a target=\"_blank\" href=https://colab.research.google.com/notebooks/data_table.ipynb>data table notebook</a>'\n",
              "            + ' to learn more about interactive tables.';\n",
              "          element.innerHTML = '';\n",
              "          dataTable['output_type'] = 'display_data';\n",
              "          await google.colab.output.renderOutput(dataTable, element);\n",
              "          const docLink = document.createElement('div');\n",
              "          docLink.innerHTML = docLinkHtml;\n",
              "          element.appendChild(docLink);\n",
              "        }\n",
              "      </script>\n",
              "    </div>\n",
              "  </div>\n",
              "  "
            ]
          },
          "metadata": {},
          "execution_count": 46
        }
      ],
      "source": [
        "import seaborn as sns\n",
        "\n",
        "{0: ['Bitcoin', 'Ethereum', 'XRP', 'BNB', 'Cardano', 'Polygon'],\n",
        " 1: ['Tether'],\n",
        " 2: ['Dogecoin']}\n",
        "\n",
        "{0: ['Tether'],\n",
        " 1: ['Bitcoin', 'Ethereum', 'BNB', 'Polygon'],\n",
        " 2: ['Dogecoin'],\n",
        " 3: ['XRP', 'Cardano']}\n",
        "\n",
        "{0: ['XRP', 'Cardano'],\n",
        " 1: ['Tether'],\n",
        " 2: ['Dogecoin'],\n",
        " 3: ['Bitcoin', 'Ethereum', 'BNB'],\n",
        " 4: ['Polygon']}\n",
        "\n",
        "df_change.corr()\n",
        "# sns.heatmap(df_change.corr())"
      ]
    },
    {
      "cell_type": "markdown",
      "source": [
        "###Correlation Validation Reasoning\n",
        "\n",
        "- **Tether**, **Doge** are lest correlated to any other currency so they, therefore they are clustered with none.\n",
        "\n",
        "- **Bitcoin** is highly correlated with **Ethereum**, **BNB**, therefore they are clustered together\n",
        "\n",
        "\n",
        "- **XRP** is less correlated with **Ethereum**, **Bitcoin**, **BNB** hence not in their cluster.\n",
        "\n",
        "- **Polygon** is relatively less correlated with other currencies so given the chance it was clustered separately in n=5 clustering."
      ],
      "metadata": {
        "id": "edr26-7cvh1B"
      }
    },
    {
      "cell_type": "markdown",
      "metadata": {
        "id": "u0gEPCE9B36l"
      },
      "source": [
        "# EDA"
      ]
    },
    {
      "cell_type": "code",
      "execution_count": null,
      "metadata": {
        "id": "aHvUR7nRhPvF"
      },
      "outputs": [],
      "source": [
        "compare = ['Bitcoin', 'Ethereum']"
      ]
    },
    {
      "cell_type": "code",
      "execution_count": null,
      "metadata": {
        "colab": {
          "base_uri": "https://localhost:8080/"
        },
        "id": "Sr_rXhyBKNEE",
        "outputId": "1cd1e174-274b-4dd5-8116-4aa8f374a597"
      },
      "outputs": [
        {
          "output_type": "execute_result",
          "data": {
            "text/plain": [
              "[<matplotlib.lines.Line2D at 0x7f75c81ccdc0>]"
            ]
          },
          "metadata": {},
          "execution_count": 48
        },
        {
          "output_type": "display_data",
          "data": {
            "text/plain": [
              "<Figure size 1500x500 with 2 Axes>"
            ],
            "image/png": "[encoded data removed]"
          },
          "metadata": {}
        }
      ],
      "source": [
        "plt.figure(figsize = (15,5)) \n",
        "plt.subplot(1,2,1) \n",
        "\n",
        "plt.title(compare[0],fontsize = 15)\n",
        "plt.xticks(fontsize = 8)\n",
        "plt.yticks(fontsize = 8)\n",
        "plt.xlabel('Date',fontsize = 10)\n",
        "plt.ylabel('Opening price',fontsize = 10)\n",
        "plt.plot(merged_df['Open'][compare[0]])\n",
        "plt.subplot(1,2,2) \n",
        "\n",
        "plt.title(compare[1],fontsize = 15)\n",
        "plt.xticks(fontsize = 8)\n",
        "plt.yticks(fontsize = 8)\n",
        "plt.xlabel('Date',fontsize = 10)\n",
        "plt.ylabel('Opening price',fontsize = 10)\n",
        "plt.plot(merged_df['Open'][compare[1]])"
      ]
    },
    {
      "cell_type": "code",
      "execution_count": null,
      "metadata": {
        "colab": {
          "base_uri": "https://localhost:8080/"
        },
        "id": "dGfuWaQIKfQC",
        "outputId": "cfe3119f-2473-4259-8af6-12c70ef5f799"
      },
      "outputs": [
        {
          "output_type": "execute_result",
          "data": {
            "text/plain": [
              "<matplotlib.legend.Legend at 0x7f75c81794f0>"
            ]
          },
          "metadata": {},
          "execution_count": 49
        },
        {
          "output_type": "display_data",
          "data": {
            "text/plain": [
              "<Figure size 1000x500 with 1 Axes>"
            ],
            "image/png": "[encoded data removed]"
          },
          "metadata": {}
        }
      ],
      "source": [
        "plt.figure(figsize = (10,5))\n",
        "plt.title(compare[0],fontsize = 15)\n",
        "plt.xticks(fontsize = 8)\n",
        "plt.yticks(fontsize = 8)\n",
        "plt.xlabel('Date',fontsize = 10)\n",
        "plt.ylabel('Price',fontsize = 10)\n",
        "plt.plot(merged_df.iloc[0:30]['Open'][compare[0]],label = 'Open') # Opening prices of first 30 days are plotted against date\n",
        "plt.plot(merged_df.iloc[0:30]['Price'][compare[0]],label = 'Close') # Closing prices of first 30 days are plotted against date\n",
        "plt.legend(loc='upper left', frameon=False,framealpha=1,prop={'size': 10}) # Properties of legend box"
      ]
    },
    {
      "cell_type": "code",
      "execution_count": null,
      "metadata": {
        "id": "S9nKQRmCVWcL"
      },
      "outputs": [],
      "source": [
        "# for key in conf:\n",
        "#     sub_dict = conf[key]\n",
        "#     max_value = max(sub_dict.values())\n",
        "#     for sub_key in list(sub_dict.keys()):\n",
        "#         if sub_dict[sub_key] < max_value or sub_dict[sub_key] == 0:\n",
        "#             del sub_dict[sub_key]\n",
        "\n",
        "# print(rules[0])\n",
        "# print(rules[0].confidence)"
      ]
    }
  ],
  "metadata": {
    "colab": {
      "collapsed_sections": [
        "JE_GIxi6ut8J",
        "BaUfHP-S_Nnw",
        "a120-KTsxLxU",
        "2iVTsXvyxQ9D",
        "DP6UlE_9xWxN",
        "5k9qszP8xwj8",
        "zTjdgJ8tYyj1",
        "2iwZA_CaY7V_",
        "kn9uRBTHZAeL",
        "PNDt1l8Ke_mc",
        "qZSmKeK4j6cL",
        "oNcV3_cmF23r",
        "VdTT1Wc5F8c4",
        "C5vbQdRbGAHc",
        "CoP9Q-zixu9I"
      ],
      "provenance": [],
      "include_colab_link": true
    },
    "kernelspec": {
      "display_name": "Python 3",
      "name": "python3"
    },
    "language_info": {
      "name": "python"
    }
  },
  "nbformat": 4,
  "nbformat_minor": 0
}